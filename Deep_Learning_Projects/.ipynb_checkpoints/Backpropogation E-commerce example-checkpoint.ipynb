{
 "cells": [
  {
   "cell_type": "code",
   "execution_count": 1,
   "metadata": {},
   "outputs": [],
   "source": [
    "import pandas as pd\n",
    "import numpy as np\n",
    "import math\n",
    "import matplotlib.pyplot as plt\n",
    "from sklearn.utils import shuffle"
   ]
  },
  {
   "cell_type": "code",
   "execution_count": 2,
   "metadata": {},
   "outputs": [],
   "source": [
    "def get_data():\n",
    "    data = pd.read_csv(r'/Users/prof/Documents/machine_learning_examples/ann_logistic_extra/ecommerce_data.csv')\n",
    "   \n",
    "    # easier to work with numpy array\n",
    "    data = data.values\n",
    "\n",
    "    # shuffle it\n",
    "    np.random.shuffle(data)\n",
    "\n",
    "    #split features and labels\n",
    "    X = data[:,:-1]\n",
    "    Y = data[:,-1].astype(np.int32)\n",
    "\n",
    "    # one-hot encode the categorical data\n",
    "    # create a new matrix X2 with the correct number of columns\n",
    "    N, D = X.shape\n",
    "    X2 = np.zeros((N, D+3))\n",
    "    X2[:,0:(D-1)] = X[:,0:(D-1)] # non-categorical\n",
    "\n",
    "    # one-hot\n",
    "    for n in range(N):\n",
    "        t = int(X[n,D-1])\n",
    "        X2[n,t+D-1] = 1\n",
    "\n",
    "      # method 2\n",
    "      # Z = np.zeros((N, 4))\n",
    "      # Z[np.arange(N), X[:,D-1].astype(np.int32)] = 1\n",
    "      # # assign: X2[:,-4:] = Z\n",
    "      # assert(np.abs(X2[:,-4:] - Z).sum() < 1e-10)\n",
    "\n",
    "      # assign X2 back to X, since we don't need original anymore\n",
    "    X = X2\n",
    "\n",
    "      # split train and test\n",
    "    Xtrain = X[:-100]\n",
    "    Ytrain = Y[:-100]\n",
    "    Xtest = X[-100:]\n",
    "    Ytest = Y[-100:]\n",
    "\n",
    "      # normalize columns 1 and 2\n",
    "    for i in (1, 2):\n",
    "        m = Xtrain[:,i].mean()\n",
    "        s = Xtrain[:,i].std()\n",
    "        Xtrain[:,i] = (Xtrain[:,i] - m) / s\n",
    "        Xtest[:,i] = (Xtest[:,i] - m) / s\n",
    "\n",
    "    return Xtrain, Ytrain, Xtest, Ytest\n",
    "        "
   ]
  },
  {
   "cell_type": "code",
   "execution_count": 3,
   "metadata": {},
   "outputs": [],
   "source": [
    "x_train, y_train, x_test, y_test = get_data()"
   ]
  },
  {
   "cell_type": "code",
   "execution_count": 4,
   "metadata": {},
   "outputs": [],
   "source": [
    "def y2indicator(y, K):\n",
    "    N = len(y)\n",
    "    ind = np.zeros((N, K))\n",
    "    for i in range(N):\n",
    "        ind[i, y[i]] = 1\n",
    "    return ind"
   ]
  },
  {
   "cell_type": "code",
   "execution_count": 5,
   "metadata": {},
   "outputs": [],
   "source": [
    "D = x_train.shape[1]\n",
    "K = len(set(y_train)|set(y_test))"
   ]
  },
  {
   "cell_type": "code",
   "execution_count": 6,
   "metadata": {},
   "outputs": [],
   "source": [
    "ytrain_ind = y2indicator(y_train, K)\n",
    "ytest_ind = y2indicator(y_test, K)"
   ]
  },
  {
   "cell_type": "markdown",
   "metadata": {},
   "source": [
    "# Ecommerce data with Logistic regression"
   ]
  },
  {
   "cell_type": "code",
   "execution_count": 7,
   "metadata": {},
   "outputs": [],
   "source": [
    "#Define the weights for the model\n",
    "W = np.random.randn(D, K)\n",
    "b = np.zeros(K)"
   ]
  },
  {
   "cell_type": "code",
   "execution_count": 8,
   "metadata": {},
   "outputs": [],
   "source": [
    "def softmax (y_vals):\n",
    "    expa = np.exp(y_vals)\n",
    "    result = expa / expa.sum(axis = 1, keepdims = True)\n",
    "    return result\n",
    "\n",
    "def forward (X, W, b):\n",
    "    return softmax(X.dot(W) + b)\n",
    "\n",
    "def predict(p_y_given_x):\n",
    "    return np.argmax(p_y_given_x, axis = 1)\n",
    "\n",
    "def classification(Y, P):\n",
    "    return np.mean(Y == P)\n",
    "\n",
    "def cost_func(T, pY):\n",
    "    return -np.mean(T*np.log(pY))"
   ]
  },
  {
   "cell_type": "code",
   "execution_count": 9,
   "metadata": {},
   "outputs": [
    {
     "name": "stdout",
     "output_type": "stream",
     "text": [
      "0 0.7044247827153954 0.6997004140277069\n",
      "1000 0.08610208131334014 0.11322026586954453\n",
      "2000 0.08208328688604175 0.10805741882520184\n",
      "3000 0.08051484775204078 0.1066281580509603\n",
      "4000 0.07971054102444355 0.10614755788296289\n",
      "5000 0.07923704786483306 0.10598618716617729\n",
      "6000 0.07893343260364208 0.1059474901783393\n",
      "7000 0.07872704682827644 0.10595775834645443\n",
      "8000 0.07858068042347363 0.10598607289756763\n",
      "9000 0.0784734848329828 0.10601863242476915\n",
      "Final train classification_rate: 0.9225\n",
      "Final test classification_rate: 0.87\n"
     ]
    },
    {
     "data": {
      "image/png": "[encoded data removed]",
      "text/plain": [
       "<Figure size 432x288 with 1 Axes>"
      ]
     },
     "metadata": {
      "needs_background": "light"
     },
     "output_type": "display_data"
    }
   ],
   "source": [
    "#set up empty list for costs\n",
    "train_costs = []\n",
    "test_costs = []\n",
    "learning_rate = 0.001\n",
    "\n",
    "for i in range(10000):\n",
    "    pYTraining = forward(x_train, W, b)\n",
    "    pYTesting = forward(x_test, W, b)\n",
    "    \n",
    "    \n",
    "    ctrain = cost_func(ytrain_ind, pYTraining)\n",
    "    ctest = cost_func(ytest_ind, pYTesting)\n",
    "    \n",
    "    train_costs.append(ctrain)\n",
    "    test_costs.append(ctest)\n",
    "    \n",
    "    W -= learning_rate*x_train.T.dot(pYTraining - ytrain_ind)\n",
    "    b -= learning_rate*(pYTraining - ytrain_ind).sum(axis = 0)\n",
    "    if i % 1000 == 0:\n",
    "        print(i, ctrain, ctest)\n",
    "        \n",
    "print(\"Final train classification_rate:\", classification(y_train, predict(pYTraining)))\n",
    "print(\"Final test classification_rate:\", classification(y_test, predict(pYTesting)))\n",
    "legend1, = plt.plot(train_costs, label='train cost')\n",
    "legend2, = plt.plot(test_costs, label = 'test cost')\n",
    "plt.show()"
   ]
  },
  {
   "cell_type": "markdown",
   "metadata": {},
   "source": [
    "# Ecommerce data with Neural Net"
   ]
  },
  {
   "cell_type": "code",
   "execution_count": 10,
   "metadata": {},
   "outputs": [],
   "source": [
    "#This will use the softmax expression from the previous logistic regression example\n",
    "# we will also use the prediction, classification, and cost functions from above\n",
    "x_train_nn = x_train\n",
    "y_train_nn = y_train\n",
    "x_test_nn = x_test\n",
    "y_test_nn = y_test\n",
    "\n",
    "M = 5\n",
    "D = x_train_nn.shape[1]\n",
    "K = len(set(y_train_nn)|set(y_test_nn))"
   ]
  },
  {
   "cell_type": "code",
   "execution_count": 11,
   "metadata": {},
   "outputs": [],
   "source": [
    "ytrain_ind_nn = y2indicator(y_train_nn, K)\n",
    "ytest_ind_nn = y2indicator(y_test_nn, K)"
   ]
  },
  {
   "cell_type": "code",
   "execution_count": 12,
   "metadata": {},
   "outputs": [],
   "source": [
    "W1 = np.random.randn(D, M)\n",
    "b1 = np.zeros(M)\n",
    "W2 = np.random.randn(M, K)\n",
    "b2 = np.zeros(K)"
   ]
  },
  {
   "cell_type": "code",
   "execution_count": 13,
   "metadata": {},
   "outputs": [],
   "source": [
    "def forward_nn(X, W1, b1, W2, b2):\n",
    "    Z = np.tanh(X.dot(W1)+b1)\n",
    "    return softmax(Z.dot(W2)+b2), Z"
   ]
  },
  {
   "cell_type": "code",
   "execution_count": 14,
   "metadata": {},
   "outputs": [
    {
     "name": "stdout",
     "output_type": "stream",
     "text": [
      "0 0.07839303582831658 0.10604914571050596\n",
      "1000 0.07839303582831658 0.10604914571050596\n",
      "2000 0.07839303582831658 0.10604914571050596\n",
      "3000 0.07839303582831658 0.10604914571050596\n",
      "4000 0.07839303582831658 0.10604914571050596\n",
      "5000 0.07839303582831658 0.10604914571050596\n",
      "6000 0.07839303582831658 0.10604914571050596\n",
      "7000 0.07839303582831658 0.10604914571050596\n",
      "8000 0.07839303582831658 0.10604914571050596\n",
      "9000 0.07839303582831658 0.10604914571050596\n",
      "Final train classification_rate: 0.9875\n",
      "Final test classification_rate: 0.93\n"
     ]
    },
    {
     "data": {
      "image/png": "[encoded data removed]",
      "text/plain": [
       "<Figure size 432x288 with 1 Axes>"
      ]
     },
     "metadata": {
      "needs_background": "light"
     },
     "output_type": "display_data"
    }
   ],
   "source": [
    "train_costs_nn = []\n",
    "test_costs_nn = []\n",
    "learning_rate = 0.001\n",
    "for i in range(10000):\n",
    "    pYtrain_nn, ztrain_nn = forward_nn(x_train_nn, W1, b1, W2, b2)\n",
    "    pYtest_nn, ztest_nn = forward_nn(x_test_nn, W1, b1, W2, b2)\n",
    "    \n",
    "    ctrain_nn = cost_func(ytrain_ind_nn, pYtrain_nn)\n",
    "    ctest_nn = cost_func(ytest_ind_nn, pYtest_nn)\n",
    "    train_costs_nn.append(ctrain_nn)\n",
    "    test_costs_nn.append(ctest_nn)\n",
    "    \n",
    "        # gradient descent\n",
    "    W2 -= learning_rate*ztrain_nn.T.dot(pYtrain_nn - ytrain_ind_nn)\n",
    "    b2 -= learning_rate*(pYtrain_nn - ytrain_ind_nn).sum(axis=0)\n",
    "    dZ = (pYtrain_nn - ytrain_ind_nn).dot(W2.T) * (1 - ztrain_nn*ztrain_nn)\n",
    "    W1 -= learning_rate*x_train_nn.T.dot(dZ)\n",
    "    b1 -= learning_rate*dZ.sum(axis=0)\n",
    "    if i % 1000 == 0:\n",
    "        print(i, ctrain, ctest)\n",
    "        \n",
    "print(\"Final train classification_rate:\", classification(y_train_nn, predict(pYtrain_nn)))\n",
    "print(\"Final test classification_rate:\", classification(y_test_nn, predict(pYtest_nn)))\n",
    "\n",
    "legend1, = plt.plot(train_costs_nn, label='train cost')\n",
    "legend2, = plt.plot(test_costs_nn, label='test cost')\n",
    "plt.show()"
   ]
  },
  {
   "cell_type": "code",
   "execution_count": null,
   "metadata": {},
   "outputs": [],
   "source": []
  },
  {
   "cell_type": "code",
   "execution_count": null,
   "metadata": {},
   "outputs": [],
   "source": []
  }
 ],
 "metadata": {
  "kernelspec": {
   "display_name": "Python 3",
   "language": "python",
   "name": "python3"
  },
  "language_info": {
   "codemirror_mode": {
    "name": "ipython",
    "version": 3
   },
   "file_extension": ".py",
   "mimetype": "text/x-python",
   "name": "python",
   "nbconvert_exporter": "python",
   "pygments_lexer": "ipython3",
   "version": "3.8.5"
  }
 },
 "nbformat": 4,
 "nbformat_minor": 4
}
