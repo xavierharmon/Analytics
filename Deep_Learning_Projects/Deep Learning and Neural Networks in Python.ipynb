{
 "cells": [
  {
   "cell_type": "markdown",
   "metadata": {},
   "source": [
    "Data Scientist at an e-commerce store\n",
    "Predict User Actions on the site\n",
    "Direct Monetary Impact\n",
    "    predict bounce\n",
    "    discover areas of the site that are weak\n",
    "    Mobile/user friendliness\n",
    "    Make Data Driven Decisions\n",
    "    Use Science to improve user experience"
   ]
  },
  {
   "cell_type": "code",
   "execution_count": 1,
   "metadata": {},
   "outputs": [],
   "source": [
    "import pandas as pd\n",
    "import numpy as np\n",
    "import math"
   ]
  },
  {
   "cell_type": "code",
   "execution_count": 2,
   "metadata": {},
   "outputs": [
    {
     "data": {
      "text/html": [
       "<div>\n",
       "<style scoped>\n",
       "    .dataframe tbody tr th:only-of-type {\n",
       "        vertical-align: middle;\n",
       "    }\n",
       "\n",
       "    .dataframe tbody tr th {\n",
       "        vertical-align: top;\n",
       "    }\n",
       "\n",
       "    .dataframe thead th {\n",
       "        text-align: right;\n",
       "    }\n",
       "</style>\n",
       "<table border=\"1\" class=\"dataframe\">\n",
       "  <thead>\n",
       "    <tr style=\"text-align: right;\">\n",
       "      <th></th>\n",
       "      <th>is_mobile</th>\n",
       "      <th>n_products_viewed</th>\n",
       "      <th>visit_duration</th>\n",
       "      <th>is_returning_visitor</th>\n",
       "      <th>time_of_day</th>\n",
       "      <th>user_action</th>\n",
       "    </tr>\n",
       "  </thead>\n",
       "  <tbody>\n",
       "    <tr>\n",
       "      <th>0</th>\n",
       "      <td>1</td>\n",
       "      <td>0</td>\n",
       "      <td>0.657510</td>\n",
       "      <td>0</td>\n",
       "      <td>3</td>\n",
       "      <td>0</td>\n",
       "    </tr>\n",
       "    <tr>\n",
       "      <th>1</th>\n",
       "      <td>1</td>\n",
       "      <td>1</td>\n",
       "      <td>0.568571</td>\n",
       "      <td>0</td>\n",
       "      <td>2</td>\n",
       "      <td>1</td>\n",
       "    </tr>\n",
       "    <tr>\n",
       "      <th>2</th>\n",
       "      <td>1</td>\n",
       "      <td>0</td>\n",
       "      <td>0.042246</td>\n",
       "      <td>1</td>\n",
       "      <td>1</td>\n",
       "      <td>0</td>\n",
       "    </tr>\n",
       "    <tr>\n",
       "      <th>3</th>\n",
       "      <td>1</td>\n",
       "      <td>1</td>\n",
       "      <td>1.659793</td>\n",
       "      <td>1</td>\n",
       "      <td>1</td>\n",
       "      <td>2</td>\n",
       "    </tr>\n",
       "    <tr>\n",
       "      <th>4</th>\n",
       "      <td>0</td>\n",
       "      <td>1</td>\n",
       "      <td>2.014745</td>\n",
       "      <td>1</td>\n",
       "      <td>1</td>\n",
       "      <td>2</td>\n",
       "    </tr>\n",
       "    <tr>\n",
       "      <th>...</th>\n",
       "      <td>...</td>\n",
       "      <td>...</td>\n",
       "      <td>...</td>\n",
       "      <td>...</td>\n",
       "      <td>...</td>\n",
       "      <td>...</td>\n",
       "    </tr>\n",
       "    <tr>\n",
       "      <th>495</th>\n",
       "      <td>1</td>\n",
       "      <td>3</td>\n",
       "      <td>0.731594</td>\n",
       "      <td>0</td>\n",
       "      <td>0</td>\n",
       "      <td>2</td>\n",
       "    </tr>\n",
       "    <tr>\n",
       "      <th>496</th>\n",
       "      <td>0</td>\n",
       "      <td>0</td>\n",
       "      <td>6.368775</td>\n",
       "      <td>1</td>\n",
       "      <td>3</td>\n",
       "      <td>0</td>\n",
       "    </tr>\n",
       "    <tr>\n",
       "      <th>497</th>\n",
       "      <td>0</td>\n",
       "      <td>0</td>\n",
       "      <td>0.172853</td>\n",
       "      <td>1</td>\n",
       "      <td>3</td>\n",
       "      <td>0</td>\n",
       "    </tr>\n",
       "    <tr>\n",
       "      <th>498</th>\n",
       "      <td>1</td>\n",
       "      <td>0</td>\n",
       "      <td>0.209964</td>\n",
       "      <td>0</td>\n",
       "      <td>3</td>\n",
       "      <td>0</td>\n",
       "    </tr>\n",
       "    <tr>\n",
       "      <th>499</th>\n",
       "      <td>0</td>\n",
       "      <td>0</td>\n",
       "      <td>2.616882</td>\n",
       "      <td>1</td>\n",
       "      <td>3</td>\n",
       "      <td>0</td>\n",
       "    </tr>\n",
       "  </tbody>\n",
       "</table>\n",
       "<p>500 rows × 6 columns</p>\n",
       "</div>"
      ],
      "text/plain": [
       "     is_mobile  n_products_viewed  visit_duration  is_returning_visitor  \\\n",
       "0            1                  0        0.657510                     0   \n",
       "1            1                  1        0.568571                     0   \n",
       "2            1                  0        0.042246                     1   \n",
       "3            1                  1        1.659793                     1   \n",
       "4            0                  1        2.014745                     1   \n",
       "..         ...                ...             ...                   ...   \n",
       "495          1                  3        0.731594                     0   \n",
       "496          0                  0        6.368775                     1   \n",
       "497          0                  0        0.172853                     1   \n",
       "498          1                  0        0.209964                     0   \n",
       "499          0                  0        2.616882                     1   \n",
       "\n",
       "     time_of_day  user_action  \n",
       "0              3            0  \n",
       "1              2            1  \n",
       "2              1            0  \n",
       "3              1            2  \n",
       "4              1            2  \n",
       "..           ...          ...  \n",
       "495            0            2  \n",
       "496            3            0  \n",
       "497            3            0  \n",
       "498            3            0  \n",
       "499            3            0  \n",
       "\n",
       "[500 rows x 6 columns]"
      ]
     },
     "execution_count": 2,
     "metadata": {},
     "output_type": "execute_result"
    }
   ],
   "source": [
    "data = pd.read_csv(r'/Users/prof/Documents/machine_learning_examples/ann_logistic_extra/ecommerce_data.csv')\n",
    "data"
   ]
  },
  {
   "cell_type": "markdown",
   "metadata": {},
   "source": [
    "is_mobile - is user visiting site on a mobile device\n",
    "n_products_viewed - number of products user viewed during their session\n",
    "visit_duration - Length of time in minutes user was on the site\n",
    "is_returning_Visitor - 0 if new user, 1 if returning user\n",
    "time_of_day - encoded, 0 = 12am to 6am, 1 = 6 am 12pm, 2 = 12pm to 6pm, 3 = 6pm to 12am\n",
    "user_action - bounce, add_to_cart, begin_checkout, finish_checkout"
   ]
  },
  {
   "cell_type": "markdown",
   "metadata": {},
   "source": [
    "# Feedforward Example one subject two inputs"
   ]
  },
  {
   "cell_type": "markdown",
   "metadata": {},
   "source": [
    "Below are the inputs we need for building out a feed forward neural network example. These are all arbitrary numbers that we can use to understand how the information flows between inputs and the hidden layer of a neural net to the output.\n",
    "\n",
    "In the example we have two inputs, one hidden layer, and one output. X represents our inputs, Y is our actual response data, W is a matrix of weights between the input and hidden layer, b is the bias terms of our hidden layer, v is a matrix of weights between the hidden layer and output node, and c is the bias term for the output node.\n",
    "\n",
    "There are three subjects in our data, one who's responses are 0, 3.5 the second subject responses are 1,2 and the third subject responses are 1,0.5. We will focus on the first subject for our model but can extend the example below to calculate the output for the other two subjects.\n",
    "\n",
    "The goal of this section is to understand how a Feedforward Neural Network works."
   ]
  },
  {
   "cell_type": "code",
   "execution_count": 3,
   "metadata": {},
   "outputs": [],
   "source": [
    "\n",
    "X = [[0,3.5],[1,2],[1,0.5]] #Data\n",
    "Y = [1,1,0] #Actual Response\n",
    "W = [[0.5,0.1,-0.3],[0.7, -0.3, 0.2]] #Weights\n",
    "Wt = np.transpose(W)\n",
    "b = [0.4, 0.1, 0]\n",
    "v = [0.8, 0.1, -0.1]\n",
    "c = 0.2"
   ]
  },
  {
   "cell_type": "code",
   "execution_count": 359,
   "metadata": {},
   "outputs": [],
   "source": [
    "#These are our activation functions for each of our subjects. We will focus on activation_1 for our first subject\n",
    "activation_1 = np.dot(Wt,X[0])\n",
    "activation_2 = np.dot(Wt,X[1])\n",
    "activation_3 = np.dot(Wt,X[2])"
   ]
  },
  {
   "cell_type": "code",
   "execution_count": 360,
   "metadata": {},
   "outputs": [],
   "source": [
    "#We have to include the bias term to our activation function for each hidden layer node.\n",
    "\n",
    "a1 = activation_1[0]+b[0]\n",
    "a2 = activation_1[1]+b[1]\n",
    "a3 = activation_1[2]+b[2]"
   ]
  },
  {
   "cell_type": "code",
   "execution_count": 6,
   "metadata": {},
   "outputs": [],
   "source": [
    "#Defining the hyperbolic tangent equation for our model.\n",
    "#This funciton helps us understand the nonlinear relationship of the data in our model\n",
    "\n",
    "def tanh(value):\n",
    "    z = (math.exp(value) - math.exp(-value)) / (math.exp(value) + math.exp(-value))\n",
    "    return z"
   ]
  },
  {
   "cell_type": "code",
   "execution_count": 7,
   "metadata": {},
   "outputs": [],
   "source": [
    "#For this example we use the sigmoid function to find the value of the output node.\n",
    "\n",
    "def sigm(value1, value2, value3):\n",
    "    zvalues = [value1, value2, value3]\n",
    "    inner = np.dot([value1,value1,value1], v) + c\n",
    "    sigmoid = 1 / (1+math.exp(-inner))\n",
    "    return sigmoid"
   ]
  },
  {
   "cell_type": "code",
   "execution_count": 8,
   "metadata": {},
   "outputs": [],
   "source": [
    "z1 = tanh(a1)\n",
    "z2 = tanh(a2)\n",
    "z3 = tanh(a3)"
   ]
  },
  {
   "cell_type": "code",
   "execution_count": 9,
   "metadata": {},
   "outputs": [
    {
     "data": {
      "text/plain": [
       "0.7300082255276845"
      ]
     },
     "execution_count": 9,
     "metadata": {},
     "output_type": "execute_result"
    }
   ],
   "source": [
    "sigm(z1,z2,z3)"
   ]
  },
  {
   "cell_type": "markdown",
   "metadata": {},
   "source": [
    "# Feedforward Multi Samples"
   ]
  },
  {
   "cell_type": "markdown",
   "metadata": {},
   "source": [
    "The previous example only used one input but how can we include all of the input/subjects to get predictions at the same time? This will require some additional code to loop over each of our subjects and generate predictions for them.\n",
    "\n",
    "The goal of this section is to extend the example above to generate predictions for more than 1 subject."
   ]
  },
  {
   "cell_type": "code",
   "execution_count": 17,
   "metadata": {},
   "outputs": [],
   "source": [
    "#Here we build out the hidden layer knowing that we only have a range of three for our subjects and hidden layer\n",
    "#This should return three lists of Z values, one list for each subject in our data\n",
    "\n",
    "def Hidden_layer(variables, weights): \n",
    "    z_vars = []\n",
    "    for i in range(3):\n",
    "        z_init = []\n",
    "        for j in range(3):\n",
    "            globals()['activate_'+str(i)+str(j)] = np.dot(X[i],Wt[j])+b[j]\n",
    "            globals()['z'+str(i)+str(j)] = ((math.exp(globals()['activate_'+str(i)+str(j)]))- math.exp(-globals()['activate_'+str(i)+str(j)]))/((math.exp(globals()['activate_'+str(i)+str(j)])) + math.exp(-globals()['activate_'+str(i)+str(j)]))\n",
    "            \n",
    "            z_init.append(globals()['z'+str(i)+str(j)])\n",
    "        z_vars.append(z_init)\n",
    "    return z_vars"
   ]
  },
  {
   "cell_type": "code",
   "execution_count": 18,
   "metadata": {},
   "outputs": [],
   "source": [
    "#using the Z values can we generate predicitons for each of the subjects in our data?\n",
    "\n",
    "def predict_y(z_val, v_val, c_val):\n",
    "    y_all = []\n",
    "    for i in range(3):\n",
    "        y = sigm(z_val[i], v_val, c_val)\n",
    "        y_all.append(y)\n",
    "    return y_all"
   ]
  },
  {
   "cell_type": "code",
   "execution_count": 19,
   "metadata": {
    "scrolled": true
   },
   "outputs": [],
   "source": [
    "#Defining the sigmoid function for our data, extending it to account for multiple subjects\n",
    "\n",
    "def sigm(inputvals, v_vals, c_val):\n",
    "    inner = np.dot(inputvals, v_vals) + c_val\n",
    "    sigmoid = 1 / (1+math.exp(-inner))\n",
    "    return sigmoid"
   ]
  },
  {
   "cell_type": "code",
   "execution_count": 20,
   "metadata": {},
   "outputs": [
    {
     "data": {
      "text/plain": [
       "[[0.9933303853851733, -0.7397830512740043, 0.6043677771171636],\n",
       " [0.9800963962661914, -0.37994896225522484, 0.0996679946249559],\n",
       " [0.8482836399575129, 0.049958374957880004, -0.19737532022490403]]"
      ]
     },
     "execution_count": 20,
     "metadata": {},
     "output_type": "execute_result"
    }
   ],
   "source": [
    "z_factors = Hidden_layer(X,W)\n",
    "z_factors"
   ]
  },
  {
   "cell_type": "code",
   "execution_count": 21,
   "metadata": {},
   "outputs": [
    {
     "data": {
      "text/plain": [
       "[0.7027127220576921, 0.7183143232075594, 0.7116395517123809]"
      ]
     },
     "execution_count": 21,
     "metadata": {},
     "output_type": "execute_result"
    }
   ],
   "source": [
    "predict_y(z_factors, v, c)"
   ]
  },
  {
   "cell_type": "markdown",
   "metadata": {},
   "source": [
    "# Softmax multi output nodes"
   ]
  },
  {
   "cell_type": "code",
   "execution_count": 10,
   "metadata": {},
   "outputs": [],
   "source": [
    "V2 = [[0,0.8],[0.4,0.5],[0.5, 0.4]]\n",
    "V2t = np.transpose(V2)\n",
    "C2 = [0.3, 0.5]"
   ]
  },
  {
   "cell_type": "code",
   "execution_count": 11,
   "metadata": {},
   "outputs": [],
   "source": [
    "def softmax(input1, input2):\n",
    "    softmax1 = math.exp(input1) / ((math.exp(input1))+(math.exp(input2)))\n",
    "    softmax2 = 1 - softmax1\n",
    "    return softmax1, softmax2"
   ]
  },
  {
   "cell_type": "code",
   "execution_count": 12,
   "metadata": {},
   "outputs": [],
   "source": [
    "def softmax_multi_step1(z_vals, v_vals, c_vals):\n",
    "    y_multi_final = []\n",
    "    for i in range(3):\n",
    "        y_multi_init = []\n",
    "        for j in range(2):\n",
    "            y_multi = np.dot(z_vals[i], V2t[j])+ C2[j]\n",
    "            y_test = sigm(z_vals[i], v_vals[j], c_vals[j])\n",
    "            y_multi_init.append(y_multi)\n",
    "        y_multi_final.append(y_multi_init)\n",
    "    return y_multi_final"
   ]
  },
  {
   "cell_type": "code",
   "execution_count": 24,
   "metadata": {},
   "outputs": [],
   "source": [
    "softmax_init = softmax_multi_step1(z_factors, V2t, C2)"
   ]
  },
  {
   "cell_type": "code",
   "execution_count": 25,
   "metadata": {
    "scrolled": true
   },
   "outputs": [
    {
     "name": "stdout",
     "output_type": "stream",
     "text": [
      "0.2972872779423079\n",
      "0.7027127220576921\n",
      "0.2816856767924406\n",
      "0.7183143232075594\n",
      "0.288360448287619\n",
      "0.711639551712381\n"
     ]
    }
   ],
   "source": [
    "for i in range(3):\n",
    "    one, two = softmax(softmax_init[i][0],softmax_init[i][1])\n",
    "    print(one)\n",
    "    print(two)"
   ]
  },
  {
   "cell_type": "markdown",
   "metadata": {},
   "source": [
    "# Neural Network Feedforward Example"
   ]
  },
  {
   "cell_type": "markdown",
   "metadata": {},
   "source": [
    "In the above examples, I looped over a set number of responses or records to build out a Neural network. What happens when there are more responses than are possible to manually code for? How can we leverage matricies to accomplish the same feat with a bigger dataset?"
   ]
  },
  {
   "cell_type": "code",
   "execution_count": 27,
   "metadata": {},
   "outputs": [],
   "source": [
    "import matplotlib.pyplot as plt"
   ]
  },
  {
   "cell_type": "code",
   "execution_count": 147,
   "metadata": {},
   "outputs": [
    {
     "data": {
      "image/png": "[encoded data removed]",
      "text/plain": [
       "<Figure size 432x288 with 1 Axes>"
      ]
     },
     "metadata": {
      "needs_background": "light"
     },
     "output_type": "display_data"
    }
   ],
   "source": [
    "#Generating the random data, three inputs of the length 500, they are plotted below\n",
    "N = 500\n",
    "x1 = np.random.randn(N, 2) + np.array([0,-2])\n",
    "x2 = np.random.randn(N, 2) + np.array([2,2])\n",
    "x3 = np.random.randn(N, 2) + np.array([-2,2])\n",
    "\n",
    "x = np.vstack([x1, x2, x3])\n",
    "\n",
    "y = np.array([0]*N + [1]*N + [2]*N)\n",
    "\n",
    "plt.scatter(x[:,0], x[:,1],c = y, s = 100, alpha = 0.5)\n",
    "plt.show()"
   ]
  },
  {
   "cell_type": "code",
   "execution_count": 148,
   "metadata": {},
   "outputs": [],
   "source": [
    "# Setting up the matricies for use in the Feed Forwrad model, There is only one hidden layer in this model\n",
    "D = 2\n",
    "M = 3\n",
    "K = 3\n",
    "\n",
    "W1 = np.random.randn(D, M)\n",
    "b1 = np.random.randn(M)\n",
    "W2 = np.random.randn(M,K)\n",
    "b2 = np.random.randn(K)"
   ]
  },
  {
   "cell_type": "code",
   "execution_count": 149,
   "metadata": {},
   "outputs": [],
   "source": [
    "# In the feed forward model the first step is to use the sigmoid function to find the hidden layer activation value\n",
    "# Next, use the activation value (Z) multiplied by the hidden layer weights to find the activation value of the output\n",
    "# Then calculate Y using the softmax method\n",
    "def ff_sigm(x, W1, b1, W2, b2):\n",
    "    a = x.dot(W1) + b1\n",
    "    Z = 1 / (1 + np.exp(-a))\n",
    "    A = Z.dot(W2) + b2\n",
    "    exponA = np.exp(A)\n",
    "    Y = exponA / exponA.sum(axis = 1, keepdims = True)\n",
    "    return Y"
   ]
  },
  {
   "cell_type": "code",
   "execution_count": 150,
   "metadata": {},
   "outputs": [],
   "source": [
    "ff_y = ff_sigm(x, W1, b1, W2, b2)"
   ]
  },
  {
   "cell_type": "code",
   "execution_count": 151,
   "metadata": {},
   "outputs": [],
   "source": [
    "P = np.argmax(ff_y, axis = 1)"
   ]
  },
  {
   "cell_type": "code",
   "execution_count": 152,
   "metadata": {},
   "outputs": [
    {
     "name": "stdout",
     "output_type": "stream",
     "text": [
      "0.3333333333333333\n"
     ]
    }
   ],
   "source": [
    "n_correct = 0\n",
    "n_total = 0\n",
    "for i in range(len(y)):\n",
    "    n_total += 1\n",
    "    if y[i] == P[i]:\n",
    "        n_correct += 1\n",
    "print(float(n_correct)/n_total)"
   ]
  },
  {
   "cell_type": "markdown",
   "metadata": {},
   "source": [
    "# Ecommerce Data - Preprocessing"
   ]
  },
  {
   "cell_type": "code",
   "execution_count": 165,
   "metadata": {},
   "outputs": [],
   "source": [
    "import numpy as np"
   ]
  },
  {
   "cell_type": "code",
   "execution_count": 348,
   "metadata": {},
   "outputs": [],
   "source": [
    "def import_data():\n",
    "    df = pd.read_csv(r'/Users/prof/Documents/machine_learning_examples/ann_logistic_extra/ecommerce_data.csv')\n",
    "    data = df.to_numpy()\n",
    "    \n",
    "    x = data[:,:-1]\n",
    "    y = data[:, -1]\n",
    "    \n",
    "    #Normalizing the numerical values in the dataset for n_products_viewed and visit duration\n",
    "    x[:, 1] = (x[:,1] - x[:, 1].mean()) / x[:,1].std()\n",
    "    x[:, 2] = (x[:,2] - x[:, 2].mean()) / x[:,2].std()\n",
    "    \n",
    "    N, D = x.shape\n",
    "    x2 = np.zeros((N, D+3))\n",
    "\n",
    "    x2[:, 0:(D-1)] = x2[:,0:(D-1)]\n",
    "\n",
    "    for n in range(N):\n",
    "        t = int(x[n,D-1])\n",
    "        x2[n,t+D-1] = 1\n",
    "\n",
    "    z = np.zeros((N, 4))\n",
    "    z[np.arange(N), x[:,D-1].astype(np.int32)] = 1\n",
    "    \n",
    "    return x, y\n",
    "\n",
    "def get_binary_data():\n",
    "    x, y = import_data()\n",
    "    x2 = x[y <= 1]\n",
    "    y2 = y[y <= 1]\n",
    "    return x2, y2\n",
    "\n"
   ]
  },
  {
   "cell_type": "code",
   "execution_count": 349,
   "metadata": {},
   "outputs": [
    {
     "data": {
      "text/plain": [
       "(array([[ 1.        , -0.81697841, -0.40827769,  0.        ,  3.        ],\n",
       "        [ 1.        ,  0.13967078, -0.4994283 ,  0.        ,  2.        ],\n",
       "        [ 1.        , -0.81697841, -1.03884323,  1.        ,  1.        ],\n",
       "        ...,\n",
       "        [ 0.        , -0.81697841, -0.90498762,  1.        ,  3.        ],\n",
       "        [ 1.        , -0.81697841, -0.86695367,  0.        ,  3.        ],\n",
       "        [ 0.        , -0.81697841,  1.59982383,  1.        ,  3.        ]]),\n",
       " array([0., 1., 0., 0., 0., 1., 0., 0., 0., 1., 0., 1., 1., 1., 0., 0., 0.,\n",
       "        0., 1., 0., 0., 0., 1., 1., 0., 0., 1., 1., 0., 1., 0., 1., 0., 1.,\n",
       "        0., 0., 1., 1., 1., 1., 0., 0., 1., 1., 0., 0., 1., 0., 0., 1., 1.,\n",
       "        1., 1., 1., 0., 0., 0., 0., 0., 0., 1., 0., 0., 0., 0., 0., 0., 0.,\n",
       "        0., 0., 0., 1., 1., 1., 0., 0., 0., 0., 1., 0., 1., 0., 0., 1., 0.,\n",
       "        1., 0., 0., 1., 0., 0., 1., 0., 0., 1., 0., 1., 1., 0., 0., 0., 0.,\n",
       "        0., 1., 0., 1., 0., 0., 0., 0., 0., 0., 0., 1., 1., 0., 0., 0., 0.,\n",
       "        0., 1., 1., 1., 0., 0., 1., 1., 0., 0., 0., 0., 0., 0., 0., 1., 0.,\n",
       "        1., 0., 0., 0., 0., 1., 0., 1., 1., 0., 1., 0., 0., 0., 0., 0., 1.,\n",
       "        0., 0., 0., 0., 1., 0., 0., 0., 0., 1., 0., 1., 0., 0., 0., 0., 1.,\n",
       "        1., 1., 0., 1., 1., 1., 0., 1., 0., 1., 1., 1., 0., 0., 0., 0., 0.,\n",
       "        1., 0., 1., 1., 0., 0., 1., 0., 0., 0., 1., 1., 0., 0., 0., 0., 1.,\n",
       "        0., 0., 0., 0., 0., 0., 1., 0., 0., 1., 0., 1., 0., 0., 0., 1., 0.,\n",
       "        0., 0., 1., 0., 0., 1., 0., 1., 0., 1., 0., 0., 1., 0., 1., 1., 0.,\n",
       "        1., 1., 0., 0., 1., 0., 0., 0., 0., 1., 1., 1., 1., 1., 1., 1., 1.,\n",
       "        0., 0., 0., 0., 1., 1., 0., 1., 1., 0., 0., 0., 0., 1., 0., 0., 1.,\n",
       "        0., 0., 0., 0., 1., 0., 1., 0., 0., 1., 1., 1., 0., 0., 0., 0., 1.,\n",
       "        1., 1., 0., 0., 0., 1., 0., 1., 1., 0., 0., 0., 0., 0., 0., 0., 0.,\n",
       "        1., 1., 1., 1., 0., 1., 0., 0., 0., 0., 1., 0., 1., 1., 0., 1., 0.,\n",
       "        1., 0., 0., 1., 0., 1., 0., 0., 1., 0., 0., 0., 0., 1., 0., 0., 0.,\n",
       "        1., 0., 1., 0., 0., 0., 0., 0., 1., 0., 0., 0., 0., 0., 0., 0., 0.,\n",
       "        1., 0., 1., 1., 0., 1., 0., 0., 0., 1., 0., 0., 0., 0., 1., 1., 1.,\n",
       "        0., 1., 0., 0., 0., 0., 0., 0., 0., 0., 0., 1., 1., 1., 0., 1., 1.,\n",
       "        0., 0., 0., 0., 0., 0., 0.]))"
      ]
     },
     "execution_count": 349,
     "metadata": {},
     "output_type": "execute_result"
    }
   ],
   "source": [
    "get_binary_data()"
   ]
  },
  {
   "cell_type": "markdown",
   "metadata": {},
   "source": [
    "# Predictions with Feed Forward/Softmax"
   ]
  },
  {
   "cell_type": "code",
   "execution_count": 350,
   "metadata": {},
   "outputs": [],
   "source": [
    "x, y = import_data()\n",
    "M = 5 #Hidden units\n",
    "D = x.shape[1]\n",
    "K = len(set(y))\n",
    "W1 = np.random.randn(D,M)\n",
    "b1 = np.zeros(M)\n",
    "W2 = np.random.randn(M, K)\n",
    "b2 = np.zeros(K)"
   ]
  },
  {
   "cell_type": "code",
   "execution_count": 351,
   "metadata": {},
   "outputs": [],
   "source": [
    "def tanh(x, weight1, bias1):\n",
    "    tanh_result = []\n",
    "    for i in range(len(x)):\n",
    "        tanh_init = []\n",
    "        for j in range((M)):\n",
    "            activation = np.dot(x[i], weight1[j])+b1[j]\n",
    "            tanh_init.append((math.exp(activation) - math.exp(-activation)) / ((math.exp(activation) + math.exp(-activation))))\n",
    "        tanh_result.append(tanh_init)\n",
    "    return tanh_result"
   ]
  },
  {
   "cell_type": "code",
   "execution_count": 352,
   "metadata": {},
   "outputs": [],
   "source": [
    "Z = tanh(x, W1, b1)"
   ]
  },
  {
   "cell_type": "code",
   "execution_count": 353,
   "metadata": {},
   "outputs": [],
   "source": [
    "def y_calc(ff_zvals, weights2, bias2):\n",
    "    weights2t = np.transpose(weights2)\n",
    "    y_final = []\n",
    "    for i in range(len(ff_zvals)):\n",
    "        y_init = []\n",
    "        for j in range(K):\n",
    "            activation = np.dot(ff_zvals[i],weights2t[j]) + bias2[j]\n",
    "            y_init.append(activation)\n",
    "        y_final.append(y_init)\n",
    "    return y_final"
   ]
  },
  {
   "cell_type": "code",
   "execution_count": 354,
   "metadata": {},
   "outputs": [],
   "source": [
    "y_values_ff = y_calc(Z, W2, b2)"
   ]
  },
  {
   "cell_type": "code",
   "execution_count": 355,
   "metadata": {},
   "outputs": [],
   "source": [
    "def predictions(y_vals):\n",
    "    expa = np.exp(y_vals)\n",
    "    answer = expa / expa.sum(axis = 1, keepdims = True)\n",
    "    predictions = np.argmax(answer, axis = 1)\n",
    "    return predictions"
   ]
  },
  {
   "cell_type": "code",
   "execution_count": 356,
   "metadata": {},
   "outputs": [],
   "source": [
    "pred = predictions(y_values_ff)"
   ]
  },
  {
   "cell_type": "code",
   "execution_count": 357,
   "metadata": {},
   "outputs": [],
   "source": [
    "def classify(y, p):\n",
    "    return np.mean(y == p)"
   ]
  },
  {
   "cell_type": "code",
   "execution_count": 358,
   "metadata": {},
   "outputs": [
    {
     "name": "stdout",
     "output_type": "stream",
     "text": [
      "Accuracy Score with random weights:  0.308\n"
     ]
    }
   ],
   "source": [
    "classification = classify(y, pred)\n",
    "print('Accuracy Score with random weights: ', classification)"
   ]
  },
  {
   "cell_type": "markdown",
   "metadata": {},
   "source": [
    "# Backpropogation"
   ]
  },
  {
   "cell_type": "code",
   "execution_count": null,
   "metadata": {},
   "outputs": [],
   "source": []
  },
  {
   "cell_type": "code",
   "execution_count": null,
   "metadata": {},
   "outputs": [],
   "source": []
  },
  {
   "cell_type": "code",
   "execution_count": null,
   "metadata": {},
   "outputs": [],
   "source": []
  },
  {
   "cell_type": "code",
   "execution_count": null,
   "metadata": {},
   "outputs": [],
   "source": []
  },
  {
   "cell_type": "markdown",
   "metadata": {},
   "source": [
    "# Generate an Encoded Matrix"
   ]
  },
  {
   "cell_type": "code",
   "execution_count": 99,
   "metadata": {},
   "outputs": [],
   "source": [
    "def convert_numbered_targets_to_indicator_matrix(yin):\n",
    "    N = len(yin)\n",
    "    K = max(yin) + 1\n",
    "    z = (N, K)\n",
    "    Yout = np.zeros(z)\n",
    "    for n in range(N):\n",
    "        Yout[n,yin[n]] = 1\n",
    "    return Yout"
   ]
  },
  {
   "cell_type": "code",
   "execution_count": 100,
   "metadata": {},
   "outputs": [
    {
     "data": {
      "text/plain": [
       "array([[1., 0., 0., 0., 0., 0.],\n",
       "       [0., 0., 0., 0., 0., 1.],\n",
       "       [0., 1., 0., 0., 0., 0.],\n",
       "       [0., 0., 0., 1., 0., 0.],\n",
       "       [0., 1., 0., 0., 0., 0.],\n",
       "       [0., 0., 0., 0., 1., 0.],\n",
       "       [0., 0., 1., 0., 0., 0.],\n",
       "       [1., 0., 0., 0., 0., 0.]])"
      ]
     },
     "execution_count": 100,
     "metadata": {},
     "output_type": "execute_result"
    }
   ],
   "source": [
    "convert_numbered_targets_to_indicator_matrix([0,5,1,3,1,4,2,0])"
   ]
  }
 ],
 "metadata": {
  "kernelspec": {
   "display_name": "Python 3",
   "language": "python",
   "name": "python3"
  },
  "language_info": {
   "codemirror_mode": {
    "name": "ipython",
    "version": 3
   },
   "file_extension": ".py",
   "mimetype": "text/x-python",
   "name": "python",
   "nbconvert_exporter": "python",
   "pygments_lexer": "ipython3",
   "version": "3.8.5"
  }
 },
 "nbformat": 4,
 "nbformat_minor": 4
}
