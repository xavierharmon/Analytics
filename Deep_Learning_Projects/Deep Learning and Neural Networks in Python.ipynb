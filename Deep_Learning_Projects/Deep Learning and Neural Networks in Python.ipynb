{
 "cells": [
  {
   "cell_type": "markdown",
   "metadata": {},
   "source": [
    "Data Scientist at an e-commerce store\n",
    "Predict User Actions on the site\n",
    "Direct Monetary Impact\n",
    "    predict bounce\n",
    "    discover areas of the site that are weak\n",
    "    Mobile/user friendliness\n",
    "    Make Data Driven Decisions\n",
    "    Use Science to improve user experience"
   ]
  },
  {
   "cell_type": "code",
   "execution_count": 1,
   "metadata": {},
   "outputs": [],
   "source": [
    "import pandas as pd\n",
    "import numpy as np\n",
    "import math"
   ]
  },
  {
   "cell_type": "code",
   "execution_count": 361,
   "metadata": {},
   "outputs": [
    {
     "data": {
      "text/html": [
       "<div>\n",
       "<style scoped>\n",
       "    .dataframe tbody tr th:only-of-type {\n",
       "        vertical-align: middle;\n",
       "    }\n",
       "\n",
       "    .dataframe tbody tr th {\n",
       "        vertical-align: top;\n",
       "    }\n",
       "\n",
       "    .dataframe thead th {\n",
       "        text-align: right;\n",
       "    }\n",
       "</style>\n",
       "<table border=\"1\" class=\"dataframe\">\n",
       "  <thead>\n",
       "    <tr style=\"text-align: right;\">\n",
       "      <th></th>\n",
       "      <th>is_mobile</th>\n",
       "      <th>n_products_viewed</th>\n",
       "      <th>visit_duration</th>\n",
       "      <th>is_returning_visitor</th>\n",
       "      <th>time_of_day</th>\n",
       "      <th>user_action</th>\n",
       "    </tr>\n",
       "  </thead>\n",
       "  <tbody>\n",
       "    <tr>\n",
       "      <th>0</th>\n",
       "      <td>1</td>\n",
       "      <td>0</td>\n",
       "      <td>0.657510</td>\n",
       "      <td>0</td>\n",
       "      <td>3</td>\n",
       "      <td>0</td>\n",
       "    </tr>\n",
       "    <tr>\n",
       "      <th>1</th>\n",
       "      <td>1</td>\n",
       "      <td>1</td>\n",
       "      <td>0.568571</td>\n",
       "      <td>0</td>\n",
       "      <td>2</td>\n",
       "      <td>1</td>\n",
       "    </tr>\n",
       "    <tr>\n",
       "      <th>2</th>\n",
       "      <td>1</td>\n",
       "      <td>0</td>\n",
       "      <td>0.042246</td>\n",
       "      <td>1</td>\n",
       "      <td>1</td>\n",
       "      <td>0</td>\n",
       "    </tr>\n",
       "    <tr>\n",
       "      <th>3</th>\n",
       "      <td>1</td>\n",
       "      <td>1</td>\n",
       "      <td>1.659793</td>\n",
       "      <td>1</td>\n",
       "      <td>1</td>\n",
       "      <td>2</td>\n",
       "    </tr>\n",
       "    <tr>\n",
       "      <th>4</th>\n",
       "      <td>0</td>\n",
       "      <td>1</td>\n",
       "      <td>2.014745</td>\n",
       "      <td>1</td>\n",
       "      <td>1</td>\n",
       "      <td>2</td>\n",
       "    </tr>\n",
       "  </tbody>\n",
       "</table>\n",
       "</div>"
      ],
      "text/plain": [
       "   is_mobile  n_products_viewed  visit_duration  is_returning_visitor  \\\n",
       "0          1                  0        0.657510                     0   \n",
       "1          1                  1        0.568571                     0   \n",
       "2          1                  0        0.042246                     1   \n",
       "3          1                  1        1.659793                     1   \n",
       "4          0                  1        2.014745                     1   \n",
       "\n",
       "   time_of_day  user_action  \n",
       "0            3            0  \n",
       "1            2            1  \n",
       "2            1            0  \n",
       "3            1            2  \n",
       "4            1            2  "
      ]
     },
     "execution_count": 361,
     "metadata": {},
     "output_type": "execute_result"
    }
   ],
   "source": [
    "data = pd.read_csv(r'/Users/prof/Documents/machine_learning_examples/ann_logistic_extra/ecommerce_data.csv')\n",
    "data.head()"
   ]
  },
  {
   "cell_type": "markdown",
   "metadata": {},
   "source": [
    "is_mobile - is user visiting site on a mobile device\n",
    "n_products_viewed - number of products user viewed during their session\n",
    "visit_duration - Length of time in minutes user was on the site\n",
    "is_returning_Visitor - 0 if new user, 1 if returning user\n",
    "time_of_day - encoded, 0 = 12am to 6am, 1 = 6 am 12pm, 2 = 12pm to 6pm, 3 = 6pm to 12am\n",
    "user_action - bounce, add_to_cart, begin_checkout, finish_checkout"
   ]
  },
  {
   "cell_type": "markdown",
   "metadata": {},
   "source": [
    "# Feedforward Example one subject two inputs"
   ]
  },
  {
   "cell_type": "markdown",
   "metadata": {},
   "source": [
    "Below are the inputs we need for building out a feed forward neural network example. These are all arbitrary numbers that we can use to understand how the information flows between inputs and the hidden layer of a neural net to the output.\n",
    "\n",
    "In the example we have two inputs, one hidden layer, and one output. X represents our inputs, Y is our actual response data, W is a matrix of weights between the input and hidden layer, b is the bias terms of our hidden layer, v is a matrix of weights between the hidden layer and output node, and c is the bias term for the output node.\n",
    "\n",
    "There are three subjects in our data, one who's responses are 0, 3.5 the second subject responses are 1,2 and the third subject responses are 1,0.5. We will focus on the first subject for our model but can extend the example below to calculate the output for the other two subjects.\n",
    "\n",
    "The goal of this section is to understand how a Feedforward Neural Network works."
   ]
  },
  {
   "cell_type": "code",
   "execution_count": 3,
   "metadata": {},
   "outputs": [],
   "source": [
    "\n",
    "X = [[0,3.5],[1,2],[1,0.5]] #Data\n",
    "Y = [1,1,0] #Actual Response\n",
    "W = [[0.5,0.1,-0.3],[0.7, -0.3, 0.2]] #Weights\n",
    "Wt = np.transpose(W)\n",
    "b = [0.4, 0.1, 0]\n",
    "v = [0.8, 0.1, -0.1]\n",
    "c = 0.2"
   ]
  },
  {
   "cell_type": "code",
   "execution_count": 359,
   "metadata": {},
   "outputs": [],
   "source": [
    "#These are our activation functions for each of our subjects. We will focus on activation_1 for our first subject\n",
    "activation_1 = np.dot(Wt,X[0])\n",
    "activation_2 = np.dot(Wt,X[1])\n",
    "activation_3 = np.dot(Wt,X[2])"
   ]
  },
  {
   "cell_type": "code",
   "execution_count": 360,
   "metadata": {},
   "outputs": [],
   "source": [
    "#We have to include the bias term to our activation function for each hidden layer node.\n",
    "\n",
    "a1 = activation_1[0]+b[0]\n",
    "a2 = activation_1[1]+b[1]\n",
    "a3 = activation_1[2]+b[2]"
   ]
  },
  {
   "cell_type": "code",
   "execution_count": 6,
   "metadata": {},
   "outputs": [],
   "source": [
    "#Defining the hyperbolic tangent equation for our model.\n",
    "#This funciton helps us understand the nonlinear relationship of the data in our model\n",
    "\n",
    "def tanh(value):\n",
    "    z = (math.exp(value) - math.exp(-value)) / (math.exp(value) + math.exp(-value))\n",
    "    return z"
   ]
  },
  {
   "cell_type": "code",
   "execution_count": 7,
   "metadata": {},
   "outputs": [],
   "source": [
    "#For this example we use the sigmoid function to find the value of the output node.\n",
    "\n",
    "def sigm(value1, value2, value3):\n",
    "    zvalues = [value1, value2, value3]\n",
    "    inner = np.dot([value1,value1,value1], v) + c\n",
    "    sigmoid = 1 / (1+math.exp(-inner))\n",
    "    return sigmoid"
   ]
  },
  {
   "cell_type": "code",
   "execution_count": 8,
   "metadata": {},
   "outputs": [],
   "source": [
    "z1 = tanh(a1)\n",
    "z2 = tanh(a2)\n",
    "z3 = tanh(a3)"
   ]
  },
  {
   "cell_type": "code",
   "execution_count": 9,
   "metadata": {},
   "outputs": [
    {
     "data": {
      "text/plain": [
       "0.7300082255276845"
      ]
     },
     "execution_count": 9,
     "metadata": {},
     "output_type": "execute_result"
    }
   ],
   "source": [
    "sigm(z1,z2,z3)"
   ]
  },
  {
   "cell_type": "markdown",
   "metadata": {},
   "source": [
    "# Feedforward Multi Samples"
   ]
  },
  {
   "cell_type": "markdown",
   "metadata": {},
   "source": [
    "The previous example only used one input but how can we include all of the input/subjects to get predictions at the same time? This will require some additional code to loop over each of our subjects and generate predictions for them.\n",
    "\n",
    "The goal of this section is to extend the example above to generate predictions for more than 1 subject."
   ]
  },
  {
   "cell_type": "code",
   "execution_count": 17,
   "metadata": {},
   "outputs": [],
   "source": [
    "#Here we build out the hidden layer knowing that we only have a range of three for our subjects and hidden layer\n",
    "#This should return three lists of Z values, one list for each subject in our data\n",
    "\n",
    "def Hidden_layer(variables, weights): \n",
    "    z_vars = []\n",
    "    for i in range(3):\n",
    "        z_init = []\n",
    "        for j in range(3):\n",
    "            globals()['activate_'+str(i)+str(j)] = np.dot(X[i],Wt[j])+b[j]\n",
    "            globals()['z'+str(i)+str(j)] = ((math.exp(globals()['activate_'+str(i)+str(j)]))- math.exp(-globals()['activate_'+str(i)+str(j)]))/((math.exp(globals()['activate_'+str(i)+str(j)])) + math.exp(-globals()['activate_'+str(i)+str(j)]))\n",
    "            \n",
    "            z_init.append(globals()['z'+str(i)+str(j)])\n",
    "        z_vars.append(z_init)\n",
    "    return z_vars"
   ]
  },
  {
   "cell_type": "code",
   "execution_count": 18,
   "metadata": {},
   "outputs": [],
   "source": [
    "#using the Z values can we generate predicitons for each of the subjects in our data?\n",
    "\n",
    "def predict_y(z_val, v_val, c_val):\n",
    "    y_all = []\n",
    "    for i in range(3):\n",
    "        y = sigm(z_val[i], v_val, c_val)\n",
    "        y_all.append(y)\n",
    "    return y_all"
   ]
  },
  {
   "cell_type": "code",
   "execution_count": 19,
   "metadata": {
    "scrolled": true
   },
   "outputs": [],
   "source": [
    "#Defining the sigmoid function for our data, extending it to account for multiple subjects\n",
    "\n",
    "def sigm(inputvals, v_vals, c_val):\n",
    "    inner = np.dot(inputvals, v_vals) + c_val\n",
    "    sigmoid = 1 / (1+math.exp(-inner))\n",
    "    return sigmoid"
   ]
  },
  {
   "cell_type": "code",
   "execution_count": 20,
   "metadata": {},
   "outputs": [
    {
     "data": {
      "text/plain": [
       "[[0.9933303853851733, -0.7397830512740043, 0.6043677771171636],\n",
       " [0.9800963962661914, -0.37994896225522484, 0.0996679946249559],\n",
       " [0.8482836399575129, 0.049958374957880004, -0.19737532022490403]]"
      ]
     },
     "execution_count": 20,
     "metadata": {},
     "output_type": "execute_result"
    }
   ],
   "source": [
    "z_factors = Hidden_layer(X,W)\n",
    "z_factors"
   ]
  },
  {
   "cell_type": "code",
   "execution_count": 21,
   "metadata": {},
   "outputs": [
    {
     "data": {
      "text/plain": [
       "[0.7027127220576921, 0.7183143232075594, 0.7116395517123809]"
      ]
     },
     "execution_count": 21,
     "metadata": {},
     "output_type": "execute_result"
    }
   ],
   "source": [
    "predict_y(z_factors, v, c)"
   ]
  },
  {
   "cell_type": "markdown",
   "metadata": {},
   "source": [
    "# Softmax multi output nodes"
   ]
  },
  {
   "cell_type": "code",
   "execution_count": 10,
   "metadata": {},
   "outputs": [],
   "source": [
    "V2 = [[0,0.8],[0.4,0.5],[0.5, 0.4]]\n",
    "V2t = np.transpose(V2)\n",
    "C2 = [0.3, 0.5]"
   ]
  },
  {
   "cell_type": "code",
   "execution_count": 11,
   "metadata": {},
   "outputs": [],
   "source": [
    "def softmax(input1, input2):\n",
    "    softmax1 = math.exp(input1) / ((math.exp(input1))+(math.exp(input2)))\n",
    "    softmax2 = 1 - softmax1\n",
    "    return softmax1, softmax2"
   ]
  },
  {
   "cell_type": "code",
   "execution_count": 12,
   "metadata": {},
   "outputs": [],
   "source": [
    "def softmax_multi_step1(z_vals, v_vals, c_vals):\n",
    "    y_multi_final = []\n",
    "    for i in range(3):\n",
    "        y_multi_init = []\n",
    "        for j in range(2):\n",
    "            y_multi = np.dot(z_vals[i], V2t[j])+ C2[j]\n",
    "            y_test = sigm(z_vals[i], v_vals[j], c_vals[j])\n",
    "            y_multi_init.append(y_multi)\n",
    "        y_multi_final.append(y_multi_init)\n",
    "    return y_multi_final"
   ]
  },
  {
   "cell_type": "code",
   "execution_count": 24,
   "metadata": {},
   "outputs": [],
   "source": [
    "softmax_init = softmax_multi_step1(z_factors, V2t, C2)"
   ]
  },
  {
   "cell_type": "code",
   "execution_count": 25,
   "metadata": {
    "scrolled": true
   },
   "outputs": [
    {
     "name": "stdout",
     "output_type": "stream",
     "text": [
      "0.2972872779423079\n",
      "0.7027127220576921\n",
      "0.2816856767924406\n",
      "0.7183143232075594\n",
      "0.288360448287619\n",
      "0.711639551712381\n"
     ]
    }
   ],
   "source": [
    "for i in range(3):\n",
    "    one, two = softmax(softmax_init[i][0],softmax_init[i][1])\n",
    "    print(one)\n",
    "    print(two)"
   ]
  },
  {
   "cell_type": "markdown",
   "metadata": {},
   "source": [
    "# Neural Network Feedforward Example"
   ]
  },
  {
   "cell_type": "markdown",
   "metadata": {},
   "source": [
    "In the above examples, I looped over a set number of responses or records to build out a Neural network. What happens when there are more responses than are possible to manually code for? How can we leverage matricies to accomplish the same feat with a bigger dataset?"
   ]
  },
  {
   "cell_type": "code",
   "execution_count": 27,
   "metadata": {},
   "outputs": [],
   "source": [
    "import matplotlib.pyplot as plt"
   ]
  },
  {
   "cell_type": "code",
   "execution_count": 147,
   "metadata": {},
   "outputs": [
    {
     "data": {
      "image/png": "iVBORw0KGgoAAAANSUhEUgAAAXIAAAD4CAYAAADxeG0DAAAAOXRFWHRTb2Z0d2FyZQBNYXRwbG90bGliIHZlcnNpb24zLjMuMiwgaHR0cHM6Ly9tYXRwbG90bGliLm9yZy8vihELAAAACXBIWXMAAAsTAAALEwEAmpwYAADsxklEQVR4nOz9d5RcWXbeC/7OuS5s+kwkPFBVQPku09Vd7R1JkWx6iTLUkOKTKBqN3Iz0lkYavVlrzNLMevPmGc08PUpNUiIlik50Tauma19tyluggIJHehv+unPO/HHOjYhMJFCoAqqAqs5vLSwAGRE37r2Rsc8+3/72t4Uxhl3sYhe72MU7F/JWn8AudrGLXezixrAbyHexi13s4h2O3UC+i13sYhfvcOwG8l3sYhe7eIdjN5DvYhe72MU7HP6teNOpqSlz5MiRW/HWu9jFLnbxjsXTTz+9aoyZ3v7zWxLIjxw5wlNPPXUr3noXu9jFLt6xEEJc2Onnu9TKLnaxi128w7EbyHexi13s4h2OW0Kt7GIXrwdjctCrgAYxgpC1W31Ku9jFbYvdQL6L2wrGpJjka5B+CXQXBIDABA8hom9DeFO3+hR3sYvbDruBfBe3DYxJMZ3/BPlJkFPgjboHFGQvYLJXoPbTCG/frT3RXeziNsMuR76L2wYm+TLkr4I8AKI8eEB4IPcAHqbznzBG3bJz3MUubkfsZuS7eF0Yk2KyV0EvAh7CPwzeUYS4eXmAMSkkXwY5DULs/CQ5BmoO8jMQHL9p772LXbzTsRvId3FN6PRZ6H0WTA/wAINBgzcF5R9B+AduzhupRTAJyInXeWKAyU8gdgP5LnbRxy61sourQqfPQPdXQFTA2w/eLHh77b91jOn8W4xauEnvll89Ex+G8MCkN+k9d7GLdwd2M/Jd7AhjUpuJy2kQpSufIEdBr2F6f4io/d0bf0M5Zouaxlw7oJsE5OwbOrTRLUz2HKTP29d7exDRBxw95N3Qad9sGGPo5TkAZd9HXM/itotveewG8l3sCJOdcEFz8upPEhOQn8ao1RuWBQo5gfHvshy4uAq94oqcInzwuo+r05PQ+2UwOYg6CB/yU5jsBfDvgsqPImTlhs79ZiBTiueXFvmLc2dZ6XYAmKxU+OThozw8u5fI3/2q7uLq2KVWdrEz1AKWE78GhACka9y5cYjSd9rFQ3eufNAo0PMQfRwhx67reCa/DN1fBFEDbx/IulXDyCmQ+yE/i+n+Krd63GGS5/yH557hV158nlTl7KvV2V8fIVea33jlJX7h2aeI8+yWnuMubm/sBvJd7AxhC5uvD4Pr2rnxt/QPQfXvAInNzPU66E27qOhFG8RLf+m6j2eSzwOh5fiveDMBci/kp0Bduinn/2bxh6df5dTaKgdHRqmFUZ9OqYUhB+ojnNvc5LMnT9zSc9zF7Y3d/doudoTwDmN4Hb22UTaGe3tv2vvK4Bhm5F9g0pchfwVQ4O1DBI8ivJ1pHmM0qHO2I1RdBjxLm6RPg3fk6m8mBIgAkz5lF5FbgFaS8M25y8zW6jvy4UIIZqs1nl6Y57vuOs5oaYd6xS6+5bEbyHexM/w7bQFSN0GO7PwcswLBw4irPf4mIUSEiB6F6NHXfa4xKab765C9aIuyogZo2+KfvwwiAO/gNY5QAr120879jeLs5gbKGHx59c2xJyXaGF7bWOO9e/e/6ffSxnCp0aCTpYSex8GR0V3u/V2C3U9xFztCCA8qP4Lp/BxoBWJsoCYxCswqiFFE6btv6Xma3u/aIC73b1W7yFngNKQnIIzAm7nKEfKtXaRvM1KVX9fzhLBc+puBMYbnFxf4ozOn2ez1QAiMMZR8n48fPsInjtxxzYVkF7c/dj+9XVwVwj+CqP6MlSDqectVqwUwSxA8gKj9DEKO3rLzM2rN0idy3w6SxZLdSQgP1JlrHKSHCB95S8/zWqgFIddVizBQC6M39R5fvniB//jCcxht2FcfYW+1RsUPuLC5yf/7q1/mJ37vt/nDUydZ7Xbf1PF3ceuxm5HfQhiTW/le8lXQS0AA4UOI4LGr8sFvN4R/EGp/z56fXgeE5axvYQAvYLIXAQk7WQUIAfIo6OdBdcC0rPxwGHrT0kf+sbfhbHfGHeMTlPyAROVE3s5fx0wpQt/n+OQb/51Y6XT4g1Mn2VurE3geSmteXllmsd3Ck5J6FDLfavE7J1/hixfO80P33McHD96aesEu3jx2M/JbBKM7mM7PYzr/wSo0iAAD8Rcwrf/BdlXeJhBCILxZRHAfIrj3tgjiAOgNILj6494MeEeBLqg122wEtjNULQAGUf1vECJ8w2+91G7z7MI8zyzMc7Gx+aYljJHv8x133MlSu02u9RWPK61ZaLf41JGjlPxrXOtV8OT8ZYSAwLNS0pNrqyy2W9TDiGoQEkifWhjSTlOmKhX+yysv8dLy0pu6ll3cOuxm5LcAxhhM91chv3Alt+uVrZa6+2sYOYrw77x1J+pgjAHTxg55qCLEbfJrI2sgrqGvFsKqV8jB2wNmAbRVqhB9DBF9ACHH39BbrnQ6/NaJlzmzvm4VOwbAMFuv8z3H7qYRxzxx+SLNJKEehnzgwCHes2eWWnj1xeKjh47QTlM+f+4snvQYjSyF0kxjMqX5xJGjfPLom/s9eHllmdHI1gC6WcZcq0l9SOIIEHkerTRBCsF4qcx/fe0090/P7HaVvoNwm3wjv8WgLkF+GsQ4qItguja4yCkQoyAiEFVM/GeI2q0L5MbkmPQ5SL8AahUQIMqY6COI8P23fGqP8O/FxH/2Om39Mfj7EPV/6jxabHFTiDee3a50O/ybJ79OrjX76gO5oDGGhXaLf/xf/5CjY+Psr49Q9gO6Wc7vnnyFz505zd995DEOju68kxFC8N13Hefh2b184/JlTq3bBqvH9u3nA/sPbXmvNwptTF/lv9xpI937bTsDQGCM1a7Pt1rMt1vsr99cNdIu3jrsBvJbAJM+bfXO+gQ2OEowGjhvC3TBg1Ylkp/D6HXE6zoCvgXnaDK7a8hesC3zcq8NliaG+HOY7Gmo/uR1d1n2j6tWMNlLjp+uI4L7QO59c4HK2w/+EdfWv4MqxWjbdVr+AbuLuMGdxO+dPEGmFdOVrQtYrjWvra/hCcF8q4knBM00QSCYqlRQWvOZZ57kn37ww4yVdlbICCHYVx/hh+6974bOcTsOjY7y4tIS5SCgl2UIIUiVopXExCoHBJHnUQkCfE8iEAgBnXTXmOydhN1A/jbDGAPJF2yGKycHmaTAZpamY5UY4fttgNfd67B2fQvOM/kCZC+BPLg12xUl5364jOn+GlR/+rqCsDExpvdbkL6AvdgARI6J/9QWGyt/4w1n+EIIqPxNTOfnbTCXE1ZKaAyYhi1who8jwg++oePuhNVul5NrK+ytXZmlLnbaxHlOrjXzrRbdLKMeRhhgrddFCsFMpcZT83N8+x133fC5vBF88MAhnp6fRxtDICWbcY8kt41enhAYoJ0m5KbEfLPF/hF7faF3e5mJ7eLa2A3kbzfUJeu9TflKOkAIoAK6Bfkly5eL65ecGd22Ln/ZS2Ay8PYjwveBd+ANZbyDIQ8zV6csxDTk56ws0du5ScVSM89A97cg/ar1NJdTENxvOWvh2aCrzmE6vwC1n0G8gesFbOG1+vfsDiH5sj0fA3iHEKW/Av69N2UAxmK7hUAgh+iU9bjHSqfDq6srxHlOqhWBJ/Gk7DfalPDJteZys8HvnTr5tgfyw6NjPLZvP1+7fImNXkwzSagFYf/3IdOKShAwWSrz0soS2mjqUcSBkZ1poCTPudxskGrNSBSx7yodqbt4e7EbyN9mmPSbrvB2/upPEmVQZ8H/uA181wGdvgy9X3UufzWsmdUzmPTrED4M5R++fnWGumgXAnmN5xcBLX4CwgdAhOAd7L+H0V1M83+A9It2l2Ha7pwuQ3LZLhLRd7iC5R5QlzHp84jo/dd3jsOnIiuI6KOY8MNAAsg3vCDsBGMM6EVM+gzj+izvH18mkfdxvj3Ns4vL9PIcKQSNJKGXZUgh8D2J2aYL96WkEvicXlsjVwr/dbLdZpLw3OICzy7OE+c5M5UaHzx4EAx8fe4SFxubCCG4f3qGxw8cvCaXfanZIM4zzq6tcXpjjUxrullG4Babehixp1bDE5IS8NLKMv/8wx+7okEoVYrPnzvLly6ed+oagzYwW6vxPcfu5p6p6Td7m3dxE7AbyN9uqMvWm0SvuiLnThaqnn0s/OD10Rb5eej+R0styGEOtmYz3uQpjG5C6btATiJk/WqHcgfMAGEzaN2yPxMVENVBhq6WIXvFBuDsGcCAiDDRxyD8GLR/1gZxnWCDq8/ATdGAXob4D6H0gyAjWxNIvgjbArndZTxvuXqTgrcXET5uM+5t98Zm3jenS9OYFNP7TUifAxEwFkj2li9T9S9QUXAueBzfLbJCWJrHk5JEKeIsg22WKL6UpGnKQrvFnlqd19bXaKcpgZQcHR/vc+cnV1f4j88/S65tZuwLyemNVT776ivkWvPA9B4mKhWMMTw5N8fXLl3kO+86xrcdvfOK+/Hswjy//MJzrPd6NNKYwPOQjiNPlKVXqkEIBhKVE6ucehhyZGxsy3EypfhPLzzHKyvL7KnW+rSLMYZWmvJzzzzJ/+7Bh3l07+5Q7FuF3UD+tsO3wTV4yHLhumUzcOF+Tgw6BX8fBO/pv8oYA2oOoy6Cya3/t38XQoSY+E9coN0WxEwK+XlL52Qv2LmbsoQJ3oOIvuOqHuK2UelVG9CF09gZXPPMcdANyE/YVn1v/8A0yyQQ/1c7wCH+POje0FGHMzzh7kMT8ucgfNwuEnoeY/K+vFGnJ6D3K/Y6RB3wQL2ASZ+C4AGo/PWbknkPrjuxPuzpk5B8A8wm+PeBmKAcSsIg5bXNTQLR4q8e+Rq/dfGTNLMaJc+nm2VoY/CFpJflZEr1tdsAPZUzXSnzpQvnObm2SpxnfVm7EIJHZvfy/n0H+A/PPcNoFFEJBruhc5vrJHmOlJLLrSZ7ajWEEOyp1ci15o9On2I0KvG+/YOxe0vtNr/68gsAzLWatNOUVCkr8MF+nLFSLLbbdLOMu6emuGdqitwYOtlWSedT83O8vLzEwZHRLYuFEIKRKCLyPH7j5Re5a2KCkWjX1OtW4KYFcmFHrTwFzBljvvdmHfddh+B+iD9n28rD97u29wuDoOdNgTdpM09X/DNqxRYW1WV3EGG376KCiT5hhxHLbdmQSSF72hZLRdk5zRqr7shewmSnoPbTICds8MqeAt0GAiuNNCkQDXH0Tkuefh1QwAjInm3fH7wpqJblqk0HR1YD2v09nDG6n+cX7KJG6B63Ad/kF6H7SyDHt+0yqnbBy17GdH8TKn9zSAaY2XtpukAJ/CPXTScZNW+bs3TT8fbz9tqzZ+00pOAh7hib4JWVZXxZoRq0eHDsNb668jCVIGCt1yU3Ck9KOlnKuc0NpqtV6oV+3IA28Pnz5zg2MUk9jFhqtxz1kfPS8hK/8cqL3Dk2TiUY7JjiPGOu1WKkVAIDG70em3HMeNneE19KpipVPnfmNR7duw/PUSLfmLuEMHChsUkziYnzHGUMHgIhJZKBNLGTpkyWyuyp1ZlvNbcsQNoYPn/+LJPlypYg3ssyOplVtlSDEGU0zy0s8LEjR6/rft8IMqU4vb7GMwvzdNKMyUqZ9+7bz5HRsW9Zvv5mZuT/GDgB7IpPrwERPoJJ/sRmryIC/7D9g8LSGQL0JYg+gRACo9cx7Z+1j2/3FDExdH/NPra94JifdooXpwQxjq4RnuWk9botMBphFR6iAoSQPQdmHagAXTA+/WxalF2ga4P0rEVsEehND9KngNS+l03h3Z/cXV8E273LTWYzfBFAcLxfmDTJnzk9/Q5UiRD2XmQvgP42jNyDSZ+A+M/dNRY5Z4SJPoGIPnbNkW5Gb2DaP2fP1dsP2QlbHyhoL92G7DkC+R6mKlW6WcpKr8yd1TP8+cJdKJdZa62RQiCEQGnNeq/LSqfDRLnMfdPTvLS8zKN795EqxdMLc2RaU/J8Sr6PVIoz6+s0ejEjpTKjLrNd7tghGwIBAqQQzLWa/UAOUAkC5lpNLjUbHBmzDU5Pz88T+XaBSXLV/zQMxh4Le6xCgv+NucvsGxnBl5JDQ4XOzdguHPscD9/NUl5dW2Wl0xkq/EItCnlyYW5LINfGsBn3UMYwEkY3xWlxqd3mF557mvVul7IfEHiS85sbfH3uEneNT/Jj73mY6jWar96tuCmBXAhxAPge4F8B/+RmHPPdCiHHMKUfht6vueafugs8ng3MegWCRxDhQwCY+HNAAnLPDgcr2aJh9jUI7qH/cZrEKmOG+Xej2fpxVyH5c/AfgMKL23RtQBbTNqPWMbCGDcIeln/uuoJq1f6dfMW9tmGPL8dAtN1iIOhLDYmBDJt5D1+DZ49Digg/4k51E7JT157NKQQIH5M8DcJYfl1O2/fvX3MK8R9j9CqU/8pV1Ssm/Ya9932KyO1MHLSoEKfrvNo4xUpXE0qPkl9ipJTx4FSVZ5dTRqMSGoM2hl6WoYVBCkGtFNrg27SUiBSCpxfmAEF9yATLE4bI8+lkGU/Pz/Hhg4eJfN9SKkOLn+9JetuoD9xd7g79PFY5oefRTTMyrfEQaBe4t109nvToZCmvrq7yV+9/gHIwdO1m0EDUyVKenLuMNoZ6FPUXBIOhGcd85eIFfuw9DzNZrvDU/Byfv3COtW4XKcATkscPHORjh45sWYTeCBpxzM8+/U20NltUNSORpR7Pba7zS88/w0+99/3fcm6ONysj/1+AfwZctYomhPgp4KcADh361jblkdF70bJm+WQ17xqCsNln6XsQ0UcQwrMFyuyFnZtd+gcbBzwrV/RdNqRbNrhtCVx6q5WrXsAG6CF/D70O5DZLNps2mMspQDqqJHOUi7TFThIgsj9T6/Y8TG6bmtQS9NUbEhvAM/d+kkHGXraLQPTdA/Mq3eKqZlhbELmdx7zbrWzLukVof55+0zZZBfdccQRjFCRf2zabdDAdKXdeJ0anjPkrRO4e9vKUTprSSBTawIGRUebbLZTWVIKAmWqNkSgiU5r1uEczTfjInr0stFpkWlEPt3LJwmXbBqsQmW81OTo+QeB56CEVjNaGwNv5vkRDlMhkucxGLybTGm00vvQIjSDRlifvk+XYnYRw7/0d2+SRI1FkC7Uq55XlZbQxW/h7sLsFT0qqYcBvvPwSI1HEc4sLTJQrfUVNphRPXLzIswvz/L3HHmdP7eo9A9oYLjQ2ObO+Rqo0M9Uq903P8PW5S3SzlH07aPntAI46Zzc2eG197VtORXPDgVwI8b3AsjHmaSHEJ672PGPMZ4DPADz22GO3dkjibQAZ3I3xj1tXwSID9PZtbR3XRVv8tgBltA20uoHlvcdsQ4x3xGX328yXTA9kxQV9B3URS3VoUCugztngqzewAVfajJ/Y0TbutdkFYB0YtVk52CAvfCC0BUwMlppx/ixI7K+ado8pLN0SWeqn8qOI6EMDflNcp7Urua0biNKV96iAkCBqmOQriB0COSbhiiHT3h7I1zEmYrFjzaxCL8InY6xUZq3bZSzKaWUjfHOhyWhUJvA89tdHWOt2aLmuyFZqBzg8ML2Hs5t2eMXFZmNH8ytfSiLfo5vmlHyfi80GR8cnmK5UObW26u6HINOa2drWfCnJ7WsOjY71f/bRQ0f4rVdetll5lgIGIQSR9Mi0IjO2gC0QaKOJPJ/pSuWKRqDQ8/jwwcP84emTbMQ9RqIri8va2J3I3RPTfOPyJWpRyPGJqS18deB57K3XWe91+aXnn+GffvAjfT5/GEvtNr/84nMstFpIIfCEJDcaiWC11+H4xNUdIIUQVIKAJy5d3A3kbwIfBr5fCPFprOhqRAjxy8aYH70Jx35XQwgB3jXoAwRX7IX1pmv4iQfP0V0bsPIXnduf+7JpBaIHBK6g6Frs9aoL2BLyVeCM46NHAbc4oJ3+O7NFTQIXLHP60sS+x0lffgEmBLMBwXutPJFVBtJDzx4Hbd/LPwa1f4SMHtp6jQVFojsgq1e/PYV3yusZX4lRaxds9JX0StG2b/RgByBngFPEeY8kz4l8H0GONtbQqpenlOQGT6w/jsFSDuPlkm2uCUM+eOAg1TBCCCj5AVII1uIOm0lMqhSVHV0MBbUgouM03t08BwzVMGS6WmWt28WXHiXfY7oyuCfaGJa6Hb7v2N0Entd3YbxnappY5WitybRGaYOUlgxRrsgpwGb3zmPl3OYGf3T6FJ8+dnxLEP7IoUP88WuvkqgcY6ItZRptDO004dDoGJUgYLHT5v7K9FWLjhPlCnPNBmc3NrhjfJzXNtb5ysXzXNhskKqci41NZqo1Dm8rXHbSlG/MXaIWhhwdu3qncyUIWWq3r/r4uxU3HMiNMf8C+BcALiP/b3eD+E1C0VlpchtwdNNKFkVgJ8L3YcA7ZgOoaTs+HKAF3h1u1JlnFwC1aJ+vN+3fbLj3CYfqkMb9sdw1ah77YOh+VrJ/m8Rl7S4wmeI1nlV6lL8Psm/aAcck9FUsYsrKKyt/a0sQNyZ3uxAN4Qch/j0w5UGANZmtIZiuVfl4M06W+HpKBXHV5wgRYoJ7rfJHODmmCCB4D3Hva0SerQ/4ImU9308oE46Pxjy3fj8nGvvAtGilCZtxzHS1yl0Tk/1CZQFtDFPlqh1vKgSZVqRK0UlTDDbrrbvAf2x8ks2kBwwKkXdPTPFE7yKtNOF9+w7gSYkxhs04ppUmPLZvP7Uw5H/62ldYaLcxxrAR91DaMF2p0EwTMq0x2vT3ar4Q+NJ1oXo+9Sji/ukZ/uL8WY5NTnJ8ciBNHYlK/MDd93J2Y51WllrjLQTa0TNHxsa5a2KSVpqQa01wFV/1AoHn8fzSAk9cusALy0tUgoCRMOLllU2WOx02Y7vgHZuY7AfzyPcpBwGn19bYVx+5qne70ppy8K2nqv7Wu+J3EISsYoLHIHsSmIX8pFOdDG1vTWaDfHAA9JSlXCp/zfLd8eesnFEEkD7j1CFupqWo2ECMbxcArZz3SwVMqzgDBk08oePJeyCOYGmTNuiiwGYzSKsyqWBVNhFEH4XgMUiesEHamwVv3GbJ8e+h85ch+gjk8/Y61aJdjLQzbRLzLkPWoC+4XUZqz0uWHZ+eXtUmwN6jlqVLUOxkwS+ij2KylwcLJoCc5HJ8N2VxmdFgA09ojAFtJK+0P86qOc5HD8OZjXVeWFzksb37maruvHtY73V5dO8+Do6M8v/9xhOcbWwSSol0C1QnTVnpdpgsV3h07z7ObW4QeR4vLi+y1usCggen9/DAzB4uNxvMtSx9dcf4JJ+ePc6vvfwCP//MU2RaUfJ9MJZnr4Yhh8fG2VOr8bW5y2RK9Zc0KUR/t1ANQ/aPjDBZqUCvx5cunN8SyMEOwLh3app6WGK11yXXioofMlOt9tUoWttMvxLstOMYwBOSb7qi6YH6iDPyyll198AA5zY3KPs+Bx1dZGWWFRZaLRbbbQ4P0UjDaCQxHzp0/Jrv/27ETQ3kxpgvAF+4mcf8VocofQcmfw3UeReIXSZuABJLL/gP2cEJ6ozlu00LhBtzll+02atetEHctO2LvQO2qQcPTAA0gbpdGJAMCqHG8d6h+5kBMwdiEvxHsZl5z76fXnX0THcrZZG/DLSh9Cnwpu0Ckp+xmX72vJVQCie9pAzEbjFJ3TmUgMxSKGLM1gL8g+7n56xkUmzvasWeWz4PuTX/Mo3/DuPfiYg+Bv7d/WxP+HdgSt8D8R/Ye+Tmk0pZYyMZJaPOydaHWcsP0lUjFIuBFHBwZJSXlpa41GzQyTPGohIj0cDvO1WKOM/52OEjBFJSiyIEVg1ipYCWYhsLS3hScnJthWoQ2CArBbO1OiU/IM5znl1c4PjkFD/92OPUwpALmxv8zB9+lsV2m0B6eFLQzTLaaUrJ8/Gl5NzmJg/u2cMP3H0vf/zaKZIsR0g7szP0PCqBz3i5wky1ykYcMxaVeHVt9YqGpiNj40yUqyituXN8Z2ojU4rQG/ip7wSlNXPNBpdbTQ6NjqKNYU+tRuzmkQph6Z9qEHJmY4N99ZE+l35kdJz5VovNXm/HQN7LMjwpeWR271Xf/92K3Yz8JsMYjS0W+tfULl8vhKxD7Wcw7X9nhwwjhsQgVdvhqNYgfdUFQ2w2G+yxfLhIgXWQB0D6oJpYCWGRdTuFiAkd3RJjAzb0+WyUuyYXUMltcM9PQ/iodUg0xhZQ89M2sCPtdHo1b/8Ej7sgHlu9uUkGEkazjtWeCyxHXxAARf7YAuqgJQTTllsv+FPviFWtZM+6DlF3z03iOmdXbUYf3GfPSS1Y/Xz4YSh/f58zl6WPY7x91vUxfw2E5EAt4U83DtHsvI+2urLIttBu8fziAqUgYL7V5GJzk8jzGSuVuHdqhkTnZLnmr9x7P3eMT/DzzzzF0bFxjoyO8c35y+RaU/IDqkGIFDYzP7O+zvHJSfZU69SjAX02EkUYYzi9vsavv/wij87u5V995QsstNuMhGE/u0+VcvSNZqXbZbpS4ezGOh85eJijYxPEWUo3z+nlGdUwxBOCOMt4ZWUFgJLnM14uo4wmYPD7K4Xgh++7n597+ql+Fj+MTpqSGcWHDx5mM04YLUWsdbu00xQpBKMlSzc9Mz/PXLPhXBdTQulRDnwOjIxumbLkS0kvz2gkMRNlK6OdKJc5UB+hkcY0kpgRNyBDG8N6r0uicn78oUevahX8bsZuIL9JMHoTkz5pm1LyeTBrGDkG/j1Q+m5E+ABCvLn2ZSFHoPxpjF5w1Idx3LSA9GVQr2CLk9i/8y6YVVv4FHtAvwDRh20XJT2b1QtAV7EZdmx/rlNs0A6g32VZ+KQU/HihiqmD0DYbDj9gM3DvkD0evg3m+amBlFBfACXszsAkrlHJWOkhBrtAVLA7A4Et2BYyRYFdYHzIz4K/32bg9uaA/z7b6q/n6Tch5a/Yc/DvsJ9BEeDFOJhRSL+C8fYgooHFrQiOIYJjGN0GUkZqJS6efYaNXo/pbZY4860mLywtoo3h8f0HqYUhc60m5zc3WO12+crF8/y1+x/ku+46zsHRUTZ6PV5dXWVvvY4Ugk8euZO5VoMLm5usdTvEeU4lCMm1ZrXT4Z6pKyWnQliO/XdOvMxvn3iZy41NFFYdU/J9Is+3Wb4QeEKgjKaZJoS+TytN+ovBSKnE+c1NjDGM79CxeX5zg+cXFzk6Ps4Tly7y8vISUgjunJjk08eP84VzZ9lo9vqZstaaWhTxE488RuT7/D+++Bc8vWAbmTCQ6pxOYusIICiHAcLY2kEzjdlMYD3uEXgelTDEGypIZ0r3z2uh3WKh1WSqUuXEyjLlIOh3nN43Pc23Hb1zi3LnWwm7gfwmwOSXrSd2vgTaNntA1XYEJk+AOo9J7oba373qkAhjEuuLQmKDtXdk60g1by9WOTIFUlrVSfK0DYxbgm9us1zVAHMKZAuMhPQlIHOUizumHLF0jRxxXHeDQSt9xiAzL7Ivp2YhBHpgKvZ5atlpxy+6912mXxQ1DWAc1AZkZ+zrGLGPixBMQeFoYJNBNm5dDC0KZYwBWpCdhWjoPkrXIVv5cVsQzs9YKWVw3Mout0NIq49PPo8J33/FzqmwRvCAv/Pwo/zc009xudlgvFSmEthByc8sLuALwQMzeyy3jOWR7xgfR2nDardD5Pv9qUCNJEY6rThYHnlfbYTFdhttDKOlklW3bHRY7Bi+dvkij8zu2zIi7vzmJq+urZJrTTNJXBZus9hulqG0GWqEsfcsU4okz8m05tDoKM/0OvTijFQp29SzTV2Sa83dU5P8j1/7CkmuaKUJgechgKcW5hiNynzk0CHev+8A8227qzs4MsqxySl8KXlmYd5Z6xtyrdmIe/SyjF6e95dkkdnhFYlSGAzGGOI8QwBJrjgyOtZfJHwpWe12eH5pkUwpfN/jPXtmSZVitdul5Pv8xKPvvaaS5VsBu4H8BmFMD9P9D7YLUs/ZTLmvBQ9soFIrIEcxnX8PtX+0xf/DmNxu55MvYTlhJzmUFUz07QjngCjkBCa4z1IXTLpGIbCB0WeQKXuu4BjbQKsX7TmpC46/3sQWJUP7OqOwQdNRJn1fFBhwODGDJpniTxWtVu3rTIz0H4JsDlhxUj7fXo/pAm3HwwfYxSGxxVij3TXn7v0LFMGl0JwX/88d537Cpqdyj/M1t/dbyFFEcDfarIE/u3MQ779FxZp05XP2eSa2f4vxLcFtolzhHz7+QZ5fXOCLF88z37YcbdUPODw6RuT5tNOEWr9LU+BJwXS1xkvLS2zGPcZKZQLpbVHG2zb9eZTWfaOpXCuksI01udI8szDHBw4cIvQ82mnC6fU16mFIO83IdQ/paAWBzcATlePL4UUXcm0sTSI9amHIeFTmldVlQiltYXQI3SylFPg045RXVleYKpeZqdboZBnrvS5LnTawwcmVZV5YXuIfP/4hjo4NpJ9JnvPbJ17m2OQU++uj/OnZ03TSFG2M0yvZxSVRuU0HhCT0fRCFFl2T5RnnNjc4MDKCLyS+lDw5fxmDwZOCR2b3UQoCSkHASKnEWq/Dr730Iv/kAx++KRYA71R86175TYJJX7aZt3G67O2zIIVn+V/dAlYw2auI8EH7WqOcVerTNiiZ2PLJpgm5huw1THkRyj9kg3n5+6zvSn7KFjmN3arazNUVJkXNceWBzYbFhJXs0Rl6vnJB1DXqmKJBZ7tMr/i/pi8rRKDRxCphPamhTZWS16HsPUEpCAgK5YooNPBNBpl94duSYpuA20AXtoQ4hv5fqGZy9/+YPt1i2jbLV6+Bf69dmIrdjm7zur/axtjXd38BQ2Lfy2g7Oq70HQh/0OFYCQI+ePAQHzx4iIVWk3/15S/SThPObK67Q1mK4p6pqX7bfeG5strtMlYqs6dWoxIExHlGyQ9YbLdIVL6lTd92VxqqQUg5CGgmCQutJofHxrncbDq1iZUeCmHb9fNM9+kUQRHMbRu/cdfZSiRr3Q5l3+fo+DgnVleoRCHtNEU5f/JMa6pBwH2jY3z18kVKno8B1p1JV3GduTZkKuGbly/zP+Zf5qceez/v2WN7IU6urpAoxaTn89WlizSStN8sBKCdz4t2Rd7MaAKn7ZdCoAzUoxLaaOaaTY6Oj/Hs0jztNGW2VufuqSnGt/Hfk+Uql1tNTq6u8NANFjk7acpSx+6QpiqVdxTXvhvIbxTpN0DntkBG6MwpKljOuu0CeG5b4v2HrDOgC+TkJ10Q32f/rRbstp8AMLYw2f5ZjKgjyt9haZna38M0/u82kOtN+z4k9jWiNlCLCGkVKGqVQbAsDKwE9qMvMt5i0+t03kj3d7LtMTtMIFE+mZaMhy1SXaIsO/gyJs1DpG/wTKE1h8Ei4zTp/YWkyRUdqFuw/TGN5c2Nu9aSfQ+T2s+g9tODnY6ccOqbq8AYO90of815uO8dLDxqBdP+DKb8w8ht3ugLrRb/5slvsBH3KAdBPws3xtBKEp6cm+N9TtOdKqsV19pehy8lHz98lN8/dZKDI6NcajSu0EJnSlF2kkAb/AwnV1epOafEoiNUowk9j2YvRglLhwTSBsM4z/FcYMy0xhOCsajEybUVTq2tMl2tcsfYGHdMTPDc4gLrTrMtDPSylD8910Q7k6tUqb79bZH5CwFKGxpxzMm1Vf79s0/zf/vEtzFaKnG52cQXkrlWg9NrqyitQYh+EdNekf13cY2JUkSeXfQK2aTv2fOvhyVOra9SDgJGo4jSVbTjtSDkqxcvUI8inlmYZzOOqYchj+zdx53jEzt2kA6jlST8ydnTPDk3108hjDHcPz3Ddx87zkz11g4Zvx7sBvIbgFFL1qxJN5wKJHBZqB6iF3z388RKCJMVTOWHEN5eTPxFW3jMTzvPlcJAy8GLLOfb+Xm0fxTh3+kogAlHjeT22IVMz7TBlOz7mgRLu4AN1hUGmS0Mst6CKikyewnUsMF/63MNmtx4KCJrhSpSat6GO4JECkOmDNJTCNMeOqaHpU6KjLrI0Ie6Qq+8uwxa+oehXME3s8c1ieXnzcD7XAQPWLOxfufp9kM37MIppwZGWWCfK8YsJdX7bYx/GOFZszJjDL/5yksIBIdGx3ghXhh6mW0N76QpX7t0kXLg08vtoIb/9OLzfMfRO3n/gQN85NBhzjU2eGlpiVaa9BuHtDH08hSB4L179/Hs4oLzDjfkRvP0whwr3Q7jpTISWOv1iHwPIQVCa7QxffmeAULftuz4UjJdqTBaKtFKExpphkAQq5zz58+5gqOm4gf4UrrA2iPXms0kphIE5Fo76mYQDKWQaKNppwlPXLrI//WLf84nDt9BJ0tIVc5XLl7oLyKivyht+wiMsb9thVuk0ShnOlbyfMLQY1+9zny7RTUIuNxsstzp8Ni+/VcoZqQwfPHCOc5ubhB6HpHnk2rFUwvz7KnV+NsPPdqvY2xHM0n42ae+wVq3y0y11q8xaGN4dW2V0xtr/O8fe7zv/ni74lvLIuwmwqg1KwkErPa54IB9R2HEWKqjUEtI127uYzo/j1YNy1sTOr+Q+s5BR1RskOr+Fqb9bzDN/9ny6eoygyLhsJd3QfMkbDXFKrLicOhciz8wCOg50HHP30qzGAPGSDQBEoUniqYdMPhIDAKD6lM1Xexikg4dXw0d82pBfPjxYbqnZ19v2la9oi7aJqbwg5CfwGhn+erN2KEc6jVbn9AbW983P2//X5h0bYcIQUirQnKYb7e42NhkolxmqlIhkB6ZGhxTG0MjiZlvN0mUQgrBXeOTVPyAz546yc8++U0Spfhb73mEH7rnPjwpaCQx7TShm1nq4PH9B+nmlhLRxronRp7PSFSi5PvMt1tcbjWZqVbZXx9ltFRCG0NuTP83wQCdPEcbuGt8gk8ePtp/fLZaRQjbjp9kOa0stRON8tzZ1fbI3A7CGEM3s8Mv5LbfS2M0qdb08pxUKV5YWORrly/x+fPneHphri857N/OHczP+umDG05RC0Iiz2OiVGaiXKbndPOL7RYXGps0kphWmvLC0uIWmaLSmmcXF+nlOfvrI8xUa4yWSkxXquyvj7DZ6/GZZ56k4/xvtuMPT73KRq/HvvrIFsdEKQQz1Roekl958fkdF6PbCbsZ+ZuAMcZy2/mrLgtedTGpoCmgL8ErZHuibv/27gbTscVKcC6BYucgDvSDWPrnEDyCLWYGDOR5LQaUSMIg6x4+F9xjmkHhkqHHh3XbwwqOAfduMGAgNyECQyBiMJLcBEgyhHAFLaEQJt+6BtwwivP0gPGhexXZ++cfxvqqt4EqOrUj6FDzoF92mXlgs285g8ovsKmP02mHhF6LyXJlS/OLvRXjtlmpbGekLLRa7mMSeAgenNnDM4vzaAyR57HW69LLM3wp6WYZE+Uyd05MEHk+B4NRFtstfuvEy/z4Q4/w0cNH2Ixj/uzca0xVqpQ8n8DzWOl2mG+1ODAyQjfLWG638T1JO01sgxAxQkpCJzPU2gzVIrYi14r5Votzm5toowk9n01pJYOh9Ci6klKlyYQi8nybQaMHS78xtubR/xSsCibVA0mgRLCgcpbaLfaPjPC1Sxe3uDXC1irO8CcqwHL4aYLShpLvU4tC5lot4jxnolxmvFTuc/mbcZdOlnBPPN23wl3pdtiIe7x/32DAeKoUG3GvTzmtdNo8u7jARw4d3nJezSTm2cV59lyDOhkrlfqy0juu0gh1O2A3kL9BGGMw8e9D979gZ1jWsMG0hw2SBZfrgo2JLdUhSkA41BTzTesVol7kqs59gO3e7DnuvAz6lH1fz4DatMckdX+GFR7bv9x66Oc5O6PI6Qp1SdHSbl+rjET0xxNAZkIkBoVPgJPXYa6+Jr0uhqmW4Syu4PedvLIwBSMG04X4y7YxSQTo5Eno/QZW5z4LomNpL9NBZ6u08hFWemXOdT2soZfNvg6NjnLX+OSQYsXbwrObQegBYLJS5bF9Bzi5usJm3GO918UXklwbxkol3rfvwBYOfKZa46XlRda6XSYrFT5w4CBfuXQBX8j+InJ+w7bmC2wmPl2t8ujefZT8gEzl/P6pV+lmGWc21hDYgGW03pGg0kAjTWx52U0t6u9vhP0UlVOTCAOptlSOcYZaxfFybS1wldFkSqG2LRq50fjGY6XTYb7dIpCSLMudjt0eCwEeEmO2hngNJFqTpSlSSDKVc3I1xZOS2Vqd0PMZLZX6GX7Jt/TVidUlPnTwCACn1tao+AHTlQq5Vry2vs5l13BUDNHQWvNL6TN88MDBLXz5XLNpP+lrcOjCUT/nNzd3A/m7CSZ9Gnp/bCmPYvqON+PUJjkDKqHoisysckQEEDzsePOSLfZF3+e6D9XWRLj/ZoZ+l6QpJvG0gZqlFIwBvcRgAs9NuUJs9l5mwJlLIKOj6uSmTMnr4gmNxG5XlSucSsxNzMSLpqAeg52Csf8v+HFRwk4w2gC97kae/jaIaVAnrVpHjIE/iTGw1Gkh9AbT0QbIVdayg4DNPM9tbpLkigdm3AAP09ni3z5dqfY1z7bhJuXe0Yt8fPJlknyDSy3D6dZdnGxM8549s1dI4YppPE9cukDFFUMfnd3L1y5bj+3NOOb0+hqBtIG9HAQ8NruPiXIFpTXPLy2Qa9e1qTRaq6sux8PIAVyw75esjdmyBzNApjW+a48fzpxzY0hV3g/K/f2mC3DCFWW7ecZoqeQsfz08IWhl6RanRd8VYROtBp+wtNcqhe30jJXCd9k5QOT5zFSrLHfaCGf0tdjp0E1TVnsdVrptRsMSnz9/jo24hwCmKzVKvk8nS1nv9WinCWc3N/j+X/tl/u4j7+W7j91NyfevWJSuBinsxKfbGe+KQG70OiZ91npyE0BwHyK497rnNV73+xgFyZ/YYqOatwFFr9mssE9vFFmjk/bJUdse7u1lYHaVgqgiwgcxwQOgPg9maEK9vSigbbXfpgUy3Op4aDIX5CP3vi1uLhJ3XOv+JzCUfUWq2mgCDBKEJtMlpFA2fxb0M7A3h+EvVqFvL/LIIjse1pS7AjPC6tLTZ9zit2G58aG6QydP6WYZgSyTZ4qKOMtLzQAhq4xGJephyHy7xf76iN22mxaEP9g/m8OjY+yp1mimCfsqHY6Vfg+lNmnEIb1MUvZiPr7nm3xops4Ke+mqrdK1bpZyYnWF5U6b2VrdKUwyXlxappXGJErRcxa2tTAEP6CZpuxxRbf1Xg9fSkJPotIUdRVK5WrYHqB3uuP5VY5XUCn9PrLitcYgpaQSBLTThLFSicDzbPOPEdTC0PHsNvPPjUa6t/CEYMQVLZXRJMra7VqJpWCl2+HwqP1sa2GEFIJGHLOZxcgMLjQbgCH0fJtRa0Wm7MzU+VYLKQzdXKG03aVKBJcaDf4/X/sKv/HKS/w/P/UdTJTLg13INbaR2hhmrmKIdrvgHV3sNEahe3+Eaf73EP+Zk5SdhO6vYpr/L2s2dTPfL79k2+/Vom0Hz0+4QA52SEIdq492WbecheCDVps87FioNyH6gF1oav/Yjloza1aqqJ1k0TTABJY+0Qugu27wg3bXeQY7Ti1xfwom8mag8FfR2EAZAaME0gdh8EldwBQYBB015pTBNxuF1l0M/SkKqcXPXeu+8CF9AuvJct7e76Ev52bPBstGosi0ROmAO+rL9LKc+VbL+n0LycXmhm2i8g4igrv7rxdC8MP3PUCeNzjo/SabcZuVeIzc1EBEdPISl9t1MCn3lX+PQAxUNHGe8eT8HHGesbc2wr76CDOVKqfX1lnrdUiVYrpSZbJSoRwE5Nra0D41P8eXLpzj3MY6o2GI0ppWElM00LwR3IxS3XBFJTemT81oYzP6TppSj0q2CCwE1SBkulK1xVrPJ/QGTVF3jo8zXa0NyDzp9SkOZTQNJ4uM84z5VpOFdptuluNJQT0qEecZU5UKd09O2ee7DtRAeiitWI9jMlVIMaEU+JQDew4rnQ7/3ef/DF9KDoyM0kjiK661QJLnRJ532w+qeGcH8vhPIPm8DZjeXuuOJyfB2wcEmM6/t8F3p9caY6fT5+fsBHVzbWrCGAPJn9mFQq/Z4lrfTKphs0CdMShC5pYG8bd5ZugWiAgRPAyAlFXE6H8P4fvtQAXvEIgpd/zEEpiiCqIM6VddS37OQHpYmHQVOoCbgWJRKIF82C5GZEhRouyXyI3PejpGKx+hlY/QzkqIwutF3EBCfgUKCeJwQLc0T3+KEXWsJDFyOyMFusPwbFBjoJnGlpqQEiEkp1oHCKRib6XFTLmLUpuEYhWdz4N3GFH921fs6I6OjfO9R3oY06adVci1JslzlLFDl+tRSGpG6GbrTPqn+687t7lB4rxUppwM7uzmBnOtJpUgpBpGNJOEehjRyxWdLKWRJKz3ury0ssz5zQ1Or6/3gyfGvOFP+q3SXCitSVVOnGUsttvEzoFwJLK+MamyRXffs5SREIIAS6NcbGyS5so+z9FGVh1lSLVmpdNmrtUkUTmBlCAM09Uauda8tr7GSqfLvnq9PyfVc81Sscpdpk1/hF3k3CBtEbXCQrvNn5w5zfffc2/fMXI7EpWz1Gnz/Xffe9t3jd7eZ3cNGL3pBu7uMKsRLH+tE0z8J4jaT2x5SGenIP4T0JfAuE5BOYKJPoUI37+zXCp9yk2JL9nnU6zixYY1w7a/lxg022hIXwRCp/t2Y8WiD2DSr9s5knIPwpuC+n+LSb5m+Xd1zh5DjoD3ABjnINiXGhbqlGEjqzcbyHcqlRVNQQZEcU2WkfXlKLVShSDvkqsNRuQCEk1RL3or8nKLwk/GNUshGAx1TiG/bHXhxecylI0ro0mVa5rBoIykp8qcah7iy8uPcFf9EiUv5rVWiB8+wqN3/80dt9rGGGT+BPXSHqIwJHHyw8jzSJVipdtFIGimZabKz7GYvYdcKy43bJPNXWPjdganMZxYXcF3TTxgC3Nrzue74GM1IFzQbmU20HhOBnotBf7bjVQpe7+UsvSVJ8mVpuvkjVIIpJB4nuzvqZbabSLf77s2Aih0oY/CGMNCu03Zt9SJLz0my2VqQUAvy5golbnUbDBRLnPf9AzzrRa5tvNTC15eY6xvehDiS7mlGSmUki9eOM9fvvcBfvLRx/jPLz7P5WaD0BWbU60IpOSv3f8g79t3Da/72wTv3ECeOvnetRQfYgLyUxi93jer0slTVtUg6iD2WVNpsNlc7zcxagHKP7jli2y58T+zFIhadFy8wWbfRaGx0Eg7blnusxSKOouVIrbtouEdgOw85Ocw8Z9BcD9U/ipCjmK8Izaz76tcMjDnbYauTzp9c9FSL9lqOftmMOwuuF1P4Nrp1Vnrcw6Ol19GklIWBvyctzecFDuRgvEdGndnms4w64ItLJuMwi7Bdjva9veSlzDfnabsJZxuHmK+N8N8z+6aVrptvvvY4avypa0kwahNpJyl7Ikt0+ZLfoA2sB530dqnmq3y9cuXaCYxq90u98/McMQ587WShDjPXAZqobWhk6VW7cFWjdEwFIZIisEQqFsIM/S3NIYc29SDUlbtKT2qbpFTWhMKb0uDkHLNc0XHqOdcG4e5etuZYBe6WOW0O1bVkmtN5Puc39zk8f0HODw2xmqnQ6IyN7nIFm4rYdjvCM21puoGR0shyLWhmcQcm5ziX370E5xaW+X0+jrGGA6OjnL/9MyWz/h2xjs2kKOXtvLOO0EIK9vTDZAT6PwydP4dELlduk9/gLCoWM/u9AkI7nb+1Q5qznLWcp+lOPrb+iIrLDLwQkeQOf46sLpxvWlfpzPQ5yBdtEVQOQP6GxiTYPz7IP4v1klQTA8tMBno0+5aPawiJnbnUCg5nEHVG7+JDHLo4WBe8NGFIVfhrNhgQHXcCphtfw8tOET2nstZu/iYzBlqWRlc6EkkMYkKWU3GGA3bnGge7R9ZO9ri7omtk3GGoYwhNSGBzNFs/YILAePlEkIYFltrrMWGS81NakFI4EkWWy0CabnWTCs8Icn6sk5DL89dYBM7Lq3D6ObXo1d5e6GhX3zVwGaa4GGDsicFoe+7LtEBEuedPpBEii2/gb6UlAMfYwydNKOVpExWyhilWUo6hJ6kHkakWnHf1DTPKcUoJS40NvsFzFAOEj1tzJbh0XbhsDuCwPO4f2YP9xeqJYdMKV5dW+ViYxOAQ6NjHJ+cumJI9a3GOzeQ9y1QXwfG1eXiP4HOr7guysrgQTltg7br5kPUMfEXwL93kJmZ2FEwLgsUY2DchPt+QC86J51UzjgnwfykfT2W47PHaYMuAcv2+PE6eM84z49oEMTBZZdlG6S8g+5cumzRqt9QVr5TuHBuiqLOYHpQsfN468iTK9tGXg/FfZduB9QF1u3/zRLkDWCcQPjU/JRmVuHE5hRTpSYvb97FYjxC17WVp7liolKhHoZ89tUTnF6zGvM7xyd5/MAB9tbqVMOQS91j3D1ymtW4RiNJ7Pg0IaiHIQaYazWZjno8s3Yn05UqmVb0ujmR9LjUbCAE7K2NEPkezSSm6+Z2JsoGZ2UG0rzhq7xdaJTXg+8y6qIz1WBQ2uC5TDzdJuPTxuALaw+QmYE6JpCyL7VMlaLkCpUAU5UKi20rR1ztddnsxUxXa1am2G4TSo84z+3i7c4hVarfIauNHdt3cHT0qq37ACdWlvn1l1+kk6X4buefm7NU/JC/fv+D3DdzpWf8rcI7NpAL/x5M8sS1n2QSIITsGUi/zsCnZGhYsF6zjwfvtT8Xo7b1mwRjXOu7KIHQjlrQtpiqHN/dp1UG7oD2tuZ2wTAxtuUdF8Rd8DErLphXrGLFNCG6wx5rS+9J0QyDa8sv6IUiC38rsrPUvqeZxAbGoiv0aiK2m4U3e2wPbZZQukemNBvZJCXPpxL4RLJFJKqsp1MIWWW2qvjiwjH+9PIRGum6u7uCahAw12zwP3/9Ce6amGDSTar/xtxlnrh0gU8cuYPvPnaccuVDLLefoZnnKBM57tUORmjEMVU/RwjB5fg4JT+gREBW0Sx32kwIwcnVVVY7XRbbbdK84I+vDNTvlMC9Hf12NEe12AZSu+MYfs7w3irf1ijkYQ2/Uqw6puIHfTOx1M0dDT2PROV4UnJ2c52ZapX3zMxy2l+jmSZ0shSM5/h7+l2iBuuvMlYq85fuuOsK+4ECr66u8AvPPs1EucxYaXTLY90s5Reee5qffPSx20bN8o4N5Ph3WpWKbliaYjuMsQ0h4XttF6XcB1xkS64jBIia5VbVvG31FhrUKqb1r602WUjwjrttY89m1Qi7hdeLDLxVhguObiiDibBWrUWmXtAjRSYfYv1IunZ6jojsNZmWO/9Nl4Fr+otB//yLeZZvBQq+/zKDr5zkdg0vmhSt1gCIPM20SEhNiTPNI3T1MR6a7BJFs/zp3GHwjnO60yDRq9TCEF/aGZPrcY/AeGRac7nVYm+9ji89KkFAmuf8l1de5IsXznF6bY2quJefuPtZyr6kmVVoZWVaecJU1EYKwy+/9hAbmcdoyVrWjpXKbMY95lpNSr5vW9uF/X3JtH7Liaq3M6PPhuiV69W5F3lLkSZojKtpWF67l+ekWvX5bWUMs7UaFzY3iTyPjV7Pmnz5AaOuq7aXpTy/tIQnhPNzz2jEMb6QTFWrfNddx3jf/gM7no82ht868QqjpRKV4MpelEoQoo3ht0+8wj//yMeuuhi8nXjHBnIhfKj+GKb9GauvllODwqeJQa86UyTPFQ89q/PWa1xx2aJsnQnFmPVAMU3wDrvgb+xjagXMBazczQ0hYNZy2n2XwYLDNvZ5wjWW2JNi4HMyrIqJ6Lf4m8xqzpO/sHy68N3jhRPhzerehKt/va/287ci3LxRKmU77LYZo/t+3AaBEIaSiDlQXqSR93hu9QiP7BGMNh7it0+c52xjg1BKlDZ0tB2aIICjYxNEvk8zjZlrWh/wbpbyzMIC7Szh/OYmx0ZX+fa9F+2EHb/J3SN23Ntit8TvXzjGV5aP0MjGKPkZ7VbGZLlM2Q/6WmmlNR2dUvF9tO/Tya5ht+two0F4+PU3esdvBrZfjwRbMzADu4FQehisza3SisAL6GR2pJ3A6tb3j4xwdHycU2tr/Uarjx46zOP7DzJeKvG/fOMJfvfkCdZjO4QjkBI/8BgtlbjbTTTaCec3N9iIu+yv75AgOtTCiLlWk3Mb69w5ceU817cb79hADiC8/VD7+5jkL6zBkXG/BqIMpU8jog9h2v+G/uR574AzqWJoD+gGCet1yBeAni16FsVDIbET40che9L+XDccDVO23inacdamsGiVjoffiYootNGZVbKIGja4uyYc08H6bTuO3eRYjvpmf/22f522Fztvpi79arjxaxokfcJ2mxqDwTae+DKn5GVMhedpxHewJ1oh1YqKH/SVE/XIuu6tdLusdDvsq9cpewEXGg321uo8vTBPrjVjUZla9Ao/fPhFMlOnqfaz1FB0V2NKnmY06DBTSWgkZWKdE0iPQErWel1C6fXpm6J7caxcYaXTvuHrfyPwsL4rpnA4ZLDPupV7rYJeKf7tC2F3Lnk2eNzdt54bW1cPAh7es5dqGBJIjx9/6JEthcrPvXaa+VaLH7rnPjKtSHKFlLZJKdOK3zzxEvUoGlgyDGG12+X6akGGtV6PO2/0BtwEvKMDOYDwZhCVv4HR3+vUIR7IKYTjwQ2ulVlgaQtv2g1bqAOJHebQ/zXObGAVnh0q7B0eTGyXPgQPgd4AT0D+tCsEjlh5IGPABTBuKDKuoeeKr4jGfqWcj7hp0PfoNsJarIpJoGOpIdq8PTnU7UmbXBvDreOWDioUxLlxTUoIan7CWmeJU2vzVMMJyn5A4BXZmKCdxtw10mA86jASlenpac63Ssy1rQtfPYwoeQmf3vci60kN37M+4p40GKyt7+Wu4GB1k/dNX+SLi0foZhlC2KJdN00p+4G1qDUQ+B4LreYW3vjtgAK01v0A/lZXPK4XgZQoRzEZrIlVz42DK+SKudIEniSUkgdn9jBbr+O5IinA/pGBX3g7Tfn8+bPsq4/gSYknZX8oB9jmoPFSmT88/Sr3Tc9cQY0UvjjXg9uAVQHeBYG8gJC1gYnVMPx7IP0SUAWEbcLhFddmv2x/ZopiZeQ8UQLLS6vzln93wwWQFce7fwqCOyF7xX4b8sxSOYT2uaZhs+3C8GrHr0tBwRQGWwbiPxgsOn2J482kU64XtyKoF7uA62d0tz57YBIggNxYf/RAJKQmQrKOEWWnRBpUk/dXlvjQwScJRIORMGMqajMWZXTykOfXj5Emd3NqY5z7xy8gyOnlgpq00rZU2cJmN88RSNbjCh+dvcRXFw/gSfvVivOcXNvhZtoYqkGARpDq/Jbc5WHh5u0CKQTSs/7uBluGktLKEbVwo+KEpVOkkLywvMRrG+scHh3Dl5KH9uzdMpbtlZVllNFXpU6goEYaXG42OOT0/QUOjIxY0u4aHizGWFHCgWvQL28n3jWB/GoQ4XsxyecZNIh4NpiLOqRt+3+RWT688K0GS6lQcsF8BjDW3yR/FehaPl24yT/BA9b/RG2ALNkipxaOJtkpkBcNPcUviVO8mBX7b1MUQ2/lV/1mwckxGQE2rnH8YR1DYT1w7UVse+g3RqLwMEYSiZjMhIAdT4dRxOYQU+UuFxsNAs/jYGWRT+//Ku0sYtRP2FNukWnJelqlJDMeGn+FsXCBZ8uHiGRONwuIlUKnCTVX8FJaY4whkB6J9hmNekyWEjazUn/6jcZmwp4nOTg6xrnNjesuBL6bUXxunrQdn6kbdRc64y1ltL2/DLo1M1UUPQ3PLy0yGkX8o8c/sOW4a73ulolGO0EbgzCuycsNBUndsWdrde6YmGCu2WSqsrNZ1lqvyx3jE8zWbo8xcO/+QO5NY0qfhvj3rWZcuJXbNECOAcr6s4hR1xo/jNAZWPVcwXPO6s3lfts+D/StZEUFuAzazZMUNawVbIeBSqXgx+HK4F6z50KTgWrk3YBiA9/m9ReJ4stX7EacjPMaMIA2Ao2PKRRBAoRRSDJiVUGYNpd6d5Bpn/31ES5sbiLI+eTsU7SyCpNRg+moTSO1clNfQteE+Ghqfsq9Ywtoo2hnJesDkue0nE5aaVtozbW2JlIGIheYikAENsO8Y3yCkh/0uzd3QT84lzwfIQTlwMcTkljleAiQEqE1nvNEV0ZzYXODPbUad4yNM14u83uvvsrff9/j/ey55Pk7moolKmeh1eJio0GicnqZVRVFvk8jifuvf3BmDx8+eJjfPvkKS50205Vqn37RxrDS7RB5Hj983wPXdE18O/GuD+QAIvoYRtQg+ZwLxgLUOpCCd9RKGYldRyCDRNmZ+KAbVltuApDBVjtZIcCbdYqTeyzFYtpgUmwQLzFop79WUGq/zuPvVBSM7LXUGcUNL7TqRa42fD8KnxXBsC2CEHZwsDIenijGlNnGGk/kZCqhnZV4ZWMf652vcHTyDu6aGCNPTxDKmFiNMlNao5dHgHYNKgYhNEr7jIYdXt0c5dhoi8CTdFWFVCl6uQ00A5mdwRcKZQQLsU+qMkKnMS9JyUhUouLavX3X7HK9ftjvZoyEEaXAGlr1Ovbzbmep/Y0QAqM1kW/9ynNt9eNR4LOvPsIDM3swxnB+c4NLQxTJ8akp/uj0q1uokXaa8szCHEmuKPk+Fd+nlcR88eI5As/n4ZlZDoyOoLTmxMoKLywv8kN338ep9TVeXl7qH8cYw/0zM3zPsXv6Bmi3A94RgdwYBfkZZ0ubg9yLCO5DyOvzCBZCIKL3YsKH7ZxM08bIL0I+B/4+96yq5bfVElY6CGinIlFft8EZA0xAdsJZ0w59kN4k6NBl+QGoppU6CjegwYDNtnfigAvt+bsR17O7MNv+LbALoJt7imf/iLotROtNisVBIBASssxD4RF5CUIoPGHQRjIWdBkPMz65b4759hmkeI5HDk2zFldRWoBeJ1M5sZJEMmciSoi8lOJzyrRgqtRjMy1T9WM8oYl8j26WkW37HKfLXb66eIBYOX7cZeMe1pu7mST9ppb8Nh9U8HYh8CQfPHCIsxsbxFne7+T0hLByTaHRRqON5bUBRsOIpU6bu9UUgWftb19eXu4H8n21OkfHJ7jcbDBTraG05rnFeZQ21KMIMKx0u2hjn2uM4ZXVZWpRyFipzHS1SjfL+P1TJ/nnH/k433/8Hpa7to9jplLtj5m7nXDbB3KTX8J0/7NVixS+GiLDxL+LKX0XIvzIdW9vhPDAv8P9ZwTT/lm2TFoP7mUwLCJwBcwh/2tvylIwehHSJdsNWlAsogJsQvW/gd7vQP4yUB4qeKYMrFWLQmf/zLgyuH8rwzVfAYMMvag51Id+Zp0gJZpaoDAmJ1Og8ci0pOQppJR01Qh1f52u2sdqnDOWtnhs+hIrPdAmIpCSsTBjutTFkz6dLEC5Nu6Kn3Hf2AqXOqM8v7aXw/UN5rtVK3UcOt+pqEcrjfjS4qEtVyKAzGguNxscGRtnudPuB/Fv5U+9+ATXej2+eukCB2oj1Esl0jxDG0tTxSpHaW3njHoexmir/c8yOt0Of3buDLO1GvUwopUkg2MLwd988D387FPfZK7VQGtDN8sZiSIypZx6yDBRLlvKRAh86XF+c5OHZ22QrgQBG3GX5xYX+NjhIzccvJM859zmhqNzfI6Oj29R0twobutAbtQipvMZrBpkm5WkyaD3WZu/RR994wf3DoN/HPLTzuNEAD6ED9tAnjwDtEDsxzYA1aC/A6jaImf2PEQfBqdfRoDwDkH9n9lhF+Is/Wk1aFfE7OxwMjfj61wUT0MGmew7FcN9fsV1FAqews42cT+zXwYpauTk5CYmNxJfZMQq4FJngkRBLWgyGfo00ylWY80Lqx4PTSywkRwikJqxKAZCMg3K2Cn0YMi1pJVHHKpt8p/P3M+LG5N8276zeFKjjejPKL3QHuXXzt5LM4u2XIU9N6tYObu5wcGREfYGIWc31t92+eHthGHt+lq3i9aaipsoFDvr27Lnk0ltzbQMNJLE+pn7Xt+KdjOOubC5yWipxA+q+/p+LGOlMv/gfR/gicsX+czTT5LqnFYKJd/n7skpTq2t9qkugLLvs9LtkCnVn6E6GpV4ZmGejx0+8qavUxvDF8+f4y/OnyXOB7vu0PP5+KEjfOqOO6+prrle3HAgF0IcBP4jMIv95n3GGPOvb/S4ACb+nNtZ7yDxEYENwPEfY4JHrPzwDUAIAZUfsdl+fho7RKFiG3BMagN78J2WeslOOZ+T4QNEthCq12wR1bRA7gEncTPB/UAHxIOQvWjVLiLDGn29FUG22Kr3rvms2x9FYXhY5Tx0z0xRCC12NQLbQFVmM61xudUilHCgsspKPEaqrdqhmwVMlzZYTmbwZMh6OophibFIMRrZlvBYGZct2/cKpKaT+8S5pOYLJsKE37lwnCeWZ7lndI3JUo9UeZxpjTPfrbG9iaRPEnk+qbKNLI04ZtSZN8XKDjz+VocG2llGJQjppBkYg/CEzZzdcwQ2KIbS0pQCQeiGRWRBwGYc8wenTvKX772/f9x6FPGddx7jpeUlNro9gmK4BfDa+hrDn5dwLoy51v1A7gnZNzN7MzDG8LsnT/CVS+fZU60xWR5QsalSfO7sa6zHPf7a/Q/ecJv/zcjIc+CfGmOeEULUgaeFEH9qjHnlRg5q9IblouXs1Z8kAtAak72EiD5w9edd7eWyAtWfAHUOk3zD6splBN4jVkde8OfePlfs1E6WWBzAc7azU1YFE35Pn+YR4aOY9AkXl6rOrKtmx8P1s/Kb+SW+HZqvbwa2c+pFdl4E7mToeYa+U6NuInWLkixRD3JSHRDJHoeqmaM3JInykKaNMTWk9Jjr7WU83MQYhcEOIRDCBopAKowRrCcl6kHKmeYY940v85vnj5GrgOfWr/F7OQRPCOpRxFpPIY0hyRWr3R7a8IbHtb2bkSjFUqfdb+vKnDkWDJZ02x9gaKcpE+UyvpS0soR99TqHR0b50vnzvH//fvbXR/vfQ6U1nSTh+WVrpSCwQbvlRsNFzqtcuwEew9lxN8+4Y2z8TV/Tuc0NSxvVR68I1KHnsb8+wjfnLvPQ7F7uvUHzrRsO5MaYBWDB/bslhDgB7AduKJD3DateRw+KCN30nDcHIST4dyL8QaOtyS9hkq8OniRr4N8F+SmgMtCaIy3FoucgeBARPjh4jXfADo3IXrZFOrSLSTX7mhtWqBSDkd159Nv83y3Ma5GZDwf14eBd/LEOlApNKHMmopz1ZIyRoIXxLFcOIDGMBjHHR+d4ceMoOSGdvMq51jhj0Wkioal4CRqJh6aX+7SzkLKfs9Stc6Y5wVgUv+E7q5xGGSzFUg1DaqF18msl8a4McQip1kiKzkrTH9MmDeS4+aBao9A0E2tUd3BkBF96fOXSBVpJyv/l83/OfdMzfPLIHbxnZg+/eeJlLjQbJHnOeMnulpXWbBrDpcYmh0bHnW49Y0+11s/GjRsf98GDh65xxtfGE5cuUvL9q2bbUtjB0l+6cO7WB/JhCCGOAI8A39jhsZ8Cfgrg0KHruTny+pomjOaaU4LeBIyoW0dE7drjRcXSOH4I6jVLqQhsIVPWIfoUovRt1sjLwVI3fx3T/XVIXwBy58lSAQov8xCrVnkzmfTwvRluHrpV3aA3E8XCBAPtfWETHGIVLQEIDYyBMSi9QSsfoew1mC2vAQZlimze9n3mxkOiuGtkjufWDmCiHi9vHmeqbBCmxUTUY7a8RtXvUg1yQqlo5yElL+XO+hrtPGIi6rGeXH/hS2ALXcUn3EhiQt9DK903a3inf1o3ExrwjMETEmUGbfvDVRMhBCNRhBSC+XaTRhpT8UN0aKgFIXGe8ysvPc8fhCUacY/7pqZpJQm9PCPyfQyG6UqVS80G860G++ujaGM4MjYG2CC+1GlzdHycu27AEOvU2ipjUemazxkrlTjjphLdiCb9pgVyIUQN+C3g/2CMaW5/3BjzGeAzAI899tjrR2hv1gbooZFdO79xhvCPvdnTvgJGrUD3V0AvWMmhKNvFglet5DD4MNAEnYBZh5F/ifQP7nxqIoLKj0F0CdP9betq6I2BatnX9jPMN5NFDwf/4ez+3RAWribHLIqdzo/dTIG/B3QbTy8y4itCmaONRggoeRm93KejQjyhaaYhrTxiIsqYrfaIs4yVbpdMZRyvr1DyFeCxGlep+gk1P6UettlfbWMMnGmO8X96z9d4cWOG3zl/nE5+pcXpMGzwERRu2wIbJDpJSidL+0vUbjDfCgV2+IP7f9GJEDnnQ2NgslxludshznPGShU8N5Mz8n3qYUTFD/jj105x99QUnpQcHh3ja5cv0U5TPCmQzpirEScsddo8tGcWgWC50yHVOXeOTfBjDz1yQ4VIG5yv/Zzi4eH2lTeDmxLIhXWo+i3gPxtjfvvmHLOMCR+H5CtXKlYK6JalLW5SIDd6A9P5t7YgGTzi3A4DkKEN5vlZ8LRtIBLzEH37VYP4AClGjEHlB+xCkH7BWtSaNbaOZ9vuQ1d8vX1sFvpWDZG4HfF6i5oL5KJjZalmE2RISIzEBnFlrJ1t1c+IvJxmFtFIy3hC4gnFvaPLXGrX+f5DrwA+42GbapCigfHQkGkIPIUynl0YgIlSzHTS5f7RVabu7vFvTz5MrHZOMiwxJNw44cGXVGlNI4m3zOTcDeJXYntqM5zuBJ6kl2dk2hppNZOYyLeKsmLiTydL8aVkvtVCAGc2NpgolxmNIhpJYpu6spxy4PPRg4c4Pj1NN8uYKld43/4DHBkbv+EC5JHxcc5vbm4pcm5HI0k4OHIlh/5GcTNUKwL4BeCEMeZ/utHjbTl29G2Y/KzlwOUMFNSFMS6jzRCVn+o7Hd4oTPwlMF1LowAEj1qJoW5hM0Btg3t+BoI7QO7F6M6OjUkmP4tJvgzxN0Bfsry4NwXUwSxhKZZiOESxcSwyzmHP8sD+W0xix8tdz9f+3cKTXwuJ+z2wpmOCBGE0TtSAFO76BfgYyjqnHqYY4xFIjTLQzMdZTT3KnqatQhCa0dBKN0MJmZZIYdDGo5X5+MIwW+mwGlfYX23xoZkFvrp8lNSZPW2HGsrEAynJtH7Xfyo3C8VCN0ypxHlOOQgIpPViEVhlSZzntNOU2VqdstNmK21sMTRJOJkkTJQr/WBZH6I7GknMucYm//Ljn6IWXnuH9UbxkUNHOLHyJKa0M21ijKGZxvzle+/b4dVvDDcjI/8w8GPAi0KI59zP/s/GmD+60QNbVclPYuI/heyb7ovrNqT+XYjSdyP8nad8vFEY07PvIYaKDnIcoo9Avgj5C1ZiiLQdoHIPJL+HST6HqfwYMhjsCnTyFej9Hqg2qFcdNx6DnseGGTdCDoO1v92uyIDBcGU7MwWzyfXnbtvDReR+9mYGNN+uKOiXxF6tBk9ufdQY4fq9DJ40ZEpyoXeIO6pLxMqnnUUcGa0xETXxREBqfDKtCT3r06KMJM59Mm0HVnhCIZHcMdLi2dW9fGz2Ek8sH0L2h/jaiT8eYNwX15OSQBgOVtf54PQl9tc6ZFrw3No0T67ufUN8+7cihslHsKoSI6yTtMD62eRaM14qbykYRr6HxppijReNPztACoEnJS8sLfKhGyhs7oRjE5M8NDvLc4sL7K2NbKFplNYstFvcPzXDfdM3PvvzZqhWvsKN0TvXhJAVROUHMPo7HG+tQY4jvKtPO39T0A2sQHXbLTGey/5D20RE6vbNo8Ao6A50/j2m/g8Q3n67g+j9HlCB/MtO91zwvYXKooc11MqwjoBFJuCGSfRRZOg3igS7YExgC62uU7Wf9WveXMH1VsN5q2i2cJHDvKNGIF1zz2ylzStNSdXvcK5zjL31OpUgIJR2ivpUWRNnIanq4QkPZTxyp3rpl02FR8VXCAm1UDFdylnqhnhSEHkBmVbUg5BunpEoxXTJ4wcPP8vR2jKdPKCnQnxp+Pb9l/nU3kv8xrnjPL229227Y+9EFDsarQ2jUZlaGNBMElKtCD2PO8cneHTvXuSQwq3sB4yEIZcbmxwIRnY8rnGJ4eGRMZ5ZmLvpgVwKwd+4/z2MhCWeuHyxb7Cmje1beHz/Ab7/7ntvj4agtwtCVkC+lbM4rqKSMS3nbli30cIUpZfiZVVQPUz8eUT1RzHJl6wkMn0SG6iLeZ0FB16EmR4DHvxqjog3Eyl2ZFzBsw9n6e/EIG6x0/ylIuhKYShcyiUQefDQRAPkCKPl2f52NzcBxn25EAKJRAhDIA2JFK7L0x40UVDyJZOlMpiEwAuIAh+tDQfqdVZ7PbSxRbdY5XzfoRe5o77KpY61FpBOUpfGIYKUv3HnCZpZyOnmrR8XdisxnAnu5ESktV2t7xgb44E9s/TylK9cvAAG7p/ZsyWIg1W2TFaqeFKyU8XRGEMrTTkwMkotiojfoi7bwPP4gXvu5VNH7+DU+irtJKUahhybmGS0dG1FyxvBOyaQv+WQE66zs0ff6hbsAArjgXS/DCaz80G3vzZ/Ca1WrG5ctZ22vQiShWtfgSL8+NA3hSqy9uF88mai547tuWPnDHYC72CY4b8KqaHpB3NPGJR7jicUiBLNfHILZ7mZlpiNQnKjbKFb+nhCYdyINindNFDhIQid56FCyDpT1VnGK3C51URhGC+VWO52CIRkX7nLXSOLzHdrfTc/sEHEnpNPM434S/vPc7o5AW/dxva2hYdACNvoU2CnCo8GQim5a2LCzd/0qfh2J1TfgdvuZRmh53H/9AwbvR4xOaHnIYQg0wqlNXvrde6enGIzjtlfn3hLr7MeRbx371VEGzcBu4HcQQgfE34U4j+yfuPFF910Bjp1k9sGJbmN0xISjLRuitmrtplpC7uXuz+ucNnP0jX2I0iH/v1WaxhK2My80Ga/neW34dLVzYExoI3bIxXaNMCIQVgHiTaCTl7nRPtjHKycwBMpytjhEHFuiKK7ifOXkMKgjE8gYrTx3KsNgVQ00irlIOdyZ4yy1+HJ9UdBeEgM46Uy05Uqy+02kefRzXIen1oiVQYp7OKZGz2kF7aTbxpZyKFai+lSj5X49rFFvV68GemkXWCtja/BUAsj2knq9D0DuWHRhamc93s5CHh6YYGjY2NIKfmxhx6mmSS8sLRI4EmqQYQ2hlaa4EvJ3374Uc5vbvCF8+cwxrDc6aCNYapSYf/ICCPOTTFWOR+4ybTK243dQD4EEX0Ik79qZYZyhv5EIeMKkSaF4D1X6tqNsZlc/EfYoFw0rhTGTkVQLx4bzrwKrno4I3+rgmtRICyCafYWvleBYhegGATyqw2MeBPXLkN0rpBCscXJ0h1HG0EzqxCIjOVkkqVkD4qQ49Wvs9gbJTeG45NTjFbGOLu6wYTfoSQTchMihCKSNr9vZWVy7aGR5NrjcneCVzYOoYyml+eMRiUent1LO01ZaLVY6rTZX8vR2GG/w97jhb+K7WKUGCOo+Tkrb+zKbzl8BKHvkWntxtldHyLpMVYusdbrUfZ9JkpltGu9v4IvdgedrlR53/4DXG428KQkN5onLl0k8jwe3bsPbQzrvS6+9PjkkaM8PLuXehSxz7XBh57H4W3t9kXjz+HRMe4af2sz8rcau4F8CEKEUP3bmPjPIX3CZeA+dprQrB3pJkatv4pawBY+SyDGsfLETfDuBP0Cg87EInAW6I+YZUC7DEsOi0LkW6EwKVpQiq/c28WNF6ZXzle8vyPZ3gz1RhcVH4FHN/cp+zGB1PRdKLGZeqY9PBQ9VaNWfYT5hQlOrpcx09M8OLHOdO0Qo2X7BU/FYc51cg5WFhDCIFEIUmIFvtAoYVjojfPcxmG+sfIg55sdCqXKdKXK2Y0N9o+McGxyimOTU5SyVwjkvFVaKHXF3S72YEIYYnXjBa+3G9afRlP2fLom6/uVDLJtiyuaXoSdvxk46eBSp8N4ubTFp71Y7AwQSI/vvOsYl5tNVrtdDo6Mcmh0DCEESZ7z3OIC9SjiZx57P9NDo9mSPOdiY4OZao2vXLqALyQHR0YZiSJ6eUaS5xweH+fH3/OI5dLfwdgN5NsgRIgofzc6+gRkz0DytFPLxJb31i8MAjyeGwV31vLm/lGQByB/zWm+txzZ/V3oxl0QF65V3xRFz4I3v9kovkaat99gq7ieQpVTtOAX9+SNDtUoFj2BRtDVVVAGQ4oUxlrLYrPxrgpJVcBScoBS+S8zXUlpJhlPbnyChjrNx+RFSl6byAs4UE34k7U7ebr1oyhCZsJzlOUGa51FLrUjWvk051qjrMaWcsm1tVsdiUrUo4gzG+vMtZo85rjQL14s8eN3aWu56vlXZOYAoZeymZRZ7t0esx/fCBQQCEngSUQukMLKA3NtkIL+tQ5fcT0IOTA6SjUIWY97XGo2yLVisxdTCQIEgk6akqPdb4dgb63GXKvJpWaDahhQi6J+jSPy7bSgtV6HX3zuGf7JBz6MJyWvra/xH59/ll6WUQ4C7p6YZL7d4sTaCvvrdT6w/yAfOniYO8bH3/FBHHYD+Y4wJrc0SfpNG7CDB60/ef404IE3g+WaXbelf9wWRfMzEH4IwvdD/Fm20irDnLnLxsW4LZT6xyH5OrDOgPJ4y66Ore0WbzW1slPZytAfErKj0dfVzqv4ucGqbroInTMaSBQRiYZAZARSoQ30VEgvr3ApfohfPfsIubjIbK3OwRHrjreWv5dfeO0441GbH3vwQfZM7mft0knONteZrVa5FFsTtNxozvZWuNxssNHrEfiGkTCkFkZkWjFWKhFISRBGdNOUb8xdouL7nG7UWOzWGQ3brCUVxLbrkhgmox6fm3uE0VKJXp5v8WV5J6Ds+4yWyoxGZVZ6HXKlCaSV2Gmjtui0DHbIxnyrxUS5TCUI8IWwA62NoZNneEIgEQRuTJ4vJOUg4Kn5OSZLZaTvu+HLWzFZrjLXbHBuc4OS7/NzzzzFSBgxUa644rJholxBG8Ncq8l4ucyxyXePUmg3kO8AE/8JpF93RU+3WvtHIe+CSWzQlokN6P7dLrCn1rNcr2L16Puc/jy2j20p9JXtc0wX/I+BPwOZD3rYZ/utwNAiMuzx/bZgO4VyLbnX1YJ4AY2tP1RIDZbLFjkCQ2Yi1tMKl7tHuBg/xIa+j7ONgJfWL/GxgzXGSgNFUuB57KmN0YhL/PzzC/yzDx/jRx98mF98/hnObmxQDUKqYYDShsmKDTyL7RYTpTLVMGSqUqWVJpzZWGep06aVpKRKEXiSffU6Sa74hVP38ZN3P8dsucF6WkHlHgbDeJhQC1K+tHiQbyzPUA3t0OFc2dFm14uCxrgVvbwCa/VazuzgZE9IlDDunDRSDwqhAhv0BYI4z1ho5xgDvvMBL7J3ZQwKQ66sdvzQ2BiR7yEQrPS63Dc1Q8nfOWwFnseLS4us9XqE0kMIeHVtlblmA6UNUgr21ersq4/w5Yvn+cihw0xco33+nYTdQL4NRrch/TLIfYMgbowd7yb3YPXmDStTJLI6c1O1bf35nA3mInDJ+B4gds+N7SJABbyDzuP8MtAAVXRxFnrzt0q5MuzsUXD4b5fTx/Vk3K/3+iKYu/vkHWEtP8Zy6xITUYzB0irfbPwAC8nd9lXGcHbzEoH0qEY7yy1HSyUut5qcXF3hodm9/PR738/ptVW+fPECS502gfT41NE7malU+dWXXmBffdBgooxms9djo2etan0pSfKcl1ds6XIzKfGzJx/j0YkFPjJ7kbFyFwS81hzny4sHebUxQSAVZWNIVGHW+gbuyg69D29nUM+UYqnbYSSM7PAMpYiN/ayK5chDIAr5rhi01WMgF4KyH2Aw9PK8r1jxpaQelVjtdZhymbQnJNFVgjiALz2Wux3OrK8TSo+vXb6EMXYB8QJps/F2k7lWk721Os8tLPCpO97K3pS3D7uBfBtMdsK2Cspha1xl9eNCOn24m+Kul8GsQX7eZuWiDOq8fYnuDWSLSNv6Lz0I3wvSbenECFR+2B5PbQAGtACW2Nqu/2axXR0y/PV+Ozfww5z89YSZ7YXQQpZZvM7HDvPoMRtdotdr0lUTdNUEnsg4VHqJheQ4IEhUzmq3w8GR0f4QgZ1Q9QOeWZjnodm9+FJy7/QM925rnT61trpFf56onC9eOM9qt0MlCPoj3eI86995BXSygC8vHeKLiwcIvRxtJKke/H5ZxUUPKWzQaWfbxzpfHTtVPAIpybV+yz/hftXFGDpZiickxnmJDy9ICoPRtjDqDWnpQYDRBDIg0cp5d1sXw1xpkjxDSslaz0732Vuts967+gSsJM8p+QGZyjm5ukIgvf7oN3D+34Gd23luc5PT6+vvmkD+zmf5bzbMJoNstYDLknPnlSIi9xwfRM12faol2+avu/Sn1ogIW8jUNuiL2iCIG2Xje3A3MnocSt/u3mt46PCNYljyV9AqZd7+9fv1Qkq/Ad5hu4qlKAK7e44E0wSzhi8ypisw6l3kYPklfBlT8zcoyxYAG7EdQPB6vtK+lK87Q7MWhtZe1WXBFzc3bRD3g76XR6oUxtiZjAWUMU7RIUhUsCWIA4xFJQzW5Cn0farXMZR3+BP1paTq+5Q8jwAInH9I8AYc9Yq94PU+t/9v16mqtCbTVgK6/TglZz8Lbk9oCkdI47os3NAIY+9B2Q+ohAG+9NhbqzNaKnF0bByNQV2FdrI8uOY9M3tY7fVQxmwJ4sMIPEtvXWxsXucV3/7YDeRXoMQVdIMoVBYZAy8WMaBeBNjgsgH+A+Df55JJx4/LqvVpMR3n6QKYFQgeHcwalVP29bQYyPNuBMVXvSgOFh2db7YlP+Lm/LpszzU97D0vu/fYKYgNU0JFq0hhZRsyVhqlHE3Qyz0m/TOg22z2Gsy1mpR8n3umpvuueFdDnCdMV7caWBmjMbpt/xjN3lqdvbU6rTQBDK+ureIJuSVLj/MMIcQWCmC76HMYRTncFzaLniiVKAfXv9D6UuJLSTfPSZQiAzrKdi5m1zGYZTjAaixn/XrYLiuUgO+6Jj0pt6hApHtW6GZlyqE/xZAIbQxKGxKlaKUJ63GPzTimmSa00hRjDAdGRvvdmlecjytgPjy7lwdm9rDe6xG8jhIl9Dw24t67ZmbqLrWyDSI4ZqnsLc0lbpiBkDa77mMwMR29QX80XXDMPpa/4rJwF0SMhvwy+DlQgujDGN3BqAVIPgfe3ZC/zOBrfyMywSKDTbBfuUKrXtgBvFEmtdC1FwvEOLbpaZUbU9ls95rZzqUXX/+QgaLHTVYaMjibKJUZDSO6WYuy3+D+2aPcOXmUYxOT/PpLL/DyyjIz1a0SP4+UI5XnOF75Ov7UOnvqU+jWhyB4H6g5a1lcOHLJCYg+zqfvPMrPPfcCvpD0smxL0CrUEcXosJ3u8PD/fSD0faQUhJ5H6Ek6WUaSq9f95Ps9w9qQabuTKF4zrEvaIpYavq3bzudArcaeeh2lDc8tLV7jnQeQ2MCfuWsXWC+ZYRINpzUPPQ/l6B476Fi43Q2kubJdr7BFnqmMYbHVohTYxfjQ6BgA862mmxAk6aQpicp5YGYPf/W+Bwg8j5lKlYV2yxVFr1yY4jynEgSUg6BvYPVOx24g3wbhzWK841YLLkI77s04JYmYtJy40W6YcmG01XV/Zulz2/5By5Gr06Bjd3QF+oLNvr0KtP61fbk6B2ICwgdto5EpZpAOf5XfSFB3NrlyGvQKg6B9veZcw+81LBEMsD7qAQjlFrWC7rg6d/n6SNg62q1AsRjVXWNWl2JGp31eaeglKR4ZdT+DIOJ79h1BeNbW9JNH7+CF5SU6qTUsAqjKdb5j6uep+yskysPzSlTEBnT+E/AZEMXA7MgWp3UMvd/keOUYP3L/t/Prr5wi1QrjqASNnWoTeT69LH3d6anFUOZaEBJ6HstZRqo1U2HJZvlS0EwGdZKdjmM/UeOcAa2zXuBULJkxV6bO2w7mSdEPnBu9HtWwRJxf/6KssY091sa3cPXzKHuOo3fBvQjyke+TOB/xwqs9xxREZH+9Kf4tXWdXnGU8PT/PX7rzTn7mscd5ZXWZ5xcXybTi/pkZPnDg4JZBEPdMTxOrjEacWImjHMzh7OYpAsEDU7P423YP72TsBvKd4D9kdeS6AUQuoV0GSiDLIH0gANN2rMWk/aKLMn36QQjw99uRdXrNBiGdg1kC4dr95T7787xjuXWzwpVf2e1B+HpQyByHM9oaNti2r+P12xeQQrJYZPMZGA9LA/n2Hr2pQD4c6raracDSJ9HQjqbYpWT25yKySiC9Zmkso+0CQw3T+QWo/gTCm2FffYS/+8h7+cXnn2Uz6TEeCb53/2coe+usp3XKQchMObCNX6T2XEwXmAJCZ9mwYX8v8jM8Oj7DnR/5TlpxwjfnL+NJScX3qXoec80WueN6cVnnTir5gsLoqdxa3mqNUpqLzU0Oj44xW6txudVkqd1hp+b34lO1C4gpiCZy4wyoXmezJQx9PlsDidas97rWGlYI0uugHAy2gDgWlUgdR24tCzQSYZnvoUVEIAg8j7Lv00xSjHvMc88N3JzO/vojnI+OEHSyhOOTU4yXrafNg3v24AsrTzziujwLfPTQEZbbbWZrcGFzg1aa9E9jb63O0fFxNpOYTxw5+rrX+E7BbiDfBp2egPg37JfWNEBdsEFXhLheNgg/CqKE7fAM7GMmtsoTue2XQxQNRED6PKBt92df2pgCvl0g1BmKiTcDj/Dhr+z1UiGuyKmLgcXTIBru2LBzYfFqGC44Zgw4bEU/oAJX90+5Gq6Wrw5z4e4+FDui/v0o279NBso5lAhh77Xc64rLK5j2z0Lt7yG8GY5NTvEvPvJxXlxaZHPzdxgP1kiZYl+tRNn3sFOciut0n7VeAX8EqFvqTF8A7whk32Ss/u38Hz/0YX7mDz6LTnNajRYbSU4rAiOsLFEK4exzPWI1aI5xMdT6kxiDFJJQSjLHFRfmTgdHxqiHEWfW17bosQV2YIVy7ex950AD19NO1P/SazByUD3pZqkl4DyPkrFmUleDBKSUVIOA0PcRSpFpZbXwxmrhQ88jVxqknVxvsOZXyhjqYdjX3DeTItCavs1v8RsaeJKy51MJQ3731RO8tLxEohUeVk5ohGFvtc6PPPieviz0oT2z/Pm5M+RK89FDR/rzUSPPJ/Q8OxrO83ls31vnRvh2YzeQD8GYDOLfdFvqCjBmt9XkkC85zjuE/DSEjzlVioPcY7/4250RC+gM9GXLv27xTnaGUuoiVm9eKE2K7HPYx9wwGEixvaGneG7htCiwQysAlt1Ti8AOg4D5eoF8WPky/J5F0bEIsgHXDuTXy0MOb7LHAGcbLKQL3IuWhpLjluYS0i6m1KAoHIscvEOg1zG930XUfgqwqpMPHjyErp2CfHTwfNN1i3JxeW7xNE77LyKganX/3lEwGpOf48JGiSgznG21bRdAZHu6pLGZpDaGUArqUQkd90i17peLM6ORSpELgTa5DXTGoIBG3KOTpfSyjGoY4nseJRc0U6WInd66qHQUp50zCOjXgnaXOEyeYQypUgghkMIWUKsysJ2mxlAJAgJXsOzlOTPlCtUosva9WluaQhSLi3V4LPs++IJyGNCOExKVU4si9tVHOTo21jcXa6ap6wS1fHUgJVJISr7nsvGMuNdlrdellSQcHhvn0Mgo5cD6yG/GMf/bk9/gH77/g+yp1aiGIT/56GP83DNPMd9uMhKWiHyfVClWux3Kvs9PPvoYY6UyxhgW222Wux0A9tZqV9RS3gnYDeTDyF+znPjwsGfhCm3+AaBlv8xq1SpQRNVmf2bDBpPwE46TnrLZIb7NFE0G6jUbgLztgT602Z5pM8h2DYOByxkDtYhgULysu+c3GAS+4TKTyyrFXnscs8ZAdRxhg+7VteoGaVNLlBXo9HcGRWZcBPXCP2WYkC38YobVJoMjb8Ww9qH4d5F5p4NMW1RAuw5ZL7K2BtnzdgHtWw4DpumGcUtb08jPYNQSwttjn2Jy0OtghpqDdNced0shu1DGuJ8JD7RynxN87dIZPvsS1M62ODYaMR9mdIXuX7UESgZEbDCRJvJ9QmNVLYWapFBsFPrqYW+SVCnmW02qUdTXqAshqAQhUkgqQcB8u4VwRfntHi7XwnbiTGCbaXKtLOUiNanSBJ5HPYzIjWZPtUboebSShFwbpms13r//AC8uL/HS8hLG2OxZG9NXrmRaM1OtUvJDRqMS909bmqubZcy1GpSCgF6e2e5Ody9whdB6GBKrnJ5bSLTWVMKQahByqbHJQqvJY/sOUAtDxstlljsd/vD0q/ydR94LwGytzj/94Ed4cWmRJy5fpJEk1IKQTx65l4dm91ILQ+ZaTX7nxCtc2NzoyyiNMRybnOSH7rnvHRXQdwP5EIxa5KoSOyHAvxfEKOQvWcpFTAAagrst3aLmoPtLkD7jYmvJuiZ60xA9DtnJK4+rL2OLdk33g8IdELbSKsOdnwGDfGwSy08XRcDiGAGWR+6BOOC6R9fYmpUXX+NBIDaAVsKuTyg8D9DGLgGeh+hn4EUuWBxnuGlH7XAfh3cYatvPi78LeqagliQYx1cbBSKG8vfbx/KL9u9+EE9tBu3tAf/Q4DND2CzeBfK+AkZ0tp2DcFn/8DkX93sYmlhlfG1uHW+1jCckM0TMpCFLMuOyn5ALm5WXjSRShnIiCCZHWO52yLQiV4pQSkLPI87twIPMZcOeMUgnKRTu1OI8oxyEdNLU6dQNcZaC02NHnrdVA/8GBElCiD5HXRRPy35Aoux5KmdPuxHbyUfdNENKwX3TM/jS45HZfRwdG+fM+jorLqtNchuAJ8olVns9ulnOVKVCK0253GwQeh6B9BirlbnY2GS100WLoZ2BUax2u/hS9AuVCqu396SkFkb0soznFhf40EE7M3WqUuHEygrrvW6/7b4SBDx+4CCPHzh4xXVfbjb43578Bp6U7KuP9Dl2YwwXGw3+1ye/zt9/7APsqb0zgvluIL8C1/gGFAVMBJS/B+EfAVkHfFtcU3M2U/TvBbUOtCxd4t8F0SchO2E7PtX5AZWiW/RtcPuB0BpCDQJJkYF7QBNEDUtwdrESvMI9McEuChX67owmBZmBvxfy2B23oGgEg4Ujw+CRZzl5FpDnEeVKF1Bo7RH3IqSEcjVwsbOgb4qsvQpmDFhm6+Iw7EUe0B+WXLAAjsoQQiJEMXgjcU9ouWsQdpdU/jSi/D1gWpj2f7AFadO2BxEVCO4Hby9X0jiDz1QIiQkfg94fgKm7p4bYIrA/9HxFv6DaP1Eb8Jc6mrV0lrW5c0SVgl4TTOqAdZPTRWGEvdJy4NFt99g3O2p9VJy6ZLRUJnPuiXoomw49r58ZZtpmxgZDEveQUiKxU+Aj34M4sRm+Um9YTOpOGYyxyhEhCVwW7Tv+PdEaozWek/kVgd5owzPz83zo0CFKfsBYqcx79+1HaU1uNPPNJi8uL3Hv9B7GoxKtNLUUShJzx9g479mzhz87dwawdYLA80i1cr8Hbi9kNKm2GbpE4EvJ5JBFbTkIaKUJG70ek5WK27HAarf7uv4pxhh+/aUXCaTHeHlr74AQgulKldVuh98+8TJ/732Pv9G7ekuwG8iHIPyDvK7XhdEgDCK8HyGtGb3u/KLt3PQODJ7n7wX2uqrWq5Dut3xr8vs2cxSe++b17P+3UBdFgDVDP08tfSMO2sJovuZ+PooNOjGDkXKxCzyO5jDKNiWJqvu5y2TNVipG5QlCGPIsQuvA5mlGkGURiAAhEvJMEYShO78KfQdIAqDIciXIQ6Cb2PF5CdZALLUzOMzgXQWQK4nRBj/oIGSEwGdQBwgsXaIvObrKIOQoVL4Xo+csf45wAXdbAC+C77bRfKL83ZjkC+78Ruy9UWvu9WXsYqfsTqqPnl1wTYsXGw9RCkpopfGHmnd8BGPax0joociFIRf2grUx+EKgjM2gBaYvxcu17hcwPddeX9AdUljdsxDCKmOCkMzYAF/ybQv6ZhJzBV4vsovBXs+XktDzbYEWiDNbLyj5PnGWIwRUg9BtcAR5rrjQ3ERfhI+4YI47/7VOl+eXFrlzYoKDI6MA1KKIvfU6xhguNRu8sLzIPZPTPL0wx0S5TOR7XGo0SLXuq2n6JXZjCDzJRLmCLwW9PKMZx6RakSvNKytLvP/AQSLPd79P9ncgVapfRB0rlbbIDC82Giy0W+wf8szZjslyhbOb6yy2W8zW6te4kbcHdgP5MLw7bKGz+ILvBLMKwb39IG7Uss205b6dny+ELYDGn4X8ks2iqbqgpFwQ9xjw4ZM2KJkufaWMyezz5SREH3aUzYv2fYP9jqpu2edtke8ZILbXIyo2oKkuiD12UTDz9nEkBoUQBqM9wlJCtxPS7VSJSj2MEXhS4Qc5xhi09pAyxAY8+3qogb/PSSwvWN4fXMZsW+yNydDa9GdYay2QdsQ9nm/QGiSJM1gSwLilSYRnpaCd/4wxKZR/wBYd5YRbpK6y/TWbNpMfrnmAHf5R/VHo/KLly2XFUmZ6g370EyPYRSSzuxq6tk5S+i5W8hGMaVKpl4k7CWF5wLfvUQGpsAtkirY+6aGdojNSKjFZrRB5Ppcam8610IaeQHp47rqLAQ1jUYQnJanq9AOREIJQePSyjG6WWV6bq8Tsqz3g1jtLq9AvUgph/cJbWYqHIFN2h2j9T+zzZmt1Mp0z32qx1u3w0vIy7927z3LcWvPC0iL1MOL4xNSVbysEe2t1nl2cZ7ZWJ1E59bBE6PlUgpD5ZoNWlqGcra10hloP7dnDUqfDfKtFL8/whHSNR4aFdpuvXLzAA9MzIATVMORzr53iK5cukuZWKVSPQj5x+Cjv33+AyPeZbzXtfb9GI5BwtNxCazeQv+MghITK38B0/p0tbImxIQ5W2yAuIkTp+/qvMfnp4sXXOLBvvcrRTh637rjfIksopgIVBTbHhwuB1Wsnlk4JHrYBGWxBL78IYgbUyzbwmIRBQbOAjw24PbswyLrl7UnAlFyQyjEakjhC6xKgqVRaCJmTxBW08tE6JEKTZ1DxFFK2GXR0hlgXx4ZdtMQeUBo4D6ZmFw1K9NqauKupjaV40pBldrAxRiND47bHhQ9HZRDEcWm8Pget/x8m+bJd0MKPQfx77pK3BXPdBFJE+Qev+MIKIaD0gxi5F3q/ZVVIxaAPKcC7xxZR1RK2kB1C6UcQ5U8jvD3cO3WRV1fX2HvHHl596syWQC4RHMwj1mTGuswZaSv237WXo/tn2VOtcXJ1hb31Ol+/fIkz6+v4UtDN6AdqbWwjTcn3CRyHXjSuKOcnIhB0s5SkyOQLv5OdCp5X+bW0rIpBSEnkeSinfU/yHKM1qmjwcb7g9TBkslLFl5ISPrNVw2q3y+VmgxFXkO26TtcPuIC5Ewp9/eVGg+HTjTyfo+OTZFrRyey4vNDzmC5XmanWOL2+TqryfvZvr0FQCyNCz+Prc5f4vuP38EvPP8N6r8dUpUJUtufQzTJ+5+QrvLyyzN9++FGnb78eIuqNelHeOuwG8m0Q/mGo/gym91lnSVsEcgPB3YjSDyC8IQMm0+NKk61t0JtWGSEr4I2BqTpuvAs6wrabV8HkLjscB31xwEHICkQftRloH4FtRFLnsfvkUZuBmiJDBgrvc6PsbkAENvDX/yF0/i2I+0CdBd20WaBO8bwMz8uRXo4Qmkq1jTESo+0XOgjsNHl38e7aa3axMso21chZW2Q1VXtecg9ZfJG4pzDGI+4ElKsZQaDRWpLnHibVBIG266WJ8KPjjn5yxzTOI0ZENjvPnrb3K3jU6u/V3NZ7LicRlb8F3kEaq02yJKNcL1MdsQuhEAIRfQATvp/+BChRwVBGdZ9h+cJLnHtRcu7knTQ2Zrn7saM89AnJzCF4z55Z/uDUSSpTNWpjVbrNHpV6qf+7Ygktyfvnfe4Mxvnr3/dpJkfrJErxr778BTKled/+A3SzjIV2CzsyTfWVG6Hn9ztQc636xcF6FJEoxWbcsx2V2ACosdLBNwqBpUwOjY2BMVxuNpFSUPVCQs+nk6WOrzYgiiBsP/fAs/zySKnEodFRPnHkDowx/O6rJyhvGfxgaCYJl5uNvnOhMIbVbodgB9+UQHqMRWU2e7E123J0SiUIyN1sUF/KvkdKNQhIc0XJC3hxaYm99foVlEklCDg4Mspr62t87sxp7pue4aorXHHWxoARzFSr13ze7YLdQL4DhH8Iav/AfsH1KjZQ7tsawPtPLjjqa6DIlAtvEBGANwFMgBwOVADSqmByRV/7Hdy/LYjnllYRU6Ces7I8Oeay8pzBIIuAQXFTu6LhNLT/V/sz76ANgiJCyATPV///9v47TK4zu89F32/nylWdcyNnAiAC8ww5iZNnNBpJIytYVvA4ybbs43BsHfvee3x97rlykHxly7YsB8lWnqCZ4eREDiNIJJLIsdE5V1euHb/7x1dd6CYa4HAIEARR7/MwdHfVTl299trrW+v3wzCVXRpC1celhCjUkVJDN3w0LWpkM8vbX550pVECiVTPvGZB1JA40Lupln0V5zRBEBhUKxBLBEShQDMidK3RNeHrVGs9ZBvZFNF0o7Rk0xzMkiXQdqvv+4ch/osIYSrNGjSE0YfUhjl35DIvPPFnzI4toGlqVHzzveu5/2P76Vmn2kCF0FaVXqrFKp//t/NMj2gks9uIpWLEkhGvPn2G498/yXv+0sMceHwvP71rN7//8jEG7h1i4pUxSgtldF0DQ6MkQtJVuCfRxU/8nY+SyanAEtc09b7jR0nZNg8PDPH02BWKbp2S66ILjYRtNRc7AxmpjFhKDF2jM57Aj0JKrtvstU5ZqhSiCaVzciMTZEMIAqkUB41Gy2LacTA1ndFGqac7maQeBNR81QUjEOhICq5L2nbQhWCuWqHsecRNEz+KeHV2Bk1oPDg4uEqESiI5tzDPlaUl9EbmD+rGsFSr4RgGKdtu1rWbn+4oanxftWaWPJeYaZK0LOarVdwgUF6hpokXhXQlkvQmUzw/NsrWjg7y9Roz5RJuqKRxe5IpMrZNTzLJ82NjvG/9RnJOjJLrkrJt1qLg1ulLX3tTeLvSCuTXQQihzB/069S+l19nbkfWG21y4jqZuVwWeFrjci9PI0aLKKs3F2RBZc5yTAlpray/RyVlDI0G5n71Oq2u3kPQqO16jZvH8iKqWszE/gAYPeCfVOWE4GIjE42hayaYIUKLGuugjfdJiWH4hNHy4isIsVoWSXXMNEbnRVw9acgkiDaQ04S+R7mgkUzBcuIYhTq+K7lyrh2hSTq6KziJOp5rYSz/ca0cyGkGiBXXUJggUuB+H5J/E83crN4mJT/48+d54SuHSben6Bpsb9ZwL58Y49zRS3z61z7Ght3DzU25NZd6xeVLv/MN5icWm4FeIhFCo70/R+CFfPd/PU2uO8vuPev4a/sP8sS5M9R39xMv1cnPFojqPg/FcvzUIwfYsH0Q/TVZ5z1d3fziPffyxLkzzNVrrM/mODk3h6ap2m/KtnGDgKV6HcswaI/Fma9W6YwnEEI06+IIga6JZtC2NI2M41BwXYIowo+unfBsNoA2SjExw8ALAmYqJdwwoCuRIOfEKHseFa+kKlpCLbqaQmO+WiGIVJnL0DS64km8KGAgnaYe+HzpzGnCKKIe+DiGychSnpGlJdLWVY9NKSUp22ZzWxuHpyaZKBboTynrPSmVuUQQRezr7aPo1pkpl1ms1YkauuVZJ4YXBmRshw25HLlYDMcwubK0RETES5MT1IOgqf8SyojRpSXa4nHu6epRXxcL/OSOnfzu0ZdAQMpaHcwLbp16EPBL23fesI7+dqIVyN8kQksirUfAfZJV1nDLSNXahz6oui9WqSoub0RvLERqqi4c/ysIvR0ZeeB+TQlpCaG25Z9SU43mXpWdhjlVcxfrmvVuzL3gPs/VersNmr2il9pWbZBUVe2dEGQRTZcruuxkI26rhVCQLIeNq96TAVBplHPsRhmlU3XwEKlykdZJFFQxDHVzMC2/UaoRlAs2hcUEtapFpq2OHQlqFYOudrNRjlpo3JCWr1NK7XPl9KzINFo58+rGAVx65QqHnjhC97oulSU30DSNtp4stUqdL/3ON/jsb/w8laUKL33jOGcOnadSrHHx+GV6NnYjkVSLNaYvzxD4IZqu0T3cSTKb4LkvvciG3cNsae/g7z3wMJPlEsVGljyQTq+q465k7OwEh7/5MhePX0YTYKYEwc4MQ9kUQUppq0yXSyoL1pSGyUA6zXAmy3ipyFK9xkyljBuGLItRLY/6pyylBpg0LQoruliMRrkmQgVRxzCxdNWlsi6TJRuLcX5hnt5kirStRMgSlkXGtpn2vUYd2sHQNJbqNRxDtZ9m7RiGJggijY54AlNTdmxT5RIzlQp9yRSX83mSlrUqGFYDn4ztsKurh4Rl89zYKHPVCjFTXbPOeIKhTJYgCumKJ/no5m3812OHmSpVsA2fvmSKLe29ZJ3YNfLBhbpLwrSa57Hij5B8rcbx6Sn6U2mCKGJ7Vzd/dd9B/vzkCSZKRXXTany+O+JxfmHPvU21xTuBViC/CQjng0hZBe8llT2K5dHvgspWYz8GwRTU/gw1vLNGn6usKEXE+E+g2QfVdgFpblW1ermE9M6q7Rnrrr7PGARvFpCNsoOnHIs0C0SjFBSVlEbI8gdfOCAawleyjsrcw1X3l0b+BFqIlAKBWhjTtOWSysppzoZWuUg1/mupVA4XrHvw/STzM4exYzGSyQU0XVCtmJiGxHMN4kmXctGmXpVkOwIsfaqx+caNSZYbR5QFEa1+ShJC3TzlVdGuF79+jEQmviqIrySWcCjOl/j2HzzJse+eoFKo4iRsyvkKVtxhcTLP+cOXSOUS5HqyOHGHKIqYvjyLlJLCXJGl2QK57ixCCPpTafpfp7HhpW8e53t/9AxO3KZjoJ2qLnnJWqI2NkdiVGPXw9t4YGAIKSWzlTIX84vEDJMNuTZsQ2e0UGCmUkI2xthVlUooBUbAaJzr8jRmvq6uh65paI3pUbMxZOSYJg/0D2DpBu8aWsdTVy7z6uwMJc9FQ+DLEE1opG2HauA3TCPUP3GhjI6TlkXZ99jS3o7ZGNpJ2TYFt85gJsPL09NUfR+BoORVGwNGEdmYw47ODoQQbMi1EUlJm+OwWFc+m6ahUw98BtJppstlnhy5xEA6Q9X3cAyTgudyen6ee3t6m8EfaNTfJek1SyWCpGWxVK8RNw3SjQx8S3sH//sj7+ZifrF5A+1Pp1cpKd4ptAL5TUAIA2I/Adb9SO8FCK4AGlgPIayDCL1b6Y5Ho+A+1aj1plYs5hVVQHI+jLDf85ptCxWsGUTWv0/TYaj5gpwa+w/nUAqHMYgmUZ0kEmRVdXToPVffI5d7zmtc1UpRE5dC0BzYacZ9oauSS7PPHa7RNhe2yorR1Q1EFtX56T3EkhrVchuu2874xQyGvsTw1hJu3cQwI84cy3HkyS7uf/84P/ZLs9RrJTTdwbCW3WYaU6pyFsSuxg1j+Vyk6igSarCjVqkzdnaS7qFr299W4ns+/+tffJ5sVwbTMqiWaixO5/FqPlJGmLZFtVwn5Yfouq4EotJxAj9g7OwEk5dmyHVnb7iPZa6cHud7f/Q0nQPtzb7zk1aJSBe0x+NUChWOfe8E97xrO5mOFN3JFEnLYrJUAgHHp6dxo4DORIKq5xNKSRCG2IaBITQqvkfF88g0MlFlNqHTGY9T9j2qnqcUGk2TjBPD0nXOzi+Qi8XY2t7BYq2KLjRKbp3zi4tUAw9LN2iPx4n5PjXfaw4M9SZThA052I25NtZlc6vOVQjBnu5eMpbNfzoyy3ytqgZ6hCBp2wgBL01Ocm+Pyqodw+BjW7ezIdfGXKUMjX75/3b8KJZu0JVIEsqIiVKRKIpIWzZV3+Po9CT39w82h5dmKmVs3WCqXEYgiJuq5/5q/7i6+RU9j8FMpnm8uqaxpb2DLe03/ry83WkF8puECrhDaqF0rZ9rCUj9XaR5D1S/qAZcIqmySXMDOJ9BOA81phuvgyw0A9aKHStXIs6oEgygJHUD9TMtB+YuVU9u4jeCbeOG8xpHIsHVL0Xzi+V/lmsvunrykGWaw0hRHbQF0LeoBVpZgGAOIets3zdDpVBgeJOOW5OMnmvjT//jVvKzEeV8hVTOYHiLzsiFe2nrmCQWL2AYgnjaQNdsdZ0aPp2r1sZkUQlkCRVQQj9E027cI1wt1jj13DmiKCLTfvWmEE/GqJddPNdD13V0Q6ecr2D3Xu3C0A3VGnrh6CV2Prj1+r+rFbz4taPEkrFmEK+KkEndQ1usMblQIQpCAi/kyLdfIdORYmhbP11DHcRMk49s2sJitUpPMqWySdthtJDnyOQkbhhg6jp6qDXq4iGG0KiHAZ3xuPpa08jFVBliMJVBawS2qu8xVylT8lwO9g/wzNgVJopFTE0jbljUAh8vDLE1nZTtUPHVjSJlO2Qdh75Uiviq7pSrCGC0WCBmGAym09BYiL06rBNwZEoFYiHUNGtHPE5HXD2pfuvieeqBT29SLTTqQuPenl6OTE5Q8txmq+NcuYxlGJxbmKfq+ziGTsmtY+o6Fd9jQdTojMdJWjZhFBFKSWcsfsdl2z8MNyWQCyE+BPw7VIr2e1LK//tmbPedhhAxROyjSOdxZDinyilaFqG1q+6J1yV+tXNj1YZ1FTiN9RBMg5gGTCUXoKXXqMnHaU5jigzIaVZLKa16Masj57Kcb2MRT6QaC6aO2qZ5AJJ/C2EMI4NzUPyXEE6SSNn4rolX94Ak3cMJ3v+Tgi/+F53OoQ6GN+fp6EvhB3HmZzehaQFQoLtvhva+BJqWU8E8Kqn2Qy2rFpFlEeyfaAZuJ2FjmDq+F2Baa3+8R8+MUynWSGZX3xTj6RizY/Poho5b80jkElSLVdp6s80g5Ls+2c40F46PqD7s11xbKSVe3UNoGqZlUK+6jJwYo3NQZXwRkhHDZdwt4xkBWp+J45nYhYAwVOP7545cwq16mANpTszOYGgavSu6J9Zn2wjCiFfnZih7HroQuFK1+TmGwWA6wz1dPXz70gWlRig0+tMpNE2JWtUCZZS8r7ePb1+6yK8evJ/ZSoWiW6ceqNVorVG+cYOg6ZM5lM42h3+ui5RESBZqVWKmifYaKzxQfqZ+5HEpv0hnIsHG3NWOrEhKnhm9QpuzuvyYsmweGBhkvFhktLiEF4acnJ9jR2cnSduiPR4nbdlNm7jl0uBUqUTWUVo1W9s7aL9D2gnfKG86kAvVVPwfgA8A48BLQogvSylPvdltv1MRwkQYN+6GWRPrPqh/FbjOh1HEQU+A81NADbyTKlC/Fr1L2ZgRV9OYPihdE5+riojLJZTlcspy+cVQ2xRx1Qa4bLmmD6vvJf8WmrkeKSOof1PdXMxdCFkj0xsxeanMxOVFZOjT2X2SDdv7KBU2cc9DFqZTwm/4XkSRAbRz6YxJIlsjniyDbCxiRRV1nDKA2CfRrO3NUzNMg73v3cXhb75M1+C1j8tuzWNhKg9CksyuHiIybfXUEgUqoPp1H03XmgE7CiPcmse2+zc3NGkCTEu9p151OfXcWZ7+wiHGz06wMJXHjtv0ru+ivFQl151Bc0yO2GXORCWqUUhMaBBB3YGqY+JXIrosnWQ2zujZCfoyFlHHtYvjQgi2dHTSn84wWlhiolxkqVZDFxpbOzvJ2A4jhTxxUz3NLGuoBJ763fYkU2zI5YgZJpeX8vzOSy8yV6mwUKsC4OgGjmmom1ejJh83LZbcGrOVMt3XmXQsuS7ZWIyZcpmEaTGQzjBRLJKyG45VK4gZBpeX8nxg48ZVLYB+Q6Z3Lb0UxzDZ1NbOhlwbVd+j6ntEEra1dxJJyUK1SntMBfSS51IPAnQRYWo6Dw8OUXDr7O3uuWa77wRuRkZ+H3BBSnkJQAjxJ8AngVYgv8kIay/S/Y7qzV5rLF3WQYYI+0EQKZX1h+Oqk6Qp/tRw1NH6gRlVYzbaIayjMn4f1Xu+PLUZcDWomyCyqhdd6BDlVEZs7gY9B7KOMBp6M+EIhJNXe7RFDE2Dga0d9G0aorhQ5PTzNT78c4KTx7dgxS5xtZnuKprmcOV8hu0Hso0hqSV1fOZjCOv+q/tbwb737ebVH5ymuFAi3b466NQrdepVl2Q20SiTqCy6uFBiaa5AFEaEQYSUEUEYEksqzepqpUYURKzbNUi6LUmlUGuWSspLFf7sX3+Jy6+OMjMyh6ZppNqSBF7AyIkxSvkyxXwZ/YPrmUiAMV7HyF0NbUYAYRhRSenMhXU6sNF1jbmpRTYfuJeTc7PNkfWVJCyL7Z1dbO/sYrJc5PH1mxjO5pgsF3l29AptToz1uTaklFR8H4maGLV1ddzzlQon52YZWcpTD3wytq3q376P54akLIu2WIykpaRzp8slip6LUdNpe03XSNGtU/Y9/tq+g3z9wnlipsnW9g5qgc98tUrMMJrGyV4YUgsCMrbNu4fWrTqnZdXHMIqua8O23DNf8wMMXcPUdYYyWWbK5YY2i968EUgpKXse1cAnkpL7+q/9vLwTuBmBvB8YW/H1OHCNZJgQ4rPAZwGGhtauI7e4MUJLQeIXldJiVFbtdqKhfCjn1X/jfwmh96o3JD6L9J4H95lGnzoqoDsfBH0TFP6ByqqFobYVLaDKJjGU5ktju8TV17qpSjUyhHCJ5vh6NKVaIJ3PQLSAlHVk/RnVFfNapEQTNWIJH8OySGVrxBJlSoWG+FVjQD/wQ9yqh+/5hGFExFY0s1tJ0iZ/GYGgXqsxceECnhuRSMcY2NKHbuik21N85h//GF/4ra8yfWUWJ+4gBFRLdSpLFZKZOP2behk5MYZpG0xcmKayVAEhiCJJFKpSQuiF1Eo1Zq7Ms3H3ML3ru0nmEsyNL3DfR/Y1e5+/8p++xczIHPPjizgJp1nSMQwDO2ZTLdfJlytMlhcYjrdTLtaJxR1cRwXxKIwIXB8tihg3Q+oTecy0jTkVcbCvnzPzc1zKL9IRX/tJLIwikLCvr4+2WJzN7e3Ug4DvXb6ogr8Q13RzlD2P4zNTGJqmpkOl6hc3UNOiQUOlMWXZzYCqaxoH+/opui5jhUJzMUVKSVciyc/t3suGXBsx4zLzjUB8b08v0+UyI0t5Sp4aekuYJrs6u5DQnGBdRtc09vT0cnJuhs749SVkl+p1elMp8jXVaplzHDa2tXFhcXHFTUMpIvqR0nb/lXsP3BG6KT8KNyOQr1Uwuya1klL+LvC7AAcOHLhTJAzedghjHaT+HtI9BN7zaqpTqOEgYT90NYgDQosjnPch7XerujKAlmkuqEbOJxpO8XUQRdCcRtugdzWmGgdU2SS6DP4F8CdALPt+JoCUGo8XJlT/C9Ltp+miRGNISu9UmX80q4ymZRlTwPCmeTTdJNs2xdTYFgpLHcQTC0xdjqgU1WN+GERYtsFL3zzGlr0euc4EUen3mBmZZ3FqkXrd5OKpDYyNDBJPxHnk0/ez+9076Brs4Jf/Pz/Dy0+e5Lt/+DSjZyaUB2QEc1fmKS9VqBRqTF6eJvRDDMsg8AKQEtGYAhVC4MQtqoUq05dnWZjM47s+hmXw8Kfuw6t75GcKjJ+dwKv7SCmvqcsLIWjrznBRVgmDkHpRtQWmShGerePKkKjuo2kapmngm+BnTeq+T9+TC4ydGueDGzfz2y8+T9lzSb5meCWMIibKJd4zvH5VOWJXZzffvnhhzTo+wFhhiSCSJEyLlG1foypiaBpuqHRP0rajBqOApGnzC3v2MVkqMVkuIiV0JhIMZ7LNJ4a9vb2cWZgn68TQhNL77kulCBpDSoamUXBdMrbT7LRZybuG1nFsahIvDJtZ/EqqvoehaWzr6OSZsSvLV5qNuTaSpsWlvLppLH+EbV3nJ3fs4sHBd24CeTMC+TiwUrl9AJi8zmtb3ASE1qakWJ0Pokogxgr9kzVeL0zQ11Cji38SWZ5Sqn/aNpoSArLhV6nFEIm/oVoew3Fk7TvKzzTS1IARjclKkVMysLKgArq5H7SSGv/3j0G0VWX3wYXGomgSzRDolgfREhu3HiUMTM6duJfeni9j2xXCeJIo0vHqHp0DKXqHpvGrRcYv30sxX2VpxiOe6sJJ+Ox/92X6NwjOvLKTr//ed6kWazz48QPMjMzxvT96hsXpJby6z8LkIjKSaLpGfraIE7fxaj6gsnDRcKpBKFVC3VSLnlLC1KUZ0u0pkrk46+8Z4uk/f4GzL15gYEsfCMHMlTmcxLVBCSCWjGGaksANmJyeQWgCUXWJlwwKOR2ZNBGmgYcyUfY8n8FjRbpDiy/9+2/w2d/4OT67/yC///IxxktFYrqBrqkpT4nkseF1fGTzllX77Eul2Nzezkh+6RpzhEhKJkpFJJINuVxTQ0UF66tBXxeCYmM0v+b7pB2HtnicaqnG9KHLjJ0aVyP5W/voeGALqZzaz87OLhKm+ZoR+BUmEVFEoV7nx7ZuX/MmM5jJ8OPbd/L50ydxDIO2RqdJEEUs1KpEUvJLe/fhGCY/uLJy0VnQnUzRnUxS8f2GHLASGHv38Prr/n28E7gZgfwlYLMQYj0wAfw08DM3YbstXgfV6bK2VsQP9X4tDcm/gax/F/wXVTskqGzc2otwPgAih1vziMIObGEjzP2NDLvR3hgVwTuipjpBTWTKJSUFEF4B4kqdEVTAX9Gdk26zmbocY3E+xfCGw5x6cTcvfG0dBx5dYtPOOcLQJ9Omk+3wELrGzPQ25sbm0U2dbGcGISAMLColg96Bi+QX+tCNTp75wiEGt/by3//5n3LuxQtUK3Xciouma9gxC7fuUa+41EoNESchiEKpHh6EwLQMEuk4nutTKVTVaYYR+dkCtUqdwnyZvo091KsuV06Pk8wmCIPwugNI1VINV1bRNiYwbRPDMqgWq4R+gKXbBEkLV4bIUKJ5IeZzU5RPF7G6M5z1LnDo68d4708/wj995FHOzM9xYm4WPwzpT6e4t6e/2ba3+rMh+Jlde/i9o4cZLxbIOjESpokE5ipKK2V7ZycDaTXpmG0YQNiG3gzmmhCEkdJNl1LSn0ojL+X5T//ym0RhRCyphMIuvzLKD/78BR79qQc58MG9WLrBo+vW89uHnqfguti6Tns8zlA6g6nrFF2Xx9atZ/cNFh4fHByiJ5XiByOXOTk32zCcEOzv7eORoXVNffOBdIaFWoX22MqykyDRaI2cKBV4eHCYuHmDtt53AGKlyM2PvBEhPgL8Fqon7b9JKf/ljV5/4MABefjw4Te93xY3DxlVG6P1ErQOJAnOH73MS18/xtSlGQzL5/FPPU2qayPdQ93NDg/8l1X9fVleV1bV4qq5C/zjyt80yjc6W1Z06siQKCxx+Uw7J1+YJ9NW48hTCQ59p4dEJk48pdE1oLN53waGNo7S1TdKtZxm9Mw4hqFjxWxAYsds4ukYiVSdSjnLqePvZm58ASkjnvnii+i6htA06pU6QhP4riqfGJaBW/VUJqeBDBullKRNPBVD0zWW5oqEfkAUSnRDw7AMEtk4SPDdgEQ2Tizh0L2+k7Ezk82s3nYs4umYamOse8yMzOI7OvMfHyThCXrXdTI1Ns+EExDaGngRWiiRmiCK6TiTVbJnirRfqhFLOGQ70/yfX/pHtPXk8D2farGG0ATJbKLZF3496oHPy9PTPHnlMnOVCkIINre1c3x6kg25tmaWfG5hnpNzM1fFsgQEoapzD2YyDKbTZGsC54sX6ehvx7JXB0bfC5gbW+ADv/go57vgpclxBIKlep2pcgkvDPHDkPW5HH/74APc+3ptjK85BzdQAlivlcedq1T4ncOHqPo+nQ2ZXVBtk7PVCuuzOX5l3/7ryibcaQghjkgpD7z2+zelj1xK+TXgazdjWy1uD0KLg7YOgCiK+PYfPMWx775KKpdUwynxCpqhM3pqipmRBXY9vA07bqmJUrHy0d24Oi5v7gL5MoQTSGkSRT5CSDTNIwxDLpyIszAt6d3Yg1spsmXPPC9+TykQxlJt9G/bTRhZ5NpfwqvHKC+VqRZraJpA7VFQK9cpzBXIdKbpGZ5DiBBNF/zgz19C0wROwqFSrCE0DdlYFEQIwiBUk/3LmtsCkCoz13QNr+YR+mHTCEM3dFV6aZRcNE3DrSihrfnJRWIJh3qljmEZ1Eo1luaKZDrT1Kt1JBCXGplpj3BbDjRwh5PIpRJaVWW7UhNIW8OeruKUAiq720mFS4grJaqOwX//Z39C4IeMn53AidtkuzJ0r+vivg/fy86HtjY7cF6LY1z1rfTDUI3sC8HnT5/k2YuXYa7KwlSeMIqIZQR63MCwDCIpqYcBm9vaaY/FaXMcnO9cJtGVbQbxEElFREghcSyNjv4c/+Obz2A8NsxgVtXMB9IZtnV04IVKO32+WmGiVGJf3w8/lOMY5nUDcWciwd+570G+P3KJFyfGgeW6uMGHN23mXUPrrquN/k7inX+GLd4wLz95kmPffZWe9d0NbRUIQx3DECSzMWpllzMvXmDPo9vUG1ZlViFXP1YGXridsHYeGZXx6peIIo1arZPZySxuTW8O5ZhWChktseNgG66rszjjM352ko171iE0SXnJY3FqSbnamAZ6o/VPN3WklORnCjixkHNHzjN+fh637pLILD8lqCAS+GHDfQhkFKkBmUg2ZGPVv4IgoF51CdygoUkNaALd0IlWLBxquoZb9/DrPpZjEks6+F6gfDVNZV23OJ1Xvea2STwVIzPh4+1JMKWFVDWJ5ksiXSA1AaaGXQpJVkAzTcJ6SH5LirZzeRamlvjB554n15khnolTylcoLpapFGvMjc1z6ZURPv7XP3jdYL7MSv3v7FiNMy+dxw4EScdGE4LMrMeSFuC12+jZGHHDpCeZ5LHh9QzVLZ5YOEVsuJMQyWWjznmzjiuiRiFG0GuZnHfr7K9FaLmrnwlD05uZf28qzTNjV3jP+g0krbUnQ98ouViMH9++kw9t2kK+XkNDSR+stVD6TqUVyFusIgxDXvjKEdp6cs0gDuB7DqVCO068BMQpL1Up5aukEjHVe74sASCDhgEy1MoVps//gO7+IlIaBGESISSmkSdmz1EtDiBlDNupkmufpK29xOM/eRxNF0yNpjn2TBnf7adczOJVzmI05FC119SifddHyirjFyRzE0Xy0wVkJKkUapAWCE0j8v2mAyoAQiBlpIJ1CLKxPiBDSbWojK+Xv2eYOhKJYeir9u27qjfZjttkOtP4nk8pX0HXNXRDR0YSr+qRzqWwYxZDm/sJztQo9ITQIZCOhgxBLwfY0y7x8Kq0gOZJ6gmNqgN2yceJ28QzcSzHpF51iYKI8XOTrNs1yNkXL9Kz7hgPfOyaJ+41OX/sEi/9r+d4eDjL0UydKuqJIWY6mDJifr5Gux7nn/zkR9jS3oGl65x6/iwAAZIX7RLThk8y0shIFUIiJBfNOrO6pFSp03WdfRuaRiQjLiwusLen9zqv+tGIm+Y7vhZ+PVqBvMUqJi/OMDs6R7Y7SxiGxNOxxuKXYGJ0K9t3P4vvOWiaYGEqT2rbMPhnVCCXddWnrncio4j5kadJpQsEQRwZaYSBysDcmsCJ+/QMjFN3Pbp6C2h6wNRoL/NTIVbMoKOnwoc+s8DYaBcXT/UyvOFVJaRlG6tvMK5PrVynuz/ke1/swK36CCFIZBPUijVq5Tp2zGxm3MumDVIqN3gkGLZO4Ifq68bCZnPpSIBmqAzbSpp4rk/gBfiuj+eqfdXKNfKzS+iGju1Yytc0iHASNqEf0D7QRugHXHr5CkJAzY9jlw202bJ6IggjhCbwlh2GNIGuawRehLBNZNFH03VKi2Xcqnu1UTCSnPjBaTbtX88LTxxh/+N7mpOmr6W4UOLk82e59MoVjnz7FWJJh6HuLO8zslwx6oyYLj4SB40DZg7naJn+n3SaWe1ytn/BrDNt+GQjfVWHi4Yg1pA4u+AWWC/7rqtpIqVqIWxx82gF8hYABH7Aoa8e5ck/fZbLr47hNCRbE+k4wzsHyHVlyS/0MHp5B0PrTyIjge/6qsc8GGk4KSXA2gNCp7Qwjm0vInSLajmJpoXohksY2EqPxDVIZTwybWNAino1jdA7sRN5vKpLWdoQwY69r/LC9x5g9HyawY1FYolO6lW/2c9dK9fItrtMXtF55TmTMFxoeFFCEIQIIsIwVKWRxqAP4mq2rRkaSNSiqKmpc+JqGz2AV/PRNEFxoazq7AgkEhlKJJJ6xaVeduka7CCVS1Gv1nHiNjse2spL3zzO7JU52npyJLOqsyKpG1RiOtLQ8eo+URihoZ4cEBAFUt1YbBM9kmiaRr3qEoYhTtxetUjo1X2mL81RKdQ4d+Qi5XyV0dOqVjy4rZ/t92/m4vERvvfHzyhFS01QmC1QWaowP77A4NY+dmzrZ6efWNV+OCurnHvpAvd/dD8AfZt6iDS4oNdIvSaIL6NJMCREpka+VqN9jW6axuW/ruBWix+NViBvQeAHfPl3vsn5o5dId6RxEhbxVAwE+HWfk8+dZeuBjXQOdDA+sp1SoZ10+jg9wxW12GlsaEjjAtQgCghqr2KYEfVagoX5fjQR0d41jmXVkbGQKAiwYwF23CM/H2NpcRAhdDoH2liaLVIpVPHdCLcakMme51t/0sfH/kqWzfcUQGgUFyRuJY/eXmf0fIxv/kknbl3DSRi4NZdaqQ4s28dFhH54Ncte0aklGpOPiUwcTRNUCjUSmRi+G1Ar19S4fiQJoxXv0a6WYkDdMArzJWqVOj3rOkmk4tRrah0hCiKiMMK0DYIgoFKoEhUi6umcsuwIQxBgWKZ6YpAN5zxHRy+4hFNl0DQkyvXG131M22wGc6EJdFNjfnyB//ZP/5je9d3EUg4gGDk5xlf+47eUPsx9m7Bsk6W5IqZtkkjHiaKI0dMT6KZB/8aeVcHZsAyW5ovNr1O5JD0HhylPXSBxnQlTUfKx2y0MU2euWlkzkAdRhCY0NrWtYZvY4kemFchbcPK5M5w/come9aqymcgmcKsedszCciw0Q+fCsctkOtNYtsXSYhfnju9j94d+HJFONoZ8DAjHkP4rEJWoVU6wOJtAyjZAEKIzO7UO267hxJaolBZJZQOKiw6zUz1EUURlqUytUgcp1QJhOkb3hkFiqUme+B82X/jPSQw9YHhLgVwn1MpZTh/RWZhxCEOJlCH1ioumCSIZoWs6URQhxerAu4xmKKMMoQkCNyAIQrrXdZLtTLM4tdTIln2UdpRspujXbEvSLLdMnJsmloqR685QXChSr9RZv3uIi8dHKC9VG+UdgewQVDotdFXNwXc9dMNQJQxD4FuC1KuLjddLDFMtttbKLoEXEks5KphLiVf31VNBxaVrhQ57Ihtj5MQo9YrH4lSenjUck+LpOKOnx+kZ7ly1WBoGSmdmJQc/tp8v/eEY5aUKsaTTfH0URtRKNZyEza51PZwvLDanOFddJimZLpd4dHj9TVvobKFoBfK7nCiKOPTVY2S7Ms0sb2hbPyefP4dhKk1uw9CpR5K58UX6NnQzc2WOnQ9tpb33NYtVK/TYg+gYXm0U01n5CC5w3TiuG6e4mCadOwtIqsU6S3N51ZFi6KqGWqqR1OKcfuEynQMhkWxjaSoPAmbHM4RhSOiFypjYCtFNHaSmhKwadW7fC1bXSNQhqDF6QXMaUIYRNbdGLKl6tn1XZc7JbIKlWSVtsNaNoIlU2xKawPd8rNBifnyBIFB19wtHL1Mt1jBMVYuP/JD0s9MEj3Tjd8XQagFaPSSKQlxLQ2qQPDyPPVHFciw1bNRof5RC9WzrdQ87ZhNFklqpTjwVw/cCokY3DkBxoUzghySzCa6cGqdzsINENo5pGQR+gGEa6LpGFKhhp44+JScrpSQMQjbfe3UaslKsMnNygghJ6AaUFudx4jaWY6IZGn2beunf1INuGSx4dWqBz0KtSrYxgl9wXSq+y57uXj60afMb/Zi2eB1agfwup5yvUFworZJ8zXVn2bJvAxeOXwaJ+mPVNCbOTaJrGpv3b+ADv/DYDbeb7X+E4ux/JZKZa+TQAVJtSTTNpF4NmJ8oYcUsBILQV6WGrsF2KoUaoV9i/LxOrTEEE0USw1C15MBTwyuBFzbH66VUo/DRckb42vgrIZlLEPhhc5s03ufVVe19eZpTRhGGpW4s0XIP+nWIoqjZ0VIv15XQVxih66q+DaoEA0ouN4oict+fwu2NU9uRJWyzMTSN2EiZxKUSsWpErCeLV/Nxa67aViOYa3qjbq9rqswTROR6ss1rt4xfV/V+w9Rxq3UKc0XaerL0b+7l0itXSGYTjdKSkvddZnEqT//m3uYT2pVTY3zxt7+OV/fJDQmKHTFiCQuv5mMnbHY+tBUnrgJ2GEWsy+X4qZ27eHl6mov5RSUFkM3xruHdbGlrv66qYYsfnVYgv4uRMkAG59iw9SKZjjkq5RyFfCdS6nQNdZDuSDE3Ns/8ZJ4wDMn1ZPlL//RT9G/ufd2Jwkzvu0iPfY7pK0WcRPqaYB4GAb4fQyLIdmVUUBbKTzOejhGFksXpJTp6Iv7i92x0Q0nDejUPt+4RBeHVwNoI6kLTkF6wdva8IjPPTxfQTY2rLYYNE2MvYOryLKZpoBlaMxBqmkDXdcIoRMirk6CrrmUkiWSI0DTCwCeecvBcVW7RNE3dhMIQGYEvlX6LiCSxySrORAXLMUlmE0rbJZLEUzGiSNXWlzPkwA9VfV8ozXTN0EjlkugpTZVJ2pVI1TKafvWiS3k1sPes76ZarDI9MoflWMhIousabtVlaa5AtjvLx//G4wghmBtf4HP/9gkSmTht3VksLeAHRgE9aZBJOFSLNc4fvcSuh7crDZeGgNfBvgEO9r0zJWPfjrQC+V1K5F+A2p+RMJfYvOsypm2g6wLPc7hw+gCFfDdO3GZwaz+DW/uZG1/g3vfdw+DW/h9q+5qeo3/XryL4LeYmFwj8OIZlqta8sEoyVSVfOEB5/jy5roAoyq2q0dYrVdJZl8VZnXPHExiOGsax4zZW3KJecQmCCkgVRBtd4Nc/oNf8KPRVxi4EaIbeyMChVqrhahqWY+EkbGoVF00XSiImRNXLwzXq7bpoZu6apuF7Ib6n2hOjKEJIQcNoh+g1718Ot7LRoeK6LkIXBPUAoQksx2RptrrqHUITxJIOvRu6WJor4tU9Nu4dXrXdVFuquX+gOQylaYKNe9eT7c4ycWGK4mJJtVN6Po995mF2PbKtWR9/6RvH0HRNLX4DbZHBQ/UULzplqiLCyljM5oucH5smkU3w6BoCXi1uPa1AfhdSWniF6tT/j5krHvWaQb0aw3d9ct0ZLNtj+55nOHX8EYpL3YRByPzkIpdeHsG0DWauzLHnsZ1s2rsOy7nxgpWVuo/+vf8Mzfyf5KdO4lZ9TFtHj2U4eWw7Jw9lWJjs5CM/M0G2/TKaGSeZzWGYERolxmYtvvw/unDrdQxrRdcIAqPhYBNFEbqhqd7vSN4wll+PMGiUZjT1Zs/1iaUcEplEI0j6zW1fT5tIyqt19CiMVBvjDV7ffF8kVQtkA+VIBG7FpVqs4SQd7JiFk3DwG33ruqVj2zZt3VnmxhepLFXYuHc9uZ7s6utvm3QNdTA9MotArDLZEELQ0deGjCT3fehePvE3P4gdt9WNJAg4PT/HUqnCD14+w/qutlXb7YosHq9kOV9c5HxpiVqxwtzZAlu3b2JDfJhwXYhut8onbyWtQH6Xcf7YBRbP/99oegAihW4oHezFqTy1Uo2e9d0I4bBx6zGe/c67OfnsOQrzBXo3duMkbBan8nz1P3+bdHuST//9jzcXyNZi4sIUf/Hbz1PK99DW2U4sETB2bo5zxyr0bUzTOdTB9MgiX/3DFKnsHOu3zpDOTeOkO1mYuYejT1aplGpIak2NcN8LCLyAKIyamaYE5ZFpqr7sN4Js/Mt0DGKpGJEfoRsBgR+yOL1EFDaMJl7nBvHack7za7G8n7U3oOmqvBMGEbVKnShQJhOlxmJkPB3Dq3nNsotbdfHrAUTg+wGWYyJTMZLZ1WWVZdbtGmR+fBGha6vq517dU6Wr/jY+/CvvUzdlIXhq5DLfuXyReuDj1XzOtQWcTxTZ4Nts9+MYqI6gK8dGyF+Zo88x6dcEpg1WJeRrv/sdXnnqFD/+ax8ldh1Z3xY3n5uifvhGaakf3h5mrszx5X//n3nkgy/j1lcH4MAPmLqkhoDae3OkMkX+5Lc7mR5NMLxzkKHt/SBRi42mTnG+hG7p/JX/86ebj92gMtArp8b5weee58k/fRYQ2HGLnuFOMl1pTj9/nljKoVqqk+1IMXJyjMAPCYKQKFDDO6ZlNMoAotHbXSWWdAiDq9OXYaB6w1diWDqBt/p7r4cQarhH1zU27dtA6IfMjS1Qr7rIKGoOCP1IfyaNuvzyTUhtaO2X6o0OITUVGiqJl4bsbizhNBdSwyjELbtohk5bTxYnbuN7AalckrbeHJ0D7ViOmu706j6L03naerJsvW8zrz59SiknCjAdi6Gt/VSKVSYvTBMhmVnvkN+QYPNQD3HLxnc9XvrGcZxMjJIe0RNY3OcmmTo/xciJseZiqVtT1nk7HtyKlJK5sQU27VvPj/3qh3+Ei9biRtxS9cMWdwaHvnaUdNZFN65tI9ENg66hDmW+ICWRjOjfZLNu7wHK+Qonnz1LOV8GBFbMpG9TD1LC6RfOsf8DewAVxF944gg/+PPnWZjKY9omyUyCKIyYujzLheOqPJPQ4iTSMS6fGFXiU1WlFa7pAk031KIeKksFVdOtNpx1hCau2wr4RoP48jGD8sycvDRNpj1Nqi0BAnRTozBXbNbT3/jGG/+5UetiA00TxFNOU0rA9wLCMMStuhiGrhQJw0hNq+oaUSjxvZBEWsd3fZbmCqQ7kmqIp3FOlmPy0CcPsv8Du4klYzz0SfW7DMOQQ189yitPnSKejNE11MGSFnBeX8Q6UeTCZIUdD2zGtE1S7UlqpTqZuMWU7jEuakyfnyKeuurZ6bsBnYNqwEcIQcdAO+eOXCQ/s0SuO/ujXbsWb4hWIL9LqFXqnDt8ke37krzWnS/wQhamFnFrHmEQqVH0sExpoczoiyfwvaChsR1HCEHgBVx+ZRQrZvHCV440A/nIyTGe+vPn6ejLMXJqrJmpq8EVlLlxEFFaKKMZOvWqh2GqIBUGqiMkCEICr1Ey0FWA8xtthvDDBcUfCQml+TKl+TJCV+YSvRu6qSxVCW+1LohQyoy1cp3u4U7y00vEkg6mbTI3Nk9pqYJpm8QStmoHjVlKn6Uhr2vFrKbCYjKX4BN/43GsmE26PblKe0XXdTIdaQ5/6zivPHmK7nWdze6jEdPDNkxSOYfyUoXzxy6z/f4tDGzu4+TzZ5XCo65xKiyR9iOceMNIueZhOSZtPbnmfjRNyf1eevUK+1uB/C2hFcjvEuoV1ctcq+YabvVKCzAMQmbH5ojCCMs2icxIZcaaxsKMw+TFadp6sti5q5rjhmWQtAwqxSonnz/b7NQ49MQREuk4YWPhUcnERsxPLFKvqBF+KdQ/9UqdwPMJPJ9sV0a58SxVm+USz/UxTEPVwQVYMQOvFrz2tG4JMpR4NZ/x85PwIybjbxTd0JCRWii14zaRlFTLNXRDb2jGQHmpqvRQNKUAudzlUylUMR2T80cuUyvXmLo0wyOfup99779nVYAFVUJ74YkjtPXmVrWQzuoeMam+TqRjLE4vUS3VyHVnGN42oAw9LIOCHpLS1LpBrVJH0zV2PbztGgldTdcaMgkt3gpaS8t3CZZjKmnXcppisQMnVgGgtFgh9COl9dFwkU/nfBZmklw5G+IkHEr5yqqseBk7blEr15mfWKRaqjF+bpJ0exKtUROWKJ3wetXFtE0s21K64Cu2FUWSaqFGJV+9OsSDyrz9uk/ghshAqpa9H96L4KYQelGzvHMrEBoYtoHVeNoxbJ1N+zepoSbPJ2jI5BItqzVGyDCinK/g11WveilfVouyQUQ8HSOZS1It1nj5yZP8/j//U8bOTqza5/TlWerlOnbsBh1HjeGq/HQeEAxu62Pnw9tI5hL4dZ9axcWtefRu6GbvY7uaYmAricJIuSm1eEtoBfK7hEQ6zvCOfooLZS6d2UckNWy7SHmphNF0fpck01ViKYcTh3cQeIFSBYSmq/1K3KpHW2+Wiy+PqNY4TQUAK2YRSzrUKy7VYlUtXgrRWIRTNW6xnA0KqJZrRDJc3ar3mgpK4IWv2zlyp7FcD9c0VXpSrkM1TMfErXpEoVTXTtea10ZryMq6NZd61WV2bJ5cd5ZULokQAsNQNfPOgXZiqRhf+K2vUilUmvt0ax7XTGcB7aFBTVy9aWmawHOXb7iCbGeGoX3rec/jB9j3np3sfnQH63cN4SSu9YyNGmWfjXvW3bRr1eLGtAL5XcT9H91PtVijVIhz8uhjLM5nyXXWyHZUybZXSGdLLM5lOHvycXS7Dxp92svWZytZHjfv7G+nVqo3/qAbFmoIBrb0Uc5XVjicq8ft5fF0kGqM3VetfTLkLStjvF0wTJ0oVFOlkVTXobRYRoiGmUUkV3TNSKJIEgZBc7BnbnyBTEeabFe6uc0ojJo35ngqhlf3OX3ofPPnsaSzZm/7+sAhVOK8ajtRtCprl1Ky5NZ5fOsW3vOZR1iaLRIG1y4uSymZGVWzBum21DU/b3FraNXI7yKGdwzy3p99F9/7o2coLljMT93PpZcNuvoj6jWPajHB0K69JNJxktkK6fYUlWIV2RgVB4ikxK0oLZGtBzcRBiGZjhR2zGbnw1s5/fw52vva6BhoI92RorSoMv7leqxh6QikmpjUBOEaU5J3C0ITCKnq1lEYYjomo2cmqBSqyDBqrGSodk8hNLTGwFIs6QCy4SkaMXNlDk3XSGTiREHE8M6ro/GptiSv/uAUBx7fC0D3uk5SuQS1cr2xHUVbZLAusLlkuKQjpdHe1psFlH7KTKXMplwbu7t7MHv7KC2Wef7LhzEtg1S7miAtL1WoV1y2HdzEYz/98Ft0FVtAK5DfdRz84F56N3Rz9DuvcPbFCyzO6JTyDoPbNrFhXyd2Y1ozmY2T6UjjJG0Kc0WEJprllc6Bdno3dhNPxZgbW2Dzvg0AHHh8D6eeO0e1VCOeirFu1yDF+SKeG+DVfcIgJAxC7LhN78YeKoUqU5dmbl0nytuc0AuJkBCp6X8Q1Er1VddD0zV0Xcdp9JJXitWmwFUURrgVF93QCf2Q2cICuqFhx6+WOwzLoNZY6AbVufLwp+7na7/7HSzHbC5SCgR7vAR2JHjFXSIzkGE+cKHoognB/r4+Prl1e9Mx6JFP3c/mfRt4+cmTXDw+QhRFDGzt48AHdjO4rf91tXha3FxaA0F3MWEQcujrR/nBnz1P74buVc4zoB7dT79wDt3Q2f/47manhK6rwZWZkTn2vGcnH/wr72m+Z/TMBF/8d1/FqyufyVeePo1uang1Hydh41ZdMh1phBDUqy7j5yaplWtNHZK7lRv1xwtd1b7jqRhBGFFZqiw3HRFLOFiO1ehkEcQa5ZT23ixhEKEJQftAOz//z36CdbsGMUwlwvXcl17i2b94sZlRB35AYb6IV/XZ9NAmNn/6XlwZYRsGm9rayDqxNY+txVvL9QaCWoH8Lsf3fL7wW1/lyqlxOvrblJ43qtZZKVQZOTmKaas+4VQuqTLzQhWv7rHt/s18+Jffi1fzqBRrmJZBtitDrVzn7EsXOPHsWS4cu8T8uMra61WPy69cIZ6ONT0zR0+PE/hhU+r1nbagedNo6qdLZHQ1uANXxcQckzAIcaseQhMYpo7vqdLX5v0baO/N8clf/TADm3vVjfjKHE9//gVeeOII+ZkC8ZRDW1+OwS39PPiJA+x4cEsrs36b0QrkLa6L5/o896UXOfbdV5vtdjKSdPS38ehnHiLTkebVp09x4ehlwjCib2MP9753F5qhceirR7l47LJyqo8i2rqzPPDx/Wx/QAWBMAj55v/4PieeOcPkhWmmLs00JhQjZZigC9y6p/RDVvJaQ4gWV2kshnav66K6VEXoavJVKSVa1Mt1pY6YimEYOtnuDEITbNm3gSAI+dlf/zQ967oYOTnG53/zCXRDJ9uVRtNUd0y1VKMwV2L/47t538++qxXM30a0AnmL18WtuUxdmiXwA5LZBN3DndeUW5a5fGKUL/zmE+imcd0g8P6fe3dTRvVrv/ddPv+bT5CfWcKOWfhucNXcuO7hu/6a8rAt1kbTBN3ru0jlksyMzFIt1ZomEZqmEYYRmfYUXUMdGKYa3hrY0kuqLUXvhm4+/jce53f/4R9gx+xVWjnLRFHE9OVZfuxvf5ht97Ucfd4utLRWWrwudsxm3c7B131drVzjS//hGyRzSRAwdnaSufEFoiAklnToXtfJS988ztC2frYe3MTo6QlOPnOG+z50L8e+/2pzQU8zNITQMC2Dcr6MH741k5t3MqLhMSojSXmpih2zsRNqErReriMlmJaObhl0r/DodBI2U5dmGdjSx5WTYxz59st4NZ9cV3bN/WiaRro9xaGvHmXrwU3XvaG3eHvQCuQtmsxPLnLy2TPMjMxhWAab961n8/6NOPHVQx9nXryAX/cJ/ZDzRy8BYMcsDMukVnY5f0QZVTz9+RfYcmAjL37tCPF0DCtm4iRsJi9Mq5pvY1QziiKiSBJPx5riWMs0/IXvbhplJk3XMCxdeXYaOoauUZxXHUVOzG7KG+iGDkIyP7GIYeokMnEsx1RTuJNqCveVp04RT6+9gCmlpLhYYubKHItTS8TTMfa9fzfrdg5eM4rf4u1BK5C3IAxCvvfHz3DsuyfQDQ0n4SCjiIvHR/jeHz3Dx//mB9lwz1X3mTOHLiBlxLnDl3GSTnPRDUCPWdgxi0qxyuFvvcwn/uYHOX3oApVChcmLM8xPLCg1wYbgk2kZhIHyt6xX6pi2ge8HzeEgoWtYpoFb9+76mnkkI3xXjetHRLh1T/Xo65qS440kgR/iuwHxdIzA8/HqHkuzBcIwRNd1zh++RL1a5/KJUdp7c/Rv7iXdlmyahHiuz9kXz1NcKKMbGl7d5/KJMUZOjJLtzvLpX/voNfotLW4/rUDegu//ybMc/fYrq9TwANLtKWrlOp//zSf42V//NJZjcuLZMxz9zitMj8ygG/qqoZKVJNJx5icX+cHnXuDCscu4VZdquaYyS0MNnCz3lQtoGiDLSK6a8IyCCE/6q4K40EAI5Qp0V7B87hGgqS4VdeNzkZU6lq36wX3PBylIZOOYtoFX86iV64RBhERiWiaepzqMdE3j/FSeqUszpNqSdA20M7hjgLMvXqBarJHIxpGNqdPO/jZ0Q6cwV+RP/79f4i//v36KRLqlo/J2ohXI71JK+TLnj11i6uIMT/3pcwzvGFyzDrqsmfLf/48/xrQtNF0QRhGlxTKWbSqt6q40SLVoCQInYTfHu5/8s2eplWu4NdWZIqVsju2rm4YSxFouoQT+GmPf1yyCilUCW+90hAC9oUcO6ua2/H0i8F0ft+ahGzrJjNIJL+crRJFSKVQuROrGOXF+mrbuLB39bcxcmcN3fXRdY25ikbmJRcIgbI7W1yp1utd1Nsspmc40M1fmOPHMGe7/yL7bci1arM2bCuRCiH8FfBzwgIvAL0opl27CcbW4RYRByJN/9hzHvvMqUkoWp/PMjM5TWCiRbk+xZf/Ga5TxluYKXDx+mYc+eZB4Ko6UksuvXMFoiDtNnJvCiltYttK+rhSqhGFEuk0p8blVD98PEEJZskVB1NT7WB6CeSPTncsuQXcUYsV/38g9SNBYKGiYTK+wkAsDpauyLJ+g6zpRJHHL1YYr0dVWUt3U8d0A3dCaN8tYKkY5X6G8VKFzoIOxcxPNJyy35iF0Qe/G7lWHk+3KcPibx7nvw/e2FkDfRrzZBtFvA7uklLuBc8A/efOH1OJWIaXkW7//JIe/cZyO/ja6hzvRTYNkJk4iHae8VOHkc2dWSdZ6dY+pizPEkrGmA0+mM40ds6gVa8rdx1DBWTd0DFPVbA1DY2mmQH52Cd3UVXvi8kY13nwQuMPq5ZqmkelIob2B89ZNrRnAA7/xOxHK53P5+skooqNR+ujb1N3UKtf0RsAWAt3UkVK9zzANNE1Qyldo782RzCYo5StUilWiQFLOV5VwlybY9fC2a3w37ZhFtVhbU9a4xe3jTQVyKeW3pJTLv9EXgIEbvb7F7WV6ZJZXnz5N97qupgekbmhEkSp1xJMxaqU6M1fmmu9ZmMw3zQyEroKHHbPo3dDdzOyai2x1H6/uqx7n4S4iGeHVlNuPE7dU8F2hhng7ZhhuC0KJX4WNm52ma1iO2VQxXPVSTaAbGlpjoKeZyUt1vZa/1HT1OifpUF6qNr6nFo8T2Tjrdw2RbkuRaU+RSMeVRnxDTbFWqVOYKxD4AR0DbbT1ZOlZ14mdsDAsneF7Btn3/t1r64xHywvVrSGhtxM387fxS8DXr/dDIcRnhRCHhRCH5+bmrveyFreQV546hWmbSv+6QVtPblW92Uk4TF2cJmo8wtcqqjfZMPXmApdAkOlMozda2+yYha5rmI5JR38bveu7iaII0zZR3psSO2ajG1pDs5yGP6d2Ux/PhSbePiUXoZQetcbNTxOaGnqiIUkr1boA4mpvuGkZ6loaOmiCwA2uPnmIqxuWEchIGTYrKVx1g/DqDcnbSGKYhjKsDpWFnGpNVNm5EALfDZgemaO0WCbTmWbD7nVsv38zsaRDW1e22X/+WpZmi2zZvxFdb7Uhvp143UAuhPiOEOLEGv98csVrfh0IgD+83naklL8rpTwgpTzQ2dl5c46+xRti4vzUNb3Dmc4UTtzGrSmtE6XPETRdfHRdp16u07epd1VHi2EapNuSRKEKGk7cJtedxbB08nMFAs9ncGufMiiouZTyZSQ0Wg3VAqemCXT7RwwIawRsGcm3Tcll2adUNlz1wjDEq/sEXqCeYNyg+SSkbmwahq3KUst940EQqBtB4+dCE6Cp9QEp1VPQsoeq5Rj4no9c3idKj7xaUuP6WiOD1nUVyJUAmsbCxCKdA8o4ua0n25gOXftuGPghbs1j/wd2vwVXsMUb4XUXO6WU77/Rz4UQvwB8DHifvGuele9MdPNq1raMJjS23b+ZE8+coVKsKoOIRrZYK9cJ/IBUe5LeDV2EYaicgITKIOOpOOn2FIWFEpWlKoszefx6QCzlYFoG+ZkCXkNDZblbZWWgDbzwR8+gr/NJ0wxBFNz+j6GUqpTS/JOQa5SSGt+TgIbSnhGahpSqx14ICCLljCSEysLVJmSzdl5cKDevYTlfxav76KbG/MQCUgh0XSMIQjShSjHLrYumYxIFEYZt4jXMKyrFGu/92XcxdXEGv+6R7kg3bfvK+QqlfIX3/PRDDGzpe6suY4sfkjfbtfIh4B8Dj0opr/UCa/G2YuOedbzwxJFrtDUS6Ti7H93B5IVpxi9MYegai9NLpNqSfOJvfZDD33yZMy9doLRQJgojtXCmCaqlGm29WZy4ajfUNI14JoauqSy7VplXZZsbxdWbHHOjt4tei0Rlzz/k4UShJPBCJAHxZAzN0JRhdkOuNgzWvo5RFDVVEWMppVnu+wH5mQKBH2LaBlbMUjeMMMKtKqs3W6gafKYjxeyVedJtKdJtST71tz9CYb7IC185zOVXxxCaavXs29DNh375vWzYPXztQbS47bzZPvJ/D9jAtxu1zheklH/9TR9Vi1vCrke28cJXjuB7Aaa1+lfvJGza+nLMjs2TbuhTZzrT6LpOtVRjfmyh4UKTQNc1PM+nXKhQLVZp680hEKRyyeb26lWXhck8dszCq/tXWwZvZZzVbvH23wDLGfQbxbJNwjCkXq2DEJiOoSZhUcM5K9s0hQagSjPLN9iBLb34XkBhvkStVEPTNbqHOgBBMV/CciwM28BJOBimTr3i4lZdejd08ZFfeT/JbIJkNsGn/97HqRQq1Mp1LMci1ZZstRu+jXlTgVxKuelmHUiLW0+2M8P7fu5dfOt/PEmmI92sl0cy4vyRy4yeGae9t40t+zei6RpzYws8+SfP4CQd7vvwvcxcmWf68oxaCJXQPdxJfqZAYaFI93BXcz9hGDE/sdDwnjQIvJAwCpvqfK8tsdw03kYzQj9MkXF5CGq5U8WwDAxTp1qqI6Uk3ZbAsk2W5osNqzcVSN2apwazAhXgDdNA6Dqdg+3YMVtl4JEklrCpFGuU8hU6B9sZ3jFAe38buqGxNFugXvUI/ZB4yuGn//Gnrjm+RCZBInNt50qLtx+tyc67jHvfew/xdIynP/cCM6NzCCGYG5tnZmSe/k09mIbBhWOXsON2wwACaqU6k5dm2Lh7HYNb+/DqfsPMwGL6yhxHvnkct+Lia16zK0M3dOy4hV8LAKmmC+XV4NXi6nVYzrI1TSPw1A3PaPTeF+bL6ntadLWmLiWRahHHcizVHdSoyYPqKhJC0DXUQX6mgKZr7H73jlWL1e29bQDMjM7x0I/d16jph43afCvzvtNoBfK7kK0HNrF53wZmrsxRmC/xx//XF0i0xcnPFNEbwyRLswVKixUCP6BnXRczl+cY3NKH5Vg4CY1KoUplukrgBTgJm633bVJ+n40ujFeeOonv+njSb8iusiJy3dbTv3WsUTq6kYXbSgIvJPBrzfdHYURxsdTchhAC0zYIgxC/0fmyvHgZ+EqzZm50jqA7S7ojBQIynRmKi2WK8yVOPnsWgEQ2TvdQJ/F0TE3gBiEzI7P85mf/E4EfEk/F2P/BPdzzyPY1+8hbvD1pBfK7FE3T6F3fzeJUnvFzUzgJi2QmjkSqzpbGAppb81iYyhNLOizNFjBtk5GTY00jgygMKcyVmDg/xc6HtmKYRmPqTxBPxagUayrT9FVAf9ssRt5ihPaj1ciXkZHqZll+whGaIAyj5rh+s/+8Ua7SdQ3LsSjMF9U0p6EhZdSw4asyP7mAE3coLZYZOztJMhNXhiC6zqWXr5DrzqIbOm7N45kvHOLwN1/mM//wE3QNtVqF7wRa41l3OSefP0fg+Thxh1qlzvTlWWauzLEwsUi5UKVedSkslPBcj/nJPKeeP0fgBSTSaqw/mUsSSznMjs5z8rmzqlPCMsh1ZzAsY9XgyDveAWjF6S0H8TeiIfPabF5KiekYSqJWKgEsIZR6pJrMFYRBqPrJNUEYhhiWwdLMElLC6OkJNF1jz2M72XpwE3bcQjM0kpk4CMHC1BL9m3pp72trCmPZMYvuIeUM9bl/+0RzvqDF25tWRn4XE4YhF45cxIpZVEtV5scXkUDgq0d30TD8DTyf+Yk8MpJkOzNNg2YAv+7TOdhBGIQsTi8xeXGaoW399G/pY2Eqj5O0qZfr6IbeND54W/I29AiVkoaXqWzK/kopMQxdSQCHIWFwVbemUqgCorEQGqppW9ukf1MvTtymb0NPc9tnXjrP5MUZwiAEzGv2nW5LMn1llvNHL7Pr4W1vzQm3+JFpZeR3MV7NI/AjauU6o6cnKC0pJbzAU3KzYajU9kI/xK97BF64KoiHQYhb99h07zrueWQbiUyMi8dHmLkyR+D6ZDszjSEXobRWbjY389P7Ngviy8hIout6UxtHRlJN3TZKLKIxsBN4Ab4b4HtqenRubB7TNtj50NZrHJ7CIGRxSnmnzo0vXHffiXSCV546dUvPr8XNoZWR38W88vRpLhy/TL3q4ntBs+YaeCGaLjFtJZHq1iJkFFEuVhua40oDGyHYsn9j0/fxwAf3MnJynK0HNzJ+bhLd0tnz2E5mR+e5cnJs1b41XWsMs6xRS17ZNLFGgNV0DRlFb6oGvWp3b/NOmrBRUtFNDU1o6ukmCBsiWSaGqROGEVGgWlkCN8BzfdbfM7yqt//q9tS0qGEa1Mr16+7XtA2qxdac351AK5DfpZw7cpEn//hZugY7GDk5qjK+ZalrTf2xy7rqjLAcZSihawKhazgxi77NvXT2tzUtwkCN+6cyCayYRXGhwpZ9G9ANnfU7h+ga6uTwN47i1jyQQumsGCZhECB0cc0EqFqsW9ZPkasC7etOi75B5NuwrLISGUmErpFpzzQt8aJIadUkMvFr2gXrFRfP9Tn9wjk6B9ub3qjLKE9PlZkbN/Dg9GoeXUMdt+ScWtxcWoH8LkRKydNfOES6PYWTcDj70oWGdKrWqL1GqqQSBoCBYQpiiRj1qsv2+zevsvmKooil2QLzE4t4NQ/fCygXygxs7Vtl1JvtSqObBnZD6wPAtEx8txGYEc1BI4VqY7RiJvWauzrQ3uyg+zYaJLoedtymo7+NSqFKuVAhDELsVOyaIB74IZZjohmCwnyR8lKFVHZ1Vq7rOl1DHYyeHqet9/r+m9VSjT2P7bwl59Pi5tKqkd+FzI0vsDiZJ56OkelKYcfta1x3RLO9DSzHxHMDpdOxgkqxytHvvsrpQ+dZnF5iYSpPtVTj4stXuHD0MkFw1XxAoDRdVHavsm3TNkm3p4glY01tbqGrxTuJehpYacR8y7mVczBCCXoJ/QZSu2t8f1mad1n/WzfVf5V64YqOIKm0xkGS6UxhWAZu1WP01Li6hq8hmUtg2iZW/NqFToD8TIFcT5YNe1raKncCrUB+F1Ir1dAa9XBNaLT3ZrEciyiMCIOoMRmoMnQ1AOSgCXASFqeeO4vvBbg1l5PPniEKwmaGHk/F6RrqIJ6OsTi1xLmXLjYV/4QmSOYSpNuSOHG7sWgqm3ZlPeu7aevJ4sRjpHIJ4smYGj1HSa5asbUDzo+EWP3/QhPEUs6qwHhTEUpDxXIsdE1rTm5ew4onDaXXrjTKDdOge7iTVFuC9fcM0zPchWkaINRahe+qBU47bqPpGguTS9RKdYQuuPzqKC985SXGz082pW9nx+aJJRz++r/5BWUkMjpHveoS+CGVQpXpK7PEUg4/8fc/jmndxOve4pbRKq3chViOtarm3Luxh0qxxuJ0HssxVXBDdUPopk7gBYRhRP+WXsIgYuzMBMXFEuWlCnbcxncDkrkEW/ZvZH5iAaSaIMzPFCgulsi0p5VLja6R6UyTyiVZmMrT1pslkUnQ3pejvTfHyefPsTi5SOdgByMnRiktlBENAwplW8bNKaus2MayJK8ds7DjNkszhZuwgxU0jlkiCf2IMIya2uOy0VK48rXLOubLdxuha3T0ptn97h0kswkkkmqxysLkAv2bepqa50KD+fFFJVFrqyCfaU/Ru76LwkKJM4cukJ8p0Lehm73v2cWBD+4h25lh874NnHj2DK8+fZryUoVMR4pHPn0/W/ZvwI7Za53RD8XCVJ6Rk6PUSnVSbUk27V3X0m25hbQC+V1I11AH8UyMesXFSdj0rOvkyqkxTNsiCkKle01E1Gg99OrKob1WrOO7AYl0jPzMEn2bekhlk6Q70iSzatEt25lh9MwENDS1Z0bmyLSnMUyDnnVdTF6YJp6KkW5Pce9771nVzphuT5Kfzqv6b9yhUqg1FP4gqAU3rzbeuFEtlyws21RPImtYr90MLMdU5Y3GRKYTs6nXXGRDgwZxdTnSdExCP8L3fEzLoK1HOd7HUg4zo3OMnZkgP72EZuhMnJuivb+NZDZBcaGkesdNHd/1SbensRyLDXvWoeka1VKNhclFfubXP0338NVpzXR7ioc+cZCHPnHwppxrtVTjG//te1w8PgI0upPCkG9rGvvev5tHf/LBW/fkcxfTCuR3Ibqh88DH9vOt33+SnnVdxFNxBrf2sTRbxE46aiio0V4YRRGWY9E50E4iHadSrBJPx2EyT3GuxPD2wabzujJJUL3ni1N5rJhFeanS3O/g1j4K80XmxxcZ3jnYDOJRFLE0UyCZjpPIJtT/Z+PUKzWiSFKv1G9aEFfGxEr/RNM1NEMn15NF0zSmLs9efeFa2f+P8ERgmgZRQ+jKMHRSbUliyRju6Dy6oWHHbbya1yx7BH6IrisTaztuI4Qg153l2PdOkJ9Rvd/bH9yC6Zgc/sZxZkfnWZotEviBMrmOJNmuDEII1u0abAbNRDpOpVDl/NFLqwL5zcStuXzu33yFufEFuoY6Vi3EhmHES984Rq1c4yO/8v6WMNdNplUjv0vZ+55d7HvfPcyMzFFcKNHR105bTxYrZhF4AYZlIASkcil6N3Q36+BSSuyEhe2YhGHE5ROjgMrEXnnqFK/+4DRhGFFeqjA7Os/UpRnmxucBZY7Q0d/O1oMbyXammB2bZ25snvnxRdbdM8in/u5H6Bxox0naVEs1qqX61QXWm/R3L1E2cwiB5ZiYlkHP+i4e+MQBktn4yhc2vTSX972sa7KK6xzXspt9tjtDLG43WwB9N2BxOo/W8Og0TYNYKtYI3jq6pmFYOtnuNLnuLH/pn3yKRCYOUrLjwS1sv38LhfkSF45eJp6KYVqGmsSVauo23ZHCMHQ27ll3TcCOp2JMXpi+ORdyDU49f46pyzN0DrRfE6h1XaN7uIsTz5xl4hYew91KKyO/S9E0jQ/85cfYuHc9L339GFdOjyOlJNORYscDWxBCcOnVK6TbUs33KN0QQUd/O4uTS9TKdfIzSyzNFjh35CIyks2+5mQmwdy4yjpffuoUg1v76N3QzXt/5hH2ve8eAOYnFokiSbo9SbotxctPncSJ2+x6eBuHvn6skQBLtfiK8qv8oYeAVrjPr0RGEitmqqcKAZEfMrS9Hztm0dabw3N93IqLRPmX6oYyN/a9QG1SqGGkG4l/aYYGUmJYBl7dx07YhGFE93AHsWSsaY0XhmqAR0ipJH9dH03X2LhnHf1blFzwxr3rOPncWfa+Zxfj56a4/OoopmkqnZtMgmQuSX5mifxMgUxHmq6hdjr62hrG19ee+60qH0kpefHrx8h2Zq5/XTR183z5+ycY2Nx7S47jbqUVyO9ihBBs3LOOjXvW4Xs+R77zCt//42fpWdelJjNf095WKVbpWdeJE7Pp39zD6RfOo2mCyydGCYPoNRZykkxHmj3v2YFX86kUavzi//unSaSvLnj1bexhJfWKi6Ypmzk7ZjGwpY+FyUWiKCIIQ6KGU84Pg5r+lAiNZn+6ZmiYlsqAabTr7XhwK8mM6rNu781Rypdxqx6pbIIoivCX3Y0Ao+GqpOkmSKitUfIRurr9aIZOLGXjxCxyPTkmalOYttnsxBGawLFtAi+ge10XIKlXPXrWdbL53g0ASif+8hxREJGfKTB+bpJEJtE0mADVDdM12EF5qUJhvsDud2+/btmiWqrdMqs2t+ZRmC/R8zplm2Q20crIbwGt0koLQA3n3P/hfTzwsf3Mjc1Tyit/ziiMqFddyoUKbb051t2jAkFbb46+TT2UlyosTCpxLFABv1apU6+6bL1vE/FknGxnBt3UuPzq2I0OgVQuQRiGTF6cIZZwiKdjZLsyTbf4N+LtvVJ1UNM1dFP1XWu6Tr2sWvPW7Rqio7+dpVnlb9m7oVuVOxwTGUU4cZt0e4pMV7rZwREGEem2JPs+sJvhnYNNd/rmfkNVurEdiyhUMsAT56eIpWLKbBqw41bD4FogUbVl0zLRhKBnXVdjPypbj6cdpJSMnZ1U7YVrZNRCKJu90mKZwlxxzeuhFqyV0fatQFWd5Ov+jmTjvFvcXFoZeYsmQgge+6mH2LJ/A9/+/ad46nPP49U9km1J+jb0kOlMNwOJQDC8c4DifIniQolqsdZsncv2ZBjc0rdK58OyLaYvz95QSW/9PUMAeK7fFHpKt6cI/ZCF6TxREDWnQl+P5YCh6RpC0zBMHTtm4SQdOvraWZhapDBX4kzxQlNrJZmL0bO+m66hLibOT1KvutBYhPTdoLl2sLx4qWmqhFQpVZWyY6MrxTB0Aj9ARBpG3MZ0TCxL6bTXynWchI3QNKIwQtM0aqU6tVIdO24xfn6KTEcKAex+dCe5nhxuzaNerjet+dbCSTqYjsmlV6+w+907V/WpV4pVigslPvrZD6yayr2ZWI5F93AXpXyFVO76bYalxTJ737vrlhzD3UwrkLdYhRCC/k29/Nw//wnKhSqGqb+mZHKVpeki97xrG/OTS6TbEurxfq6E7wVMj8wSeEEj+GsNc4Tr77eUL3Pp5RHS7SkKcwWchIVlKR2XZFuS0lKZwA/waj/8mOdyMLccVS9et2uQdHsawzLoGmpnfnKRcr5Co2seGcHOB7ew5z07+f4fP8vhb73M0myxcfOQOEkboQnK+SrHvvMqbt1TA1NxG6/uKwPkSBKGql9cSkm2I01bb5YoVFIGQgjKS2XsmEl5qYrvBVQKFdLtKSzHojhfZOriDKZl8MinH2BgSy+mYxKF4XUz2SiKMAydbQc3EXgBS7NLDaEt1Z2T687w47/20WbJ5lYghOC+j9zLX/z215utqK8l8EOiMGLPoztu2XHcrbQCeYs1MUyDj372/Xzu33yFKIxW2X5JKcnPFLAckw/+0vv4w3/xOUZOjLE4vYTQ1NRiFEpmR+dx4jbbH9hM4AUMbOm/Zj++5/P9P36WV546RdSoaZuWyeipCRKZOO29bWi6mjRd7vVumjc3BmjWMm9YDiRCV9m4aZtMXZxFCI0t+zdgORZ9m3oIvIAokpiWMnCYujTLzoe38cDH97M4vcT8RJ6JxlQkEizLxIpZLM0WlOpgEDZ0agRm48YTRVLV12s+tXKdwnyJSkHZ4qXblcmyW/Ow4xZe3SPTkSaZS6gefqBnfRdD2/p5+vOHyHSkefiTBzn17FnimXCVUcfy76JSqDK0faAZTB/42H6mLs0S+AGpXJLudZ2r/DpvFZv3b2D7A1s48+L5axZc6xWXxZklHv3JB+nob7/lx3K30QrkLa7L+l1D/NQ//ATf/p9PMXNlrvFdpUQ4vGOAx3/hMbJdGTzXZ/LSDO19uWuU9upVl+PfP8Hm/RvZsHto1c/CMOSrv/ttzh2+RNdgR1Nz+8CH9vLy90/g1jwWp/N09LWR7U6DkFSWqsqKTh3K2jXZxiEYpo4MIwI/JNuVJZJRsy9evUxcM4Ke7c7wwlcOU8pXmJ9YZOLCVGP6UunO1CsulWJVSf1qAs3U8F0fsSJQappA03RCI6CwUERKiRO3EaibVKYjTRRFXDk1TizpcODxPc0MOplLEEuovnzTMnjyT57ls//653nmC4c4f+QSVszCMHWCICRwA4Su0b+xh/4tPcyPLbD9gS3EkrFbtqh5I3Rd52N/7QO097dx+BvHmrrpUkqSmQQf/ez7WyYVt4hWIG9xQ4Z3DPJL//JnmLw4w9JsAU0TdA130tGnXNjHz08BkO1MUyvViSWdZja8XEcul10Gt/U1g2YYhlSLNa6cGuPMoQv0buhe9Sje1pNl3a4hJs5PEYURQzsHmLwwjRCqO2K5F3y5lLEKoQKpYRmYloluKlf4dTsHmJ/MUy3Wbni+sYTDuTOTTDYCeOAGzW0ARETIxn0kiiSRF6JpEqFHaJq56jyUmmTU6PNu3DwaawzVQpUokiSTMSTQNXitXKwdt8nPFhg/O8XP/Pqn+c//8A+YvTLPwuQioETHEpk4mi6YvTK/Zu/4W41u6DzyY/dx34f2MnlxBq/uEU/F6N3Yfc3TRIubRyuQt3hdNE1jYHPvmr2/rzx1kkQqxq5HtnP5xBUWJ/M0ZuCREuIph73v2cXk+WnKhQqnXzjPS18/RrVUY+TEqOrPFoKu4Y7mH7pAsH7XEIlMnEuvXOHc4YsYhk5hroQTdxjY3IflmMxPLrI4tdR0yFnWTYklHPq39KBpOkKoNsFYKoYmlpDR69fYS/kyXkOMCq6WacIgVFnmSho6KjKQhHqIblwN+mFD90TXdXxPLZZGQUS5UCUMJdnOFMlckskL080b4/WOp2uoA93QCP2Qtt4cTkzV692ay4VjI/Ru6OKv/5u//LbpCLEci3U7B2/3Ydw1tAJ5izfF7Og8sVQMO2ax7eBm3KpLeamqJkDjdnPha/LSNH/0f32B/HSBXHeGrsEOLr1yBdM2ufjKCPMTC2x/cAuGoT6SQgi6hzrpHGhn7OwkD33iAJ/7zSfQda3ZCrjcomjZJsXFkhL50nUMSwfU5OTytpBKx2Q5OF+PelUNOdVKNWoVlygM0UJNOe94YSOjFiBWmFs0etRVuUVD6EKJkkXKzDiejpFIx9ENnQ17hrFjNm7N5fzRS1iOSSlfbg4+rYUQgi//h2/QM9zFwOY+ZkfnmZ9YJAwj0h1ptt23mXrV5dj3TvDYTz18E36rLe40WoG8xZvCtAxqpat2YXbcxn6NR6SUkonzaghkpQGwEALTNLAck+JimZETY2zau/41exA4CZsHP3mQr//X71FcKDYD+crFNNM2qBfrWGmrWdIBlS0jwUnYJDNx7JhFGEbo+rWLf7VKncPfPI7v+oSB6lSRUo3VSxk1sl31PqEJZGO6U0q1WBq4Ab4XYFoGUSSVNZuuZGvtuMWuR7YhhKaeHrAA0TC5vl43imz2zxfmy/SsU2WT4e0DDG8fWPVa3ws49t0TPPjxA29KtbDFnUlrIKjFm2Lb/ZtXCWOtxcJUHs/16V63un6b687g1lwEgng6zuzoPJ672ryitFBiePsA8WSMT/+9j+LWfGrlGjKS2DELIQSlpQr1shqrr5fr1CseS3NFfNfHq3nEMzFqpRqb923g0Z96kNkrc6vlYwHP8zn67VfQNI2+jT1KagBlSYdQA0ZRoyyz1lCLV/eJpHpNGEYYpo4Vs/BqPu19OTqHOjh/9DJHvnWcl586yavPnsWtusyPLyqRqzWy8cXpPBv2DLMwmV9bv3wFpmUQBiFzY9c3U27xzqWVkbd4U2y7fzM/+PPnm5K4ryWKImavzNHR14aurQ5GPeu7mRtbaPpPSikpLpSb9eIoklTLNQ5+aC8A931kH4e/9QqXXh6hWq4RhlHTVCGWdDBsk0q+gmHpVJYqlPMVEpkEm/YOM7xzkI/99cexHBM7ZnPoq0eJwqippbIwtYjQBPvev5vSYpniQpnKUgXPDQiDQJVKpFqo1RpZstAFRBKtYZO3fMypXAIn6VAvuxCTSpv71Bi2Y9M52Ibt2I2bAUxfnqVWrjUzeVDZ9eJUnkxnmsd/4TGe/8rhZkfPjRBCEP6QA1Mt3lm0AnmLN0UiHefjf/ODfPHffY16xSLdcXX6s1qqsTRXZOPeYRanrzVsSOUS9G3qUSPsSTV0tDy56bk+8xOL7Hl0B8ONRTNd1/n5f/4T/OlvfImFyTzz48rEwrB05scXcKsemc40lmNSr7pIKeld38lf/Y2fX9UZ88in7ufe993DxeMjLM0WsGImh756lKHtAzhxG9MysOMWum0QVb1VvesylIQoW7xY0sGJ28TTcUqLZWVYHUXUynU0TeO+j9zLwvgipw+dV+UmCbOjC3Q3FnajMGL7A5twqwEzV+aag0u6oXHgQ3u478P7SKTjdA60471ObV9K1cWTbk/d8HUt3pm0AnmLN82mvev52f/j0zz3pZe4fGK0UdeFTGeKj/zK+7BjFl/+nW9e8z7VFjiIHbcZPztJvVKntFhuKBRavOczD3HgQ3tXDbNkOzP8/D//SV76xjH+4P/5Z43ho4gNe4ZJtaUaXSOQyMRJ5ZLNjP+1pZBauc7C1CJjZyYRQjB+boqNDX9KoQlVf5cS0zGIgggaY/dKAldtI/SVUXUURXSv66RWUk8JdsxC0zQS6ThFu0SqPYVXcwmjiCiImB6Zo2uwg/X3DNG3sYfFqTxbDm7k4Af3ApDpTK+qc285sJHv/uHTBH543RJLYa7I8I4Bcl3XVx9s8c7lpgRyIcQ/AP4V0CmlnL8Z22xxZ9G3sYef+Psfp7iodFeMhruNpml4dQ/TNvBd/xp5VSEEfRu6yXVlWJzK84lf/RCJdJz+zT1omsbIiTGOfucVFiYWMWyTHQ9sZufD2xjY0se2BzbT3ptD07QbTi5OnJ9qtk5GUcTTn3+BQ189im7oDa1vVcdfmi2y4Z4hnKRDpVBlYEsf1WJNdbGU6017PCEEuqERSzrYcVt16uTLZDrS2DGLVFuSaqGmJkMnFxvXQeDWPCVCVqmz/f7Nzew505nh/JFLfPSvfmDN40+k4zzyqft48k+fo2uo85pgXimqUf93/+SDP+qvr8UdzpsO5EKIQeADwOibP5wWdzrpttQqDXNQPcUP/dh9fP+Pnmn0Q68ORIEfkp9Z4sN/9X3sfHArALVyjS/+9tcZPztJLOkQS8YIg5DnvnyY579yhF3v2oZAoBs61WKN+fEF6lUX0zZp78uRbks1RbPCFS7yL33jOM9/+TDd67pWda4M7xhg4vwUl0+MKgVEy8AwjOb5eK7H6JlJpaXiB40ebg/N0JGRxIk7BH6gulQaMrW+6zeEsZTR9bIQWBQpRcnlQK4bGr4X3FAZ8P6P7kdKePYvXmw+schI4tU9Epk4n/lHn2wqJ7a4+7gZGflvAv8I+NJN2FaLdygHP7iXesXl0BNH0HRNZcJAZalKFEU89pmH2PPoTkDVe7/8H7/F5IVpuoc7VwQ3k1jCwa15HHriCIEXMD+5SH56qZElqzLL1KUZEpk42+7bTBRGtDcWT92ay3NfepHOwQ50XVMTpiXVAZPryjJ1cQbdNJi9Mkv/ptXDT6XFippqXdfJ/MSiGkJq+JfG03HsuMXCZJ5auU62M9OQAjCJJZU59XL9ey1q5TptPdkbDvMIIXjw4wfY/e7tnHnxAjNX5tBNnQ33DLP+nqFV3qct7j7e1G9fCPEJYEJK+fLrTZQJIT4LfBZgaGjohq9t8c5DCMG7P/0AOx7cwolnTjN6egKAHQ9t5Z5HtpHrzjZfO3Vphisnx14TxK9ixyzSHSmOfe8Euq6t2b5XK9d55amTrN89zPqG7sjIiTE1tKMLRs9MMHVputEvrm4eVsyiWlA6KvVKnUQmgZSSetWluFhq+pYW50uAGkfP9WSb+06kY0yPlIkaNkZtPTlMy+D80cvNQL7c1x5LOc1jLS2UePwX3/NDXcdEJsH+D+z5oV7b4u7hdQO5EOI7QM8aP/p14J8Cj/8wO5JS/i7wuwAHDhy4WX7oLe4wOvraXnf68NTzZzEt84YZKgj8uo+ViRO4wTW1d8sxWZzOM7i1D6vxs2K+TBRFnH7+HIX5UqPrRJV5pJTUKy5C04inYxQWS8otAaX94lZdktkEQgjSHSnmxhaavebL2AkHTRcUZov0buwhlnSwHJOJC9PUSjViqRheTZVCltUkF6by5HpzbD246Y1eyjdEpVhVaxem3pQWbvHO4XUDuZTy/Wt9XwhxD7AeWM7GB4CjQoj7pJQtL6c1UBN6RQI/JJGJN1XuWqxmabZ4w1IEqP5rJ26zce96xs9OUl6qNKcow1CNym89uKnRtaIMHGzHYnZsgdJiSQXlFUFYCEEs6ah6tevTt7GbwW39OHEbwzSolmoEfoBpmcSTMZyUjWHqVMs1nJgNAqqlOslsglg6RvdQh5IMMHR2PLiVM4fOk58tgJQM7RggP13Ad326hjr41N/5SLN+frOZHZvnhSeOcO6li6rbRkqyXRnu/9h+dj60tRXQ3yH8yKUVKeWrQHN1RQgxAhxoda1cSxRFnHr+HIe+dpT81FJDr0Oy/YEt3PeRfTcUTLobiaXUwuGNqBQq6KZOritDz3An+dkChfkisjGQ09abwzANNS1aV45DPeu7WJxaJN2euq6uiWEZCODe9+/m0stXmrX3vo09XHx5BBDUK3W23LuRjoE2ZkbmWJxeQkYSXdf4yf/tE+x+dAff+v0nV0j/QtdwJwPbeulZ342uaSRzCXY+tJWBrX23TBVw9MwEf/5vvoyuaXT0tzWHiqrFGl/9z99m4twUj/+Vx1rB/B1Aa4XkFhNFEd/+g6c49t1XyXSm6Rxsb07gnX3xImdfushP/cNPXLO4djez48GtnHru3A1fE/oRsURM2aYJQXtvjvbe3KrXyIYlm97w1Qz9kGQ2iVv1MNLXfvSllFRLdToG2sm0p/jU3/4wz3zhELOj80gpCYMQt1pn073rm/X75Q6dpdkCdtzivT/zCLFkrCH9O83CZB6Ajv62a+R6byX1qstf/PbXSKTj1zg8xdMxnKTD8e+fYHBbHzsfammE3+nctEAupVx3s7b1TuLU8+c49t1X6Vnfvco4V9c12vtyVApVvvjvvsZn/9XPNw0P7naGtvfT1ptlaa5ItjN9zc/DIMRJ2KpGfYPAWFwoMbyjf4UOesTA5h6mr8xTXqrgJOxmt4fvBdQrdTKdafo2dBMGIVsPbmLLgY3Mjc1Tq7jUKy5P/fnzLM0WKC6UMG2lplgr18n1ZPmJv/ex5oTqsmXe7bpBnz96Cbfqke1ce0BI0wSZjjQvfu0YOx7c+raRv23xo9HKyG8hUkoOfe3oKtPi15LIxJm5MseF4yPseGDLW3yEb090XefH/+5H+dPf+AtmrsyR7cpgxyyiSFKcL1Kr1Hn8Fx7j1WdO47l+czFzJVEYUS3VOPihe5vfS7cl0QydnQ9tZW5snskL01RqVWXhFjPZuGcdXUMdLEzm6WwYPQgh6Bq6Kva1cc8wIyfGeOUHpyjly3QOtLP70R1vuxbAM4fOE7uO1+oy8XSM2dF5Sovl1mj/Hc7b55P3DqQwXyQ/tUTn4I09Cp2Ew5lD51uBfAW57iw////4KV59+jSHv/kyhTllmbZh9xAHPriXoe0D9G/u4Wv/5bskswmSuUQzq6yWaizNFjj44XtZt+tqq2u6PcXGPesYOzNB/6Zeejd047uqFm85qktmWRVx231rd5EYpsGme9ez6d7Xyu2+vfBdf02p3pUsG3G83npEi7c/rUB+Cwl8ZUTweo+tuqFd9aFs0SSRjvPAR/dz34fvxav76Ia2ymPznnftIJlL8swXDjE9ooyVkcps4aOffT+7Htl+zbV/5Mfv53/9i89RKVRJNPTJlwmDkJkrczzy4/eTyiXfsvO8FXQOtDMzMtccvFqLMFCfz3j6+q9pcWfQCuS3EPVHJK9rZLCMW3Xp6M9d9+d3O5qmXbc9b/2uIdbtHGzqoZi2qTo0rtOJ0TXYwWf+0Sf5i9/+OtNX5rBsE00TjRup5OFP3cdDnzx4C8/mrWHXu7Zz7Hsnbjj2n58psOvhbbes9bHFW0crkN9CYgmH7Q9s4eyLF2nvWztQSynxvYBdj2x/i4/unYMQgraeH/5G2L+pl7/2r/8yIyfGuPjKCIEb0DXUwdb7Nl2jE3On0rOui60HN3L2pYtrTsiqvnvR1HpvcWfTCuS3mPs+so+zL11sPsqvRErJzJU5th7ceNvdz+827pRa94+KEIIP//L7EEJw5sULGIaOnbAJgwi36pLIxvnMP/6xN3QDbPH2RUj51k/LHzhwQB4+fPgt3+/tYuLCFF/8d1+jVq7jJNT0YL3iEvgBWw9u5MO//L5W62GLW4KUkrmxeV595gyLU3msmMW2g5vYsGd41XpDizsDIcQRKeWBa77fCuRvDV7d48LxEc4cOo9X9+noz7Hrke3XFYZq0aJFi9dyvUDeKq28RViOxY4HtrRaDO9gCvNFLr4yQq1YJ5GJs2HP8Dumpt7izqYVyFu0eB3cmst3/ucPOPXCOTXyr+uqdU8Idr97B+/5mUfWHEpq0eKtohXIW7S4AYEf8Be//XVGT0/QOdixakI3CiNefuoklWKVT/7qh26Z+FWLFq9HS/asRYsbcOHYZUZOjNE11HGNzIKma3QPd3L+6CWunBy/TUfYokUrkLdocUNe+sYxkrnkdRekhRDEUzEOf+vlt/jIWrS4SiuQt2hxHaSUTF+eI5m98Qh7Mptg6mLLS6XF7aMVyFu0uAFCE7xei66UEtEyZ2hxG2l9+lq0uA5CCIZ3DlJcKN/wdcX5Eht2twzFW9w+WoG8RYsbcODxPVRLNaIoWvPnYRjh1j32vveet/jIWrS4SiuQt2hxA4Z3DHDve3cxMzJ3jdSwW/OYGZnlvg/fS/+mntt0hC1atPrIW7S4IZqm8f6ffzfZrgyHvnqE/IwHQplnxxIOH/jLj3Lv++5pySy0uK20AnmLFq+Druvc/5F97Hv/PUxemKZe9XASNv2bet5W9m4t7l5an8IWLX5ITMtkeMfg7T6MFi2uoVUjb9GiRYs7nFYgb9GiRYs7nFYgb9GiRYs7nNtiLCGEmAOuvOU7vjV0APO3+yDeAu6W84S751zvlvOEd865Dkspr/GFvC2B/J2EEOLwWo4d7zTulvOEu+dc75bzhHf+ubZKKy1atGhxh9MK5C1atGhxh9MK5G+e373dB/AWcbecJ9w953q3nCe8w8+1VSNv0aJFizucVkbeokWLFnc4rUDeokWLFnc4rUB+kxBC/AMhhBRCdNzuY7lVCCH+lRDijBDiFSHEF4UQ2dt9TDcTIcSHhBBnhRAXhBD/++0+nluFEGJQCPF9IcRpIcRJIcTfvd3HdCsRQuhCiGNCiCdu97HcKlqB/CYghBgEPgCM3u5jucV8G9glpdwNnAP+yW0+npuGEEIH/gPwYWAH8JeEEDtu71HdMgLgf5NSbgceAP7WO/hcAf4ucPp2H8StpBXIbw6/Cfwj4B29ciyl/JaUMmh8+QIwcDuP5yZzH3BBSnlJSukBfwJ88jYf0y1BSjklpTza+P8SKsj1396jujUIIQaAjwK/d7uP5VbSCuRvEiHEJ4AJKeXLt/tY3mJ+Cfj67T6Im0g/MLbi63HeocFtJUKIdcC9wKHbfCi3it9CJVlre/W9Q2jpkf8QCCG+A6zl5fXrwD8FHn9rj+jWcaNzlVJ+qfGaX0c9nv/hW3lst5i1LH7e0U9YQogk8Hng16SUxdt9PDcbIcTHgFkp5REhxGO3+XBuKa1A/kMgpXz/Wt8XQtwDrAdeblh9DQBHhRD3SSmn38JDvGlc71yXEUL8AvAx4H3ynTWEMA6sdI0YACZv07HccoQQJiqI/6GU8gu3+3huEQ8DnxBCfARwgLQQ4n9JKX/uNh/XTac1EHQTEUKMAAeklO8ElbVrEEJ8CPi3wKNSyrnbfTw3EyGEgVrAfR8wAbwE/IyU8uRtPbBbgFBZx+8Di1LKX7vNh/OW0MjI/4GU8mO3+VBuCa0aeYs3wr8HUsC3hRDHhRD/6XYf0M2isYj7q8A3UYt/f/ZODOINHgZ+Hnhv4/d4vJG1trhDaWXkLVq0aHGH08rIW7Ro0eIOpxXIW7Ro0eIOpxXIW7Ro0eIOpxXIW7Ro0eIOpxXIW7Ro0eIOpxXIW7Ro0eIOpxXIW7Ro0eIO5/8Prz6NPIZE1i0AAAAASUVORK5CYII=\n",
      "text/plain": [
       "<Figure size 432x288 with 1 Axes>"
      ]
     },
     "metadata": {
      "needs_background": "light"
     },
     "output_type": "display_data"
    }
   ],
   "source": [
    "#Generating the random data, three inputs of the length 500, they are plotted below\n",
    "N = 500\n",
    "x1 = np.random.randn(N, 2) + np.array([0,-2])\n",
    "x2 = np.random.randn(N, 2) + np.array([2,2])\n",
    "x3 = np.random.randn(N, 2) + np.array([-2,2])\n",
    "\n",
    "x = np.vstack([x1, x2, x3])\n",
    "\n",
    "y = np.array([0]*N + [1]*N + [2]*N)\n",
    "\n",
    "plt.scatter(x[:,0], x[:,1],c = y, s = 100, alpha = 0.5)\n",
    "plt.show()"
   ]
  },
  {
   "cell_type": "code",
   "execution_count": 148,
   "metadata": {},
   "outputs": [],
   "source": [
    "# Setting up the matricies for use in the Feed Forwrad model, There is only one hidden layer in this model\n",
    "D = 2\n",
    "M = 3\n",
    "K = 3\n",
    "\n",
    "W1 = np.random.randn(D, M)\n",
    "b1 = np.random.randn(M)\n",
    "W2 = np.random.randn(M,K)\n",
    "b2 = np.random.randn(K)"
   ]
  },
  {
   "cell_type": "code",
   "execution_count": 149,
   "metadata": {},
   "outputs": [],
   "source": [
    "# In the feed forward model the first step is to use the sigmoid function to find the hidden layer activation value\n",
    "# Next, use the activation value (Z) multiplied by the hidden layer weights to find the activation value of the output\n",
    "# Then calculate Y using the softmax method\n",
    "def ff_sigm(x, W1, b1, W2, b2):\n",
    "    a = x.dot(W1) + b1\n",
    "    Z = 1 / (1 + np.exp(-a))\n",
    "    A = Z.dot(W2) + b2\n",
    "    exponA = np.exp(A)\n",
    "    Y = exponA / exponA.sum(axis = 1, keepdims = True)\n",
    "    return Y"
   ]
  },
  {
   "cell_type": "code",
   "execution_count": 150,
   "metadata": {},
   "outputs": [],
   "source": [
    "ff_y = ff_sigm(x, W1, b1, W2, b2)"
   ]
  },
  {
   "cell_type": "code",
   "execution_count": 151,
   "metadata": {},
   "outputs": [],
   "source": [
    "P = np.argmax(ff_y, axis = 1)"
   ]
  },
  {
   "cell_type": "code",
   "execution_count": 152,
   "metadata": {},
   "outputs": [
    {
     "name": "stdout",
     "output_type": "stream",
     "text": [
      "0.3333333333333333\n"
     ]
    }
   ],
   "source": [
    "n_correct = 0\n",
    "n_total = 0\n",
    "for i in range(len(y)):\n",
    "    n_total += 1\n",
    "    if y[i] == P[i]:\n",
    "        n_correct += 1\n",
    "print(float(n_correct)/n_total)"
   ]
  },
  {
   "cell_type": "markdown",
   "metadata": {},
   "source": [
    "# Ecommerce Data - Preprocessing"
   ]
  },
  {
   "cell_type": "code",
   "execution_count": 165,
   "metadata": {},
   "outputs": [],
   "source": [
    "import numpy as np"
   ]
  },
  {
   "cell_type": "code",
   "execution_count": 348,
   "metadata": {},
   "outputs": [],
   "source": [
    "def import_data():\n",
    "    df = pd.read_csv(r'/Users/prof/Documents/machine_learning_examples/ann_logistic_extra/ecommerce_data.csv')\n",
    "    data = df.to_numpy()\n",
    "    \n",
    "    x = data[:,:-1]\n",
    "    y = data[:, -1]\n",
    "    \n",
    "    #Normalizing the numerical values in the dataset for n_products_viewed and visit duration\n",
    "    x[:, 1] = (x[:,1] - x[:, 1].mean()) / x[:,1].std()\n",
    "    x[:, 2] = (x[:,2] - x[:, 2].mean()) / x[:,2].std()\n",
    "    \n",
    "    N, D = x.shape\n",
    "    x2 = np.zeros((N, D+3))\n",
    "\n",
    "    x2[:, 0:(D-1)] = x2[:,0:(D-1)]\n",
    "\n",
    "    for n in range(N):\n",
    "        t = int(x[n,D-1])\n",
    "        x2[n,t+D-1] = 1\n",
    "\n",
    "    z = np.zeros((N, 4))\n",
    "    z[np.arange(N), x[:,D-1].astype(np.int32)] = 1\n",
    "    \n",
    "    return x, y\n",
    "\n",
    "def get_binary_data():\n",
    "    x, y = import_data()\n",
    "    x2 = x[y <= 1]\n",
    "    y2 = y[y <= 1]\n",
    "    return x2, y2\n",
    "\n"
   ]
  },
  {
   "cell_type": "code",
   "execution_count": 349,
   "metadata": {},
   "outputs": [
    {
     "data": {
      "text/plain": [
       "(array([[ 1.        , -0.81697841, -0.40827769,  0.        ,  3.        ],\n",
       "        [ 1.        ,  0.13967078, -0.4994283 ,  0.        ,  2.        ],\n",
       "        [ 1.        , -0.81697841, -1.03884323,  1.        ,  1.        ],\n",
       "        ...,\n",
       "        [ 0.        , -0.81697841, -0.90498762,  1.        ,  3.        ],\n",
       "        [ 1.        , -0.81697841, -0.86695367,  0.        ,  3.        ],\n",
       "        [ 0.        , -0.81697841,  1.59982383,  1.        ,  3.        ]]),\n",
       " array([0., 1., 0., 0., 0., 1., 0., 0., 0., 1., 0., 1., 1., 1., 0., 0., 0.,\n",
       "        0., 1., 0., 0., 0., 1., 1., 0., 0., 1., 1., 0., 1., 0., 1., 0., 1.,\n",
       "        0., 0., 1., 1., 1., 1., 0., 0., 1., 1., 0., 0., 1., 0., 0., 1., 1.,\n",
       "        1., 1., 1., 0., 0., 0., 0., 0., 0., 1., 0., 0., 0., 0., 0., 0., 0.,\n",
       "        0., 0., 0., 1., 1., 1., 0., 0., 0., 0., 1., 0., 1., 0., 0., 1., 0.,\n",
       "        1., 0., 0., 1., 0., 0., 1., 0., 0., 1., 0., 1., 1., 0., 0., 0., 0.,\n",
       "        0., 1., 0., 1., 0., 0., 0., 0., 0., 0., 0., 1., 1., 0., 0., 0., 0.,\n",
       "        0., 1., 1., 1., 0., 0., 1., 1., 0., 0., 0., 0., 0., 0., 0., 1., 0.,\n",
       "        1., 0., 0., 0., 0., 1., 0., 1., 1., 0., 1., 0., 0., 0., 0., 0., 1.,\n",
       "        0., 0., 0., 0., 1., 0., 0., 0., 0., 1., 0., 1., 0., 0., 0., 0., 1.,\n",
       "        1., 1., 0., 1., 1., 1., 0., 1., 0., 1., 1., 1., 0., 0., 0., 0., 0.,\n",
       "        1., 0., 1., 1., 0., 0., 1., 0., 0., 0., 1., 1., 0., 0., 0., 0., 1.,\n",
       "        0., 0., 0., 0., 0., 0., 1., 0., 0., 1., 0., 1., 0., 0., 0., 1., 0.,\n",
       "        0., 0., 1., 0., 0., 1., 0., 1., 0., 1., 0., 0., 1., 0., 1., 1., 0.,\n",
       "        1., 1., 0., 0., 1., 0., 0., 0., 0., 1., 1., 1., 1., 1., 1., 1., 1.,\n",
       "        0., 0., 0., 0., 1., 1., 0., 1., 1., 0., 0., 0., 0., 1., 0., 0., 1.,\n",
       "        0., 0., 0., 0., 1., 0., 1., 0., 0., 1., 1., 1., 0., 0., 0., 0., 1.,\n",
       "        1., 1., 0., 0., 0., 1., 0., 1., 1., 0., 0., 0., 0., 0., 0., 0., 0.,\n",
       "        1., 1., 1., 1., 0., 1., 0., 0., 0., 0., 1., 0., 1., 1., 0., 1., 0.,\n",
       "        1., 0., 0., 1., 0., 1., 0., 0., 1., 0., 0., 0., 0., 1., 0., 0., 0.,\n",
       "        1., 0., 1., 0., 0., 0., 0., 0., 1., 0., 0., 0., 0., 0., 0., 0., 0.,\n",
       "        1., 0., 1., 1., 0., 1., 0., 0., 0., 1., 0., 0., 0., 0., 1., 1., 1.,\n",
       "        0., 1., 0., 0., 0., 0., 0., 0., 0., 0., 0., 1., 1., 1., 0., 1., 1.,\n",
       "        0., 0., 0., 0., 0., 0., 0.]))"
      ]
     },
     "execution_count": 349,
     "metadata": {},
     "output_type": "execute_result"
    }
   ],
   "source": [
    "get_binary_data()"
   ]
  },
  {
   "cell_type": "markdown",
   "metadata": {},
   "source": [
    "# Predictions with Feed Forward/Softmax"
   ]
  },
  {
   "cell_type": "code",
   "execution_count": 350,
   "metadata": {},
   "outputs": [],
   "source": [
    "x, y = import_data()\n",
    "M = 5 #Hidden units\n",
    "D = x.shape[1]\n",
    "K = len(set(y))\n",
    "W1 = np.random.randn(D,M)\n",
    "b1 = np.zeros(M)\n",
    "W2 = np.random.randn(M, K)\n",
    "b2 = np.zeros(K)"
   ]
  },
  {
   "cell_type": "code",
   "execution_count": 351,
   "metadata": {},
   "outputs": [],
   "source": [
    "def tanh(x, weight1, bias1):\n",
    "    tanh_result = []\n",
    "    for i in range(len(x)):\n",
    "        tanh_init = []\n",
    "        for j in range((M)):\n",
    "            activation = np.dot(x[i], weight1[j])+b1[j]\n",
    "            tanh_init.append((math.exp(activation) - math.exp(-activation)) / ((math.exp(activation) + math.exp(-activation))))\n",
    "        tanh_result.append(tanh_init)\n",
    "    return tanh_result"
   ]
  },
  {
   "cell_type": "code",
   "execution_count": 352,
   "metadata": {},
   "outputs": [],
   "source": [
    "Z = tanh(x, W1, b1)"
   ]
  },
  {
   "cell_type": "code",
   "execution_count": 353,
   "metadata": {},
   "outputs": [],
   "source": [
    "def y_calc(ff_zvals, weights2, bias2):\n",
    "    weights2t = np.transpose(weights2)\n",
    "    y_final = []\n",
    "    for i in range(len(ff_zvals)):\n",
    "        y_init = []\n",
    "        for j in range(K):\n",
    "            activation = np.dot(ff_zvals[i],weights2t[j]) + bias2[j]\n",
    "            y_init.append(activation)\n",
    "        y_final.append(y_init)\n",
    "    return y_final"
   ]
  },
  {
   "cell_type": "code",
   "execution_count": 354,
   "metadata": {},
   "outputs": [],
   "source": [
    "y_values_ff = y_calc(Z, W2, b2)"
   ]
  },
  {
   "cell_type": "code",
   "execution_count": 355,
   "metadata": {},
   "outputs": [],
   "source": [
    "def predictions(y_vals):\n",
    "    expa = np.exp(y_vals)\n",
    "    answer = expa / expa.sum(axis = 1, keepdims = True)\n",
    "    predictions = np.argmax(answer, axis = 1)\n",
    "    return predictions"
   ]
  },
  {
   "cell_type": "code",
   "execution_count": 356,
   "metadata": {},
   "outputs": [],
   "source": [
    "pred = predictions(y_values_ff)"
   ]
  },
  {
   "cell_type": "code",
   "execution_count": 357,
   "metadata": {},
   "outputs": [],
   "source": [
    "def classify(y, p):\n",
    "    return np.mean(y == p)"
   ]
  },
  {
   "cell_type": "code",
   "execution_count": 358,
   "metadata": {},
   "outputs": [
    {
     "name": "stdout",
     "output_type": "stream",
     "text": [
      "Accuracy Score with random weights:  0.308\n"
     ]
    }
   ],
   "source": [
    "classification = classify(y, pred)\n",
    "print('Accuracy Score with random weights: ', classification)"
   ]
  },
  {
   "cell_type": "markdown",
   "metadata": {},
   "source": [
    "# Understanding the math for Multiclass Logistic Regression with Softmax"
   ]
  },
  {
   "cell_type": "markdown",
   "metadata": {},
   "source": [
    "This section focuses on building a multiclass logistic regression with Softmax. Particularly on the math behind the scenes of the loss function. \n",
    "\n",
    "Objective: $y = softmax(W ^t x)$ <br>\n",
    "Loss Function: $L = - \\sum \\limits _{n=1} ^{N} \\sum \\limits _{k=1} ^{k}t_{nk}log(y_{nk})$\n",
    "\n",
    "We can also turn the loss function from minimizing the negative log likelihood to maximizing the log likihood. <br>\n",
    "Loss Functions: $J = \\sum \\limits _{n=1} ^{N} \\sum \\limits _{k=1} ^{k}t_{nk}log(y_{nk})$\n",
    "\n",
    "The goal of this section is to find the gradient of the loss function J and then iteratively move our weights (w) in the direction of the gradient until it converges to a solution. The quesiton is, how do we find the derivative of J with respect to w? <br>\n",
    "$\\frac{\\partial{J}}{\\partial{x}} = \\frac{\\partial{J}}{\\partial{z}} \\frac{\\partial{z}}{\\partial{y}} \\frac{\\partial{y}}{\\partial{x}}$<br>\n",
    "\n",
    "We have to use the chain rule to help us find the derivative with respect to x because J is a function of z which is a function of y which is a funciton of x. So our new derivative looks like the following: <br>\n",
    "$\\frac{\\partial{J}}{\\partial{W}_{ik}} = \\sum\\limits _{n=1} ^{N} \\sum \\limits _{k=1} ^{k}\\frac{\\partial{J}_{nk'}}{\\partial{y}_{nk'}} \\frac{\\partial{y}_{nk'}}{\\partial{a}_{nk}} \\frac{\\partial{a}_{nk}}{\\partial{x}_{nk}}$<br>\n",
    "\n",
    "Looking at the first derivative of J with respect to y we know that $J = t_{nk'}log(y_{nk'})$ where t is a target. So the derivative of this equation would be $\\partial{J}_{nk'}/ \\partial{y}_{nk'} = {t}_{nk'}/{y}_{nk'}$<br>\n",
    "There is a little more work to get to the second derivative as we have to work through some of the softmax code, but ultimately we can simplify the second derivative to be $\\partial{y}_{nk}/ \\partial{a}_{nk} = y_{nk'}(\\delta_{kk'} - y_{nk})$<br>\n",
    "Looking at the third derivative in the equation a with respect to W we know: $a_{nk} = W_{:,k}^{T} * x_{n}$ where $W_{:,k}^{T}$ is our weights matrix. The derivative of a with respect to W would be $\\partial{a}_{nk}/ \\partial{W}_{ik} = x_{ni}$<br>\n",
    "<br>\n",
    "Joining all of this together we get $\\partial{J}/ \\partial{W} = \\sum\\limits_{n=1}^{N} \\sum\\limits_{k'=1}^{K}\\frac{{t}_{nk'}}{{y}_{nk'}}*y_{nk'}(\\delta_{kk'} - y_{nk})*x_{ni}$<br>\n",
    "Which can be simplified to $\\partial{J}/ \\partial{W}_{ik} = \\sum\\limits_{n=1}^{N} ({t}_{nk}*y_{nk})*x_{ni}$"
   ]
  },
  {
   "cell_type": "markdown",
   "metadata": {},
   "source": [
    "# Backpropogation"
   ]
  },
  {
   "cell_type": "code",
   "execution_count": 371,
   "metadata": {},
   "outputs": [],
   "source": [
    "def forward(X, W1, b1, W2, b2):\n",
    "    Z = 1 / (1 + np.exp(-X.dot(W1) - b1))\n",
    "    A = Z.dot(W2) + b2\n",
    "    expA = np.exp(A)\n",
    "    Y = expA / expA.sum(axis = 1, keepdims = True)\n",
    "    return Y, Z"
   ]
  },
  {
   "cell_type": "code",
   "execution_count": 372,
   "metadata": {},
   "outputs": [],
   "source": [
    "def classification_rate(Y, P):\n",
    "    n_correct = 0\n",
    "    n_total = 0\n",
    "    for i in range(len(Y)):\n",
    "        n_total += 1\n",
    "        if Y[i] == P[i]:\n",
    "            n_correct += 1\n",
    "    return float(n_correct) / n_total"
   ]
  },
  {
   "cell_type": "code",
   "execution_count": 375,
   "metadata": {},
   "outputs": [],
   "source": [
    "def derivative_w2(Z, T, Y):\n",
    "    N, K = T.shape\n",
    "    M = Z.shape[1]\n",
    "    pd_w2 = Z.T.dot(T-Y)\n",
    "    return pd_w2"
   ]
  },
  {
   "cell_type": "code",
   "execution_count": 376,
   "metadata": {},
   "outputs": [],
   "source": [
    "def derivative_b2(T, Y):\n",
    "    pd_b2 = (T-Y).sum(axis=0)\n",
    "    return pd_b2"
   ]
  },
  {
   "cell_type": "code",
   "execution_count": 393,
   "metadata": {},
   "outputs": [],
   "source": [
    "def derivative_w1(X, Z, T, Y, W2):\n",
    "    init_d = (T-Y).dot(W2.T) * Z * (1-Z)\n",
    "    ret2 = X.T.dot(init_d)\n",
    "    return ret2"
   ]
  },
  {
   "cell_type": "code",
   "execution_count": 394,
   "metadata": {},
   "outputs": [],
   "source": [
    "def derivative_b1(T, Y, W2, Z):\n",
    "    pd_b1 = ((T-Y).dot(W2.T) * Z * (1-Z)).sum(axis =0)\n",
    "    return pd_b1"
   ]
  },
  {
   "cell_type": "code",
   "execution_count": 395,
   "metadata": {},
   "outputs": [],
   "source": [
    "def cost(T,Y):\n",
    "    cst = T * np.log(Y)\n",
    "    return cst.sum()"
   ]
  },
  {
   "cell_type": "code",
   "execution_count": null,
   "metadata": {},
   "outputs": [],
   "source": []
  },
  {
   "cell_type": "code",
<<<<<<< HEAD
   "execution_count": 435,
=======
   "execution_count": 429,
>>>>>>> 1fa9246d45f7fff79aaa1702b1e9b0b1ba19ea82
   "metadata": {},
   "outputs": [],
   "source": [
    "def main():\n",
    "    #Generating the random data, three inputs of the length 500, they are plotted below\n",
    "    Nc = 500\n",
    "    D = 2\n",
    "    M = 3\n",
    "    K = 3\n",
    "    \n",
    "    x1 = np.random.randn(Nc, D) + np.array([0,-2])\n",
    "    x2 = np.random.randn(Nc, D) + np.array([2,2])\n",
    "    x3 = np.random.randn(Nc, D) + np.array([-2,2])\n",
    "    X = np.vstack([x1, x2, x3])\n",
    "    \n",
    "    Y = np.array([0]*Nc + [1]*Nc + [2]*Nc)\n",
    "    N = len(Y)\n",
    "    \n",
    "    #Setting up a matrix of NxK for our targets\n",
    "    T = np.zeros((N, K))\n",
    "    for i in range(N):\n",
    "        T[i, Y[i]] = 1\n",
<<<<<<< HEAD
    "       \n",
    "\n",
    "    plt.scatter(X[:,0], X[:,1], c = Y, s = 100, alpha = 0.5)\n",
    "    plt.show()\n",
=======
    "        \n",
>>>>>>> 1fa9246d45f7fff79aaa1702b1e9b0b1ba19ea82
    "    #We are going to randomly choose our weights and bias terms to start    \n",
    "    W1 = np.random.randn(D,M)\n",
    "    b1 = np.random.randn(M)\n",
    "    W2 = np.random.randn(M,K)\n",
    "    b2 = np.random.randn(K)\n",
    "    \n",
    "    learning_rate = 1e-5\n",
    "    costs = []\n",
    "    for i in range(10000):\n",
    "        output, hidden = forward(X, W1, b1, W2, b2)\n",
    "        if i % 1000 == 0:\n",
    "            c = cost(T, output)\n",
    "            P = np.argmax(output, axis = 1)\n",
    "            r = classification_rate(Y,P)\n",
    "            print(\"cost:\", c, \"Classification_rate:\", r)\n",
    "            costs.append(c)\n",
    "        \n",
    "        #Setting up gradient ascent\n",
    "        W2 += learning_rate * derivative_w2(hidden, T, output)\n",
    "        b2 += learning_rate * derivative_b2(T, output)\n",
    "        W1 += learning_rate * derivative_w1(X, hidden, T, output, W2)\n",
    "        b1 += learning_rate * derivative_b1(T, output, W2, hidden)\n",
    "        \n",
    "        \n",
    "    plt.plot(costs)\n",
    "    plt.show()"
   ]
  },
  {
   "cell_type": "code",
<<<<<<< HEAD
   "execution_count": 436,
=======
   "execution_count": 430,
>>>>>>> 1fa9246d45f7fff79aaa1702b1e9b0b1ba19ea82
   "metadata": {
    "scrolled": false
   },
   "outputs": [
    {
<<<<<<< HEAD
     "data": {
      "image/png": "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\n",
      "text/plain": [
       "<Figure size 432x288 with 1 Axes>"
      ]
     },
     "metadata": {
      "needs_background": "light"
     },
     "output_type": "display_data"
    },
    {
     "name": "stdout",
     "output_type": "stream",
     "text": [
      "cost: -2435.520285485733 Classification_rate: 0.288\n",
      "cost: -562.5318598115425 Classification_rate: 0.9593333333333334\n",
      "cost: -341.8926192382968 Classification_rate: 0.964\n",
      "cost: -269.10215138068526 Classification_rate: 0.9646666666666667\n",
      "cost: -234.83213710487632 Classification_rate: 0.9666666666666667\n",
      "cost: -215.4609930882961 Classification_rate: 0.9666666666666667\n",
      "cost: -203.2369363808275 Classification_rate: 0.9673333333333334\n",
      "cost: -194.926317707679 Classification_rate: 0.9673333333333334\n",
      "cost: -188.95769959782265 Classification_rate: 0.9673333333333334\n",
      "cost: -184.48308265914437 Classification_rate: 0.9673333333333334\n"
=======
     "name": "stdout",
     "output_type": "stream",
     "text": [
      "cost: -2399.531178643949 Classification_rate: 0.3333333333333333\n",
      "cost: -486.91536155817954 Classification_rate: 0.964\n",
      "cost: -328.0563210169082 Classification_rate: 0.9673333333333334\n",
      "cost: -261.30517437077526 Classification_rate: 0.968\n",
      "cost: -226.03045311411267 Classification_rate: 0.968\n",
      "cost: -204.56991748093247 Classification_rate: 0.9666666666666667\n",
      "cost: -190.25823541688948 Classification_rate: 0.9673333333333334\n",
      "cost: -180.07582925723725 Classification_rate: 0.9666666666666667\n",
      "cost: -172.47314398147319 Classification_rate: 0.9666666666666667\n",
      "cost: -166.58063613242234 Classification_rate: 0.9666666666666667\n"
>>>>>>> 1fa9246d45f7fff79aaa1702b1e9b0b1ba19ea82
     ]
    },
    {
     "data": {
<<<<<<< HEAD
      "image/png": "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\n",
=======
      "image/png": "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\n",
>>>>>>> 1fa9246d45f7fff79aaa1702b1e9b0b1ba19ea82
      "text/plain": [
       "<Figure size 432x288 with 1 Axes>"
      ]
     },
     "metadata": {
      "needs_background": "light"
     },
     "output_type": "display_data"
    }
   ],
   "source": [
    "if __name__ == '__main__':\n",
    "    main()"
   ]
  },
  {
   "cell_type": "markdown",
   "metadata": {},
   "source": [
    "# Generate an Encoded Matrix"
   ]
  },
  {
   "cell_type": "code",
   "execution_count": 99,
   "metadata": {},
   "outputs": [],
   "source": [
    "def convert_numbered_targets_to_indicator_matrix(yin):\n",
    "    N = len(yin)\n",
    "    K = max(yin) + 1\n",
    "    z = (N, K)\n",
    "    Yout = np.zeros(z)\n",
    "    for n in range(N):\n",
    "        Yout[n,yin[n]] = 1\n",
    "    return Yout"
   ]
  },
  {
   "cell_type": "code",
   "execution_count": 100,
   "metadata": {},
   "outputs": [
    {
     "data": {
      "text/plain": [
       "array([[1., 0., 0., 0., 0., 0.],\n",
       "       [0., 0., 0., 0., 0., 1.],\n",
       "       [0., 1., 0., 0., 0., 0.],\n",
       "       [0., 0., 0., 1., 0., 0.],\n",
       "       [0., 1., 0., 0., 0., 0.],\n",
       "       [0., 0., 0., 0., 1., 0.],\n",
       "       [0., 0., 1., 0., 0., 0.],\n",
       "       [1., 0., 0., 0., 0., 0.]])"
      ]
     },
     "execution_count": 100,
     "metadata": {},
     "output_type": "execute_result"
    }
   ],
   "source": [
    "convert_numbered_targets_to_indicator_matrix([0,5,1,3,1,4,2,0])"
   ]
  }
 ],
 "metadata": {
  "kernelspec": {
   "display_name": "Python 3",
   "language": "python",
   "name": "python3"
  },
  "language_info": {
   "codemirror_mode": {
    "name": "ipython",
    "version": 3
   },
   "file_extension": ".py",
   "mimetype": "text/x-python",
   "name": "python",
   "nbconvert_exporter": "python",
   "pygments_lexer": "ipython3",
   "version": "3.8.5"
  }
 },
 "nbformat": 4,
 "nbformat_minor": 4
}
