{
 "cells": [
  {
   "cell_type": "code",
   "execution_count": 23,
   "metadata": {},
   "outputs": [],
   "source": [
    "import pandas as pd\n",
    "import numpy as np"
   ]
  },
  {
   "cell_type": "markdown",
   "metadata": {},
   "source": [
    "# Ecommerce Dataset\n",
    "There are 6 fields in the ecommerce dataset in this dataset and there will need to be some preprocessing to get the data ready for analysis.\n",
    "\n",
    "#### is_mobile - binary variable telling us if the user is using a mobile device\n",
    "#### N_products_viewed - Continuous, integer, how many products user viewed\n",
    "#### Visit_duration - How long was the visitor on the site, continuous integer\n",
    "#### Is_returning_visitor - binary variable marking returning visitors\n",
    "#### Time_of_day - integer, 4 categories splitting the 24 hour day evenly\n",
    "#### User_action - options: Bounce, add to cart, begin checkout, finish checkout\n",
    "\n",
    "For our time variable the categories are as follows:\n",
    "* 0 = 12 AM to 6 AM\n",
    "* 1 = 6 AM to 12 PM\n",
    "* 2 = 12 PM to 6 PM\n",
    "* 3 = 6 PM to 12 AM\n",
    "\n",
    "For the User action the categories are as follows:\n",
    "* Bounce - the user visited the site and did not do anything\n",
    "* Add to cart - the user added item to cart but never checked out\n",
    "* Begin Checkout - The user went to start checking out but never finished\n",
    "* Finish Checkout - the user finished the checkout process for their order"
   ]
  },
  {
   "cell_type": "code",
   "execution_count": 24,
   "metadata": {},
   "outputs": [],
   "source": [
    "data = pd.read_csv(r'/Users/prof/Documents/machine_learning_examples/ann_logistic_extra/ecommerce_data.csv')"
   ]
  },
  {
   "cell_type": "code",
   "execution_count": 25,
   "metadata": {},
   "outputs": [
    {
     "data": {
      "text/html": [
       "<div>\n",
       "<style scoped>\n",
       "    .dataframe tbody tr th:only-of-type {\n",
       "        vertical-align: middle;\n",
       "    }\n",
       "\n",
       "    .dataframe tbody tr th {\n",
       "        vertical-align: top;\n",
       "    }\n",
       "\n",
       "    .dataframe thead th {\n",
       "        text-align: right;\n",
       "    }\n",
       "</style>\n",
       "<table border=\"1\" class=\"dataframe\">\n",
       "  <thead>\n",
       "    <tr style=\"text-align: right;\">\n",
       "      <th></th>\n",
       "      <th>is_mobile</th>\n",
       "      <th>n_products_viewed</th>\n",
       "      <th>visit_duration</th>\n",
       "      <th>is_returning_visitor</th>\n",
       "      <th>time_of_day</th>\n",
       "      <th>user_action</th>\n",
       "    </tr>\n",
       "  </thead>\n",
       "  <tbody>\n",
       "    <tr>\n",
       "      <th>0</th>\n",
       "      <td>1</td>\n",
       "      <td>0</td>\n",
       "      <td>0.657510</td>\n",
       "      <td>0</td>\n",
       "      <td>3</td>\n",
       "      <td>0</td>\n",
       "    </tr>\n",
       "    <tr>\n",
       "      <th>1</th>\n",
       "      <td>1</td>\n",
       "      <td>1</td>\n",
       "      <td>0.568571</td>\n",
       "      <td>0</td>\n",
       "      <td>2</td>\n",
       "      <td>1</td>\n",
       "    </tr>\n",
       "    <tr>\n",
       "      <th>2</th>\n",
       "      <td>1</td>\n",
       "      <td>0</td>\n",
       "      <td>0.042246</td>\n",
       "      <td>1</td>\n",
       "      <td>1</td>\n",
       "      <td>0</td>\n",
       "    </tr>\n",
       "    <tr>\n",
       "      <th>3</th>\n",
       "      <td>1</td>\n",
       "      <td>1</td>\n",
       "      <td>1.659793</td>\n",
       "      <td>1</td>\n",
       "      <td>1</td>\n",
       "      <td>2</td>\n",
       "    </tr>\n",
       "    <tr>\n",
       "      <th>4</th>\n",
       "      <td>0</td>\n",
       "      <td>1</td>\n",
       "      <td>2.014745</td>\n",
       "      <td>1</td>\n",
       "      <td>1</td>\n",
       "      <td>2</td>\n",
       "    </tr>\n",
       "  </tbody>\n",
       "</table>\n",
       "</div>"
      ],
      "text/plain": [
       "   is_mobile  n_products_viewed  visit_duration  is_returning_visitor  \\\n",
       "0          1                  0        0.657510                     0   \n",
       "1          1                  1        0.568571                     0   \n",
       "2          1                  0        0.042246                     1   \n",
       "3          1                  1        1.659793                     1   \n",
       "4          0                  1        2.014745                     1   \n",
       "\n",
       "   time_of_day  user_action  \n",
       "0            3            0  \n",
       "1            2            1  \n",
       "2            1            0  \n",
       "3            1            2  \n",
       "4            1            2  "
      ]
     },
     "execution_count": 25,
     "metadata": {},
     "output_type": "execute_result"
    }
   ],
   "source": [
    "data.head()"
   ]
  },
  {
   "cell_type": "markdown",
   "metadata": {},
   "source": [
    "## Logistic Regression Example"
   ]
  },
  {
   "cell_type": "code",
   "execution_count": 26,
   "metadata": {},
   "outputs": [],
   "source": [
    "N = 100\n",
    "D = 2\n",
    "\n",
    "x = np.random.randn(N,D) #Creating a normally distributed data matrix\n",
    "ones = np.array([[1]*N]).T #Adding a column of 1 to add in the bias term\n",
    "xb = np.concatenate((ones,x), axis = 1)\n",
    "\n",
    "#Randomly Initialize a weight vector to show how to use the sigmoid\n",
    "w = np.random.randn(D + 1)"
   ]
  },
  {
   "cell_type": "code",
   "execution_count": 27,
   "metadata": {},
   "outputs": [],
   "source": [
    "#Multiplying our weights and independent variables using numpy dot function\n",
    "z = xb.dot(w)"
   ]
  },
  {
   "cell_type": "code",
   "execution_count": 28,
   "metadata": {},
   "outputs": [],
   "source": [
    "#Creating the sigmoid function\n",
    "def sigmoid(z):\n",
    "    return 1/(1+np.exp(z))"
   ]
  },
  {
   "cell_type": "code",
   "execution_count": 29,
   "metadata": {},
   "outputs": [
    {
     "data": {
      "text/plain": [
       "array([0.69456568, 0.67281618, 0.65251772, 0.72145095, 0.57746062,\n",
       "       0.7092308 , 0.52297776, 0.48668909, 0.64916322, 0.85425149,\n",
       "       0.57211232, 0.66044608, 0.74619792, 0.85743489, 0.67683743,\n",
       "       0.74534232, 0.48235673, 0.69852963, 0.49532346, 0.77186857,\n",
       "       0.67943208, 0.63567432, 0.65390778, 0.56511785, 0.44467205,\n",
       "       0.73306633, 0.6444764 , 0.71585288, 0.790717  , 0.58383917,\n",
       "       0.77303055, 0.68044869, 0.59357796, 0.7863176 , 0.65662495,\n",
       "       0.52012304, 0.66395822, 0.71741855, 0.73897693, 0.74345857,\n",
       "       0.5432722 , 0.70990199, 0.73838227, 0.59758029, 0.72753616,\n",
       "       0.79769935, 0.67361625, 0.74259057, 0.65675113, 0.6797007 ,\n",
       "       0.67331348, 0.5989304 , 0.64005053, 0.72705956, 0.57454453,\n",
       "       0.6975067 , 0.67266616, 0.64308499, 0.60033897, 0.48602566,\n",
       "       0.59077885, 0.82013846, 0.71636659, 0.79194221, 0.77940937,\n",
       "       0.66004083, 0.64938355, 0.64741364, 0.52275008, 0.76268346,\n",
       "       0.66046513, 0.52952064, 0.73946078, 0.72691537, 0.72663133,\n",
       "       0.57077057, 0.79994992, 0.60574153, 0.50276165, 0.6118984 ,\n",
       "       0.67636028, 0.74977939, 0.44538019, 0.70935954, 0.57643509,\n",
       "       0.66556176, 0.65860688, 0.71549564, 0.69932242, 0.73546908,\n",
       "       0.7069214 , 0.67608223, 0.57114718, 0.64569542, 0.55410834,\n",
       "       0.71320368, 0.70602857, 0.62507153, 0.75283415, 0.75141994])"
      ]
     },
     "execution_count": 29,
     "metadata": {},
     "output_type": "execute_result"
    }
   ],
   "source": [
    "sigmoid(z)"
   ]
  },
  {
   "cell_type": "code",
   "execution_count": null,
   "metadata": {},
   "outputs": [],
   "source": []
  }
 ],
 "metadata": {
  "kernelspec": {
   "display_name": "Python 3",
   "language": "python",
   "name": "python3"
  },
  "language_info": {
   "codemirror_mode": {
    "name": "ipython",
    "version": 3
   },
   "file_extension": ".py",
   "mimetype": "text/x-python",
   "name": "python",
   "nbconvert_exporter": "python",
   "pygments_lexer": "ipython3",
   "version": "3.8.5"
  }
 },
 "nbformat": 4,
 "nbformat_minor": 4
}
