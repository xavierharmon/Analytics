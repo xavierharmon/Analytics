{
 "cells": [
  {
   "cell_type": "code",
   "execution_count": 122,
   "metadata": {},
   "outputs": [],
   "source": [
    "import pandas as pd\n",
    "import numpy as np\n",
    "import matplotlib.pyplot as plt\n",
    "import math"
   ]
  },
  {
   "cell_type": "markdown",
   "metadata": {},
   "source": [
    "# Ecommerce Dataset\n",
    "There are 6 fields in the ecommerce dataset in this dataset and there will need to be some preprocessing to get the data ready for analysis.\n",
    "\n",
    "#### is_mobile - binary variable telling us if the user is using a mobile device\n",
    "#### N_products_viewed - Continuous, integer, how many products user viewed\n",
    "#### Visit_duration - How long was the visitor on the site, continuous integer\n",
    "#### Is_returning_visitor - binary variable marking returning visitors\n",
    "#### Time_of_day - integer, 4 categories splitting the 24 hour day evenly\n",
    "#### User_action - options: Bounce, add to cart, begin checkout, finish checkout\n",
    "\n",
    "For our time variable the categories are as follows:\n",
    "* 0 = 12 AM to 6 AM\n",
    "* 1 = 6 AM to 12 PM\n",
    "* 2 = 12 PM to 6 PM\n",
    "* 3 = 6 PM to 12 AM\n",
    "\n",
    "For the User action the categories are as follows:\n",
    "* Bounce - the user visited the site and did not do anything\n",
    "* Add to cart - the user added item to cart but never checked out\n",
    "* Begin Checkout - The user went to start checking out but never finished\n",
    "* Finish Checkout - the user finished the checkout process for their order"
   ]
  },
  {
   "cell_type": "code",
   "execution_count": 123,
   "metadata": {},
   "outputs": [],
   "source": [
    "data = pd.read_csv(r'/Users/prof/Documents/machine_learning_examples/ann_logistic_extra/ecommerce_data.csv')"
   ]
  },
  {
   "cell_type": "code",
   "execution_count": 124,
   "metadata": {},
   "outputs": [
    {
     "data": {
      "text/html": [
       "<div>\n",
       "<style scoped>\n",
       "    .dataframe tbody tr th:only-of-type {\n",
       "        vertical-align: middle;\n",
       "    }\n",
       "\n",
       "    .dataframe tbody tr th {\n",
       "        vertical-align: top;\n",
       "    }\n",
       "\n",
       "    .dataframe thead th {\n",
       "        text-align: right;\n",
       "    }\n",
       "</style>\n",
       "<table border=\"1\" class=\"dataframe\">\n",
       "  <thead>\n",
       "    <tr style=\"text-align: right;\">\n",
       "      <th></th>\n",
       "      <th>is_mobile</th>\n",
       "      <th>n_products_viewed</th>\n",
       "      <th>visit_duration</th>\n",
       "      <th>is_returning_visitor</th>\n",
       "      <th>time_of_day</th>\n",
       "      <th>user_action</th>\n",
       "    </tr>\n",
       "  </thead>\n",
       "  <tbody>\n",
       "    <tr>\n",
       "      <th>0</th>\n",
       "      <td>1</td>\n",
       "      <td>0</td>\n",
       "      <td>0.657510</td>\n",
       "      <td>0</td>\n",
       "      <td>3</td>\n",
       "      <td>0</td>\n",
       "    </tr>\n",
       "    <tr>\n",
       "      <th>1</th>\n",
       "      <td>1</td>\n",
       "      <td>1</td>\n",
       "      <td>0.568571</td>\n",
       "      <td>0</td>\n",
       "      <td>2</td>\n",
       "      <td>1</td>\n",
       "    </tr>\n",
       "    <tr>\n",
       "      <th>2</th>\n",
       "      <td>1</td>\n",
       "      <td>0</td>\n",
       "      <td>0.042246</td>\n",
       "      <td>1</td>\n",
       "      <td>1</td>\n",
       "      <td>0</td>\n",
       "    </tr>\n",
       "    <tr>\n",
       "      <th>3</th>\n",
       "      <td>1</td>\n",
       "      <td>1</td>\n",
       "      <td>1.659793</td>\n",
       "      <td>1</td>\n",
       "      <td>1</td>\n",
       "      <td>2</td>\n",
       "    </tr>\n",
       "    <tr>\n",
       "      <th>4</th>\n",
       "      <td>0</td>\n",
       "      <td>1</td>\n",
       "      <td>2.014745</td>\n",
       "      <td>1</td>\n",
       "      <td>1</td>\n",
       "      <td>2</td>\n",
       "    </tr>\n",
       "  </tbody>\n",
       "</table>\n",
       "</div>"
      ],
      "text/plain": [
       "   is_mobile  n_products_viewed  visit_duration  is_returning_visitor  \\\n",
       "0          1                  0        0.657510                     0   \n",
       "1          1                  1        0.568571                     0   \n",
       "2          1                  0        0.042246                     1   \n",
       "3          1                  1        1.659793                     1   \n",
       "4          0                  1        2.014745                     1   \n",
       "\n",
       "   time_of_day  user_action  \n",
       "0            3            0  \n",
       "1            2            1  \n",
       "2            1            0  \n",
       "3            1            2  \n",
       "4            1            2  "
      ]
     },
     "execution_count": 124,
     "metadata": {},
     "output_type": "execute_result"
    }
   ],
   "source": [
    "data.head()"
   ]
  },
  {
   "cell_type": "markdown",
   "metadata": {},
   "source": [
    "## Logistic Regression Example"
   ]
  },
  {
   "cell_type": "markdown",
   "metadata": {},
   "source": [
    "The objective of this section is to cover at a high level some of the foundational pieces of the Logistical regression puzzle using a binary response variable. In the example below, there are two inputs (x) and one output (y) with $\\epsilon(0,1)$ where $y = \\mathit{f}(w^Tx)$ where w are the weights that indicate the impact our independent variable has on our output variable.\n",
    "\n",
    "In Logistic Regression, we have a nonlinear relationship, and as such, our output y will be transformed by a nonlinear function $\\sigma(w^Tx)$. There are a couple of nonlinear transformations that can be used in logistic regression\n",
    "1) The Hyperbolic Tangent\n",
    "$tanh(x) \\epsilon(-1,1)$\n",
    "it has a y intercept of 0\n",
    "\n",
    "2) The sigmoid function <br>\n",
    "$\\sigma(z) = \\frac{1}{1 + e^-z} \\epsilon(0,1)$<br>  \n",
    "where $z = w^Tx$<br>\n",
    "It has a y intercept of 0.5\n",
    "\n",
    "The rest of this example will use the sigmoid function as a non linear transformation. An example of a sigmoid function can be found below. It is constrained between 0 and 1 and has a y intercept of 0.5.\n",
    "\n",
    "Recall that our output is binar with a result of 0 or 1. With logistic regression, when we interpret the output of our nonlinear sigmoid transformation, our results will be between 0 and 1, and we can say that any output above 0.5 is a prediction of 1 and any output less than or equal to 0.5 is a prediction of 0."
   ]
  },
  {
   "cell_type": "code",
   "execution_count": 125,
   "metadata": {},
   "outputs": [
    {
     "data": {
      "image/png": "[encoded data removed]",
      "text/plain": [
       "<Figure size 432x288 with 1 Axes>"
      ]
     },
     "metadata": {
      "needs_background": "light"
     },
     "output_type": "display_data"
    }
   ],
   "source": [
    "def sigmoid_ex(x):\n",
    "    a = []\n",
    "    for item in x:\n",
    "        a.append(1/(1+np.exp(-item)))\n",
    "    return a\n",
    "\n",
    "\n",
    "x = np.arange(-10, 10, 0.2)\n",
    "\n",
    "sig = sigmoid_ex(x)\n",
    "\n",
    "plt.plot(x, sig)\n",
    "plt.show()"
   ]
  },
  {
   "cell_type": "code",
   "execution_count": 126,
   "metadata": {},
   "outputs": [],
   "source": [
    "N = 100 #Number of Observations\n",
    "D = 2   #Number of Independent variables\n",
    "\n",
    "x = np.random.randn(N,D) #Creating a normally distributed data matrix\n",
    "ones = np.array([[1]*N]).T #Adding a column of 1 to add in the bias term\n",
    "xb = np.concatenate((ones,x), axis = 1)\n",
    "\n",
    "#Randomly Initialize a weight vector to show how to use the sigmoid function\n",
    "w = np.random.randn(D + 1)"
   ]
  },
  {
   "cell_type": "code",
   "execution_count": 127,
   "metadata": {},
   "outputs": [],
   "source": [
    "#Multiplying our weights and independent variables using numpy dot function\n",
    "z = xb.dot(w)"
   ]
  },
  {
   "cell_type": "code",
   "execution_count": 128,
   "metadata": {},
   "outputs": [],
   "source": [
    "#Creating the sigmoid function\n",
    "def sigmoid(z):\n",
    "    return 1/(1+np.exp(-z))"
   ]
  },
  {
   "cell_type": "code",
   "execution_count": 129,
   "metadata": {},
   "outputs": [
    {
     "data": {
      "text/plain": [
       "array([0.62123905, 0.97006187, 0.87218739, 0.69077138, 0.75943328,\n",
       "       0.97893706, 0.0752627 , 0.90215053, 0.49252466, 0.87331118,\n",
       "       0.93552169, 0.60431731, 0.56397078, 0.48601347, 0.66195199,\n",
       "       0.15908267, 0.97152107, 0.88737655, 0.30074606, 0.92947056,\n",
       "       0.35641387, 0.65621349, 0.7484497 , 0.87280905, 0.63016027,\n",
       "       0.84193071, 0.89377335, 0.8591726 , 0.801651  , 0.5795625 ,\n",
       "       0.57712368, 0.95993511, 0.29952668, 0.14618741, 0.94378304,\n",
       "       0.67289003, 0.76021012, 0.18248998, 0.82020501, 0.64875636,\n",
       "       0.6506782 , 0.57087764, 0.80276584, 0.70776353, 0.93999609,\n",
       "       0.9394621 , 0.5842325 , 0.90559116, 0.04393011, 0.7156044 ,\n",
       "       0.49198576, 0.85386993, 0.7840179 , 0.63473138, 0.96969298,\n",
       "       0.78863055, 0.35955252, 0.87828265, 0.84198819, 0.56718225,\n",
       "       0.81460295, 0.86150768, 0.84613769, 0.6526506 , 0.02658199,\n",
       "       0.47247818, 0.59134932, 0.97713832, 0.38473041, 0.54730803,\n",
       "       0.6630676 , 0.51285792, 0.14136142, 0.67841112, 0.98758792,\n",
       "       0.96636004, 0.03547861, 0.88436305, 0.81114538, 0.40298122,\n",
       "       0.84135434, 0.56397663, 0.79411544, 0.94292119, 0.37488312,\n",
       "       0.8568881 , 0.37778432, 0.80536131, 0.63083334, 0.95996781,\n",
       "       0.74244156, 0.14789061, 0.30557565, 0.38080254, 0.77825996,\n",
       "       0.69719956, 0.95926675, 0.60417471, 0.17909739, 0.77570607])"
      ]
     },
     "execution_count": 129,
     "metadata": {},
     "output_type": "execute_result"
    }
   ],
   "source": [
    "#This is the result of our non-linear transformation, we could use these values to predict 0 or 1.\n",
    "sigmoid(z)"
   ]
  },
  {
   "cell_type": "markdown",
   "metadata": {},
   "source": [
    "## Preprocessing for logistic regression Ecommerce Data"
   ]
  },
  {
   "cell_type": "markdown",
   "metadata": {},
   "source": [
    "Some of the setup here looks familiar from the steps above, we want to prepare the data and in some instances there will still be randomly initialized values used instead of actual data. Here our focus shifts from understanding what the sigmoid function is to how to use it with randomly generated weights!\n",
    "\n",
    "Also in this section, accuracy rates will be calculated to show that with randomly generated weights, our accuracy is well...random"
   ]
  },
  {
   "cell_type": "code",
   "execution_count": 130,
   "metadata": {},
   "outputs": [
    {
     "data": {
      "text/html": [
       "<div>\n",
       "<style scoped>\n",
       "    .dataframe tbody tr th:only-of-type {\n",
       "        vertical-align: middle;\n",
       "    }\n",
       "\n",
       "    .dataframe tbody tr th {\n",
       "        vertical-align: top;\n",
       "    }\n",
       "\n",
       "    .dataframe thead th {\n",
       "        text-align: right;\n",
       "    }\n",
       "</style>\n",
       "<table border=\"1\" class=\"dataframe\">\n",
       "  <thead>\n",
       "    <tr style=\"text-align: right;\">\n",
       "      <th></th>\n",
       "      <th>is_mobile</th>\n",
       "      <th>n_products_viewed</th>\n",
       "      <th>visit_duration</th>\n",
       "      <th>is_returning_visitor</th>\n",
       "      <th>time_of_day</th>\n",
       "      <th>user_action</th>\n",
       "    </tr>\n",
       "  </thead>\n",
       "  <tbody>\n",
       "    <tr>\n",
       "      <th>0</th>\n",
       "      <td>1</td>\n",
       "      <td>0</td>\n",
       "      <td>0.657510</td>\n",
       "      <td>0</td>\n",
       "      <td>3</td>\n",
       "      <td>0</td>\n",
       "    </tr>\n",
       "    <tr>\n",
       "      <th>1</th>\n",
       "      <td>1</td>\n",
       "      <td>1</td>\n",
       "      <td>0.568571</td>\n",
       "      <td>0</td>\n",
       "      <td>2</td>\n",
       "      <td>1</td>\n",
       "    </tr>\n",
       "    <tr>\n",
       "      <th>2</th>\n",
       "      <td>1</td>\n",
       "      <td>0</td>\n",
       "      <td>0.042246</td>\n",
       "      <td>1</td>\n",
       "      <td>1</td>\n",
       "      <td>0</td>\n",
       "    </tr>\n",
       "    <tr>\n",
       "      <th>3</th>\n",
       "      <td>1</td>\n",
       "      <td>1</td>\n",
       "      <td>1.659793</td>\n",
       "      <td>1</td>\n",
       "      <td>1</td>\n",
       "      <td>2</td>\n",
       "    </tr>\n",
       "    <tr>\n",
       "      <th>4</th>\n",
       "      <td>0</td>\n",
       "      <td>1</td>\n",
       "      <td>2.014745</td>\n",
       "      <td>1</td>\n",
       "      <td>1</td>\n",
       "      <td>2</td>\n",
       "    </tr>\n",
       "  </tbody>\n",
       "</table>\n",
       "</div>"
      ],
      "text/plain": [
       "   is_mobile  n_products_viewed  visit_duration  is_returning_visitor  \\\n",
       "0          1                  0        0.657510                     0   \n",
       "1          1                  1        0.568571                     0   \n",
       "2          1                  0        0.042246                     1   \n",
       "3          1                  1        1.659793                     1   \n",
       "4          0                  1        2.014745                     1   \n",
       "\n",
       "   time_of_day  user_action  \n",
       "0            3            0  \n",
       "1            2            1  \n",
       "2            1            0  \n",
       "3            1            2  \n",
       "4            1            2  "
      ]
     },
     "execution_count": 130,
     "metadata": {},
     "output_type": "execute_result"
    }
   ],
   "source": [
    "data.head()"
   ]
  },
  {
   "cell_type": "code",
   "execution_count": 131,
   "metadata": {},
   "outputs": [],
   "source": [
    "def process_data(data):\n",
    "    dataset = data.values\n",
    "    \n",
    "    #split features and labels\n",
    "    X = dataset[:,:-1]\n",
    "    Y = dataset[:,-1].astype(np.int32)\n",
    "    \n",
    "    \n",
    "    #Normalize the Independent variables\n",
    "    X[:,1] = (X[:,1] - X[:,1].mean()) / X[:,1].std()\n",
    "    X[:,2] = (X[:,2] - X[:,2].mean()) / X[:,2].std()\n",
    "    \n",
    "    \n",
    "    N, D = X.shape\n",
    "    X2 = np.zeros((N, D+3)) #There are four different categorical variables so we have D + 3 s\n",
    "    X2[:,0:(D-1)] = X[:,0:(D-1)]\n",
    "    \n",
    "    for n in range(N):\n",
    "        t = int(X[n, D-1])\n",
    "        X2[n,t+D-1] = 1\n",
    "    \n",
    "    return X2, Y"
   ]
  },
  {
   "cell_type": "code",
   "execution_count": 132,
   "metadata": {},
   "outputs": [],
   "source": [
    "def get_binary_data(data):\n",
    "    x2, y = process_data(data)\n",
    "    X2 = x2[y<=1]\n",
    "    Y2 = y[y<=1]\n",
    "    return X2, Y2"
   ]
  },
  {
   "cell_type": "code",
   "execution_count": 133,
   "metadata": {},
   "outputs": [],
   "source": [
    "X2, Y2 = get_binary_data(data)"
   ]
  },
  {
   "cell_type": "code",
   "execution_count": 134,
   "metadata": {},
   "outputs": [],
   "source": [
    "#Setup for the logistic regression model we will use the sigmoid function from above\n",
    "D = X2.shape[1]\n",
    "W = np.random.randn(D)\n",
    "b = 0\n",
    "\n",
    "def forward (X, W, b):\n",
    "    return sigmoid(X.dot(W) + b)\n",
    "\n",
    "def classification_rate(Y, P):\n",
    "    return np.mean(Y==P)"
   ]
  },
  {
   "cell_type": "code",
   "execution_count": 135,
   "metadata": {},
   "outputs": [],
   "source": [
    "p_y_given_x = forward(X2, W, b)\n",
    "predictions = np.round(p_y_given_x)"
   ]
  },
  {
   "cell_type": "code",
   "execution_count": 136,
   "metadata": {},
   "outputs": [],
   "source": [
    "cr = classification_rate(Y2, predictions)"
   ]
  },
  {
   "cell_type": "code",
   "execution_count": 137,
   "metadata": {},
   "outputs": [
    {
     "name": "stdout",
     "output_type": "stream",
     "text": [
      "Accuracy: 0.4371859296482412\n"
     ]
    }
   ],
   "source": [
    "#Finding the accuracy when we use randomly chosen weights and values\n",
    "#If you run the code blocks multiple times, the accuracy will be all over the place because we use random weights\n",
    "print('Accuracy: ' + str(cr))"
   ]
  },
  {
   "cell_type": "markdown",
   "metadata": {},
   "source": [
    "# Calculating the Cross entropy loss function"
   ]
  },
  {
   "cell_type": "markdown",
   "metadata": {},
   "source": [
    "In logistic regression, we aim to minimize the cross entropy or loss function, which is described below, where the first term only matters if the target value is 1, and the second value only matters is the target is 0.\n",
    "\n",
    "$L = -{t log(y) + (1-t) log(1-y)}$<br>\n",
    "\n",
    "We can also thing of the loss function in the opposite manner as maximizing the log likelihoood value.<br>\n",
    "$J = {t log(y) + (1-t) log(1-y)}$<br>\n",
    "\n",
    "The goal of this section is to understand how the loss function is calculated using randomly assigned values for our variables and weights. For the section below we are minimizing the cost where $T$ is the target value $\\epsilon (0,1)$ and Y is the output from the logistic regression model"
   ]
  },
  {
   "cell_type": "code",
   "execution_count": 138,
   "metadata": {},
   "outputs": [],
   "source": [
    "N = 100 #Number of Observations\n",
    "D = 2   #Number of Independent variables\n",
    "\n",
    "X = np.random.randn(N,D)\n",
    "\n",
    "#Set the first 50 data points to be centered at x = -2 and y = -1\n",
    "X[:50, :] = X[:50, :] - 2*np.ones((50,D))\n",
    "X[50:,:] = X[50:,:] + 2*np.ones((50,D))\n",
    "\n",
    "T = np.array([0]*50 + [1]*50)\n",
    "\n",
    "w = np.random.randn(D + 1)\n",
    "\n",
    "ones = np.array([[1]*N]).T\n",
    "xb = np.concatenate((ones,X), axis = 1)"
   ]
  },
  {
   "cell_type": "code",
   "execution_count": 139,
   "metadata": {},
   "outputs": [],
   "source": [
    "def cross_entropy(T, Y):\n",
    "    E = 0\n",
    "    for i in range(N):\n",
    "        if T[i] == 1:\n",
    "            E -= np.log(Y[i])\n",
    "        else:\n",
    "            E -= np.log(1-Y[i])\n",
    "    return E"
   ]
  },
  {
   "cell_type": "code",
   "execution_count": 140,
   "metadata": {},
   "outputs": [],
   "source": [
    "z = xb.dot(w)"
   ]
  },
  {
   "cell_type": "code",
   "execution_count": 141,
   "metadata": {},
   "outputs": [],
   "source": [
    "Y = sigmoid(z)"
   ]
  },
  {
   "cell_type": "code",
   "execution_count": 142,
   "metadata": {},
   "outputs": [
    {
     "name": "stdout",
     "output_type": "stream",
     "text": [
      "21.96383890478162\n"
     ]
    }
   ],
   "source": [
    "print(cross_entropy(T, Y))"
   ]
  },
  {
   "cell_type": "markdown",
   "metadata": {},
   "source": [
    "# Maximizing the likelihood"
   ]
  },
  {
   "cell_type": "markdown",
   "metadata": {},
   "source": [
    "From earlier, we know our loss function takes the form below:\n",
    "\n",
    "$J = -\\sum \\limits _{n=1} ^N t_{n}*log(y_{n}) + (1 - t_{n})*log(1-y_{n})$<br>\n",
    "\n",
    "Can we prove maximizing the log likelihood function is related to minimizing our loss function? We have our logistic regression function \n",
    "$p(y=1|x) = \\sigma(W ^T X)$<br>\n",
    "\n",
    "and our likelihood function is (two asterisks indicates the power function):\n",
    "$L = \\Pi _{n=1} ^N  y _{n}**t_{n} + (1-y_{n})**(1-t_{n})$<br>\n",
    "\n",
    "In our Likelihood equation, $\\Pi$ is the symbol for production multiplication ($f_{x}(x_{1}), x_{2}, ...,x_{n} = f_{x}(x_{1})*f_{x}(x_{2})*...*f_{x}(x_{n})$) but when we take the log of the product, the equation changes. The log of a product become sht sum of the logs of the multiplied terms ($ln[f_{x}(x_{1})*f_{x}(x_{2})*...*f_{x}(x_{n}) = \\sum \\limits _{n=1} ^N ln[f_{X}(x{i}]$)<br>\n",
    "\n",
    "So if we take the log of the likelihood function we get the function below which is a positive version of our loss function. So when we are looking at logistic regression, we have two options, we can either choose to minimize the loss function, or we can maximize the log likelihood function.\n",
    "\n",
    "$\\ell = \\sum \\limits _{n=1} ^N t_{n}log(y_{n}) + (1-t_{n})log(1-y_{n})$"
   ]
  },
  {
   "cell_type": "markdown",
   "metadata": {},
   "source": [
    "# Updating Model Weights with Gradient Descent"
   ]
  },
  {
   "cell_type": "code",
   "execution_count": 143,
   "metadata": {},
   "outputs": [
    {
     "data": {
      "image/png": "[encoded data removed]",
      "text/plain": [
       "<Figure size 432x288 with 1 Axes>"
      ]
     },
     "metadata": {
      "needs_background": "light"
     },
     "output_type": "display_data"
    }
   ],
   "source": [
    "p_x = np.arange(-10,10,.1)\n",
    "p_y = p_x**2\n",
    "\n",
    "\n",
    "x_int = 0\n",
    "y_int = -49.7\n",
    "slope = 14.1\n",
    "\n",
    "def find_point(slope, xx, yy):\n",
    "    b0 = yy - (slope*xx)\n",
    "    x2 = xx+10\n",
    "    y2 = (slope*x2)+b0\n",
    "    \n",
    "    return x2, y2\n",
    "\n",
    "x2, y2 = find_point(slope, x_int, y_int)\n",
    "\n",
    "plt.plot((x_int, x2), (y_int, y2), label = 'line')\n",
    "plt.plot(p_x,p_y)\n",
    "\n",
    "plt.show()"
   ]
  },
  {
   "cell_type": "markdown",
   "metadata": {},
   "source": [
    "The graph above helps illustrate the concept of gradient descent. Consider the orange parabola to be our loss function we want to minimize. In the example above the blue linear line is the starting point for our gradient descent problem where we begin with a randomly initialized set of weights and use them to calculate our cross entropy/loss function.\n",
    "\n",
    "Once we calculate the loss function we can take steps towards minimizing the cost function using a learning rate. This means as we understand how far off we missed our targets, we can adjust the weights and take steps in the directions of the minimum for our loss function. We effectively change the slope of the blue line such that it is smaller and gets us closer to the global minimum. \n",
    "\n",
    "In the example below we have taken steps toward the optimal or minimized point of our loss curve, which can be seen by the change of the slow and movement towards the global minimum point of 0."
   ]
  },
  {
   "cell_type": "code",
   "execution_count": 144,
   "metadata": {},
   "outputs": [
    {
     "data": {
      "image/png": "[encoded data removed]",
      "text/plain": [
       "<Figure size 432x288 with 1 Axes>"
      ]
     },
     "metadata": {
      "needs_background": "light"
     },
     "output_type": "display_data"
    }
   ],
   "source": [
    "p_x = np.arange(-10,10,1)\n",
    "p_y = p_x**2\n",
    "x_int = 0\n",
    "y_int = -4.8\n",
    "slope = 4.1\n",
    "\n",
    "def find_point(slope, xx, yy):\n",
    "    b0 = yy - (slope*xx)\n",
    "    x2 = xx+10\n",
    "    y2 = (slope*x2)+b0\n",
    "    \n",
    "    return x2, y2\n",
    "\n",
    "x2, y2 = find_point(slope, x_int, y_int)\n",
    "\n",
    "plt.plot((x_int, x2), (y_int, y2), label = 'line')\n",
    "plt.plot(p_x,p_y)\n",
    "\n",
    "plt.show()"
   ]
  },
  {
   "cell_type": "markdown",
   "metadata": {},
   "source": [
    "How do we update the weights of our logistic regression to move down the parabola of the loss function? This is where calculus comes in handy, we will find the derivative of our loss function with respect t othe weights of the model. \n",
    "\n",
    "We know the loss function is \n",
    "$J = -\\sum \\limits _{n=1} ^N t_{n}*log(y_{n}) + (1 - t_{n})*log(1-y_{n})$<br>\n",
    "\n",
    "and we want to find the derivative of our Loss function (J) with respect to w, or the rate of change in our loss function J with respect to the weights of our model (w).\n",
    "\n",
    "$\\frac{\\partial{J}}{\\partial{W}_{i}} = \\sum\\limits _{n=1} ^{N} \\frac{\\partial{J}_{n}}{\\partial{y}_{n}} \\frac{\\partial{y}_{n}}{\\partial{a}_{n}} \\frac{\\partial{a}_{n}}{\\partial{w}_{i}}$<br>\n",
    "\n",
    "Here we are using the chain rule to find the derivative of our loss function (J) with respect to the weights (w). We can separate the above equation into three separate parts and bring it back together at the end. Given the loss function (J) above, what is the partial derivative of J with respect to our model output y?\n",
    "\n",
    "$\\frac{\\partial{J}_{n}}{\\partial{y}_{n}} = -t_{n} \\frac{1}{y_{n}} + (1-t_{n})\\frac{1}{1-y_{n}}(-1)$<br>\n",
    "\n",
    "Now given an activation function $a = w^Tx$ we define our logistic regression output as $y_{n} = \\sigma(a_{n})$ = $\\frac{1}{1 + e ^a_{n}}$<br>\n",
    "\n",
    "If we take the partial derivative of y with respect to our activation funcation a we initially get:\n",
    "$\\frac{\\partial{y}_{n}}{\\partial{a}_{n}} = \\frac{-1}{1+e^-a_{n}}(e^-a_{n})(-1)$<br>\n",
    "\n",
    "and we can simplify the equation above to find that $\\frac{\\partial{y}_{n}}{\\partial{a}_{n}} = y_{n}(1-y_{n})$<br>\n",
    "\n",
    "Finally, we want to find the partial derivative of our activation funciton with respect to its weights (w). We know that $a_{n} = w^Tx$ and so we can calculate the final partial derivative as:\n",
    "\n",
    "$\\frac{\\partial{a}_{n}}{\\partial{w_{i}}} = x_{ni}$<br>\n",
    "\n",
    "We can put all of our partial derivatives together to find an equation that looks something like the one below.\n",
    "\n",
    "$\\frac{\\partial{J}}{\\partial{w}_{i}} = - \\sum \\limits _{n=1} ^N \\frac{t_{n}}{y_{n}}Y_{n}(1-y_{n})x_{ni} - \\frac{1-t_{n}}{1-y_{n}}y_{n}(1-y_{n})x_{ni}$<br>\n",
    "\n",
    "which can be simplified to:\n",
    "$\\frac{\\partial{J}}{\\partial{w}_{i}} = \\sum \\limits _{n=1} ^N (y_{n} - t_{n})x_{ni}$<br>\n",
    "\n",
    "Now we have our final partial derivative of our loss function J with respect to the weights, which we can use to update the weights of our model using gradient descent. \n"
   ]
  },
  {
   "cell_type": "markdown",
   "metadata": {},
   "source": [
    "# Updating model weights with gradient descent in code\n",
    "Here we will leverage the sigmoid and cross_entropy functions used above and update our model weights using gradient descent. To update the weights of our model we need a couple of things, a learning rate and the result of our cross entropy loss function. For each iteration, we must adjust the weights such that we continue to approach a global minimum of 0 for our cross entropy loss function. Recall our cross entropy result with respect to the model weights is:\n",
    "$\\frac{\\partial{J}}{\\partial{w}_{i}} = \\sum \\limits _{n=1} ^N (y_{n} - t_{n})x_{ni}$<br>\n",
    "\n",
    "So to adjust our weights we will use the formula below:\n",
    "$w_{i+1} = -lr * \\sum \\limits _{n=1} ^N(y_{ni} - t_{ni})*x_{ni}$ where lr is our learning rate and i is the iteration.<br>\n",
    "\n",
    "We will set the learning rate which will be used as an adjustment to our model, for the example below, we will use a learning rate of 0.001, and the example will use 100 iterations to try to minimize our loss function. We can also will apply this adjustment to our bias term where the adjustment looks like:\n",
    "\n",
    "$b_{i+1} = -lr * (y_{ni} - t_{ni})$ where lr is our learning rate.<br>"
   ]
  },
  {
   "cell_type": "code",
   "execution_count": 207,
   "metadata": {},
   "outputs": [
    {
     "name": "stdout",
     "output_type": "stream",
     "text": [
      "Initial weights:  [0.762104   0.91927002 0.43609503]\n",
      "Cross Entropy Result: 11.962604741757895\n",
      "Cross Entropy Result: 1.704719446412987\n",
      "Cross Entropy Result: 1.5005557070009004\n",
      "Cross Entropy Result: 1.3836263257060912\n",
      "Cross Entropy Result: 1.3040939834967744\n",
      "Cross Entropy Result: 1.2450000912965724\n",
      "Cross Entropy Result: 1.198605494963019\n",
      "Cross Entropy Result: 1.1607545282149814\n",
      "Cross Entropy Result: 1.1289783036984766\n",
      "Cross Entropy Result: 1.1017033317405727\n",
      "Final weight: [-1.0272751   4.63154765  2.68924082]\n"
     ]
    },
    {
     "data": {
      "image/png": "[encoded data removed]",
      "text/plain": [
       "<Figure size 432x288 with 1 Axes>"
      ]
     },
     "metadata": {
      "needs_background": "light"
     },
     "output_type": "display_data"
    }
   ],
   "source": [
    "N = 100\n",
    "D = 2\n",
    "\n",
    "X = np.random.randn(N,D)\n",
    "\n",
    "#Set the first 50 data points to be centered at x = -2 and y = -1\n",
    "X[:50, :] = X[:50, :] - 2*np.ones((50,D))\n",
    "X[50:,:] = X[50:,:] + 2*np.ones((50,D))\n",
    "\n",
    "T = np.array([0]*50 + [1]*50)\n",
    "\n",
    "ones = np.array([[1]*N]).T\n",
    "xb = np.concatenate((ones,X), axis = 1)\n",
    "\n",
    "learning_rate = 0.1\n",
    "\n",
    "w = np.random.randn(D+1)\n",
    "print('Initial weights: ', w)\n",
    "\n",
    "z = xb.dot(w)\n",
    "\n",
    "Y = sigmoid(z)\n",
    "\n",
    "for i in range(100):\n",
    "    if i%10 == 0:\n",
    "        print('Cross Entropy Result: ' + str(cross_entropy(T,Y)))\n",
    "    w += learning_rate*xb.T.dot(T-Y)\n",
    "    Y = sigmoid(xb.dot(w))\n",
    "\n",
    "print('Final weight: ' + str(w))\n",
    "\n",
    "\n",
    "# plot the data and separating line\n",
    "plt.scatter(X[:,0], X[:,1], c=T, s=100, alpha=0.5)\n",
    "x_axis = np.linspace(-6, 6, 100)\n",
    "y_axis = -(w[0] + x_axis*w[1]) / w[2]\n",
    "plt.plot(x_axis, y_axis)\n",
    "plt.show()"
   ]
  },
  {
   "cell_type": "markdown",
   "metadata": {},
   "source": [
    "# L2 Regularization "
   ]
  },
  {
   "cell_type": "markdown",
   "metadata": {},
   "source": [
    "The sigmoid function has a limit of 0 as our independent variable X approaches negative infinity, and a limit of 1 as X approaches positive infinity. Given a perfectly split dataset and no limit on how many iterations/loops were run, the logistic regression model would above would try to product a final weight set of [0, inf, inf] and overfitting our model. L2 Regularization is also known as Ridge Regression.\n",
    "\n",
    "Regularization can be used to solve this problem buy penalizing very large weights in the model. L2 Regularization will be covered more in depth in a different notebook. For the purpose of this example, notice we are simply adding a penalty to the adjustment of our model weights of lambda multiplied by the weights. This is the penalty for larger weights, and it will encourage our weights to be closer to zero. \n",
    "\n",
    "With our L2 Normalization penalty our weight adjestment is now expressed as:\n",
    "$w_{i+1} = -lr * \\sum \\limits _{n=1} ^N(y_{ni} - t_{ni})*x_{ni} - (\\lambda * w_{i})$ where lr is our learning rate and i is the iteration and w are our model weights.<br>\n",
    "\n",
    "Compare the output of our example above to that of L2 regularization and notice the differences in our Cross Entropy Results, but also notice the weights of our L2 Normalized model produced smaller weights. As we normalize the data and penalize larger weights we make sacrifices at times in minimizing our Cross Entropy Loss Function. "
   ]
  },
  {
   "cell_type": "code",
   "execution_count": 208,
   "metadata": {},
   "outputs": [
    {
     "name": "stdout",
     "output_type": "stream",
     "text": [
      "Initial Weights:  [-0.9034933   1.57521734  0.77609448]\n",
      "Cross Entropy Result: 4.955821503071991\n",
      "Cross Entropy Result: 1.8453178296575123\n",
      "Cross Entropy Result: 1.6885321432598612\n",
      "Cross Entropy Result: 1.6136634093901066\n",
      "Cross Entropy Result: 1.5699816778163442\n",
      "Cross Entropy Result: 1.5424143643482136\n",
      "Cross Entropy Result: 1.5242556651127668\n",
      "Cross Entropy Result: 1.5119766647758657\n",
      "Cross Entropy Result: 1.5035316372796304\n",
      "Cross Entropy Result: 1.4976574484500578\n",
      "Final weight: [-0.58559858  3.12983377  1.87457204]\n"
     ]
    },
    {
     "data": {
      "image/png": "[encoded data removed]",
      "text/plain": [
       "<Figure size 432x288 with 1 Axes>"
      ]
     },
     "metadata": {
      "needs_background": "light"
     },
     "output_type": "display_data"
    }
   ],
   "source": [
    "lambda_var = 0.1\n",
    "\n",
    "\n",
    "learning_rate = 0.1\n",
    "\n",
    "w = np.random.randn(D+1)\n",
    "print('Initial Weights: ', w)\n",
    "\n",
    "z = xb.dot(w)\n",
    "\n",
    "Y = sigmoid(z)\n",
    "\n",
    "for i in range(100):\n",
    "    if i%10 == 0:\n",
    "        print('Cross Entropy Result: ' + str(cross_entropy(T,Y)))\n",
    "        \n",
    "    w += learning_rate*(xb.T.dot(T-Y) - lambda_var*w)\n",
    "    Y = sigmoid(xb.dot(w))\n",
    "    \n",
    "print('Final weight: ' + str(w))\n",
    "\n",
    "\n",
    "# plot the data and separating line\n",
    "plt.scatter(X[:,0], X[:,1], c=T, s=100, alpha=0.5)\n",
    "x_axis = np.linspace(-6, 6, 100)\n",
    "y_axis = -(w[0] + x_axis*w[1]) / w[2]\n",
    "plt.plot(x_axis, y_axis)\n",
    "plt.show()"
   ]
  },
  {
   "cell_type": "markdown",
   "metadata": {},
   "source": [
    "# L1 Regularization"
   ]
  },
  {
   "cell_type": "markdown",
   "metadata": {},
   "source": []
  },
  {
   "cell_type": "code",
   "execution_count": 209,
   "metadata": {},
   "outputs": [
    {
     "name": "stdout",
     "output_type": "stream",
     "text": [
      "Initial Weights:  [0.32077153 0.80981712 0.88859787]\n",
      "Cross Entropy Result: 7.097422050121461\n",
      "Cross Entropy Result: 2.7049537886986976\n",
      "Cross Entropy Result: 3.258659460099978\n",
      "Cross Entropy Result: 3.715831818395509\n",
      "Cross Entropy Result: 4.109242999558718\n",
      "Cross Entropy Result: 4.466049637233836\n",
      "Cross Entropy Result: 4.8014464686210045\n",
      "Cross Entropy Result: 5.124011606833274\n",
      "Cross Entropy Result: 5.438732049407361\n",
      "Cross Entropy Result: 5.748580062134652\n",
      "Final weight: [ 4.17126547 24.21581098 19.57731528]\n"
     ]
    },
    {
     "data": {
      "image/png": "[encoded data removed]",
      "text/plain": [
       "<Figure size 432x288 with 1 Axes>"
      ]
     },
     "metadata": {
      "needs_background": "light"
     },
     "output_type": "display_data"
    }
   ],
   "source": [
    "lambda_var_l1 = 2.0\n",
    "\n",
    "\n",
    "learning_rate = 0.1\n",
    "\n",
    "w = np.random.randn(D+1)\n",
    "print('Initial Weights: ', w)\n",
    "\n",
    "z = xb.dot(w)\n",
    "\n",
    "Y = sigmoid(z)\n",
    "\n",
    "for i in range(100):\n",
    "    if i%10 == 0:\n",
    "        print('Cross Entropy Result: ' + str(cross_entropy(T,Y)))\n",
    "        \n",
    "    w += learning_rate*(xb.T.dot(T-Y) + lambda_var_l1*np.sign(w))\n",
    "    Y = sigmoid(xb.dot(w))\n",
    "    \n",
    "print('Final weight: ' + str(w))\n",
    "\n",
    "\n",
    "# plot the data and separating line\n",
    "plt.scatter(X[:,0], X[:,1], c=T, s=100, alpha=0.5)\n",
    "x_axis = np.linspace(-6, 6, 100)\n",
    "y_axis = -(w[0] + x_axis*w[1]) / w[2]\n",
    "plt.plot(x_axis, y_axis)\n",
    "plt.show()"
   ]
  },
  {
   "cell_type": "markdown",
   "metadata": {},
   "source": [
    "# Training Logistic Model for Ecommerce Data"
   ]
  },
  {
   "cell_type": "code",
   "execution_count": 31,
   "metadata": {},
   "outputs": [
    {
     "data": {
      "text/html": [
       "<div>\n",
       "<style scoped>\n",
       "    .dataframe tbody tr th:only-of-type {\n",
       "        vertical-align: middle;\n",
       "    }\n",
       "\n",
       "    .dataframe tbody tr th {\n",
       "        vertical-align: top;\n",
       "    }\n",
       "\n",
       "    .dataframe thead th {\n",
       "        text-align: right;\n",
       "    }\n",
       "</style>\n",
       "<table border=\"1\" class=\"dataframe\">\n",
       "  <thead>\n",
       "    <tr style=\"text-align: right;\">\n",
       "      <th></th>\n",
       "      <th>is_mobile</th>\n",
       "      <th>n_products_viewed</th>\n",
       "      <th>visit_duration</th>\n",
       "      <th>is_returning_visitor</th>\n",
       "      <th>time_of_day</th>\n",
       "      <th>user_action</th>\n",
       "    </tr>\n",
       "  </thead>\n",
       "  <tbody>\n",
       "    <tr>\n",
       "      <th>0</th>\n",
       "      <td>1</td>\n",
       "      <td>0</td>\n",
       "      <td>0.657510</td>\n",
       "      <td>0</td>\n",
       "      <td>3</td>\n",
       "      <td>0</td>\n",
       "    </tr>\n",
       "    <tr>\n",
       "      <th>1</th>\n",
       "      <td>1</td>\n",
       "      <td>1</td>\n",
       "      <td>0.568571</td>\n",
       "      <td>0</td>\n",
       "      <td>2</td>\n",
       "      <td>1</td>\n",
       "    </tr>\n",
       "    <tr>\n",
       "      <th>2</th>\n",
       "      <td>1</td>\n",
       "      <td>0</td>\n",
       "      <td>0.042246</td>\n",
       "      <td>1</td>\n",
       "      <td>1</td>\n",
       "      <td>0</td>\n",
       "    </tr>\n",
       "    <tr>\n",
       "      <th>3</th>\n",
       "      <td>1</td>\n",
       "      <td>1</td>\n",
       "      <td>1.659793</td>\n",
       "      <td>1</td>\n",
       "      <td>1</td>\n",
       "      <td>2</td>\n",
       "    </tr>\n",
       "    <tr>\n",
       "      <th>4</th>\n",
       "      <td>0</td>\n",
       "      <td>1</td>\n",
       "      <td>2.014745</td>\n",
       "      <td>1</td>\n",
       "      <td>1</td>\n",
       "      <td>2</td>\n",
       "    </tr>\n",
       "  </tbody>\n",
       "</table>\n",
       "</div>"
      ],
      "text/plain": [
       "   is_mobile  n_products_viewed  visit_duration  is_returning_visitor  \\\n",
       "0          1                  0        0.657510                     0   \n",
       "1          1                  1        0.568571                     0   \n",
       "2          1                  0        0.042246                     1   \n",
       "3          1                  1        1.659793                     1   \n",
       "4          0                  1        2.014745                     1   \n",
       "\n",
       "   time_of_day  user_action  \n",
       "0            3            0  \n",
       "1            2            1  \n",
       "2            1            0  \n",
       "3            1            2  \n",
       "4            1            2  "
      ]
     },
     "execution_count": 31,
     "metadata": {},
     "output_type": "execute_result"
    }
   ],
   "source": [
    "data.head()"
   ]
  },
  {
   "cell_type": "code",
   "execution_count": 63,
   "metadata": {},
   "outputs": [],
   "source": [
    "#Separate the train an dtest datasets 50/50\n",
    "Xtrain = X2[:-100]\n",
    "Ytrain = Y2[:-100]\n",
    "Xtest = X2[-100:]\n",
    "Ytest = Y2[-100:]\n",
    "\n",
    "#Normalizing the data\n",
    "for i in (1, 2):\n",
    "    m = Xtrain[:,i].mean()\n",
    "    s = Xtrain[:,i].std()\n",
    "    Xtrain[:,i] = (Xtrain[:,i] - m) / s\n",
    "    Xtest[:,i] = (Xtest[:,i] - m) / s\n",
    "\n",
    "X2train = Xtrain[Ytrain <= 1]\n",
    "Y2train = Ytrain[Ytrain <= 1]\n",
    "X2test = Xtest[Ytest <= 1]\n",
    "Y2test = Ytest[Ytest <= 1]"
   ]
  },
  {
   "cell_type": "code",
   "execution_count": 62,
   "metadata": {},
   "outputs": [
    {
     "name": "stdout",
     "output_type": "stream",
     "text": [
      "0 0.5139070884252871 0.4109315433019491\n",
      "1000 0.20375128568034329 0.1297368587611592\n",
      "2000 0.2030772731166995 0.12576480457423841\n",
      "3000 0.20304864491837368 0.1250512350859435\n",
      "4000 0.20304721144721133 0.12489605120401728\n",
      "5000 0.20304713721812379 0.12486094988360713\n",
      "6000 0.20304713334536043 0.12485294228718333\n",
      "7000 0.2030471331429611 0.1248511121376797\n",
      "8000 0.20304713313237913 0.12485069368670862\n",
      "9000 0.20304713313182574 0.12485059800269856\n",
      "Final Weights:  [ 1.13184516  4.90479149  0.31612676  1.35622292 -0.05996325 -1.04511985\n",
      " -0.51526682 -0.99887308]\n",
      "Final train classification_rate: 0.9697986577181208\n",
      "Final test classification_rate: 0.98\n"
     ]
    },
    {
     "data": {
      "image/png": "[encoded data removed]",
      "text/plain": [
       "<Figure size 432x288 with 1 Axes>"
      ]
     },
     "metadata": {
      "needs_background": "light"
     },
     "output_type": "display_data"
    }
   ],
   "source": [
    "# randomly initialize weights\n",
    "D = X2train.shape[1]\n",
    "W = np.random.randn(D) #Randomly initialize the weights, they will be updated later\n",
    "b = 0 # bias term\n",
    "\n",
    "# make predictions\n",
    "def sigmoid(a):\n",
    "    return 1 / (1 + np.exp(-a))\n",
    "\n",
    "def forward(X, W, b):\n",
    "    return sigmoid(X.dot(W) + b)\n",
    "\n",
    "# calculate the accuracy\n",
    "def classification_rate(Y, P):\n",
    "    return np.mean(Y == P)\n",
    "\n",
    "# cross entropy\n",
    "def cross_entropy(T, pY):\n",
    "    return -np.mean(T*np.log(pY) + (1 - T)*np.log(1 - pY))\n",
    "\n",
    "# train loop\n",
    "train_costs = []\n",
    "test_costs = []\n",
    "learning_rate = 0.001\n",
    "for i in range(10000):\n",
    "    pYtrain = forward(X2train, W, b)\n",
    "    pYtest = forward(X2test, W, b)\n",
    "\n",
    "    ctrain = cross_entropy(Y2train, pYtrain)\n",
    "    ctest = cross_entropy(Y2test, pYtest)\n",
    "    train_costs.append(ctrain)\n",
    "    test_costs.append(ctest)\n",
    "\n",
    "    # gradient descent, adjust the training rates based on the results of our last iteration\n",
    "    W -= learning_rate*X2train.T.dot(pYtrain - Y2train)\n",
    "    b -= learning_rate*(pYtrain - Y2train).sum()\n",
    "    if i % 1000 == 0:\n",
    "        print(i, ctrain, ctest)\n",
    "        \n",
    "print('Final Weights: ', W)\n",
    "\n",
    "\n",
    "print(\"Final train classification_rate:\", classification_rate(Y2train, np.round(pYtrain)))\n",
    "print(\"Final test classification_rate:\", classification_rate(Y2test, np.round(pYtest)))\n",
    "\n",
    "legend1, = plt.plot(train_costs, label='train cost')\n",
    "legend2, = plt.plot(test_costs, label='test cost')\n",
    "plt.show()\n"
   ]
  },
  {
   "cell_type": "markdown",
   "metadata": {},
   "source": [
    "# The Donut Problem "
   ]
  },
  {
   "cell_type": "markdown",
   "metadata": {},
   "source": [
    "In the dount problem the classes themselves cannot be separated by a line, they are instead nonlinear. This is an example where logistic regression is not going to be a good fit for the model, there are other such relationships where logistic regression might not be the optimal tool for classification."
   ]
  },
  {
   "cell_type": "code",
   "execution_count": 226,
   "metadata": {},
   "outputs": [
    {
     "name": "stdout",
     "output_type": "stream",
     "text": [
      "500.0\n"
     ]
    },
    {
     "data": {
      "text/plain": [
       "<matplotlib.collections.PathCollection at 0x7fdd2b696c70>"
      ]
     },
     "execution_count": 226,
     "metadata": {},
     "output_type": "execute_result"
    },
    {
     "data": {
      "image/png": "[encoded data removed]",
      "text/plain": [
       "<Figure size 432x288 with 1 Axes>"
      ]
     },
     "metadata": {
      "needs_background": "light"
     },
     "output_type": "display_data"
    }
   ],
   "source": [
    "N = 1000\n",
    "D = 2\n",
    "newN = N/2\n",
    "print(newN)\n",
    "\n",
    "\n",
    "radius_inner = 5\n",
    "radius_outer = 10\n",
    "\n",
    "R1 = np.random.randn((N//2)) + radius_inner\n",
    "theta = 2*np.pi*np.random.random((N//2))\n",
    "x_inner = np.concatenate([[R1 * np.cos(theta)], [R1 * np.sin(theta)]]).T\n",
    "\n",
    "R2 = np.random.randn((N//2)) + radius_outer\n",
    "theta = 2*np.pi*np.random.random((N//2))\n",
    "x_outer = np.concatenate([[R2 * np.cos(theta)], [R2 * np.sin(theta)]]).T\n",
    "\n",
    "\n",
    "X = np.concatenate([x_inner, x_outer])\n",
    "T = np.array([0]*(N//2) + [1]*(N//2))\n",
    "\n",
    "plt.scatter(X[:,0], X[:,1], c = T)\n"
   ]
  },
  {
   "cell_type": "markdown",
   "metadata": {},
   "source": [
    "# Additional Info"
   ]
  },
  {
   "cell_type": "markdown",
   "metadata": {},
   "source": [
    "In linear regression, the values for our weights can be interpreted as the impact to our dependent variable (y) from a one unit increase to our dependent variable (x) holding everything else constant. However, we cannot interpret our logistic regression weights exactly the same way. \n",
    "\n",
    "We know the output of our binary logistic regression model is 0 or 1, so the weight of our independent variables will drive our output predictions closer to 0 or 1. If our weight is big and positive, then a small change in our variable x will push our output closer to 1. Similarly, if our weight is big and negative, then a small change in our variable x will push our output closer to 0."
   ]
  },
  {
   "cell_type": "code",
   "execution_count": null,
   "metadata": {},
   "outputs": [],
   "source": []
  }
 ],
 "metadata": {
  "kernelspec": {
   "display_name": "Python 3",
   "language": "python",
   "name": "python3"
  },
  "language_info": {
   "codemirror_mode": {
    "name": "ipython",
    "version": 3
   },
   "file_extension": ".py",
   "mimetype": "text/x-python",
   "name": "python",
   "nbconvert_exporter": "python",
   "pygments_lexer": "ipython3",
   "version": "3.8.5"
  }
 },
 "nbformat": 4,
 "nbformat_minor": 4
}
