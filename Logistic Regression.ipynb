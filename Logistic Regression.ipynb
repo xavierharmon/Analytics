{
 "cells": [
  {
   "cell_type": "code",
   "execution_count": 2,
   "metadata": {},
   "outputs": [],
   "source": [
    "import pandas as pd\n",
    "import numpy as np\n",
    "import matplotlib.pyplot as plt\n",
    "import math"
   ]
  },
  {
   "cell_type": "markdown",
   "metadata": {},
   "source": [
    "# Ecommerce Dataset\n",
    "There are 6 fields in the ecommerce dataset in this dataset and there will need to be some preprocessing to get the data ready for analysis.\n",
    "\n",
    "#### is_mobile - binary variable telling us if the user is using a mobile device\n",
    "#### N_products_viewed - Continuous, integer, how many products user viewed\n",
    "#### Visit_duration - How long was the visitor on the site, continuous integer\n",
    "#### Is_returning_visitor - binary variable marking returning visitors\n",
    "#### Time_of_day - integer, 4 categories splitting the 24 hour day evenly\n",
    "#### User_action - options: Bounce, add to cart, begin checkout, finish checkout\n",
    "\n",
    "For our time variable the categories are as follows:\n",
    "* 0 = 12 AM to 6 AM\n",
    "* 1 = 6 AM to 12 PM\n",
    "* 2 = 12 PM to 6 PM\n",
    "* 3 = 6 PM to 12 AM\n",
    "\n",
    "For the User action the categories are as follows:\n",
    "* Bounce - the user visited the site and did not do anything\n",
    "* Add to cart - the user added item to cart but never checked out\n",
    "* Begin Checkout - The user went to start checking out but never finished\n",
    "* Finish Checkout - the user finished the checkout process for their order"
   ]
  },
  {
   "cell_type": "code",
   "execution_count": 3,
   "metadata": {},
   "outputs": [],
   "source": [
    "data = pd.read_csv(r'/Users/prof/Documents/machine_learning_examples/ann_logistic_extra/ecommerce_data.csv')"
   ]
  },
  {
   "cell_type": "code",
   "execution_count": 4,
   "metadata": {},
   "outputs": [
    {
     "data": {
      "text/html": [
       "<div>\n",
       "<style scoped>\n",
       "    .dataframe tbody tr th:only-of-type {\n",
       "        vertical-align: middle;\n",
       "    }\n",
       "\n",
       "    .dataframe tbody tr th {\n",
       "        vertical-align: top;\n",
       "    }\n",
       "\n",
       "    .dataframe thead th {\n",
       "        text-align: right;\n",
       "    }\n",
       "</style>\n",
       "<table border=\"1\" class=\"dataframe\">\n",
       "  <thead>\n",
       "    <tr style=\"text-align: right;\">\n",
       "      <th></th>\n",
       "      <th>is_mobile</th>\n",
       "      <th>n_products_viewed</th>\n",
       "      <th>visit_duration</th>\n",
       "      <th>is_returning_visitor</th>\n",
       "      <th>time_of_day</th>\n",
       "      <th>user_action</th>\n",
       "    </tr>\n",
       "  </thead>\n",
       "  <tbody>\n",
       "    <tr>\n",
       "      <th>0</th>\n",
       "      <td>1</td>\n",
       "      <td>0</td>\n",
       "      <td>0.657510</td>\n",
       "      <td>0</td>\n",
       "      <td>3</td>\n",
       "      <td>0</td>\n",
       "    </tr>\n",
       "    <tr>\n",
       "      <th>1</th>\n",
       "      <td>1</td>\n",
       "      <td>1</td>\n",
       "      <td>0.568571</td>\n",
       "      <td>0</td>\n",
       "      <td>2</td>\n",
       "      <td>1</td>\n",
       "    </tr>\n",
       "    <tr>\n",
       "      <th>2</th>\n",
       "      <td>1</td>\n",
       "      <td>0</td>\n",
       "      <td>0.042246</td>\n",
       "      <td>1</td>\n",
       "      <td>1</td>\n",
       "      <td>0</td>\n",
       "    </tr>\n",
       "    <tr>\n",
       "      <th>3</th>\n",
       "      <td>1</td>\n",
       "      <td>1</td>\n",
       "      <td>1.659793</td>\n",
       "      <td>1</td>\n",
       "      <td>1</td>\n",
       "      <td>2</td>\n",
       "    </tr>\n",
       "    <tr>\n",
       "      <th>4</th>\n",
       "      <td>0</td>\n",
       "      <td>1</td>\n",
       "      <td>2.014745</td>\n",
       "      <td>1</td>\n",
       "      <td>1</td>\n",
       "      <td>2</td>\n",
       "    </tr>\n",
       "  </tbody>\n",
       "</table>\n",
       "</div>"
      ],
      "text/plain": [
       "   is_mobile  n_products_viewed  visit_duration  is_returning_visitor  \\\n",
       "0          1                  0        0.657510                     0   \n",
       "1          1                  1        0.568571                     0   \n",
       "2          1                  0        0.042246                     1   \n",
       "3          1                  1        1.659793                     1   \n",
       "4          0                  1        2.014745                     1   \n",
       "\n",
       "   time_of_day  user_action  \n",
       "0            3            0  \n",
       "1            2            1  \n",
       "2            1            0  \n",
       "3            1            2  \n",
       "4            1            2  "
      ]
     },
     "execution_count": 4,
     "metadata": {},
     "output_type": "execute_result"
    }
   ],
   "source": [
    "data.head()"
   ]
  },
  {
   "cell_type": "markdown",
   "metadata": {},
   "source": [
    "## Logistic Regression Example"
   ]
  },
  {
   "cell_type": "markdown",
   "metadata": {},
   "source": [
    "The objective of this section is to cover at a high level some of the foundational pieces of the Logistical regression puzzle using a binary response variable. In the example below, there are two inputs (x) and one output (y) with $\\epsilon(0,1)$ where $y = \\mathit{f}(w^Tx)$ where w are the weights that indicate the impact our independent variable has on our output variable.\n",
    "\n",
    "In Logistic Regression, we have a nonlinear relationship, and as such, our output y will be transformed by a nonlinear function $\\sigma(w^Tx)$. There are a couple of nonlinear transformations that can be used in logistic regression\n",
    "1) The Hyperbolic Tangent\n",
    "$tanh(x) \\epsilon(-1,1)$\n",
    "it has a y intercept of 0\n",
    "\n",
    "2) The sigmoid function <br>\n",
    "$\\sigma(z) = \\frac{1}{1 + e^-z} \\epsilon(0,1)$<br>  \n",
    "where $z = w^Tx$<br>\n",
    "It has a y intercept of 0.5\n",
    "\n",
    "The rest of this example will use the sigmoid function as a non linear transformation. An example of a sigmoid function can be found below. It is constrained between 0 and 1 and has a y intercept of 0.5.\n",
    "\n",
    "Recall that our output is binar with a result of 0 or 1. With logistic regression, when we interpret the output of our nonlinear sigmoid transformation, our results will be between 0 and 1, and we can say that any output above 0.5 is a prediction of 1 and any output less than or equal to 0.5 is a prediction of 0."
   ]
  },
  {
   "cell_type": "code",
   "execution_count": 5,
   "metadata": {},
   "outputs": [
    {
     "data": {
      "image/png": "[encoded data removed]",
      "text/plain": [
       "<Figure size 432x288 with 1 Axes>"
      ]
     },
     "metadata": {
      "needs_background": "light"
     },
     "output_type": "display_data"
    }
   ],
   "source": [
    "def sigmoid_ex(x):\n",
    "    a = []\n",
    "    for item in x:\n",
    "        a.append(1/(1+np.exp(-item)))\n",
    "    return a\n",
    "\n",
    "\n",
    "x = np.arange(-10, 10, 0.2)\n",
    "\n",
    "sig = sigmoid_ex(x)\n",
    "\n",
    "plt.plot(x, sig)\n",
    "plt.show()"
   ]
  },
  {
   "cell_type": "code",
   "execution_count": 6,
   "metadata": {},
   "outputs": [],
   "source": [
    "N = 100 #Number of Observations\n",
    "D = 2   #Number of Independent variables\n",
    "\n",
    "x = np.random.randn(N,D) #Creating a normally distributed data matrix\n",
    "ones = np.array([[1]*N]).T #Adding a column of 1 to add in the bias term\n",
    "xb = np.concatenate((ones,x), axis = 1)\n",
    "\n",
    "#Randomly Initialize a weight vector to show how to use the sigmoid function\n",
    "w = np.random.randn(D + 1)"
   ]
  },
  {
   "cell_type": "code",
   "execution_count": 7,
   "metadata": {},
   "outputs": [],
   "source": [
    "#Multiplying our weights and independent variables using numpy dot function\n",
    "z = xb.dot(w)"
   ]
  },
  {
   "cell_type": "code",
   "execution_count": 8,
   "metadata": {},
   "outputs": [],
   "source": [
    "#Creating the sigmoid function\n",
    "def sigmoid(z):\n",
    "    return 1/(1+np.exp(-z))"
   ]
  },
  {
   "cell_type": "code",
   "execution_count": 9,
   "metadata": {},
   "outputs": [
    {
     "data": {
      "text/plain": [
       "array([0.58389009, 0.31729587, 0.52663715, 0.79753437, 0.14705296,\n",
       "       0.26198401, 0.38889508, 0.47651405, 0.28191254, 0.85112281,\n",
       "       0.266503  , 0.43685642, 0.45514958, 0.70472888, 0.21608372,\n",
       "       0.23786644, 0.21345456, 0.23565517, 0.19293909, 0.53346864,\n",
       "       0.82579444, 0.56320997, 0.33194079, 0.65173767, 0.1464292 ,\n",
       "       0.10370496, 0.27996343, 0.13506191, 0.30788991, 0.18219489,\n",
       "       0.17458312, 0.7082282 , 0.65791737, 0.19171541, 0.48210828,\n",
       "       0.51409591, 0.67726557, 0.34092372, 0.12322228, 0.88644618,\n",
       "       0.73347248, 0.25635599, 0.7090142 , 0.14620997, 0.37992621,\n",
       "       0.45528763, 0.86685177, 0.2596392 , 0.46043506, 0.25608915,\n",
       "       0.44568697, 0.49443134, 0.2497073 , 0.17580679, 0.44371449,\n",
       "       0.43838448, 0.47692264, 0.71921646, 0.37817159, 0.1655044 ,\n",
       "       0.37644377, 0.49441132, 0.19072707, 0.12028044, 0.31910634,\n",
       "       0.140206  , 0.51836788, 0.04841236, 0.50884282, 0.19945852,\n",
       "       0.17243672, 0.38714011, 0.20277355, 0.74963645, 0.74068393,\n",
       "       0.31205861, 0.42381824, 0.57669894, 0.39899483, 0.71908403,\n",
       "       0.52929723, 0.15309427, 0.66638964, 0.2873316 , 0.68517864,\n",
       "       0.29128943, 0.8329076 , 0.59341617, 0.64326189, 0.69918535,\n",
       "       0.80179977, 0.43366952, 0.13268187, 0.27496028, 0.14587795,\n",
       "       0.50829833, 0.88127326, 0.38150946, 0.48550492, 0.50344559])"
      ]
     },
     "execution_count": 9,
     "metadata": {},
     "output_type": "execute_result"
    }
   ],
   "source": [
    "#This is the result of our non-linear transformation, we could use these values to predict 0 or 1.\n",
    "sigmoid(z)"
   ]
  },
  {
   "cell_type": "markdown",
   "metadata": {},
   "source": [
    "## Preprocessing for logistic regression Ecommerce Data"
   ]
  },
  {
   "cell_type": "markdown",
   "metadata": {},
   "source": [
    "Some of the setup here looks familiar from the steps above, we want to prepare the data and in some instances there will still be randomly initialized values used instead of actual data. Here our focus shifts from understanding what the sigmoid function is to how to use it with randomly generated weights!\n",
    "\n",
    "Also in this section, accuracy rates will be calculated to show that with randomly generated weights, our accuracy is well...random"
   ]
  },
  {
   "cell_type": "code",
   "execution_count": 10,
   "metadata": {},
   "outputs": [
    {
     "data": {
      "text/html": [
       "<div>\n",
       "<style scoped>\n",
       "    .dataframe tbody tr th:only-of-type {\n",
       "        vertical-align: middle;\n",
       "    }\n",
       "\n",
       "    .dataframe tbody tr th {\n",
       "        vertical-align: top;\n",
       "    }\n",
       "\n",
       "    .dataframe thead th {\n",
       "        text-align: right;\n",
       "    }\n",
       "</style>\n",
       "<table border=\"1\" class=\"dataframe\">\n",
       "  <thead>\n",
       "    <tr style=\"text-align: right;\">\n",
       "      <th></th>\n",
       "      <th>is_mobile</th>\n",
       "      <th>n_products_viewed</th>\n",
       "      <th>visit_duration</th>\n",
       "      <th>is_returning_visitor</th>\n",
       "      <th>time_of_day</th>\n",
       "      <th>user_action</th>\n",
       "    </tr>\n",
       "  </thead>\n",
       "  <tbody>\n",
       "    <tr>\n",
       "      <th>0</th>\n",
       "      <td>1</td>\n",
       "      <td>0</td>\n",
       "      <td>0.657510</td>\n",
       "      <td>0</td>\n",
       "      <td>3</td>\n",
       "      <td>0</td>\n",
       "    </tr>\n",
       "    <tr>\n",
       "      <th>1</th>\n",
       "      <td>1</td>\n",
       "      <td>1</td>\n",
       "      <td>0.568571</td>\n",
       "      <td>0</td>\n",
       "      <td>2</td>\n",
       "      <td>1</td>\n",
       "    </tr>\n",
       "    <tr>\n",
       "      <th>2</th>\n",
       "      <td>1</td>\n",
       "      <td>0</td>\n",
       "      <td>0.042246</td>\n",
       "      <td>1</td>\n",
       "      <td>1</td>\n",
       "      <td>0</td>\n",
       "    </tr>\n",
       "    <tr>\n",
       "      <th>3</th>\n",
       "      <td>1</td>\n",
       "      <td>1</td>\n",
       "      <td>1.659793</td>\n",
       "      <td>1</td>\n",
       "      <td>1</td>\n",
       "      <td>2</td>\n",
       "    </tr>\n",
       "    <tr>\n",
       "      <th>4</th>\n",
       "      <td>0</td>\n",
       "      <td>1</td>\n",
       "      <td>2.014745</td>\n",
       "      <td>1</td>\n",
       "      <td>1</td>\n",
       "      <td>2</td>\n",
       "    </tr>\n",
       "  </tbody>\n",
       "</table>\n",
       "</div>"
      ],
      "text/plain": [
       "   is_mobile  n_products_viewed  visit_duration  is_returning_visitor  \\\n",
       "0          1                  0        0.657510                     0   \n",
       "1          1                  1        0.568571                     0   \n",
       "2          1                  0        0.042246                     1   \n",
       "3          1                  1        1.659793                     1   \n",
       "4          0                  1        2.014745                     1   \n",
       "\n",
       "   time_of_day  user_action  \n",
       "0            3            0  \n",
       "1            2            1  \n",
       "2            1            0  \n",
       "3            1            2  \n",
       "4            1            2  "
      ]
     },
     "execution_count": 10,
     "metadata": {},
     "output_type": "execute_result"
    }
   ],
   "source": [
    "data.head()"
   ]
  },
  {
   "cell_type": "code",
   "execution_count": 11,
   "metadata": {},
   "outputs": [],
   "source": [
    "def process_data(data):\n",
    "    dataset = data.values\n",
    "    \n",
    "    #split features and labels\n",
    "    X = dataset[:,:-1]\n",
    "    Y = dataset[:,-1].astype(np.int32)\n",
    "    \n",
    "    \n",
    "    #Normalize the Independent variables\n",
    "    X[:,1] = (X[:,1] - X[:,1].mean()) / X[:,1].std()\n",
    "    X[:,2] = (X[:,2] - X[:,2].mean()) / X[:,2].std()\n",
    "    \n",
    "    \n",
    "    N, D = X.shape\n",
    "    X2 = np.zeros((N, D+3)) #There are four different categorical variables so we have D + 3 s\n",
    "    X2[:,0:(D-1)] = X[:,0:(D-1)]\n",
    "    \n",
    "    for n in range(N):\n",
    "        t = int(X[n, D-1])\n",
    "        X2[n,t+D-1] = 1\n",
    "    \n",
    "    return X2, Y"
   ]
  },
  {
   "cell_type": "code",
   "execution_count": 12,
   "metadata": {},
   "outputs": [],
   "source": [
    "def get_binary_data(data):\n",
    "    x2, y = process_data(data)\n",
    "    X2 = x2[y<=1]\n",
    "    Y2 = y[y<=1]\n",
    "    return X2, Y2"
   ]
  },
  {
   "cell_type": "code",
   "execution_count": 13,
   "metadata": {},
   "outputs": [],
   "source": [
    "X2, Y2 = get_binary_data(data)"
   ]
  },
  {
   "cell_type": "code",
   "execution_count": 14,
   "metadata": {},
   "outputs": [],
   "source": [
    "#Setup for the logistic regression model we will use the sigmoid function from above\n",
    "D = X2.shape[1]\n",
    "W = np.random.randn(D)\n",
    "b = 0\n",
    "\n",
    "def forward (X, W, b):\n",
    "    return sigmoid(X.dot(W) + b)\n",
    "\n",
    "def classification_rate(Y, P):\n",
    "    return np.mean(Y==P)"
   ]
  },
  {
   "cell_type": "code",
   "execution_count": 15,
   "metadata": {},
   "outputs": [],
   "source": [
    "p_y_given_x = forward(X2, W, b)\n",
    "predictions = np.round(p_y_given_x)"
   ]
  },
  {
   "cell_type": "code",
   "execution_count": 16,
   "metadata": {},
   "outputs": [],
   "source": [
    "cr = classification_rate(Y2, predictions)"
   ]
  },
  {
   "cell_type": "code",
   "execution_count": 17,
   "metadata": {},
   "outputs": [
    {
     "name": "stdout",
     "output_type": "stream",
     "text": [
      "Accuracy: 0.7713567839195979\n"
     ]
    }
   ],
   "source": [
    "#Finding the accuracy when we use randomly chosen weights and values\n",
    "#If you run the code blocks multiple times, the accuracy will be all over the place because we use random weights\n",
    "print('Accuracy: ' + str(cr))"
   ]
  },
  {
   "cell_type": "markdown",
   "metadata": {},
   "source": [
    "# Calculating the Cross entropy loss function"
   ]
  },
  {
   "cell_type": "markdown",
   "metadata": {},
   "source": [
    "In logistic regression, we aim to minimize the cross entropy or loss function, which is described below, where the first term only matters if the target value is 1, and the second value only matters is the target is 0.\n",
    "\n",
    "$L = -{t log(y) + (1-t) log(1-y)}$<br>\n",
    "\n",
    "We can also thing of the loss function in the opposite manner as maximizing the log likelihoood value.<br>\n",
    "$J = {t log(y) + (1-t) log(1-y)}$<br>\n",
    "\n",
    "The goal of this section is to understand how the loss function is calculated using randomly assigned values for our variables and weights. For the section below we are minimizing the cost where $T$ is the target value $\\epsilon (0,1)$ and Y is the output from the logistic regression model"
   ]
  },
  {
   "cell_type": "code",
   "execution_count": 18,
   "metadata": {},
   "outputs": [],
   "source": [
    "N = 100 #Number of Observations\n",
    "D = 2   #Number of Independent variables\n",
    "\n",
    "X = np.random.randn(N,D)\n",
    "\n",
    "#Set the first 50 data points to be centered at x = -2 and y = -1\n",
    "X[:50, :] = X[:50, :] - 2*np.ones((50,D))\n",
    "X[50:,:] = X[50:,:] + 2*np.ones((50,D))\n",
    "\n",
    "T = np.array([0]*50 + [1]*50)\n",
    "\n",
    "w = np.random.randn(D + 1)\n",
    "\n",
    "ones = np.array([[1]*N]).T\n",
    "xb = np.concatenate((ones,X), axis = 1)"
   ]
  },
  {
   "cell_type": "code",
   "execution_count": 19,
   "metadata": {},
   "outputs": [],
   "source": [
    "def cross_entropy(T, Y):\n",
    "    E = 0\n",
    "    for i in range(N):\n",
    "        if T[i] == 1:\n",
    "            E -= np.log(Y[i])\n",
    "        else:\n",
    "            E -= np.log(1-Y[i])\n",
    "    return E"
   ]
  },
  {
   "cell_type": "code",
   "execution_count": 20,
   "metadata": {},
   "outputs": [],
   "source": [
    "z = xb.dot(w)"
   ]
  },
  {
   "cell_type": "code",
   "execution_count": 21,
   "metadata": {},
   "outputs": [],
   "source": [
    "Y = sigmoid(z)"
   ]
  },
  {
   "cell_type": "code",
   "execution_count": 22,
   "metadata": {},
   "outputs": [
    {
     "name": "stdout",
     "output_type": "stream",
     "text": [
      "15.23980199048157\n"
     ]
    }
   ],
   "source": [
    "print(cross_entropy(T, Y))"
   ]
  },
  {
   "cell_type": "markdown",
   "metadata": {},
   "source": [
    "# Maximizing the likelihood"
   ]
  },
  {
   "cell_type": "markdown",
   "metadata": {},
   "source": [
    "From earlier, we know our loss function takes the form below:\n",
    "\n",
    "$J = -\\sum \\limits _{n=1} ^N t_{n}*log(y_{n}) + (1 - t_{n})*log(1-y_{n})$<br>\n",
    "\n",
    "Can we prove maximizing the log likelihood function is related to minimizing our loss function? We have our logistic regression function \n",
    "$p(y=1|x) = \\sigma(W ^T X)$<br>\n",
    "\n",
    "and our likelihood function is (two asterisks indicates the power function):\n",
    "$L = \\Pi _{n=1} ^N  y _{n}**t_{n} + (1-y_{n})**(1-t_{n})$<br>\n",
    "\n",
    "In our Likelihood equation, $\\Pi$ is the symbol for production multiplication ($f_{x}(x_{1}), x_{2}, ...,x_{n} = f_{x}(x_{1})*f_{x}(x_{2})*...*f_{x}(x_{n})$) but when we take the log of the product, the equation changes. The log of a product become sht sum of the logs of the multiplied terms ($ln[f_{x}(x_{1})*f_{x}(x_{2})*...*f_{x}(x_{n}) = \\sum \\limits _{n=1} ^N ln[f_{X}(x{i}]$)<br>\n",
    "\n",
    "So if we take the log of the likelihood function we get the function below which is a positive version of our loss function. So when we are looking at logistic regression, we have two options, we can either choose to minimize the loss function, or we can maximize the log likelihood function.\n",
    "\n",
    "$\\ell = \\sum \\limits _{n=1} ^N t_{n}log(y_{n}) + (1-t_{n})log(1-y_{n})$"
   ]
  },
  {
   "cell_type": "markdown",
   "metadata": {},
   "source": [
    "# Updating Model Weights with Gradient Descent"
   ]
  },
  {
   "cell_type": "code",
   "execution_count": 23,
   "metadata": {},
   "outputs": [
    {
     "data": {
      "image/png": "[encoded data removed]",
      "text/plain": [
       "<Figure size 432x288 with 1 Axes>"
      ]
     },
     "metadata": {
      "needs_background": "light"
     },
     "output_type": "display_data"
    }
   ],
   "source": [
    "p_x = np.arange(-10,10,.1)\n",
    "p_y = p_x**2\n",
    "\n",
    "\n",
    "x_int = 0\n",
    "y_int = -49.7\n",
    "slope = 14.1\n",
    "\n",
    "def find_point(slope, xx, yy):\n",
    "    b0 = yy - (slope*xx)\n",
    "    x2 = xx+10\n",
    "    y2 = (slope*x2)+b0\n",
    "    \n",
    "    return x2, y2\n",
    "\n",
    "x2, y2 = find_point(slope, x_int, y_int)\n",
    "\n",
    "plt.plot((x_int, x2), (y_int, y2), label = 'line')\n",
    "plt.plot(p_x,p_y)\n",
    "\n",
    "plt.show()"
   ]
  },
  {
   "cell_type": "markdown",
   "metadata": {},
   "source": [
    "The graph above helps illustrate the concept of gradient descent. Consider the orange parabola to be our loss function we want to minimize. In the example above the blue linear line is the starting point for our gradient descent problem where we begin with a randomly initialized set of weights and use them to calculate our cross entropy/loss function.\n",
    "\n",
    "Once we calculate the loss function we can take steps towards minimizing the cost function using a learning rate. This means as we understand how far off we missed our targets, we can adjust the weights and take steps in the directions of the minimum for our loss function. We effectively change the slope of the blue line such that it is smaller and gets us closer to the global minimum. \n",
    "\n",
    "In the example below we have taken steps toward the optimal or minimized point of our loss curve, which can be seen by the change of the slow and movement towards the global minimum point of 0."
   ]
  },
  {
   "cell_type": "code",
   "execution_count": 24,
   "metadata": {},
   "outputs": [
    {
     "data": {
      "image/png": "[encoded data removed]",
      "text/plain": [
       "<Figure size 432x288 with 1 Axes>"
      ]
     },
     "metadata": {
      "needs_background": "light"
     },
     "output_type": "display_data"
    }
   ],
   "source": [
    "p_x = np.arange(-10,10,1)\n",
    "p_y = p_x**2\n",
    "x_int = 0\n",
    "y_int = -4.8\n",
    "slope = 4.1\n",
    "\n",
    "def find_point(slope, xx, yy):\n",
    "    b0 = yy - (slope*xx)\n",
    "    x2 = xx+10\n",
    "    y2 = (slope*x2)+b0\n",
    "    \n",
    "    return x2, y2\n",
    "\n",
    "x2, y2 = find_point(slope, x_int, y_int)\n",
    "\n",
    "plt.plot((x_int, x2), (y_int, y2), label = 'line')\n",
    "plt.plot(p_x,p_y)\n",
    "\n",
    "plt.show()"
   ]
  },
  {
   "cell_type": "markdown",
   "metadata": {},
   "source": [
    "How do we update the weights of our logistic regression to move down the parabola of the loss function? This is where calculus comes in handy, we will find the derivative of our loss function with respect t othe weights of the model. \n",
    "\n",
    "We know the loss function is \n",
    "$J = -\\sum \\limits _{n=1} ^N t_{n}*log(y_{n}) + (1 - t_{n})*log(1-y_{n})$<br>\n",
    "\n",
    "and we want to find the derivative of our Loss function (J) with respect to w, or the rate of change in our loss function J with respect to the weights of our model (w).\n",
    "\n",
    "$\\frac{\\partial{J}}{\\partial{W}_{i}} = \\sum\\limits _{n=1} ^{N} \\frac{\\partial{J}_{n}}{\\partial{y}_{n}} \\frac{\\partial{y}_{n}}{\\partial{a}_{n}} \\frac{\\partial{a}_{n}}{\\partial{w}_{i}}$<br>\n",
    "\n",
    "Here we are using the chain rule to find the derivative of our loss function (J) with respect to the weights (w). We can separate the above equation into three separate parts and bring it back together at the end. Given the loss function (J) above, what is the partial derivative of J with respect to our model output y?\n",
    "\n",
    "$\\frac{\\partial{J}_{n}}{\\partial{y}_{n}} = -t_{n} \\frac{1}{y_{n}} + (1-t_{n})\\frac{1}{1-y_{n}}(-1)$<br>\n",
    "\n",
    "Now given an activation function $a = w^Tx$ we define our logistic regression output as $y_{n} = \\sigma(a_{n})$ = $\\frac{1}{1 + e ^a_{n}}$<br>\n",
    "\n",
    "If we take the partial derivative of y with respect to our activation funcation a we initially get:\n",
    "$\\frac{\\partial{y}_{n}}{\\partial{a}_{n}} = \\frac{-1}{1+e^-a_{n}}(e^-a_{n})(-1)$<br>\n",
    "\n",
    "and we can simplify the equation above to find that $\\frac{\\partial{y}_{n}}{\\partial{a}_{n}} = y_{n}(1-y_{n})$<br>\n",
    "\n",
    "Finally, we want to find the partial derivative of our activation funciton with respect to its weights (w). We know that $a_{n} = w^Tx$ and so we can calculate the final partial derivative as:\n",
    "\n",
    "$\\frac{\\partial{a}_{n}}{\\partial{w_{i}}} = x_{ni}$<br>\n",
    "\n",
    "We can put all of our partial derivatives together to find an equation that looks something like the one below.\n",
    "\n",
    "$\\frac{\\partial{J}}{\\partial{w}_{i}} = - \\sum \\limits _{n=1} ^N \\frac{t_{n}}{y_{n}}Y_{n}(1-y_{n})x_{ni} - \\frac{1-t_{n}}{1-y_{n}}y_{n}(1-y_{n})x_{ni}$<br>\n",
    "\n",
    "which can be simplified to:\n",
    "$\\frac{\\partial{J}}{\\partial{w}_{i}} = \\sum \\limits _{n=1} ^N (y_{n} - t_{n})x_{ni}$<br>\n",
    "\n",
    "Now we have our final partial derivative of our loss function J with respect to the weights, which we can use to update the weights of our model using gradient descent. \n"
   ]
  },
  {
   "cell_type": "markdown",
   "metadata": {},
   "source": [
    "# Updating model weights with gradient descent in code\n",
    "Here we will leverage the sigmoid and cross_entropy functions used above and update our model weights using gradient descent. To update the weights of our model we need a couple of things, a learning rate and the result of our cross entropy loss function. For each iteration, we must adjust the weights such that we continue to approach a global minimum of 0 for our cross entropy loss function. Recall our cross entropy result with respect to the model weights is:\n",
    "$\\frac{\\partial{J}}{\\partial{w}_{i}} = \\sum \\limits _{n=1} ^N (y_{n} - t_{n})x_{ni}$<br>\n",
    "\n",
    "So to adjust our weights we will use the formula below:\n",
    "$w_{i+1} = -lr * \\sum \\limits _{n=1} ^N(y_{ni} - t_{ni})*x_{ni}$ where lr is our learning rate and i is the iteration.<br>\n",
    "\n",
    "We will set the learning rate which will be used as an adjustment to our model, for the example below, we will use a learning rate of 0.001, and the example will use 100 iterations to try to minimize our loss function. We can also will apply this adjustment to our bias term where the adjustment looks like:\n",
    "\n",
    "$b_{i+1} = -lr * (y_{ni} - t_{ni})$ where lr is our learning rate.<br>"
   ]
  },
  {
   "cell_type": "code",
   "execution_count": 25,
   "metadata": {},
   "outputs": [
    {
     "name": "stdout",
     "output_type": "stream",
     "text": [
      "Initial weights:  [ 1.93425539  0.48854379 -0.10498615]\n",
      "Cross Entropy Result: 77.5141675790223\n",
      "Cross Entropy Result: 0.2867913021486526\n",
      "Cross Entropy Result: 0.23882553651833993\n",
      "Cross Entropy Result: 0.20428504768184458\n",
      "Cross Entropy Result: 0.17839999912368765\n",
      "Cross Entropy Result: 0.15836532634036443\n",
      "Cross Entropy Result: 0.14244724588568478\n",
      "Cross Entropy Result: 0.1295256446070704\n",
      "Cross Entropy Result: 0.11884843678065599\n",
      "Cross Entropy Result: 0.10989351792486864\n",
      "Final weight: [-2.76269575  7.56721871  9.03166283]\n"
     ]
    },
    {
     "data": {
      "image/png": "[encoded data removed]",
      "text/plain": [
       "<Figure size 432x288 with 1 Axes>"
      ]
     },
     "metadata": {
      "needs_background": "light"
     },
     "output_type": "display_data"
    }
   ],
   "source": [
    "N = 100\n",
    "D = 2\n",
    "\n",
    "X = np.random.randn(N,D)\n",
    "\n",
    "#Set the first 50 data points to be centered at x = -2 and y = -1\n",
    "X[:50, :] = X[:50, :] - 2*np.ones((50,D))\n",
    "X[50:,:] = X[50:,:] + 2*np.ones((50,D))\n",
    "\n",
    "T = np.array([0]*50 + [1]*50)\n",
    "\n",
    "ones = np.array([[1]*N]).T\n",
    "xb = np.concatenate((ones,X), axis = 1)\n",
    "\n",
    "learning_rate = 0.1\n",
    "\n",
    "w = np.random.randn(D+1)\n",
    "print('Initial weights: ', w)\n",
    "\n",
    "z = xb.dot(w)\n",
    "\n",
    "Y = sigmoid(z)\n",
    "\n",
    "for i in range(100):\n",
    "    if i%10 == 0:\n",
    "        print('Cross Entropy Result: ' + str(cross_entropy(T,Y)))\n",
    "    w += learning_rate*xb.T.dot(T-Y)\n",
    "    Y = sigmoid(xb.dot(w))\n",
    "\n",
    "print('Final weight: ' + str(w))\n",
    "\n",
    "\n",
    "# plot the data and separating line\n",
    "plt.scatter(X[:,0], X[:,1], c=T, s=100, alpha=0.5)\n",
    "x_axis = np.linspace(-6, 6, 100)\n",
    "y_axis = -(w[0] + x_axis*w[1]) / w[2]\n",
    "plt.plot(x_axis, y_axis)\n",
    "plt.show()"
   ]
  },
  {
   "cell_type": "markdown",
   "metadata": {},
   "source": [
    "# L2 Regularization "
   ]
  },
  {
   "cell_type": "markdown",
   "metadata": {},
   "source": [
    "The sigmoid function has a limit of 0 as our independent variable X approaches negative infinity, and a limit of 1 as X approaches positive infinity. Given a perfectly split dataset and no limit on how many iterations/loops were run, the logistic regression model would above would try to product a final weight set of [0, inf, inf] and overfitting our model. L2 Regularization is also known as Ridge Regression.\n",
    "\n",
    "Regularization can be used to solve this problem buy penalizing very large weights in the model. L2 Regularization will be covered more in depth in a different notebook. For the purpose of this example, notice we are simply adding a penalty to the adjustment of our model weights of lambda multiplied by the weights. This is the penalty for larger weights, and it will encourage our weights to be closer to zero. \n",
    "\n",
    "With our L2 Normalization penalty our weight adjestment is now expressed as:\n",
    "$w_{i+1} = -lr * \\sum \\limits _{n=1} ^N(y_{ni} - t_{ni})*x_{ni} - (\\lambda * w_{i})$ where lr is our learning rate and i is the iteration and w are our model weights.<br>\n",
    "\n",
    "Compare the output of our example above to that of L2 regularization and notice the differences in our Cross Entropy Results, but also notice the weights of our L2 Normalized model produced smaller weights. As we normalize the data and penalize larger weights we make sacrifices at times in minimizing our Cross Entropy Loss Function. "
   ]
  },
  {
   "cell_type": "code",
   "execution_count": 26,
   "metadata": {},
   "outputs": [
    {
     "name": "stdout",
     "output_type": "stream",
     "text": [
      "Initial Weights:  [-0.15042601  0.10276398 -0.48117803]\n",
      "Cross Entropy Result: 117.34421415494555\n",
      "Cross Entropy Result: 0.831004618744793\n",
      "Cross Entropy Result: 0.5662111871588359\n",
      "Cross Entropy Result: 0.42428994580565477\n",
      "Cross Entropy Result: 0.3441320683559228\n",
      "Cross Entropy Result: 0.29736508775362297\n",
      "Cross Entropy Result: 0.2710005285975995\n",
      "Cross Entropy Result: 0.25901790544424635\n",
      "Cross Entropy Result: 0.25861489122444403\n",
      "Cross Entropy Result: 0.26849768076875646\n",
      "Final weight: [-1.60670611  4.3010562   5.57772167]\n"
     ]
    },
    {
     "data": {
      "image/png": "[encoded data removed]",
      "text/plain": [
       "<Figure size 432x288 with 1 Axes>"
      ]
     },
     "metadata": {
      "needs_background": "light"
     },
     "output_type": "display_data"
    }
   ],
   "source": [
    "lambda_var = 0.1\n",
    "\n",
    "\n",
    "learning_rate = 0.1\n",
    "\n",
    "w = np.random.randn(D+1)\n",
    "print('Initial Weights: ', w)\n",
    "\n",
    "z = xb.dot(w)\n",
    "\n",
    "Y = sigmoid(z)\n",
    "\n",
    "for i in range(100):\n",
    "    if i%10 == 0:\n",
    "        print('Cross Entropy Result: ' + str(cross_entropy(T,Y)))\n",
    "        \n",
    "    w += learning_rate*(xb.T.dot(T-Y) - lambda_var*w)\n",
    "    Y = sigmoid(xb.dot(w))\n",
    "    \n",
    "print('Final weight: ' + str(w))\n",
    "\n",
    "\n",
    "# plot the data and separating line\n",
    "plt.scatter(X[:,0], X[:,1], c=T, s=100, alpha=0.5)\n",
    "x_axis = np.linspace(-6, 6, 100)\n",
    "y_axis = -(w[0] + x_axis*w[1]) / w[2]\n",
    "plt.plot(x_axis, y_axis)\n",
    "plt.show()"
   ]
  },
  {
   "cell_type": "markdown",
   "metadata": {},
   "source": [
    "# L1 Regularization"
   ]
  },
  {
   "cell_type": "markdown",
   "metadata": {},
   "source": []
  },
  {
   "cell_type": "code",
   "execution_count": 27,
   "metadata": {},
   "outputs": [
    {
     "name": "stdout",
     "output_type": "stream",
     "text": [
      "Initial Weights:  [ 0.47744531  2.28945993 -1.71346566]\n",
      "Cross Entropy Result: 94.82409891042695\n",
      "Cross Entropy Result: 1.9238367800106504\n",
      "Cross Entropy Result: 2.9945882160067647\n",
      "Cross Entropy Result: 4.072495187085092\n",
      "Cross Entropy Result: 5.151521583935679\n",
      "Cross Entropy Result: 6.23129175213094\n",
      "Cross Entropy Result: 7.3117693781100135\n",
      "Cross Entropy Result: 8.39287689112256\n",
      "Cross Entropy Result: 9.474520293516756\n",
      "Cross Entropy Result: 10.556611099695699\n",
      "Final weight: [10.30473655 25.19697928 29.0603456 ]\n"
     ]
    },
    {
     "data": {
      "image/png": "[encoded data removed]",
      "text/plain": [
       "<Figure size 432x288 with 1 Axes>"
      ]
     },
     "metadata": {
      "needs_background": "light"
     },
     "output_type": "display_data"
    }
   ],
   "source": [
    "lambda_var_l1 = 2.0\n",
    "\n",
    "\n",
    "learning_rate = 0.1\n",
    "\n",
    "w = np.random.randn(D+1)\n",
    "print('Initial Weights: ', w)\n",
    "\n",
    "z = xb.dot(w)\n",
    "\n",
    "Y = sigmoid(z)\n",
    "\n",
    "for i in range(100):\n",
    "    if i%10 == 0:\n",
    "        print('Cross Entropy Result: ' + str(cross_entropy(T,Y)))\n",
    "        \n",
    "    w += learning_rate*(xb.T.dot(T-Y) + lambda_var_l1*np.sign(w))\n",
    "    Y = sigmoid(xb.dot(w))\n",
    "    \n",
    "print('Final weight: ' + str(w))\n",
    "\n",
    "\n",
    "# plot the data and separating line\n",
    "plt.scatter(X[:,0], X[:,1], c=T, s=100, alpha=0.5)\n",
    "x_axis = np.linspace(-6, 6, 100)\n",
    "y_axis = -(w[0] + x_axis*w[1]) / w[2]\n",
    "plt.plot(x_axis, y_axis)\n",
    "plt.show()"
   ]
  },
  {
   "cell_type": "markdown",
   "metadata": {},
   "source": [
    "# Training Logistic Model for Ecommerce Data"
   ]
  },
  {
   "cell_type": "code",
   "execution_count": 28,
   "metadata": {},
   "outputs": [
    {
     "data": {
      "text/html": [
       "<div>\n",
       "<style scoped>\n",
       "    .dataframe tbody tr th:only-of-type {\n",
       "        vertical-align: middle;\n",
       "    }\n",
       "\n",
       "    .dataframe tbody tr th {\n",
       "        vertical-align: top;\n",
       "    }\n",
       "\n",
       "    .dataframe thead th {\n",
       "        text-align: right;\n",
       "    }\n",
       "</style>\n",
       "<table border=\"1\" class=\"dataframe\">\n",
       "  <thead>\n",
       "    <tr style=\"text-align: right;\">\n",
       "      <th></th>\n",
       "      <th>is_mobile</th>\n",
       "      <th>n_products_viewed</th>\n",
       "      <th>visit_duration</th>\n",
       "      <th>is_returning_visitor</th>\n",
       "      <th>time_of_day</th>\n",
       "      <th>user_action</th>\n",
       "    </tr>\n",
       "  </thead>\n",
       "  <tbody>\n",
       "    <tr>\n",
       "      <th>0</th>\n",
       "      <td>1</td>\n",
       "      <td>0</td>\n",
       "      <td>0.657510</td>\n",
       "      <td>0</td>\n",
       "      <td>3</td>\n",
       "      <td>0</td>\n",
       "    </tr>\n",
       "    <tr>\n",
       "      <th>1</th>\n",
       "      <td>1</td>\n",
       "      <td>1</td>\n",
       "      <td>0.568571</td>\n",
       "      <td>0</td>\n",
       "      <td>2</td>\n",
       "      <td>1</td>\n",
       "    </tr>\n",
       "    <tr>\n",
       "      <th>2</th>\n",
       "      <td>1</td>\n",
       "      <td>0</td>\n",
       "      <td>0.042246</td>\n",
       "      <td>1</td>\n",
       "      <td>1</td>\n",
       "      <td>0</td>\n",
       "    </tr>\n",
       "    <tr>\n",
       "      <th>3</th>\n",
       "      <td>1</td>\n",
       "      <td>1</td>\n",
       "      <td>1.659793</td>\n",
       "      <td>1</td>\n",
       "      <td>1</td>\n",
       "      <td>2</td>\n",
       "    </tr>\n",
       "    <tr>\n",
       "      <th>4</th>\n",
       "      <td>0</td>\n",
       "      <td>1</td>\n",
       "      <td>2.014745</td>\n",
       "      <td>1</td>\n",
       "      <td>1</td>\n",
       "      <td>2</td>\n",
       "    </tr>\n",
       "  </tbody>\n",
       "</table>\n",
       "</div>"
      ],
      "text/plain": [
       "   is_mobile  n_products_viewed  visit_duration  is_returning_visitor  \\\n",
       "0          1                  0        0.657510                     0   \n",
       "1          1                  1        0.568571                     0   \n",
       "2          1                  0        0.042246                     1   \n",
       "3          1                  1        1.659793                     1   \n",
       "4          0                  1        2.014745                     1   \n",
       "\n",
       "   time_of_day  user_action  \n",
       "0            3            0  \n",
       "1            2            1  \n",
       "2            1            0  \n",
       "3            1            2  \n",
       "4            1            2  "
      ]
     },
     "execution_count": 28,
     "metadata": {},
     "output_type": "execute_result"
    }
   ],
   "source": [
    "data.head()"
   ]
  },
  {
   "cell_type": "code",
   "execution_count": 29,
   "metadata": {},
   "outputs": [],
   "source": [
    "#Separate the train an dtest datasets 50/50\n",
    "Xtrain = X2[:-100]\n",
    "Ytrain = Y2[:-100]\n",
    "Xtest = X2[-100:]\n",
    "Ytest = Y2[-100:]\n",
    "\n",
    "#Normalizing the data\n",
    "for i in (1, 2):\n",
    "    m = Xtrain[:,i].mean()\n",
    "    s = Xtrain[:,i].std()\n",
    "    Xtrain[:,i] = (Xtrain[:,i] - m) / s\n",
    "    Xtest[:,i] = (Xtest[:,i] - m) / s\n",
    "\n",
    "X2train = Xtrain[Ytrain <= 1]\n",
    "Y2train = Ytrain[Ytrain <= 1]\n",
    "X2test = Xtest[Ytest <= 1]\n",
    "Y2test = Ytest[Ytest <= 1]"
   ]
  },
  {
   "cell_type": "code",
   "execution_count": 30,
   "metadata": {},
   "outputs": [
    {
     "name": "stdout",
     "output_type": "stream",
     "text": [
      "0 1.3294706089971644 1.3783836950648547\n",
      "1000 0.2033926964822711 0.12824554404936683\n",
      "2000 0.20306211796543658 0.12550005883952386\n",
      "3000 0.2030478915038217 0.1249931442995656\n",
      "4000 0.20304717251589877 0.124882856795694\n",
      "5000 0.203047135188009 0.12485793540289755\n",
      "6000 0.2030471332392749 0.12485225298836507\n",
      "7000 0.20304713313741485 0.12485095451036811\n",
      "8000 0.20304713313208875 0.12485065764160132\n",
      "9000 0.20304713313180997 0.1248505897602786\n",
      "Final Weights:  [ 1.13184526  4.90479163  0.31612678  1.35622303 -0.27977726 -1.26493391\n",
      " -0.73508089 -1.21868717]\n",
      "Final train classification_rate: 0.9697986577181208\n",
      "Final test classification_rate: 0.98\n"
     ]
    },
    {
     "data": {
      "image/png": "[encoded data removed]",
      "text/plain": [
       "<Figure size 432x288 with 1 Axes>"
      ]
     },
     "metadata": {
      "needs_background": "light"
     },
     "output_type": "display_data"
    }
   ],
   "source": [
    "# randomly initialize weights\n",
    "D = X2train.shape[1]\n",
    "W = np.random.randn(D) #Randomly initialize the weights, they will be updated later\n",
    "b = 0 # bias term\n",
    "\n",
    "# make predictions\n",
    "def sigmoid(a):\n",
    "    return 1 / (1 + np.exp(-a))\n",
    "\n",
    "def forward(X, W, b):\n",
    "    return sigmoid(X.dot(W) + b)\n",
    "\n",
    "# calculate the accuracy\n",
    "def classification_rate(Y, P):\n",
    "    return np.mean(Y == P)\n",
    "\n",
    "# cross entropy\n",
    "def cross_entropy(T, pY):\n",
    "    return -np.mean(T*np.log(pY) + (1 - T)*np.log(1 - pY))\n",
    "\n",
    "# train loop\n",
    "train_costs = []\n",
    "test_costs = []\n",
    "learning_rate = 0.001\n",
    "for i in range(10000):\n",
    "    pYtrain = forward(X2train, W, b)\n",
    "    pYtest = forward(X2test, W, b)\n",
    "\n",
    "    ctrain = cross_entropy(Y2train, pYtrain)\n",
    "    ctest = cross_entropy(Y2test, pYtest)\n",
    "    train_costs.append(ctrain)\n",
    "    test_costs.append(ctest)\n",
    "\n",
    "    # gradient descent, adjust the training rates based on the results of our last iteration\n",
    "    W -= learning_rate*X2train.T.dot(pYtrain - Y2train)\n",
    "    b -= learning_rate*(pYtrain - Y2train).sum()\n",
    "    if i % 1000 == 0:\n",
    "        print(i, ctrain, ctest)\n",
    "        \n",
    "print('Final Weights: ', W)\n",
    "\n",
    "\n",
    "print(\"Final train classification_rate:\", classification_rate(Y2train, np.round(pYtrain)))\n",
    "print(\"Final test classification_rate:\", classification_rate(Y2test, np.round(pYtest)))\n",
    "\n",
    "legend1, = plt.plot(train_costs, label='train cost')\n",
    "legend2, = plt.plot(test_costs, label='test cost')\n",
    "plt.show()\n"
   ]
  },
  {
   "cell_type": "markdown",
   "metadata": {},
   "source": [
    "# Additional Info"
   ]
  },
  {
   "cell_type": "markdown",
   "metadata": {},
   "source": [
    "In linear regression, the values for our weights can be interpreted as the impact to our dependent variable (y) from a one unit increase to our dependent variable (x) holding everything else constant. However, we cannot interpret our logistic regression weights exactly the same way. \n",
    "\n",
    "We know the output of our binary logistic regression model is 0 or 1, so the weight of our independent variables will drive our output predictions closer to 0 or 1. If our weight is big and positive, then a small change in our variable x will push our output closer to 1. Similarly, if our weight is big and negative, then a small change in our variable x will push our output closer to 0."
   ]
  }
 ],
 "metadata": {
  "kernelspec": {
   "display_name": "Python 3",
   "language": "python",
   "name": "python3"
  },
  "language_info": {
   "codemirror_mode": {
    "name": "ipython",
    "version": 3
   },
   "file_extension": ".py",
   "mimetype": "text/x-python",
   "name": "python",
   "nbconvert_exporter": "python",
   "pygments_lexer": "ipython3",
   "version": "3.8.5"
  }
 },
 "nbformat": 4,
 "nbformat_minor": 4
}
