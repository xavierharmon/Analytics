{
 "cells": [
  {
   "cell_type": "code",
   "execution_count": 2,
   "metadata": {},
   "outputs": [],
   "source": [
    "import pandas as pd\n",
    "import numpy as np\n",
    "import matplotlib.pyplot as plt"
   ]
  },
  {
   "cell_type": "markdown",
   "metadata": {},
   "source": [
    "# Ecommerce Dataset\n",
    "There are 6 fields in the ecommerce dataset in this dataset and there will need to be some preprocessing to get the data ready for analysis.\n",
    "\n",
    "#### is_mobile - binary variable telling us if the user is using a mobile device\n",
    "#### N_products_viewed - Continuous, integer, how many products user viewed\n",
    "#### Visit_duration - How long was the visitor on the site, continuous integer\n",
    "#### Is_returning_visitor - binary variable marking returning visitors\n",
    "#### Time_of_day - integer, 4 categories splitting the 24 hour day evenly\n",
    "#### User_action - options: Bounce, add to cart, begin checkout, finish checkout\n",
    "\n",
    "For our time variable the categories are as follows:\n",
    "* 0 = 12 AM to 6 AM\n",
    "* 1 = 6 AM to 12 PM\n",
    "* 2 = 12 PM to 6 PM\n",
    "* 3 = 6 PM to 12 AM\n",
    "\n",
    "For the User action the categories are as follows:\n",
    "* Bounce - the user visited the site and did not do anything\n",
    "* Add to cart - the user added item to cart but never checked out\n",
    "* Begin Checkout - The user went to start checking out but never finished\n",
    "* Finish Checkout - the user finished the checkout process for their order"
   ]
  },
  {
   "cell_type": "code",
   "execution_count": 2,
   "metadata": {},
   "outputs": [],
   "source": [
    "data = pd.read_csv(r'/Users/prof/Documents/machine_learning_examples/ann_logistic_extra/ecommerce_data.csv')"
   ]
  },
  {
   "cell_type": "code",
   "execution_count": 25,
   "metadata": {},
   "outputs": [
    {
     "data": {
      "text/html": [
       "<div>\n",
       "<style scoped>\n",
       "    .dataframe tbody tr th:only-of-type {\n",
       "        vertical-align: middle;\n",
       "    }\n",
       "\n",
       "    .dataframe tbody tr th {\n",
       "        vertical-align: top;\n",
       "    }\n",
       "\n",
       "    .dataframe thead th {\n",
       "        text-align: right;\n",
       "    }\n",
       "</style>\n",
       "<table border=\"1\" class=\"dataframe\">\n",
       "  <thead>\n",
       "    <tr style=\"text-align: right;\">\n",
       "      <th></th>\n",
       "      <th>is_mobile</th>\n",
       "      <th>n_products_viewed</th>\n",
       "      <th>visit_duration</th>\n",
       "      <th>is_returning_visitor</th>\n",
       "      <th>time_of_day</th>\n",
       "      <th>user_action</th>\n",
       "    </tr>\n",
       "  </thead>\n",
       "  <tbody>\n",
       "    <tr>\n",
       "      <th>0</th>\n",
       "      <td>1</td>\n",
       "      <td>0</td>\n",
       "      <td>0.657510</td>\n",
       "      <td>0</td>\n",
       "      <td>3</td>\n",
       "      <td>0</td>\n",
       "    </tr>\n",
       "    <tr>\n",
       "      <th>1</th>\n",
       "      <td>1</td>\n",
       "      <td>1</td>\n",
       "      <td>0.568571</td>\n",
       "      <td>0</td>\n",
       "      <td>2</td>\n",
       "      <td>1</td>\n",
       "    </tr>\n",
       "    <tr>\n",
       "      <th>2</th>\n",
       "      <td>1</td>\n",
       "      <td>0</td>\n",
       "      <td>0.042246</td>\n",
       "      <td>1</td>\n",
       "      <td>1</td>\n",
       "      <td>0</td>\n",
       "    </tr>\n",
       "    <tr>\n",
       "      <th>3</th>\n",
       "      <td>1</td>\n",
       "      <td>1</td>\n",
       "      <td>1.659793</td>\n",
       "      <td>1</td>\n",
       "      <td>1</td>\n",
       "      <td>2</td>\n",
       "    </tr>\n",
       "    <tr>\n",
       "      <th>4</th>\n",
       "      <td>0</td>\n",
       "      <td>1</td>\n",
       "      <td>2.014745</td>\n",
       "      <td>1</td>\n",
       "      <td>1</td>\n",
       "      <td>2</td>\n",
       "    </tr>\n",
       "  </tbody>\n",
       "</table>\n",
       "</div>"
      ],
      "text/plain": [
       "   is_mobile  n_products_viewed  visit_duration  is_returning_visitor  \\\n",
       "0          1                  0        0.657510                     0   \n",
       "1          1                  1        0.568571                     0   \n",
       "2          1                  0        0.042246                     1   \n",
       "3          1                  1        1.659793                     1   \n",
       "4          0                  1        2.014745                     1   \n",
       "\n",
       "   time_of_day  user_action  \n",
       "0            3            0  \n",
       "1            2            1  \n",
       "2            1            0  \n",
       "3            1            2  \n",
       "4            1            2  "
      ]
     },
     "execution_count": 25,
     "metadata": {},
     "output_type": "execute_result"
    }
   ],
   "source": [
    "data.head()"
   ]
  },
  {
   "cell_type": "markdown",
   "metadata": {},
   "source": [
    "## Logistic Regression Example"
   ]
  },
  {
   "cell_type": "code",
   "execution_count": 26,
   "metadata": {},
   "outputs": [],
   "source": [
    "N = 100\n",
    "D = 2\n",
    "\n",
    "x = np.random.randn(N,D) #Creating a normally distributed data matrix\n",
    "ones = np.array([[1]*N]).T #Adding a column of 1 to add in the bias term\n",
    "xb = np.concatenate((ones,x), axis = 1)\n",
    "\n",
    "#Randomly Initialize a weight vector to show how to use the sigmoid\n",
    "w = np.random.randn(D + 1)"
   ]
  },
  {
   "cell_type": "code",
   "execution_count": 27,
   "metadata": {},
   "outputs": [],
   "source": [
    "#Multiplying our weights and independent variables using numpy dot function\n",
    "z = xb.dot(w)"
   ]
  },
  {
   "cell_type": "code",
   "execution_count": 7,
   "metadata": {},
   "outputs": [],
   "source": [
    "#Creating the sigmoid function\n",
    "def sigmoid(z):\n",
    "    return 1/(1+np.exp(-z))"
   ]
  },
  {
   "cell_type": "code",
   "execution_count": 29,
   "metadata": {},
   "outputs": [
    {
     "data": {
      "text/plain": [
       "array([0.69456568, 0.67281618, 0.65251772, 0.72145095, 0.57746062,\n",
       "       0.7092308 , 0.52297776, 0.48668909, 0.64916322, 0.85425149,\n",
       "       0.57211232, 0.66044608, 0.74619792, 0.85743489, 0.67683743,\n",
       "       0.74534232, 0.48235673, 0.69852963, 0.49532346, 0.77186857,\n",
       "       0.67943208, 0.63567432, 0.65390778, 0.56511785, 0.44467205,\n",
       "       0.73306633, 0.6444764 , 0.71585288, 0.790717  , 0.58383917,\n",
       "       0.77303055, 0.68044869, 0.59357796, 0.7863176 , 0.65662495,\n",
       "       0.52012304, 0.66395822, 0.71741855, 0.73897693, 0.74345857,\n",
       "       0.5432722 , 0.70990199, 0.73838227, 0.59758029, 0.72753616,\n",
       "       0.79769935, 0.67361625, 0.74259057, 0.65675113, 0.6797007 ,\n",
       "       0.67331348, 0.5989304 , 0.64005053, 0.72705956, 0.57454453,\n",
       "       0.6975067 , 0.67266616, 0.64308499, 0.60033897, 0.48602566,\n",
       "       0.59077885, 0.82013846, 0.71636659, 0.79194221, 0.77940937,\n",
       "       0.66004083, 0.64938355, 0.64741364, 0.52275008, 0.76268346,\n",
       "       0.66046513, 0.52952064, 0.73946078, 0.72691537, 0.72663133,\n",
       "       0.57077057, 0.79994992, 0.60574153, 0.50276165, 0.6118984 ,\n",
       "       0.67636028, 0.74977939, 0.44538019, 0.70935954, 0.57643509,\n",
       "       0.66556176, 0.65860688, 0.71549564, 0.69932242, 0.73546908,\n",
       "       0.7069214 , 0.67608223, 0.57114718, 0.64569542, 0.55410834,\n",
       "       0.71320368, 0.70602857, 0.62507153, 0.75283415, 0.75141994])"
      ]
     },
     "execution_count": 29,
     "metadata": {},
     "output_type": "execute_result"
    }
   ],
   "source": [
    "sigmoid(z)"
   ]
  },
  {
   "cell_type": "markdown",
   "metadata": {},
   "source": [
    "## Preprocessing for logistic regression Ecommerce Data"
   ]
  },
  {
   "cell_type": "code",
   "execution_count": 69,
   "metadata": {},
   "outputs": [
    {
     "data": {
      "text/html": [
       "<div>\n",
       "<style scoped>\n",
       "    .dataframe tbody tr th:only-of-type {\n",
       "        vertical-align: middle;\n",
       "    }\n",
       "\n",
       "    .dataframe tbody tr th {\n",
       "        vertical-align: top;\n",
       "    }\n",
       "\n",
       "    .dataframe thead th {\n",
       "        text-align: right;\n",
       "    }\n",
       "</style>\n",
       "<table border=\"1\" class=\"dataframe\">\n",
       "  <thead>\n",
       "    <tr style=\"text-align: right;\">\n",
       "      <th></th>\n",
       "      <th>is_mobile</th>\n",
       "      <th>n_products_viewed</th>\n",
       "      <th>visit_duration</th>\n",
       "      <th>is_returning_visitor</th>\n",
       "      <th>time_of_day</th>\n",
       "      <th>user_action</th>\n",
       "    </tr>\n",
       "  </thead>\n",
       "  <tbody>\n",
       "    <tr>\n",
       "      <th>0</th>\n",
       "      <td>1</td>\n",
       "      <td>0</td>\n",
       "      <td>0.657510</td>\n",
       "      <td>0</td>\n",
       "      <td>3</td>\n",
       "      <td>0</td>\n",
       "    </tr>\n",
       "    <tr>\n",
       "      <th>1</th>\n",
       "      <td>1</td>\n",
       "      <td>1</td>\n",
       "      <td>0.568571</td>\n",
       "      <td>0</td>\n",
       "      <td>2</td>\n",
       "      <td>1</td>\n",
       "    </tr>\n",
       "    <tr>\n",
       "      <th>2</th>\n",
       "      <td>1</td>\n",
       "      <td>0</td>\n",
       "      <td>0.042246</td>\n",
       "      <td>1</td>\n",
       "      <td>1</td>\n",
       "      <td>0</td>\n",
       "    </tr>\n",
       "    <tr>\n",
       "      <th>3</th>\n",
       "      <td>1</td>\n",
       "      <td>1</td>\n",
       "      <td>1.659793</td>\n",
       "      <td>1</td>\n",
       "      <td>1</td>\n",
       "      <td>2</td>\n",
       "    </tr>\n",
       "    <tr>\n",
       "      <th>4</th>\n",
       "      <td>0</td>\n",
       "      <td>1</td>\n",
       "      <td>2.014745</td>\n",
       "      <td>1</td>\n",
       "      <td>1</td>\n",
       "      <td>2</td>\n",
       "    </tr>\n",
       "    <tr>\n",
       "      <th>...</th>\n",
       "      <td>...</td>\n",
       "      <td>...</td>\n",
       "      <td>...</td>\n",
       "      <td>...</td>\n",
       "      <td>...</td>\n",
       "      <td>...</td>\n",
       "    </tr>\n",
       "    <tr>\n",
       "      <th>495</th>\n",
       "      <td>1</td>\n",
       "      <td>3</td>\n",
       "      <td>0.731594</td>\n",
       "      <td>0</td>\n",
       "      <td>0</td>\n",
       "      <td>2</td>\n",
       "    </tr>\n",
       "    <tr>\n",
       "      <th>496</th>\n",
       "      <td>0</td>\n",
       "      <td>0</td>\n",
       "      <td>6.368775</td>\n",
       "      <td>1</td>\n",
       "      <td>3</td>\n",
       "      <td>0</td>\n",
       "    </tr>\n",
       "    <tr>\n",
       "      <th>497</th>\n",
       "      <td>0</td>\n",
       "      <td>0</td>\n",
       "      <td>0.172853</td>\n",
       "      <td>1</td>\n",
       "      <td>3</td>\n",
       "      <td>0</td>\n",
       "    </tr>\n",
       "    <tr>\n",
       "      <th>498</th>\n",
       "      <td>1</td>\n",
       "      <td>0</td>\n",
       "      <td>0.209964</td>\n",
       "      <td>0</td>\n",
       "      <td>3</td>\n",
       "      <td>0</td>\n",
       "    </tr>\n",
       "    <tr>\n",
       "      <th>499</th>\n",
       "      <td>0</td>\n",
       "      <td>0</td>\n",
       "      <td>2.616882</td>\n",
       "      <td>1</td>\n",
       "      <td>3</td>\n",
       "      <td>0</td>\n",
       "    </tr>\n",
       "  </tbody>\n",
       "</table>\n",
       "<p>500 rows × 6 columns</p>\n",
       "</div>"
      ],
      "text/plain": [
       "     is_mobile  n_products_viewed  visit_duration  is_returning_visitor  \\\n",
       "0            1                  0        0.657510                     0   \n",
       "1            1                  1        0.568571                     0   \n",
       "2            1                  0        0.042246                     1   \n",
       "3            1                  1        1.659793                     1   \n",
       "4            0                  1        2.014745                     1   \n",
       "..         ...                ...             ...                   ...   \n",
       "495          1                  3        0.731594                     0   \n",
       "496          0                  0        6.368775                     1   \n",
       "497          0                  0        0.172853                     1   \n",
       "498          1                  0        0.209964                     0   \n",
       "499          0                  0        2.616882                     1   \n",
       "\n",
       "     time_of_day  user_action  \n",
       "0              3            0  \n",
       "1              2            1  \n",
       "2              1            0  \n",
       "3              1            2  \n",
       "4              1            2  \n",
       "..           ...          ...  \n",
       "495            0            2  \n",
       "496            3            0  \n",
       "497            3            0  \n",
       "498            3            0  \n",
       "499            3            0  \n",
       "\n",
       "[500 rows x 6 columns]"
      ]
     },
     "execution_count": 69,
     "metadata": {},
     "output_type": "execute_result"
    }
   ],
   "source": [
    "data"
   ]
  },
  {
   "cell_type": "code",
   "execution_count": 90,
   "metadata": {},
   "outputs": [],
   "source": [
    "def process_data(data):\n",
    "    dataset = data.values\n",
    "    \n",
    "    #split features and labels\n",
    "    X = dataset[:,:-1]\n",
    "    Y = dataset[:,-1].astype(np.int32)\n",
    "\n",
    "    #Normalize the Independent variables\n",
    "    X[:,1] = (X[:,1] - X[:,1].mean()) / x[:,1].std()\n",
    "    X[:,2] = (X[:,2] - X[:,2].mean()) / x[:,2].std()\n",
    "    \n",
    "    \n",
    "    N, D = X.shape\n",
    "    X2 = np.zeros((N, D+3)) #There are four different categorical variables so we have D + 3 s\n",
    "    X2[:,0:(D-1)] = X[:,0:(D-1)]\n",
    "    \n",
    "    for n in range(N):\n",
    "        t = int(X[n, D-1])\n",
    "        X2[n,t+D-1] = 1\n",
    "    \n",
    "    return X2, Y"
   ]
  },
  {
   "cell_type": "code",
   "execution_count": 91,
   "metadata": {},
   "outputs": [],
   "source": [
    "def get_binary_data():\n",
    "    x2, y = process_data(data)\n",
    "    X2 = x2[y<=1]\n",
    "    Y2 = y[y<=1]\n",
    "    return X2, Y2"
   ]
  },
  {
   "cell_type": "code",
   "execution_count": 92,
   "metadata": {},
   "outputs": [],
   "source": [
    "X2, Y2 = get_binary_data()"
   ]
  },
  {
   "cell_type": "code",
   "execution_count": 93,
   "metadata": {},
   "outputs": [],
   "source": [
    "#Setup for the logistic regression model we will use the sigmoid function from above\n",
    "D = X2.shape[1]\n",
    "W = np.random.randn(D)\n",
    "b = 0\n",
    "\n",
    "def forward (X, W, b):\n",
    "    return sigmoid(X.dot(W) + b)\n",
    "\n",
    "def classification_rate(Y, P):\n",
    "    return np.mean(Y==P)"
   ]
  },
  {
   "cell_type": "code",
   "execution_count": 94,
   "metadata": {},
   "outputs": [],
   "source": [
    "p_y_given_x = forward(X2, W, b)\n",
    "predictions = np.round(p_y_given_x)"
   ]
  },
  {
   "cell_type": "code",
   "execution_count": 95,
   "metadata": {},
   "outputs": [],
   "source": [
    "cr = classification_rate(Y2, predictions)"
   ]
  },
  {
   "cell_type": "code",
   "execution_count": 96,
   "metadata": {},
   "outputs": [
    {
     "name": "stdout",
     "output_type": "stream",
     "text": [
      "Accuracy: 0.44472361809045224\n"
     ]
    }
   ],
   "source": [
    "#Finding the accuracy when we use randomly chosen weights and values\n",
    "print('Accuracy: ' + str(cr))"
   ]
  },
  {
   "cell_type": "markdown",
   "metadata": {},
   "source": [
    "# Calculating the Cross entropy loss function"
   ]
  },
  {
   "cell_type": "markdown",
   "metadata": {},
   "source": [
    "In logistic regression, we aim to minimize the cross entropy or loss function, which is described below, where the first term only matters if the target value is 1, and the second value only matters is the target is 0.\n",
    "\n",
    "$L = -{t log(y) + (1-t) log(1-y)}$<br>\n",
    "\n",
    "We can also thing of the loss function in the opposite manner as maximizing the log likelihoood value.<br>\n",
    "$J = {t log(y) + (1-t) log(1-y)}$<br>\n",
    "\n",
    "The goal of this section is to understand how the loss function is calculated using randomly assigned values for our variables and weights. For the section below we are minimizing the cost where $T$ is the target value $\\epsilon (0,1)$ and Y is the output from the logistic regression model"
   ]
  },
  {
   "cell_type": "code",
   "execution_count": 182,
   "metadata": {},
   "outputs": [],
   "source": [
    "N = 100\n",
    "D = 2\n",
    "\n",
    "X = np.random.randn(N,D)\n",
    "\n",
    "#Set the first 50 data points to be centered at x = -2 and y = -1\n",
    "X[:50, :] = X[:50, :] - 2*np.ones((50,D))\n",
    "X[50:,:] = X[50:,:] + 2*np.ones((50,D))\n",
    "\n",
    "T = np.array([0]*50 + [1]*50)\n",
    "\n",
    "w = np.random.randn(D + 1)\n",
    "\n",
    "ones = np.array([[1]*N]).T\n",
    "xb = np.concatenate((ones,X), axis = 1)"
   ]
  },
  {
   "cell_type": "code",
   "execution_count": 4,
   "metadata": {},
   "outputs": [],
   "source": [
    "def cross_entropy(T, Y):\n",
    "    E = 0\n",
    "    for i in range(N):\n",
    "        if T[i] == 1:\n",
    "            E -= np.log(Y[i])\n",
    "        else:\n",
    "            E -= np.log(1-Y[i])\n",
    "    return E"
   ]
  },
  {
   "cell_type": "code",
   "execution_count": 184,
   "metadata": {},
   "outputs": [],
   "source": [
    "z = xb.dot(w)"
   ]
  },
  {
   "cell_type": "code",
   "execution_count": 185,
   "metadata": {},
   "outputs": [],
   "source": [
    "Y = sigmoid(z)"
   ]
  },
  {
   "cell_type": "code",
   "execution_count": 186,
   "metadata": {},
   "outputs": [
    {
     "name": "stdout",
     "output_type": "stream",
     "text": [
      "112.26977608732743\n"
     ]
    }
   ],
   "source": [
    "print(cross_entropy(T, Y))"
   ]
  },
  {
   "cell_type": "markdown",
   "metadata": {},
   "source": [
    "# Maximizing the likelihood"
   ]
  },
  {
   "cell_type": "markdown",
   "metadata": {},
   "source": [
    "From earlier, we know our loss function takes the form below:\n",
    "\n",
    "$J = -\\sum \\limits _{n=1} ^N t_{n}*log(y_{n}) + (1 - t_{n})*log(1-y_{n})$<br>\n",
    "\n",
    "Can we prove maximizing the log likelihood function is related to minimizing our loss function? We have our logistic regression function \n",
    "$p(y=1|x) = \\sigma(W ^T X)$<br>\n",
    "\n",
    "and our likelihood function is (two asterisks indicates the power function):\n",
    "$L = \\Pi _{n=1} ^N  y _{n}**t_{n} + (1-y_{n})**(1-t_{n})$<br>\n",
    "\n",
    "In our Likelihood equation, $\\Pi$ is the symbol for production multiplication ($f_{x}(x_{1}), x_{2}, ...,x_{n} = f_{x}(x_{1})*f_{x}(x_{2})*...*f_{x}(x_{n})$) but when we take the log of the product, the equation changes. The log of a product become sht sum of the logs of the multiplied terms ($ln[f_{x}(x_{1})*f_{x}(x_{2})*...*f_{x}(x_{n}) = \\sum \\limits _{n=1} ^N ln[f_{X}(x{i}]$)<br>\n",
    "\n",
    "So if we take the log of the likelihood function we get the function below which is a positive version of our loss function. So when we are looking at logistic regression, we have two options, we can either choose to minimize the loss function, or we can maximize the log likelihood function.\n",
    "\n",
    "$\\ell = \\sum \\limits _{n=1} ^N t_{n}log(y_{n}) + (1-t_{n})log(1-y_{n})$"
   ]
  },
  {
   "cell_type": "markdown",
   "metadata": {},
   "source": [
    "# Updating Model Weights with Gradient Descent"
   ]
  },
  {
   "cell_type": "code",
   "execution_count": 213,
   "metadata": {},
   "outputs": [
    {
     "data": {
      "image/png": "[encoded data removed]",
      "text/plain": [
       "<Figure size 432x288 with 1 Axes>"
      ]
     },
     "metadata": {
      "needs_background": "light"
     },
     "output_type": "display_data"
    }
   ],
   "source": [
    "p_x = np.arange(-10,10,.1)\n",
    "p_y = x**2\n",
    "x_int = 0\n",
    "y_int = -49.7\n",
    "slope = 14.1\n",
    "\n",
    "def find_point(slope, xx, yy):\n",
    "    b0 = yy - (slope*xx)\n",
    "    x2 = xx+10\n",
    "    y2 = (slope*x2)+b0\n",
    "    \n",
    "    return x2, y2\n",
    "\n",
    "x2, y2 = find_point(slope, x_int, y_int)\n",
    "\n",
    "plt.plot((x_int, x2), (y_int, y2), label = 'line')\n",
    "plt.plot(p_x,p_y)\n",
    "\n",
    "plt.show()"
   ]
  },
  {
   "cell_type": "markdown",
   "metadata": {},
   "source": [
    "The graph above helps illustrate the concept of gradient descent. Consider the orange parabola to be our loss function we want to minimize. In the example above the blue linear line is the starting point for our gradient descent problem where we begin with a randomly initialized set of weights and use them to calculate our cross entropy/loss function.\n",
    "\n",
    "Once we calculate the loss function we can take steps towards minimizing the cost function using a learning rate. This means as we understand how far off we missed our targets, we can adjust the weights and take steps in the directions of the minimum for our loss function. We effectively change the slope of the blue line such that it is smaller and gets us closer to the global minimum. \n",
    "\n",
    "In the example below we have taken steps toward the optimal or minimized point of our loss curve, which can be seen by the change of the slow and movement towards the global minimum point of 0."
   ]
  },
  {
   "cell_type": "code",
   "execution_count": 214,
   "metadata": {},
   "outputs": [
    {
     "data": {
      "image/png": "[encoded data removed]",
      "text/plain": [
       "<Figure size 432x288 with 1 Axes>"
      ]
     },
     "metadata": {
      "needs_background": "light"
     },
     "output_type": "display_data"
    }
   ],
   "source": [
    "p_x = np.arange(-10,10,.1)\n",
    "p_y = x**2\n",
    "x_int = 0\n",
    "y_int = -4.8\n",
    "slope = 4.1\n",
    "\n",
    "def find_point(slope, xx, yy):\n",
    "    b0 = yy - (slope*xx)\n",
    "    x2 = xx+10\n",
    "    y2 = (slope*x2)+b0\n",
    "    \n",
    "    return x2, y2\n",
    "\n",
    "x2, y2 = find_point(slope, x_int, y_int)\n",
    "\n",
    "plt.plot((x_int, x2), (y_int, y2), label = 'line')\n",
    "plt.plot(p_x,p_y)\n",
    "\n",
    "plt.show()"
   ]
  },
  {
   "cell_type": "markdown",
   "metadata": {},
   "source": [
    "How do we update the weights of our logistic regression to move down the parabola of the loss function? This is where calculus comes in handy, we will find the derivative of our loss function with respect t othe weights of the model. \n",
    "\n",
    "We know the loss function is \n",
    "$J = -\\sum \\limits _{n=1} ^N t_{n}*log(y_{n}) + (1 - t_{n})*log(1-y_{n})$<br>\n",
    "\n",
    "and we want to find the derivative of our Loss function (J) with respect to w, or the rate of change in our loss function J with respect to the weights of our model (w).\n",
    "\n",
    "$\\frac{\\partial{J}}{\\partial{W}_{i}} = \\sum\\limits _{n=1} ^{N} \\frac{\\partial{J}_{n}}{\\partial{y}_{n}} \\frac{\\partial{y}_{n}}{\\partial{a}_{n}} \\frac{\\partial{a}_{n}}{\\partial{w}_{i}}$<br>\n",
    "\n",
    "Here we are using the chain rule to find the derivative of our loss function (J) with respect to the weights (w). We can separate the above equation into three separate parts and bring it back together at the end. Given the loss function (J) above, what is the partial derivative of J with respect to our model output y?\n",
    "\n",
    "$\\frac{\\partial{J}_{n}}{\\partial{y}_{n}} = -t_{n} \\frac{1}{y_{n}} + (1-t_{n})\\frac{1}{1-y_{n}}(-1)$<br>\n",
    "\n",
    "Now given an activation function $a = w^Tx$ we define our logistic regression output as $y_{n} = \\sigma(a_{n})$ = $\\frac{1}{1 + e ^a_{n}}$<br>\n",
    "\n",
    "If we take the partial derivative of y with respect to our activation funcation a we initially get:\n",
    "$\\frac{\\partial{y}_{n}}{\\partial{a}_{n}} = \\frac{-1}{1+e^-a_{n}}(e^-a_{n})(-1)$<br>\n",
    "\n",
    "and we can simplify the equation above to find that $\\frac{\\partial{y}_{n}}{\\partial{a}_{n}} = y_{n}(1-y_{n})$<br>\n",
    "\n",
    "Finally, we want to find the partial derivative of our activation funciton with respect to its weights (w). We know that $a_{n} = w^Tx$ and so we can calculate the final partial derivative as:\n",
    "\n",
    "$\\frac{\\partial{a}_{n}}{\\partial{w_{i}}} = x_{ni}$<br>\n",
    "\n",
    "We can put all of our partial derivatives together to find an equation that looks something like the one below.\n",
    "\n",
    "$\\frac{\\partial{J}}{\\partial{w}_{i}} = - \\sum \\limits _{n=1} ^N \\frac{t_{n}}{y_{n}}Y_{n}(1-y_{n})x_{ni} - \\frac{1-t_{n}}{1-y_{n}}y_{n}(1-y_{n})x_{ni}$<br>\n",
    "\n",
    "which can be simplified to:\n",
    "$\\frac{\\partial{J}}{\\partial{w}_{i}} = \\sum \\limits _{n=1} ^N (y_{n} - t_{n})x_{ni}$<br>\n",
    "\n",
    "Now we have our final partial derivative of our loss function J with respect to the weights, which we can use to update the weights of our model using gradient descent. \n"
   ]
  },
  {
   "cell_type": "markdown",
   "metadata": {},
   "source": [
    "# Updating model weights with gradient descent in code\n",
    "Here we will elverage the sigmoid and cross_entropy functions used above and update our model weights using gradient descent."
   ]
  },
  {
   "cell_type": "code",
   "execution_count": 14,
   "metadata": {},
   "outputs": [
    {
     "name": "stdout",
     "output_type": "stream",
     "text": [
      "Cross Entropy Result: 50.68208263442861\n",
      "Cross Entropy Result: 0.3713144166759159\n",
      "Cross Entropy Result: 0.33397257504107297\n",
      "Cross Entropy Result: 0.3094045867634992\n",
      "Cross Entropy Result: 0.29222130982551\n",
      "Cross Entropy Result: 0.27944146338405257\n",
      "Cross Entropy Result: 0.2693694457809742\n",
      "Cross Entropy Result: 0.26101847242359566\n",
      "Cross Entropy Result: 0.25380266753399533\n",
      "Cross Entropy Result: 0.24736755374680128\n",
      "Final weight: [0.98973584 7.49033545 7.31781853]\n"
     ]
    },
    {
     "data": {
      "image/png": "[encoded data removed]",
      "text/plain": [
       "<Figure size 432x288 with 1 Axes>"
      ]
     },
     "metadata": {
      "needs_background": "light"
     },
     "output_type": "display_data"
    }
   ],
   "source": [
    "N = 100\n",
    "D = 2\n",
    "\n",
    "X = np.random.randn(N,D)\n",
    "\n",
    "#Set the first 50 data points to be centered at x = -2 and y = -1\n",
    "X[:50, :] = X[:50, :] - 2*np.ones((50,D))\n",
    "X[50:,:] = X[50:,:] + 2*np.ones((50,D))\n",
    "\n",
    "T = np.array([0]*50 + [1]*50)\n",
    "\n",
    "ones = np.array([[1]*N]).T\n",
    "xb = np.concatenate((ones,X), axis = 1)\n",
    "\n",
    "learning_rate = 0.1\n",
    "\n",
    "w = np.random.randn(D+1)\n",
    "\n",
    "z = xb.dot(w)\n",
    "\n",
    "Y = sigmoid(z)\n",
    "\n",
    "for i in range(100):\n",
    "    if i%10 == 0:\n",
    "        print('Cross Entropy Result: ' + str(cross_entropy(T,Y)))\n",
    "        \n",
    "    w += learning_rate*xb.T.dot(T-Y)\n",
    "    Y = sigmoid(xb.dot(w))\n",
    "    \n",
    "print('Final weight: ' + str(w))\n",
    "\n",
    "\n",
    "# plot the data and separating line\n",
    "plt.scatter(X[:,0], X[:,1], c=T, s=100, alpha=0.5)\n",
    "x_axis = np.linspace(-6, 6, 100)\n",
    "y_axis = -(w[0] + x_axis*w[1]) / w[2]\n",
    "plt.plot(x_axis, y_axis)\n",
    "plt.show()"
   ]
  },
  {
   "cell_type": "code",
   "execution_count": null,
   "metadata": {},
   "outputs": [],
   "source": []
  }
 ],
 "metadata": {
  "kernelspec": {
   "display_name": "Python 3",
   "language": "python",
   "name": "python3"
  },
  "language_info": {
   "codemirror_mode": {
    "name": "ipython",
    "version": 3
   },
   "file_extension": ".py",
   "mimetype": "text/x-python",
   "name": "python",
   "nbconvert_exporter": "python",
   "pygments_lexer": "ipython3",
   "version": "3.8.5"
  }
 },
 "nbformat": 4,
 "nbformat_minor": 4
}
