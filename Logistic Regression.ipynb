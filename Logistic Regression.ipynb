{
 "cells": [
  {
   "cell_type": "code",
   "execution_count": 1,
   "metadata": {},
   "outputs": [],
   "source": [
    "import pandas as pd\n",
    "import numpy as np\n",
    "import matplotlib.pyplot as plt\n",
    "import math"
   ]
  },
  {
   "cell_type": "markdown",
   "metadata": {},
   "source": [
    "# Ecommerce Dataset\n",
    "There are 6 fields in the ecommerce dataset in this dataset and there will need to be some preprocessing to get the data ready for analysis.\n",
    "\n",
    "#### is_mobile - binary variable telling us if the user is using a mobile device\n",
    "#### N_products_viewed - Continuous, integer, how many products user viewed\n",
    "#### Visit_duration - How long was the visitor on the site, continuous integer\n",
    "#### Is_returning_visitor - binary variable marking returning visitors\n",
    "#### Time_of_day - integer, 4 categories splitting the 24 hour day evenly\n",
    "#### User_action - options: Bounce, add to cart, begin checkout, finish checkout\n",
    "\n",
    "For our time variable the categories are as follows:\n",
    "* 0 = 12 AM to 6 AM\n",
    "* 1 = 6 AM to 12 PM\n",
    "* 2 = 12 PM to 6 PM\n",
    "* 3 = 6 PM to 12 AM\n",
    "\n",
    "For the User action the categories are as follows:\n",
    "* Bounce - the user visited the site and did not do anything\n",
    "* Add to cart - the user added item to cart but never checked out\n",
    "* Begin Checkout - The user went to start checking out but never finished\n",
    "* Finish Checkout - the user finished the checkout process for their order"
   ]
  },
  {
   "cell_type": "code",
   "execution_count": 2,
   "metadata": {},
   "outputs": [],
   "source": [
    "data = pd.read_csv(r'/Users/prof/Documents/machine_learning_examples/ann_logistic_extra/ecommerce_data.csv')"
   ]
  },
  {
   "cell_type": "code",
   "execution_count": 3,
   "metadata": {},
   "outputs": [
    {
     "data": {
      "text/html": [
       "<div>\n",
       "<style scoped>\n",
       "    .dataframe tbody tr th:only-of-type {\n",
       "        vertical-align: middle;\n",
       "    }\n",
       "\n",
       "    .dataframe tbody tr th {\n",
       "        vertical-align: top;\n",
       "    }\n",
       "\n",
       "    .dataframe thead th {\n",
       "        text-align: right;\n",
       "    }\n",
       "</style>\n",
       "<table border=\"1\" class=\"dataframe\">\n",
       "  <thead>\n",
       "    <tr style=\"text-align: right;\">\n",
       "      <th></th>\n",
       "      <th>is_mobile</th>\n",
       "      <th>n_products_viewed</th>\n",
       "      <th>visit_duration</th>\n",
       "      <th>is_returning_visitor</th>\n",
       "      <th>time_of_day</th>\n",
       "      <th>user_action</th>\n",
       "    </tr>\n",
       "  </thead>\n",
       "  <tbody>\n",
       "    <tr>\n",
       "      <th>0</th>\n",
       "      <td>1</td>\n",
       "      <td>0</td>\n",
       "      <td>0.657510</td>\n",
       "      <td>0</td>\n",
       "      <td>3</td>\n",
       "      <td>0</td>\n",
       "    </tr>\n",
       "    <tr>\n",
       "      <th>1</th>\n",
       "      <td>1</td>\n",
       "      <td>1</td>\n",
       "      <td>0.568571</td>\n",
       "      <td>0</td>\n",
       "      <td>2</td>\n",
       "      <td>1</td>\n",
       "    </tr>\n",
       "    <tr>\n",
       "      <th>2</th>\n",
       "      <td>1</td>\n",
       "      <td>0</td>\n",
       "      <td>0.042246</td>\n",
       "      <td>1</td>\n",
       "      <td>1</td>\n",
       "      <td>0</td>\n",
       "    </tr>\n",
       "    <tr>\n",
       "      <th>3</th>\n",
       "      <td>1</td>\n",
       "      <td>1</td>\n",
       "      <td>1.659793</td>\n",
       "      <td>1</td>\n",
       "      <td>1</td>\n",
       "      <td>2</td>\n",
       "    </tr>\n",
       "    <tr>\n",
       "      <th>4</th>\n",
       "      <td>0</td>\n",
       "      <td>1</td>\n",
       "      <td>2.014745</td>\n",
       "      <td>1</td>\n",
       "      <td>1</td>\n",
       "      <td>2</td>\n",
       "    </tr>\n",
       "  </tbody>\n",
       "</table>\n",
       "</div>"
      ],
      "text/plain": [
       "   is_mobile  n_products_viewed  visit_duration  is_returning_visitor  \\\n",
       "0          1                  0        0.657510                     0   \n",
       "1          1                  1        0.568571                     0   \n",
       "2          1                  0        0.042246                     1   \n",
       "3          1                  1        1.659793                     1   \n",
       "4          0                  1        2.014745                     1   \n",
       "\n",
       "   time_of_day  user_action  \n",
       "0            3            0  \n",
       "1            2            1  \n",
       "2            1            0  \n",
       "3            1            2  \n",
       "4            1            2  "
      ]
     },
     "execution_count": 3,
     "metadata": {},
     "output_type": "execute_result"
    }
   ],
   "source": [
    "data.head()"
   ]
  },
  {
   "cell_type": "markdown",
   "metadata": {},
   "source": [
    "## Logistic Regression Example"
   ]
  },
  {
   "cell_type": "markdown",
   "metadata": {},
   "source": [
    "The objective of this section is to cover at a high level some of the foundational pieces of the Logistical regression puzzle using a binary response variable. In the example below, there are two inputs (x) and one output (y) with $\\epsilon(0,1)$ where $y = \\mathit{f}(w^Tx)$ where w are the weights that indicate the impact our independent variable has on our output variable.\n",
    "\n",
    "In Logistic Regression, we have a nonlinear relationship, and as such, our output y will be transformed by a nonlinear function $\\sigma(w^Tx)$. There are a couple of nonlinear transformations that can be used in logistic regression\n",
    "1) The Hyperbolic Tangent\n",
    "$tanh(x) \\epsilon(-1,1)$\n",
    "it has a y intercept of 0\n",
    "\n",
    "2) The sigmoid function <br>\n",
    "$\\sigma(z) = \\frac{1}{1 + e^-z} \\epsilon(0,1)$<br>  \n",
    "where $z = w^Tx$<br>\n",
    "It has a y intercept of 0.5\n",
    "\n",
    "The rest of this example will use the sigmoid function as a non linear transformation. An example of a sigmoid function can be found below. It is constrained between 0 and 1 and has a y intercept of 0.5.\n",
    "\n",
    "Recall that our output is binar with a result of 0 or 1. With logistic regression, when we interpret the output of our nonlinear sigmoid transformation, our results will be between 0 and 1, and we can say that any output above 0.5 is a prediction of 1 and any output less than or equal to 0.5 is a prediction of 0."
   ]
  },
  {
   "cell_type": "code",
   "execution_count": 4,
   "metadata": {},
   "outputs": [
    {
     "data": {
      "image/png": "[encoded data removed]",
      "text/plain": [
       "<Figure size 432x288 with 1 Axes>"
      ]
     },
     "metadata": {
      "needs_background": "light"
     },
     "output_type": "display_data"
    }
   ],
   "source": [
    "def sigmoid_ex(x):\n",
    "    a = []\n",
    "    for item in x:\n",
    "        a.append(1/(1+np.exp(-item)))\n",
    "    return a\n",
    "\n",
    "\n",
    "x = np.arange(-10, 10, 0.2)\n",
    "\n",
    "sig = sigmoid_ex(x)\n",
    "\n",
    "plt.plot(x, sig)\n",
    "plt.show()"
   ]
  },
  {
   "cell_type": "code",
   "execution_count": 5,
   "metadata": {},
   "outputs": [],
   "source": [
    "N = 100 #Number of Observations\n",
    "D = 2   #Number of Independent variables\n",
    "\n",
    "x = np.random.randn(N,D) #Creating a normally distributed data matrix\n",
    "ones = np.array([[1]*N]).T #Adding a column of 1 to add in the bias term\n",
    "xb = np.concatenate((ones,x), axis = 1)\n",
    "\n",
    "#Randomly Initialize a weight vector to show how to use the sigmoid function\n",
    "w = np.random.randn(D + 1)"
   ]
  },
  {
   "cell_type": "code",
   "execution_count": 6,
   "metadata": {},
   "outputs": [],
   "source": [
    "#Multiplying our weights and independent variables using numpy dot function\n",
    "z = xb.dot(w)"
   ]
  },
  {
   "cell_type": "code",
   "execution_count": 7,
   "metadata": {},
   "outputs": [],
   "source": [
    "#Creating the sigmoid function\n",
    "def sigmoid(z):\n",
    "    return 1/(1+np.exp(-z))"
   ]
  },
  {
   "cell_type": "code",
   "execution_count": 8,
   "metadata": {},
   "outputs": [
    {
     "data": {
      "text/plain": [
       "array([0.41297779, 0.45329653, 0.59143861, 0.72569053, 0.41570513,\n",
       "       0.67050232, 0.50593643, 0.29426293, 0.53872835, 0.89066393,\n",
       "       0.8637369 , 0.71695621, 0.89166677, 0.67437302, 0.43445368,\n",
       "       0.92834179, 0.83104331, 0.42923412, 0.89795978, 0.80083558,\n",
       "       0.72996038, 0.92327468, 0.96002901, 0.5170864 , 0.88159248,\n",
       "       0.75305428, 0.08979169, 0.90014024, 0.46093844, 0.46628762,\n",
       "       0.86261588, 0.66268704, 0.78326228, 0.88759791, 0.85314967,\n",
       "       0.33187512, 0.47333199, 0.44405702, 0.40117777, 0.69426451,\n",
       "       0.85207832, 0.51202777, 0.7506051 , 0.9377877 , 0.12464869,\n",
       "       0.3352729 , 0.91994103, 0.54737724, 0.52060625, 0.29710034,\n",
       "       0.81782169, 0.62654321, 0.38517003, 0.24721226, 0.8572215 ,\n",
       "       0.51154641, 0.70559013, 0.19561407, 0.65895227, 0.90412412,\n",
       "       0.78865663, 0.9672774 , 0.87133133, 0.72853689, 0.79110465,\n",
       "       0.61461439, 0.27147275, 0.55128471, 0.75981721, 0.73695336,\n",
       "       0.72155306, 0.48902575, 0.83892788, 0.95354321, 0.60482481,\n",
       "       0.75415509, 0.61612385, 0.57576542, 0.56197576, 0.68272504,\n",
       "       0.80733527, 0.92630453, 0.30563988, 0.73356052, 0.29912888,\n",
       "       0.6731143 , 0.82992432, 0.54406215, 0.87236019, 0.14941448,\n",
       "       0.60724698, 0.30787777, 0.15946295, 0.90400887, 0.742644  ,\n",
       "       0.69295115, 0.5828923 , 0.96472645, 0.24840319, 0.77725801])"
      ]
     },
     "execution_count": 8,
     "metadata": {},
     "output_type": "execute_result"
    }
   ],
   "source": [
    "#This is the result of our non-linear transformation, we could use these values to predict 0 or 1.\n",
    "sigmoid(z)"
   ]
  },
  {
   "cell_type": "markdown",
   "metadata": {},
   "source": [
    "## Preprocessing for logistic regression Ecommerce Data"
   ]
  },
  {
   "cell_type": "markdown",
   "metadata": {},
   "source": [
    "Some of the setup here looks familiar from the steps above, we want to prepare the data and in some instances there will still be randomly initialized values used instead of actual data. Here our focus shifts from understanding what the sigmoid function is to how to use it with randomly generated weights!\n",
    "\n",
    "Also in this section, accuracy rates will be calculated to show that with randomly generated weights, our accuracy is well...random"
   ]
  },
  {
   "cell_type": "code",
   "execution_count": 9,
   "metadata": {},
   "outputs": [
    {
     "data": {
      "text/html": [
       "<div>\n",
       "<style scoped>\n",
       "    .dataframe tbody tr th:only-of-type {\n",
       "        vertical-align: middle;\n",
       "    }\n",
       "\n",
       "    .dataframe tbody tr th {\n",
       "        vertical-align: top;\n",
       "    }\n",
       "\n",
       "    .dataframe thead th {\n",
       "        text-align: right;\n",
       "    }\n",
       "</style>\n",
       "<table border=\"1\" class=\"dataframe\">\n",
       "  <thead>\n",
       "    <tr style=\"text-align: right;\">\n",
       "      <th></th>\n",
       "      <th>is_mobile</th>\n",
       "      <th>n_products_viewed</th>\n",
       "      <th>visit_duration</th>\n",
       "      <th>is_returning_visitor</th>\n",
       "      <th>time_of_day</th>\n",
       "      <th>user_action</th>\n",
       "    </tr>\n",
       "  </thead>\n",
       "  <tbody>\n",
       "    <tr>\n",
       "      <th>0</th>\n",
       "      <td>1</td>\n",
       "      <td>0</td>\n",
       "      <td>0.657510</td>\n",
       "      <td>0</td>\n",
       "      <td>3</td>\n",
       "      <td>0</td>\n",
       "    </tr>\n",
       "    <tr>\n",
       "      <th>1</th>\n",
       "      <td>1</td>\n",
       "      <td>1</td>\n",
       "      <td>0.568571</td>\n",
       "      <td>0</td>\n",
       "      <td>2</td>\n",
       "      <td>1</td>\n",
       "    </tr>\n",
       "    <tr>\n",
       "      <th>2</th>\n",
       "      <td>1</td>\n",
       "      <td>0</td>\n",
       "      <td>0.042246</td>\n",
       "      <td>1</td>\n",
       "      <td>1</td>\n",
       "      <td>0</td>\n",
       "    </tr>\n",
       "    <tr>\n",
       "      <th>3</th>\n",
       "      <td>1</td>\n",
       "      <td>1</td>\n",
       "      <td>1.659793</td>\n",
       "      <td>1</td>\n",
       "      <td>1</td>\n",
       "      <td>2</td>\n",
       "    </tr>\n",
       "    <tr>\n",
       "      <th>4</th>\n",
       "      <td>0</td>\n",
       "      <td>1</td>\n",
       "      <td>2.014745</td>\n",
       "      <td>1</td>\n",
       "      <td>1</td>\n",
       "      <td>2</td>\n",
       "    </tr>\n",
       "  </tbody>\n",
       "</table>\n",
       "</div>"
      ],
      "text/plain": [
       "   is_mobile  n_products_viewed  visit_duration  is_returning_visitor  \\\n",
       "0          1                  0        0.657510                     0   \n",
       "1          1                  1        0.568571                     0   \n",
       "2          1                  0        0.042246                     1   \n",
       "3          1                  1        1.659793                     1   \n",
       "4          0                  1        2.014745                     1   \n",
       "\n",
       "   time_of_day  user_action  \n",
       "0            3            0  \n",
       "1            2            1  \n",
       "2            1            0  \n",
       "3            1            2  \n",
       "4            1            2  "
      ]
     },
     "execution_count": 9,
     "metadata": {},
     "output_type": "execute_result"
    }
   ],
   "source": [
    "data.head()"
   ]
  },
  {
   "cell_type": "code",
   "execution_count": 10,
   "metadata": {},
   "outputs": [],
   "source": [
    "def process_data(data):\n",
    "    dataset = data.values\n",
    "    \n",
    "    #split features and labels\n",
    "    X = dataset[:,:-1]\n",
    "    Y = dataset[:,-1].astype(np.int32)\n",
    "    \n",
    "    \n",
    "    #Normalize the Independent variables\n",
    "    X[:,1] = (X[:,1] - X[:,1].mean()) / X[:,1].std()\n",
    "    X[:,2] = (X[:,2] - X[:,2].mean()) / X[:,2].std()\n",
    "    \n",
    "    \n",
    "    N, D = X.shape\n",
    "    X2 = np.zeros((N, D+3)) #There are four different categorical variables so we have D + 3 s\n",
    "    X2[:,0:(D-1)] = X[:,0:(D-1)]\n",
    "    \n",
    "    for n in range(N):\n",
    "        t = int(X[n, D-1])\n",
    "        X2[n,t+D-1] = 1\n",
    "    \n",
    "    return X2, Y"
   ]
  },
  {
   "cell_type": "code",
   "execution_count": 11,
   "metadata": {},
   "outputs": [],
   "source": [
    "def get_binary_data(data):\n",
    "    x2, y = process_data(data)\n",
    "    X2 = x2[y<=1]\n",
    "    Y2 = y[y<=1]\n",
    "    return X2, Y2"
   ]
  },
  {
   "cell_type": "code",
   "execution_count": 12,
   "metadata": {},
   "outputs": [],
   "source": [
    "X2, Y2 = get_binary_data(data)"
   ]
  },
  {
   "cell_type": "code",
   "execution_count": 13,
   "metadata": {},
   "outputs": [],
   "source": [
    "#Setup for the logistic regression model we will use the sigmoid function from above\n",
    "D = X2.shape[1]\n",
    "W = np.random.randn(D)\n",
    "b = 0\n",
    "\n",
    "def forward (X, W, b):\n",
    "    return sigmoid(X.dot(W) + b)\n",
    "\n",
    "def classification_rate(Y, P):\n",
    "    return np.mean(Y==P)"
   ]
  },
  {
   "cell_type": "code",
   "execution_count": 14,
   "metadata": {},
   "outputs": [],
   "source": [
    "p_y_given_x = forward(X2, W, b)\n",
    "predictions = np.round(p_y_given_x)"
   ]
  },
  {
   "cell_type": "code",
   "execution_count": 15,
   "metadata": {},
   "outputs": [],
   "source": [
    "cr = classification_rate(Y2, predictions)"
   ]
  },
  {
   "cell_type": "code",
   "execution_count": 16,
   "metadata": {},
   "outputs": [
    {
     "name": "stdout",
     "output_type": "stream",
     "text": [
      "Accuracy: 0.4371859296482412\n"
     ]
    }
   ],
   "source": [
    "#Finding the accuracy when we use randomly chosen weights and values\n",
    "#If you run the code blocks multiple times, the accuracy will be all over the place because we use random weights\n",
    "print('Accuracy: ' + str(cr))"
   ]
  },
  {
   "cell_type": "markdown",
   "metadata": {},
   "source": [
    "# Calculating the Cross entropy loss function"
   ]
  },
  {
   "cell_type": "markdown",
   "metadata": {},
   "source": [
    "In logistic regression, we aim to minimize the cross entropy or loss function, which is described below, where the first term only matters if the target value is 1, and the second value only matters is the target is 0.\n",
    "\n",
    "$L = -{t log(y) + (1-t) log(1-y)}$<br>\n",
    "\n",
    "We can also thing of the loss function in the opposite manner as maximizing the log likelihoood value.<br>\n",
    "$J = {t log(y) + (1-t) log(1-y)}$<br>\n",
    "\n",
    "The goal of this section is to understand how the loss function is calculated using randomly assigned values for our variables and weights. For the section below we are minimizing the cost where $T$ is the target value $\\epsilon (0,1)$ and Y is the output from the logistic regression model"
   ]
  },
  {
   "cell_type": "code",
   "execution_count": 17,
   "metadata": {},
   "outputs": [],
   "source": [
    "N = 100 #Number of Observations\n",
    "D = 2   #Number of Independent variables\n",
    "\n",
    "X = np.random.randn(N,D)\n",
    "\n",
    "#Set the first 50 data points to be centered at x = -2 and y = -1\n",
    "X[:50, :] = X[:50, :] - 2*np.ones((50,D))\n",
    "X[50:,:] = X[50:,:] + 2*np.ones((50,D))\n",
    "\n",
    "T = np.array([0]*50 + [1]*50)\n",
    "\n",
    "w = np.random.randn(D + 1)\n",
    "\n",
    "ones = np.array([[1]*N]).T\n",
    "xb = np.concatenate((ones,X), axis = 1)"
   ]
  },
  {
   "cell_type": "code",
   "execution_count": 18,
   "metadata": {},
   "outputs": [],
   "source": [
    "def cross_entropy(T, Y):\n",
    "    E = 0\n",
    "    for i in range(N):\n",
    "        if T[i] == 1:\n",
    "            E -= np.log(Y[i])\n",
    "        else:\n",
    "            E -= np.log(1-Y[i])\n",
    "    return E"
   ]
  },
  {
   "cell_type": "code",
   "execution_count": 19,
   "metadata": {},
   "outputs": [],
   "source": [
    "z = xb.dot(w)"
   ]
  },
  {
   "cell_type": "code",
   "execution_count": 20,
   "metadata": {},
   "outputs": [],
   "source": [
    "Y = sigmoid(z)"
   ]
  },
  {
   "cell_type": "code",
   "execution_count": 21,
   "metadata": {},
   "outputs": [
    {
     "name": "stdout",
     "output_type": "stream",
     "text": [
      "272.18454780496415\n"
     ]
    }
   ],
   "source": [
    "print(cross_entropy(T, Y))"
   ]
  },
  {
   "cell_type": "markdown",
   "metadata": {},
   "source": [
    "# Maximizing the likelihood"
   ]
  },
  {
   "cell_type": "markdown",
   "metadata": {},
   "source": [
    "From earlier, we know our loss function takes the form below:\n",
    "\n",
    "$J = -\\sum \\limits _{n=1} ^N t_{n}*log(y_{n}) + (1 - t_{n})*log(1-y_{n})$<br>\n",
    "\n",
    "Can we prove maximizing the log likelihood function is related to minimizing our loss function? We have our logistic regression function \n",
    "$p(y=1|x) = \\sigma(W ^T X)$<br>\n",
    "\n",
    "and our likelihood function is (two asterisks indicates the power function):\n",
    "$L = \\Pi _{n=1} ^N  y _{n}**t_{n} + (1-y_{n})**(1-t_{n})$<br>\n",
    "\n",
    "In our Likelihood equation, $\\Pi$ is the symbol for production multiplication ($f_{x}(x_{1}), x_{2}, ...,x_{n} = f_{x}(x_{1})*f_{x}(x_{2})*...*f_{x}(x_{n})$) but when we take the log of the product, the equation changes. The log of a product become sht sum of the logs of the multiplied terms ($ln[f_{x}(x_{1})*f_{x}(x_{2})*...*f_{x}(x_{n}) = \\sum \\limits _{n=1} ^N ln[f_{X}(x{i}]$)<br>\n",
    "\n",
    "So if we take the log of the likelihood function we get the function below which is a positive version of our loss function. So when we are looking at logistic regression, we have two options, we can either choose to minimize the loss function, or we can maximize the log likelihood function.\n",
    "\n",
    "$\\ell = \\sum \\limits _{n=1} ^N t_{n}log(y_{n}) + (1-t_{n})log(1-y_{n})$"
   ]
  },
  {
   "cell_type": "markdown",
   "metadata": {},
   "source": [
    "# Updating Model Weights with Gradient Descent"
   ]
  },
  {
   "cell_type": "code",
   "execution_count": 22,
   "metadata": {},
   "outputs": [
    {
     "data": {
      "image/png": "[encoded data removed]",
      "text/plain": [
       "<Figure size 432x288 with 1 Axes>"
      ]
     },
     "metadata": {
      "needs_background": "light"
     },
     "output_type": "display_data"
    }
   ],
   "source": [
    "p_x = np.arange(-10,10,.1)\n",
    "p_y = p_x**2\n",
    "\n",
    "\n",
    "x_int = 0\n",
    "y_int = -49.7\n",
    "slope = 14.1\n",
    "\n",
    "def find_point(slope, xx, yy):\n",
    "    b0 = yy - (slope*xx)\n",
    "    x2 = xx+10\n",
    "    y2 = (slope*x2)+b0\n",
    "    \n",
    "    return x2, y2\n",
    "\n",
    "x2, y2 = find_point(slope, x_int, y_int)\n",
    "\n",
    "plt.plot((x_int, x2), (y_int, y2), label = 'line')\n",
    "plt.plot(p_x,p_y)\n",
    "\n",
    "plt.show()"
   ]
  },
  {
   "cell_type": "markdown",
   "metadata": {},
   "source": [
    "The graph above helps illustrate the concept of gradient descent. Consider the orange parabola to be our loss function we want to minimize. In the example above the blue linear line is the starting point for our gradient descent problem where we begin with a randomly initialized set of weights and use them to calculate our cross entropy/loss function.\n",
    "\n",
    "Once we calculate the loss function we can take steps towards minimizing the cost function using a learning rate. This means as we understand how far off we missed our targets, we can adjust the weights and take steps in the directions of the minimum for our loss function. We effectively change the slope of the blue line such that it is smaller and gets us closer to the global minimum. \n",
    "\n",
    "In the example below we have taken steps toward the optimal or minimized point of our loss curve, which can be seen by the change of the slow and movement towards the global minimum point of 0."
   ]
  },
  {
   "cell_type": "code",
   "execution_count": 23,
   "metadata": {},
   "outputs": [
    {
     "data": {
      "image/png": "[encoded data removed]",
      "text/plain": [
       "<Figure size 432x288 with 1 Axes>"
      ]
     },
     "metadata": {
      "needs_background": "light"
     },
     "output_type": "display_data"
    }
   ],
   "source": [
    "p_x = np.arange(-10,10,1)\n",
    "p_y = p_x**2\n",
    "x_int = 0\n",
    "y_int = -4.8\n",
    "slope = 4.1\n",
    "\n",
    "def find_point(slope, xx, yy):\n",
    "    b0 = yy - (slope*xx)\n",
    "    x2 = xx+10\n",
    "    y2 = (slope*x2)+b0\n",
    "    \n",
    "    return x2, y2\n",
    "\n",
    "x2, y2 = find_point(slope, x_int, y_int)\n",
    "\n",
    "plt.plot((x_int, x2), (y_int, y2), label = 'line')\n",
    "plt.plot(p_x,p_y)\n",
    "\n",
    "plt.show()"
   ]
  },
  {
   "cell_type": "markdown",
   "metadata": {},
   "source": [
    "How do we update the weights of our logistic regression to move down the parabola of the loss function? This is where calculus comes in handy, we will find the derivative of our loss function with respect t othe weights of the model. \n",
    "\n",
    "We know the loss function is \n",
    "$J = -\\sum \\limits _{n=1} ^N t_{n}*log(y_{n}) + (1 - t_{n})*log(1-y_{n})$<br>\n",
    "\n",
    "and we want to find the derivative of our Loss function (J) with respect to w, or the rate of change in our loss function J with respect to the weights of our model (w).\n",
    "\n",
    "$\\frac{\\partial{J}}{\\partial{W}_{i}} = \\sum\\limits _{n=1} ^{N} \\frac{\\partial{J}_{n}}{\\partial{y}_{n}} \\frac{\\partial{y}_{n}}{\\partial{a}_{n}} \\frac{\\partial{a}_{n}}{\\partial{w}_{i}}$<br>\n",
    "\n",
    "Here we are using the chain rule to find the derivative of our loss function (J) with respect to the weights (w). We can separate the above equation into three separate parts and bring it back together at the end. Given the loss function (J) above, what is the partial derivative of J with respect to our model output y?\n",
    "\n",
    "$\\frac{\\partial{J}_{n}}{\\partial{y}_{n}} = -t_{n} \\frac{1}{y_{n}} + (1-t_{n})\\frac{1}{1-y_{n}}(-1)$<br>\n",
    "\n",
    "Now given an activation function $a = w^Tx$ we define our logistic regression output as $y_{n} = \\sigma(a_{n})$ = $\\frac{1}{1 + e ^a_{n}}$<br>\n",
    "\n",
    "If we take the partial derivative of y with respect to our activation funcation a we initially get:\n",
    "$\\frac{\\partial{y}_{n}}{\\partial{a}_{n}} = \\frac{-1}{1+e^-a_{n}}(e^-a_{n})(-1)$<br>\n",
    "\n",
    "and we can simplify the equation above to find that $\\frac{\\partial{y}_{n}}{\\partial{a}_{n}} = y_{n}(1-y_{n})$<br>\n",
    "\n",
    "Finally, we want to find the partial derivative of our activation funciton with respect to its weights (w). We know that $a_{n} = w^Tx$ and so we can calculate the final partial derivative as:\n",
    "\n",
    "$\\frac{\\partial{a}_{n}}{\\partial{w_{i}}} = x_{ni}$<br>\n",
    "\n",
    "We can put all of our partial derivatives together to find an equation that looks something like the one below.\n",
    "\n",
    "$\\frac{\\partial{J}}{\\partial{w}_{i}} = - \\sum \\limits _{n=1} ^N \\frac{t_{n}}{y_{n}}Y_{n}(1-y_{n})x_{ni} - \\frac{1-t_{n}}{1-y_{n}}y_{n}(1-y_{n})x_{ni}$<br>\n",
    "\n",
    "which can be simplified to:\n",
    "$\\frac{\\partial{J}}{\\partial{w}_{i}} = \\sum \\limits _{n=1} ^N (y_{n} - t_{n})x_{ni}$<br>\n",
    "\n",
    "Now we have our final partial derivative of our loss function J with respect to the weights, which we can use to update the weights of our model using gradient descent. \n"
   ]
  },
  {
   "cell_type": "markdown",
   "metadata": {},
   "source": [
    "# Updating model weights with gradient descent in code\n",
    "Here we will elverage the sigmoid and cross_entropy functions used above and update our model weights using gradient descent. To update the weights of our model we need a couple of things, a learning rate and the result of our cross entropy loss function. For each iteration, we must adjust the weights such that we continue to approach a global minimum of 0 for our cross entropy loss function. Recall our cross entropy result with respect to the model weights is:\n",
    "$\\frac{\\partial{J}}{\\partial{w}_{i}} = \\sum \\limits _{n=1} ^N (y_{n} - t_{n})x_{ni}$<br>\n",
    "\n",
    "So to adjust our weights we will use the formula below:\n",
    "$w_{i+1} = -lr * (y_{ni} - t_{ni})*x_{ni}$ where lr is our learning rate and i is the iteration.<br>\n",
    "\n",
    "We will set the learning rate which will be used as an adjustment to our model, for th example below, we will use a learning rate of 0.001, and th example will use 100 iterations to try to minimize our loss function. We can also will apply this adjustment to our bias term where the adjustment looks like:\n",
    "\n",
    "$b_{i+1} = -lr * (y_{ni} - t_{ni})*$ where lr is our learning rate.<br>"
   ]
  },
  {
   "cell_type": "code",
   "execution_count": 33,
   "metadata": {},
   "outputs": [
    {
     "name": "stdout",
     "output_type": "stream",
     "text": [
      "Cross Entropy Result: 0.06022144610113296\n",
      "Cross Entropy Result: 0.005938694632822788\n",
      "Cross Entropy Result: 0.003480938035397496\n",
      "Cross Entropy Result: 0.002539531420023704\n",
      "Cross Entropy Result: 0.0020364094786721565\n",
      "Cross Entropy Result: 0.0017198357652167212\n",
      "Cross Entropy Result: 0.0015001119191082306\n",
      "Cross Entropy Result: 0.0013373226067986343\n",
      "Cross Entropy Result: 0.0012110039830764093\n",
      "Cross Entropy Result: 0.0011095669778499362\n",
      "Final weight: [0.1030468  3.98573128 3.1876412 ]\n"
     ]
    },
    {
     "data": {
      "image/png": "[encoded data removed]",
      "text/plain": [
       "<Figure size 432x288 with 1 Axes>"
      ]
     },
     "metadata": {
      "needs_background": "light"
     },
     "output_type": "display_data"
    }
   ],
   "source": [
    "N = 100\n",
    "D = 2\n",
    "\n",
    "X = np.random.randn(N,D)\n",
    "\n",
    "#Set the first 50 data points to be centered at x = -2 and y = -1\n",
    "X[:50, :] = X[:50, :] - 2*np.ones((50,D))\n",
    "X[50:,:] = X[50:,:] + 2*np.ones((50,D))\n",
    "\n",
    "T = np.array([0]*50 + [1]*50)\n",
    "\n",
    "ones = np.array([[1]*N]).T\n",
    "xb = np.concatenate((ones,X), axis = 1)\n",
    "\n",
    "learning_rate = 0.1\n",
    "\n",
    "w = np.random.randn(D+1)\n",
    "\n",
    "z = xb.dot(w)\n",
    "\n",
    "Y = sigmoid(z)\n",
    "\n",
    "for i in range(100):\n",
    "    if i%10 == 0:\n",
    "        print('Cross Entropy Result: ' + str(cross_entropy(T,Y)))\n",
    "        \n",
    "    w += learning_rate*xb.T.dot(T-Y)\n",
    "    Y = sigmoid(xb.dot(w))\n",
    "    \n",
    "print('Final weight: ' + str(w))\n",
    "\n",
    "\n",
    "# plot the data and separating line\n",
    "plt.scatter(X[:,0], X[:,1], c=T, s=100, alpha=0.5)\n",
    "x_axis = np.linspace(-6, 6, 100)\n",
    "y_axis = -(w[0] + x_axis*w[1]) / w[2]\n",
    "plt.plot(x_axis, y_axis)\n",
    "plt.show()"
   ]
  },
  {
   "cell_type": "markdown",
   "metadata": {},
   "source": [
    "# Training Logistic Model for Ecommerce Data"
   ]
  },
  {
   "cell_type": "code",
   "execution_count": 31,
   "metadata": {},
   "outputs": [
    {
     "data": {
      "text/html": [
       "<div>\n",
       "<style scoped>\n",
       "    .dataframe tbody tr th:only-of-type {\n",
       "        vertical-align: middle;\n",
       "    }\n",
       "\n",
       "    .dataframe tbody tr th {\n",
       "        vertical-align: top;\n",
       "    }\n",
       "\n",
       "    .dataframe thead th {\n",
       "        text-align: right;\n",
       "    }\n",
       "</style>\n",
       "<table border=\"1\" class=\"dataframe\">\n",
       "  <thead>\n",
       "    <tr style=\"text-align: right;\">\n",
       "      <th></th>\n",
       "      <th>is_mobile</th>\n",
       "      <th>n_products_viewed</th>\n",
       "      <th>visit_duration</th>\n",
       "      <th>is_returning_visitor</th>\n",
       "      <th>time_of_day</th>\n",
       "      <th>user_action</th>\n",
       "    </tr>\n",
       "  </thead>\n",
       "  <tbody>\n",
       "    <tr>\n",
       "      <th>0</th>\n",
       "      <td>1</td>\n",
       "      <td>0</td>\n",
       "      <td>0.657510</td>\n",
       "      <td>0</td>\n",
       "      <td>3</td>\n",
       "      <td>0</td>\n",
       "    </tr>\n",
       "    <tr>\n",
       "      <th>1</th>\n",
       "      <td>1</td>\n",
       "      <td>1</td>\n",
       "      <td>0.568571</td>\n",
       "      <td>0</td>\n",
       "      <td>2</td>\n",
       "      <td>1</td>\n",
       "    </tr>\n",
       "    <tr>\n",
       "      <th>2</th>\n",
       "      <td>1</td>\n",
       "      <td>0</td>\n",
       "      <td>0.042246</td>\n",
       "      <td>1</td>\n",
       "      <td>1</td>\n",
       "      <td>0</td>\n",
       "    </tr>\n",
       "    <tr>\n",
       "      <th>3</th>\n",
       "      <td>1</td>\n",
       "      <td>1</td>\n",
       "      <td>1.659793</td>\n",
       "      <td>1</td>\n",
       "      <td>1</td>\n",
       "      <td>2</td>\n",
       "    </tr>\n",
       "    <tr>\n",
       "      <th>4</th>\n",
       "      <td>0</td>\n",
       "      <td>1</td>\n",
       "      <td>2.014745</td>\n",
       "      <td>1</td>\n",
       "      <td>1</td>\n",
       "      <td>2</td>\n",
       "    </tr>\n",
       "  </tbody>\n",
       "</table>\n",
       "</div>"
      ],
      "text/plain": [
       "   is_mobile  n_products_viewed  visit_duration  is_returning_visitor  \\\n",
       "0          1                  0        0.657510                     0   \n",
       "1          1                  1        0.568571                     0   \n",
       "2          1                  0        0.042246                     1   \n",
       "3          1                  1        1.659793                     1   \n",
       "4          0                  1        2.014745                     1   \n",
       "\n",
       "   time_of_day  user_action  \n",
       "0            3            0  \n",
       "1            2            1  \n",
       "2            1            0  \n",
       "3            1            2  \n",
       "4            1            2  "
      ]
     },
     "execution_count": 31,
     "metadata": {},
     "output_type": "execute_result"
    }
   ],
   "source": [
    "data.head()"
   ]
  },
  {
   "cell_type": "code",
   "execution_count": 29,
   "metadata": {},
   "outputs": [],
   "source": [
    "#Separate the train an dtest datasets 50/50\n",
    "Xtrain = X2[:-100]\n",
    "Ytrain = Y2[:-100]\n",
    "Xtest = X2[-100:]\n",
    "Ytest = Y2[-100:]\n",
    "\n",
    "#Normalizing the data\n",
    "for i in (1, 2):\n",
    "    m = Xtrain[:,i].mean()\n",
    "    s = Xtrain[:,i].std()\n",
    "    Xtrain[:,i] = (Xtrain[:,i] - m) / s\n",
    "    Xtest[:,i] = (Xtest[:,i] - m) / s\n",
    "\n",
    "X2train = Xtrain[Ytrain <= 1]\n",
    "Y2train = Ytrain[Ytrain <= 1]\n",
    "X2test = Xtest[Ytest <= 1]\n",
    "Y2test = Ytest[Ytest <= 1]"
   ]
  },
  {
   "cell_type": "code",
   "execution_count": 30,
   "metadata": {},
   "outputs": [
    {
     "name": "stdout",
     "output_type": "stream",
     "text": [
      "0 1.9757605084335008 2.0755943062164506\n",
      "1000 0.2037345579240536 0.12942931407775846\n",
      "2000 0.20307637528791708 0.12574005585141584\n",
      "3000 0.2030485988468213 0.12504751649512957\n",
      "4000 0.2030472090610362 0.12489531364067016\n",
      "5000 0.20304713709369707 0.1248607881477747\n",
      "6000 0.20304713333885854 0.12485290573494946\n",
      "7000 0.20304713314262068 0.12485110380647388\n",
      "8000 0.20304713313236097 0.12485069178334393\n",
      "9000 0.20304713313182493 0.12485059756756967\n",
      "Final train classification_rate: 0.9697986577181208\n",
      "Final test classification_rate: 0.98\n"
     ]
    },
    {
     "data": {
      "image/png": "[encoded data removed]",
      "text/plain": [
       "<Figure size 432x288 with 1 Axes>"
      ]
     },
     "metadata": {
      "needs_background": "light"
     },
     "output_type": "display_data"
    }
   ],
   "source": [
    "# randomly initialize weights\n",
    "D = X2train.shape[1]\n",
    "W = np.random.randn(D) #Randomly initialize the weights, they will be updated later\n",
    "b = 0 # bias term\n",
    "\n",
    "# make predictions\n",
    "def sigmoid(a):\n",
    "    return 1 / (1 + np.exp(-a))\n",
    "\n",
    "def forward(X, W, b):\n",
    "    return sigmoid(X.dot(W) + b)\n",
    "\n",
    "# calculate the accuracy\n",
    "def classification_rate(Y, P):\n",
    "    return np.mean(Y == P)\n",
    "\n",
    "# cross entropy\n",
    "def cross_entropy(T, pY):\n",
    "    return -np.mean(T*np.log(pY) + (1 - T)*np.log(1 - pY))\n",
    "\n",
    "# train loop\n",
    "train_costs = []\n",
    "test_costs = []\n",
    "learning_rate = 0.001\n",
    "for i in range(10000):\n",
    "    pYtrain = forward(X2train, W, b)\n",
    "    pYtest = forward(X2test, W, b)\n",
    "\n",
    "    ctrain = cross_entropy(Y2train, pYtrain)\n",
    "    ctest = cross_entropy(Y2test, pYtest)\n",
    "    train_costs.append(ctrain)\n",
    "    test_costs.append(ctest)\n",
    "\n",
    "    # gradient descent, adjust the training rates based on the results of our last iteration\n",
    "    W -= learning_rate*X2train.T.dot(pYtrain - Y2train)\n",
    "    b -= learning_rate*(pYtrain - Y2train).sum()\n",
    "    if i % 1000 == 0:\n",
    "        print(i, ctrain, ctest)\n",
    "\n",
    "print(\"Final train classification_rate:\", classification_rate(Y2train, np.round(pYtrain)))\n",
    "print(\"Final test classification_rate:\", classification_rate(Y2test, np.round(pYtest)))\n",
    "\n",
    "legend1, = plt.plot(train_costs, label='train cost')\n",
    "legend2, = plt.plot(test_costs, label='test cost')\n",
    "plt.show()\n"
   ]
  },
  {
   "cell_type": "markdown",
   "metadata": {},
   "source": [
    "# Additional Info"
   ]
  },
  {
   "cell_type": "markdown",
   "metadata": {},
   "source": [
    "In linear regression, the values for our weights can be interpreted as the impact to our dependent variable (y) from a one unit increase to our dependent variable (x) holding everything else constant. However, we cannot interpret our logistic regression weights exactly the same way. \n",
    "\n",
    "We know the output of our binary logistic regression model is 0 or 1, so the weight of our independent variables will drive our output predictions closer to 0 or 1. If our weight is big and positive, then a small change in our variable x will push our output closer to 1. Similarly, if our weight is big and negative, then a small change in our variable x will push our output closer to 0."
   ]
  }
 ],
 "metadata": {
  "kernelspec": {
   "display_name": "Python 3",
   "language": "python",
   "name": "python3"
  },
  "language_info": {
   "codemirror_mode": {
    "name": "ipython",
    "version": 3
   },
   "file_extension": ".py",
   "mimetype": "text/x-python",
   "name": "python",
   "nbconvert_exporter": "python",
   "pygments_lexer": "ipython3",
   "version": "3.8.5"
  }
 },
 "nbformat": 4,
 "nbformat_minor": 4
}
